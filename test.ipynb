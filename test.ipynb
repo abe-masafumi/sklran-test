{
 "cells": [
  {
   "cell_type": "code",
   "execution_count": 14,
   "metadata": {},
   "outputs": [],
   "source": [
    "import pandas as pd\n",
    "import csv\n",
    "import numpy as np\n",
    "\n",
    "pd.options.display.max_rows = 5\n",
    "pd.options.display.max_columns = 100\n",
    "pd.options.display.max_colwidth = 20"
   ]
  },
  {
   "cell_type": "code",
   "execution_count": 15,
   "metadata": {},
   "outputs": [
    {
     "data": {
      "text/plain": [
       "[0, 1]"
      ]
     },
     "execution_count": 15,
     "metadata": {},
     "output_type": "execute_result"
    }
   ],
   "source": [
    "arr = [1,2]\n",
    "clean_index = list(map(lambda x: x-1,arr))\n",
    "clean_index"
   ]
  },
  {
   "cell_type": "code",
   "execution_count": 16,
   "metadata": {},
   "outputs": [
    {
     "name": "stdout",
     "output_type": "stream",
     "text": [
      "4\n"
     ]
    },
    {
     "data": {
      "text/plain": [
       "[['着順',\n",
       "  '枠',\n",
       "  '馬番',\n",
       "  '馬名',\n",
       "  '性齢',\n",
       "  '斤量',\n",
       "  '騎手',\n",
       "  'タイム',\n",
       "  '着差',\n",
       "  '人気',\n",
       "  '単勝オッズ',\n",
       "  '後3F',\n",
       "  'コーナー通過順',\n",
       "  '厩舎',\n",
       "  '馬体重(増減)'],\n",
       " ['202101010101',\n",
       "  '4',\n",
       "  '5',\n",
       "  '10',\n",
       "  'クレマチステソーロ',\n",
       "  '牝3',\n",
       "  '54.0',\n",
       "  '鮫島駿',\n",
       "  '1:09.0',\n",
       "  '1/2',\n",
       "  '5',\n",
       "  '7.6',\n",
       "  '35.2',\n",
       "  '2-2',\n",
       "  '美浦高木',\n",
       "  '468(+2)'],\n",
       " ['202101010101',\n",
       "  '1',\n",
       "  '5',\n",
       "  '9',\n",
       "  'ディーバサンライズ\\t',\n",
       "  '牝3',\n",
       "  '52.0',\n",
       "  '△秋山稔\\t1:08.7\\t\\t',\n",
       "  '7',\n",
       "  '13.5\\t34.6\\t4-4\\t栗東小林\\t474(-22)'],\n",
       " ['202101010101',\n",
       "  '6',\n",
       "  '1',\n",
       "  '2',\n",
       "  'セリシア',\n",
       "  '牝3',\n",
       "  '54.0',\n",
       "  '武豊',\n",
       "  '1:09.0',\n",
       "  'クビ',\n",
       "  '1',\n",
       "  '3.7',\n",
       "  '34.9',\n",
       "  '4-4',\n",
       "  '栗東中竹',\n",
       "  '456(+4)']]"
      ]
     },
     "execution_count": 16,
     "metadata": {},
     "output_type": "execute_result"
    }
   ],
   "source": [
    "\n",
    "with open('te.csv') as f:\n",
    "    reader = csv.reader(f)\n",
    "    l = [row for row in reader]\n",
    "    l_length = len(l)\n",
    "    print(l_length)\n",
    "    \n",
    "    for row in range(l_length):\n",
    "      if row in clean_index:\n",
    "        l[row] = list(map(lambda x : x.replace('\\t',\",\"),l[row]))\n",
    "        text = ' '.join(l[row])\n",
    "        text = text.split(\",\")\n",
    "        text = list(map(lambda x : x.strip(),text))\n",
    "        text = ' '.join(text)\n",
    "        text = text.replace(' ',\",\")\n",
    "        text = text.split(\",\")\n",
    "        l[row] = text\n",
    "l\n",
    "        "
   ]
  },
  {
   "cell_type": "code",
   "execution_count": 17,
   "metadata": {},
   "outputs": [
    {
     "name": "stderr",
     "output_type": "stream",
     "text": [
      "/var/folders/g6/k526pb596zv_zcdn87rsfwqc0000gn/T/ipykernel_75833/954316111.py:1: VisibleDeprecationWarning: Creating an ndarray from ragged nested sequences (which is a list-or-tuple of lists-or-tuples-or ndarrays with different lengths or shapes) is deprecated. If you meant to do this, you must specify 'dtype=object' when creating the ndarray.\n",
      "  add = np.array(l[1:]).reshape(3,16)\n"
     ]
    },
    {
     "ename": "ValueError",
     "evalue": "cannot reshape array of size 3 into shape (3,16)",
     "output_type": "error",
     "traceback": [
      "\u001b[0;31m---------------------------------------------------------------------------\u001b[0m",
      "\u001b[0;31mValueError\u001b[0m                                Traceback (most recent call last)",
      "\u001b[1;32m/Users/masa/Desktop/scikit-learn-test/test.ipynb Cell 4'\u001b[0m in \u001b[0;36m<cell line: 1>\u001b[0;34m()\u001b[0m\n\u001b[0;32m----> <a href='vscode-notebook-cell:/Users/masa/Desktop/scikit-learn-test/test.ipynb#ch0000003?line=0'>1</a>\u001b[0m add \u001b[39m=\u001b[39m np\u001b[39m.\u001b[39;49marray(l[\u001b[39m1\u001b[39;49m:])\u001b[39m.\u001b[39;49mreshape(\u001b[39m3\u001b[39;49m,\u001b[39m16\u001b[39;49m)\n\u001b[1;32m      <a href='vscode-notebook-cell:/Users/masa/Desktop/scikit-learn-test/test.ipynb#ch0000003?line=1'>2</a>\u001b[0m df_add \u001b[39m=\u001b[39m pd\u001b[39m.\u001b[39mDataFrame(add, columns\u001b[39m=\u001b[39ml[\u001b[39m0\u001b[39m])\n\u001b[1;32m      <a href='vscode-notebook-cell:/Users/masa/Desktop/scikit-learn-test/test.ipynb#ch0000003?line=2'>3</a>\u001b[0m \u001b[39mprint\u001b[39m(df_add)\n",
      "\u001b[0;31mValueError\u001b[0m: cannot reshape array of size 3 into shape (3,16)"
     ]
    }
   ],
   "source": [
    "add = np.array(l[1:]).reshape(3,16)\n",
    "df_add = pd.DataFrame(add, columns=l[0])\n",
    "print(df_add)\n",
    "df_add.to_csv('tes.csv',index=False)"
   ]
  },
  {
   "cell_type": "code",
   "execution_count": null,
   "metadata": {},
   "outputs": [
    {
     "data": {
      "text/html": [
       "<div>\n",
       "<style scoped>\n",
       "    .dataframe tbody tr th:only-of-type {\n",
       "        vertical-align: middle;\n",
       "    }\n",
       "\n",
       "    .dataframe tbody tr th {\n",
       "        vertical-align: top;\n",
       "    }\n",
       "\n",
       "    .dataframe thead th {\n",
       "        text-align: right;\n",
       "    }\n",
       "</style>\n",
       "<table border=\"1\" class=\"dataframe\">\n",
       "  <thead>\n",
       "    <tr style=\"text-align: right;\">\n",
       "      <th></th>\n",
       "      <th>着順</th>\n",
       "      <th>枠</th>\n",
       "      <th>馬番</th>\n",
       "      <th>馬名</th>\n",
       "      <th>性齢</th>\n",
       "      <th>斤量</th>\n",
       "      <th>騎手</th>\n",
       "      <th>タイム</th>\n",
       "      <th>着差</th>\n",
       "      <th>人気</th>\n",
       "      <th>単勝オッズ</th>\n",
       "      <th>後3F</th>\n",
       "      <th>コーナー通過順</th>\n",
       "      <th>厩舎</th>\n",
       "      <th>馬体重(増減)</th>\n",
       "    </tr>\n",
       "  </thead>\n",
       "  <tbody>\n",
       "    <tr>\n",
       "      <th>202101010101</th>\n",
       "      <td>4</td>\n",
       "      <td>5</td>\n",
       "      <td>10</td>\n",
       "      <td>クレマチステソーロ</td>\n",
       "      <td>牝3</td>\n",
       "      <td>54.0</td>\n",
       "      <td>鮫島駿</td>\n",
       "      <td>1:09.0</td>\n",
       "      <td>1/2</td>\n",
       "      <td>5</td>\n",
       "      <td>7.6</td>\n",
       "      <td>35.2</td>\n",
       "      <td>2-2</td>\n",
       "      <td>美浦高木</td>\n",
       "      <td>468(+2)</td>\n",
       "    </tr>\n",
       "    <tr>\n",
       "      <th>202101010101</th>\n",
       "      <td>1</td>\n",
       "      <td>5</td>\n",
       "      <td>9</td>\n",
       "      <td>ディーバサンライズ</td>\n",
       "      <td>牝3</td>\n",
       "      <td>52.0</td>\n",
       "      <td>△秋山稔</td>\n",
       "      <td>1:08.7</td>\n",
       "      <td>NaN</td>\n",
       "      <td>7</td>\n",
       "      <td>13.5</td>\n",
       "      <td>34.6</td>\n",
       "      <td>4-4</td>\n",
       "      <td>栗東小林</td>\n",
       "      <td>474(-22)</td>\n",
       "    </tr>\n",
       "    <tr>\n",
       "      <th>202101010101</th>\n",
       "      <td>6</td>\n",
       "      <td>1</td>\n",
       "      <td>2</td>\n",
       "      <td>セリシア</td>\n",
       "      <td>牝3</td>\n",
       "      <td>54.0</td>\n",
       "      <td>武豊</td>\n",
       "      <td>1:09.0</td>\n",
       "      <td>クビ</td>\n",
       "      <td>1</td>\n",
       "      <td>3.7</td>\n",
       "      <td>34.9</td>\n",
       "      <td>4-4</td>\n",
       "      <td>栗東中竹</td>\n",
       "      <td>456(+4)</td>\n",
       "    </tr>\n",
       "  </tbody>\n",
       "</table>\n",
       "</div>"
      ],
      "text/plain": [
       "              着順  枠  馬番         馬名  性齢    斤量    騎手     タイム   着差  人気  単勝オッズ  \\\n",
       "202101010101   4  5  10  クレマチステソーロ  牝3  54.0   鮫島駿  1:09.0  1/2   5    7.6   \n",
       "202101010101   1  5   9  ディーバサンライズ  牝3  52.0  △秋山稔  1:08.7  NaN   7   13.5   \n",
       "202101010101   6  1   2       セリシア  牝3  54.0    武豊  1:09.0   クビ   1    3.7   \n",
       "\n",
       "               後3F コーナー通過順    厩舎   馬体重(増減)  \n",
       "202101010101  35.2     2-2  美浦高木   468(+2)  \n",
       "202101010101  34.6     4-4  栗東小林  474(-22)  \n",
       "202101010101  34.9     4-4  栗東中竹   456(+4)  "
      ]
     },
     "execution_count": 178,
     "metadata": {},
     "output_type": "execute_result"
    }
   ],
   "source": [
    "pd.read_csv('tes.csv')"
   ]
  }
 ],
 "metadata": {
  "interpreter": {
   "hash": "545e036c4b32438aced1f6b3c8d38ca151d9c36189e05839cb0aa568fda70ddd"
  },
  "kernelspec": {
   "display_name": "Python 2.7.18 64-bit",
   "language": "python",
   "name": "python3"
  },
  "language_info": {
   "codemirror_mode": {
    "name": "ipython",
    "version": 3
   },
   "file_extension": ".py",
   "mimetype": "text/x-python",
   "name": "python",
   "nbconvert_exporter": "python",
   "pygments_lexer": "ipython3",
   "version": "3.9.10"
  },
  "orig_nbformat": 4
 },
 "nbformat": 4,
 "nbformat_minor": 2
}
