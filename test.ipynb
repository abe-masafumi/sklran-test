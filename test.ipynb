{
 "cells": [
  {
   "cell_type": "code",
   "execution_count": 53,
   "metadata": {},
   "outputs": [],
   "source": [
    "import pandas as pd\n",
    "import csv\n",
    "import numpy as np\n",
    "import csv\n",
    "import re\n",
    "\n",
    "pd.options.display.max_rows = 5\n",
    "pd.options.display.max_columns = 100\n",
    "pd.options.display.max_colwidth = 20"
   ]
  },
  {
   "cell_type": "code",
   "execution_count": 36,
   "metadata": {},
   "outputs": [
    {
     "data": {
      "text/plain": [
       "[2]"
      ]
     },
     "execution_count": 36,
     "metadata": {},
     "output_type": "execute_result"
    }
   ],
   "source": [
    "arr = [3]\n",
    "clean_index = list(map(lambda x: x-1,arr))\n",
    "clean_index"
   ]
  },
  {
   "cell_type": "code",
   "execution_count": 81,
   "metadata": {},
   "outputs": [],
   "source": [
    "おかしいリスト = []\n",
    "def Molding(clean_index,csv_file_name):\n",
    "\n",
    "  with open(csv_file_name) as f:\n",
    "  # or\n",
    "  # with open('1.2.test2.csv') as f:\n",
    "      reader = csv.reader(f)\n",
    "      l = [row for row in reader]\n",
    "      l_length = len(l)\n",
    "      columns_len = len(l[0])\n",
    "      # print(columns_len)\n",
    "      # print(len(l[338]))\n",
    "      # print(l_length)\n",
    "      \n",
    "      for row in range(l_length):\n",
    "        \n",
    "        try:\n",
    "          if re.match(\"\\D\",l[row][14]):pass\n",
    "          else: おかしいリスト.append(f\"{l[row][0]}_{l[row][1]}_{l[row][2]}_{l[row][3]}_{l[row][4]}\")\n",
    "        except:\n",
    "          おかしいリスト.append(f\"{l[row][0]}_{l[row][1]}_{l[row][2]}_{l[row][3]}_{l[row][4]}\")\n",
    "          \n",
    "          \n",
    "        if len(l[row]) != columns_len:\n",
    "          print(f\"この行のlengthがおかしい: {row + 1}\")\n",
    "          \n",
    "        if row in clean_index:\n",
    "          l[row] = list(map(lambda x : x.replace('\\t',\",\"),l[row]))\n",
    "          text = ' '.join(l[row])\n",
    "          text = text.split(\",\")\n",
    "          text = list(map(lambda x : x.strip(),text))\n",
    "          text = ' '.join(text)\n",
    "          text = text.replace(' ',\",\")\n",
    "          text = text.split(\",\")\n",
    "          arr_len = len(text)\n",
    "          for _ in range(columns_len-arr_len):\n",
    "            text.append(\"\")\n",
    "          l[row] = text\n",
    "          # print(l[row])\n",
    "  return l,l_length,columns_len\n",
    "        "
   ]
  },
  {
   "cell_type": "code",
   "execution_count": 82,
   "metadata": {},
   "outputs": [
    {
     "name": "stdout",
     "output_type": "stream",
     "text": [
      "この行のlengthがおかしい: 3\n"
     ]
    }
   ],
   "source": [
    "l,l_length,columns_len = Molding(clean_index,\"te.csv\")"
   ]
  },
  {
   "cell_type": "code",
   "execution_count": 77,
   "metadata": {},
   "outputs": [
    {
     "data": {
      "text/plain": [
       "['202101010101_1_5_9_ディーバサンライズ\\t']"
      ]
     },
     "execution_count": 77,
     "metadata": {},
     "output_type": "execute_result"
    }
   ],
   "source": [
    "おかしいリスト"
   ]
  },
  {
   "cell_type": "code",
   "execution_count": 78,
   "metadata": {},
   "outputs": [
    {
     "name": "stdout",
     "output_type": "stream",
     "text": [
      "3\n",
      "3\n",
      "16\n",
      "16\n",
      "                着順  枠  馬番         馬名  性齢    斤量    騎手     タイム   着差 人気 単勝オッズ  \\\n",
      "0  202101010101  4  5  10  クレマチステソーロ  牝3  54.0   鮫島駿  1:09.0  1/2  5   7.6   \n",
      "1  202101010101  1  5   9  ディーバサンライズ  牝3  52.0  △秋山稔  1:08.7       7  13.5   \n",
      "2  202101010101  6  1   2       セリシア  牝3  54.0    武豊  1:09.0   クビ  1   3.7   \n",
      "\n",
      "    後3F コーナー通過順    厩舎   馬体重(増減)  \n",
      "0  35.2     2-2  美浦高木   468(+2)  \n",
      "1  34.6     4-4  栗東小林  474(-22)  \n",
      "2  34.9     4-4  栗東中竹   456(+4)  \n"
     ]
    }
   ],
   "source": [
    "print(len(l[1:]))\n",
    "print(l_length-1)\n",
    "print(columns_len)\n",
    "print(len(l[0]))\n",
    "add = np.array(l[1:]).reshape(l_length-1,columns_len)\n",
    "df_add = pd.DataFrame(add, columns=l[0])\n",
    "print(df_add)\n",
    "df_add.to_csv('tes.csv',index=False)"
   ]
  },
  {
   "cell_type": "code",
   "execution_count": null,
   "metadata": {},
   "outputs": [],
   "source": [
    "pd.read_csv('tes.csv')"
   ]
  }
 ],
 "metadata": {
  "interpreter": {
   "hash": "545e036c4b32438aced1f6b3c8d38ca151d9c36189e05839cb0aa568fda70ddd"
  },
  "kernelspec": {
   "display_name": "Python 2.7.18 64-bit",
   "language": "python",
   "name": "python3"
  },
  "language_info": {
   "codemirror_mode": {
    "name": "ipython",
    "version": 3
   },
   "file_extension": ".py",
   "mimetype": "text/x-python",
   "name": "python",
   "nbconvert_exporter": "python",
   "pygments_lexer": "ipython3",
   "version": "3.9.10"
  },
  "orig_nbformat": 4
 },
 "nbformat": 4,
 "nbformat_minor": 2
}
