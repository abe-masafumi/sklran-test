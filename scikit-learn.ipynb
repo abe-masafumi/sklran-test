{
 "cells": [
  {
   "cell_type": "code",
   "execution_count": 10,
   "metadata": {},
   "outputs": [],
   "source": [
    "import matplotlib.pyplot as plt\n",
    "from mpl_toolkits.mplot3d import Axes3D\n",
    "from sklearn import datasets\n",
    "from sklearn.decomposition import PCA"
   ]
  },
  {
   "cell_type": "code",
   "execution_count": 22,
   "metadata": {},
   "outputs": [],
   "source": [
    "# データをインポートしする\n",
    "iris = datasets.load_iris()\n",
    "# {'data': array([\n",
    "# [5.1, 3.5, 1.4, 0.2],\n",
    "# [4.9, 3. , 1.4, 0.2],...\n",
    "# 'target': array([0, 0, 0, 0, 0, ...\n",
    "X = iris.data[:, :2]  # 最初の2つの特徴のみを取り上げる\n",
    "# [[5.1 3.5]\n",
    "#  [4.9 3. ]\n",
    "#  [4.7 3.2]\n",
    "y = iris.target\n",
    "# [0 0 0 0 0 0 0 ..."
   ]
  },
  {
   "cell_type": "code",
   "execution_count": 28,
   "metadata": {},
   "outputs": [
    {
     "name": "stdout",
     "output_type": "stream",
     "text": [
      "3.8 8.4\n",
      "1.5 4.9\n"
     ]
    }
   ],
   "source": [
    "# なんで-5するかわからない\n",
    "x_min, x_max = X[:, 0].min() - 0.5, X[:, 0].max() + 0.5\n",
    "y_min, y_max = X[:, 1].min() - 0.5, X[:, 1].max() + 0.5\n",
    "print(x_min,x_max)\n",
    "print(y_min,y_max)"
   ]
  },
  {
   "cell_type": "code",
   "execution_count": 29,
   "metadata": {},
   "outputs": [
    {
     "data": {
      "text/plain": [
       "<Figure size 576x432 with 0 Axes>"
      ]
     },
     "metadata": {},
     "output_type": "display_data"
    }
   ],
   "source": [
    "plt.figure(2, figsize=(8, 6))\n",
    "plt.clf()"
   ]
  },
  {
   "cell_type": "code",
   "execution_count": null,
   "metadata": {},
   "outputs": [],
   "source": []
  }
 ],
 "metadata": {
  "interpreter": {
   "hash": "25922e1e47b0afa3eb078ee32af420522ea79b7f7416e6ab0f0cd412b14f2085"
  },
  "kernelspec": {
   "display_name": "Python 3.9.10 ('venv': venv)",
   "language": "python",
   "name": "python3"
  },
  "language_info": {
   "codemirror_mode": {
    "name": "ipython",
    "version": 3
   },
   "file_extension": ".py",
   "mimetype": "text/x-python",
   "name": "python",
   "nbconvert_exporter": "python",
   "pygments_lexer": "ipython3",
   "version": "3.9.10"
  },
  "orig_nbformat": 4
 },
 "nbformat": 4,
 "nbformat_minor": 2
}
