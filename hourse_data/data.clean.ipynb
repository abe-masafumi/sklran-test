{
 "cells": [
  {
   "cell_type": "code",
   "execution_count": 286,
   "metadata": {},
   "outputs": [],
   "source": [
    "import pandas as pd\n",
    "\n",
    "pd.set_option('display.max_rows',10)\n",
    "pd.options.display.width = 200\n",
    "pd.options.display.column_space = 100"
   ]
  },
  {
   "cell_type": "markdown",
   "metadata": {},
   "source": [
    "データの読み込み"
   ]
  },
  {
   "cell_type": "markdown",
   "metadata": {},
   "source": [
    "追加時には読み取りファイル名を変更する"
   ]
  },
  {
   "cell_type": "code",
   "execution_count": 287,
   "metadata": {},
   "outputs": [
    {
     "data": {
      "text/html": [
       "<div>\n",
       "<style scoped>\n",
       "    .dataframe tbody tr th:only-of-type {\n",
       "        vertical-align: middle;\n",
       "    }\n",
       "\n",
       "    .dataframe tbody tr th {\n",
       "        vertical-align: top;\n",
       "    }\n",
       "\n",
       "    .dataframe thead th {\n",
       "        text-align: right;\n",
       "    }\n",
       "</style>\n",
       "<table border=\"1\" class=\"dataframe\">\n",
       "  <thead>\n",
       "    <tr style=\"text-align: right;\">\n",
       "      <th></th>\n",
       "      <th>着順</th>\n",
       "      <th>枠</th>\n",
       "      <th>馬番</th>\n",
       "      <th>馬名</th>\n",
       "      <th>性齢</th>\n",
       "      <th>斤量</th>\n",
       "      <th>騎手</th>\n",
       "      <th>タイム</th>\n",
       "      <th>着差</th>\n",
       "      <th>人気</th>\n",
       "      <th>単勝オッズ</th>\n",
       "      <th>後3F</th>\n",
       "      <th>コーナー通過順</th>\n",
       "      <th>厩舎</th>\n",
       "      <th>馬体重(増減)</th>\n",
       "    </tr>\n",
       "  </thead>\n",
       "  <tbody>\n",
       "    <tr>\n",
       "      <th>202101020401</th>\n",
       "      <td>1</td>\n",
       "      <td>2</td>\n",
       "      <td>2</td>\n",
       "      <td>イエヴァンポルッカ</td>\n",
       "      <td>牡2</td>\n",
       "      <td>54.0</td>\n",
       "      <td>坂井</td>\n",
       "      <td>1:31.6</td>\n",
       "      <td>NaN</td>\n",
       "      <td>3</td>\n",
       "      <td>3.9</td>\n",
       "      <td>34.8</td>\n",
       "      <td>11-10-11</td>\n",
       "      <td>美浦伊藤圭</td>\n",
       "      <td>470(+2)</td>\n",
       "    </tr>\n",
       "    <tr>\n",
       "      <th>202101020401</th>\n",
       "      <td>2</td>\n",
       "      <td>6</td>\n",
       "      <td>8</td>\n",
       "      <td>テイエムケントオー</td>\n",
       "      <td>牡2</td>\n",
       "      <td>52.0</td>\n",
       "      <td>△秋山稔</td>\n",
       "      <td>1:31.8</td>\n",
       "      <td>1.1/4</td>\n",
       "      <td>9</td>\n",
       "      <td>44.7</td>\n",
       "      <td>35.6</td>\n",
       "      <td>3-3-3</td>\n",
       "      <td>栗東五十嵐</td>\n",
       "      <td>446(-4)</td>\n",
       "    </tr>\n",
       "    <tr>\n",
       "      <th>202101020401</th>\n",
       "      <td>3</td>\n",
       "      <td>8</td>\n",
       "      <td>13</td>\n",
       "      <td>シーヴィクセン</td>\n",
       "      <td>牝2</td>\n",
       "      <td>54.0</td>\n",
       "      <td>ルメー</td>\n",
       "      <td>1:31.8</td>\n",
       "      <td>クビ</td>\n",
       "      <td>1</td>\n",
       "      <td>3.5</td>\n",
       "      <td>35.4</td>\n",
       "      <td>5-6-5</td>\n",
       "      <td>美浦藤沢和</td>\n",
       "      <td>474(0)</td>\n",
       "    </tr>\n",
       "    <tr>\n",
       "      <th>202101020401</th>\n",
       "      <td>4</td>\n",
       "      <td>7</td>\n",
       "      <td>11</td>\n",
       "      <td>ナバロン</td>\n",
       "      <td>牡2</td>\n",
       "      <td>54.0</td>\n",
       "      <td>菱田</td>\n",
       "      <td>1:31.9</td>\n",
       "      <td>1/2</td>\n",
       "      <td>4</td>\n",
       "      <td>9.9</td>\n",
       "      <td>35.8</td>\n",
       "      <td>2-2-2</td>\n",
       "      <td>栗東杉山佳</td>\n",
       "      <td>484(+10)</td>\n",
       "    </tr>\n",
       "    <tr>\n",
       "      <th>202101020401</th>\n",
       "      <td>5</td>\n",
       "      <td>4</td>\n",
       "      <td>5</td>\n",
       "      <td>エクセトラ</td>\n",
       "      <td>牡2</td>\n",
       "      <td>54.0</td>\n",
       "      <td>団野</td>\n",
       "      <td>1:32.0</td>\n",
       "      <td>アタマ</td>\n",
       "      <td>5</td>\n",
       "      <td>10.8</td>\n",
       "      <td>35.4</td>\n",
       "      <td>8-8-7</td>\n",
       "      <td>栗東吉村</td>\n",
       "      <td>500(+4)</td>\n",
       "    </tr>\n",
       "    <tr>\n",
       "      <th>...</th>\n",
       "      <td>...</td>\n",
       "      <td>...</td>\n",
       "      <td>...</td>\n",
       "      <td>...</td>\n",
       "      <td>...</td>\n",
       "      <td>...</td>\n",
       "      <td>...</td>\n",
       "      <td>...</td>\n",
       "      <td>...</td>\n",
       "      <td>...</td>\n",
       "      <td>...</td>\n",
       "      <td>...</td>\n",
       "      <td>...</td>\n",
       "      <td>...</td>\n",
       "      <td>...</td>\n",
       "    </tr>\n",
       "    <tr>\n",
       "      <th>202101020401</th>\n",
       "      <td>9</td>\n",
       "      <td>4</td>\n",
       "      <td>4</td>\n",
       "      <td>キントリヒ</td>\n",
       "      <td>牡2</td>\n",
       "      <td>53.0</td>\n",
       "      <td>☆泉谷</td>\n",
       "      <td>1:32.2</td>\n",
       "      <td>アタマ</td>\n",
       "      <td>7</td>\n",
       "      <td>22.5</td>\n",
       "      <td>35.1</td>\n",
       "      <td>13-13-12</td>\n",
       "      <td>美浦矢野</td>\n",
       "      <td>450(-2)</td>\n",
       "    </tr>\n",
       "    <tr>\n",
       "      <th>202101020401</th>\n",
       "      <td>10</td>\n",
       "      <td>5</td>\n",
       "      <td>6</td>\n",
       "      <td>オクシデンタル</td>\n",
       "      <td>牡2</td>\n",
       "      <td>54.0</td>\n",
       "      <td>吉田隼</td>\n",
       "      <td>1:32.2</td>\n",
       "      <td>クビ</td>\n",
       "      <td>8</td>\n",
       "      <td>43.2</td>\n",
       "      <td>36.0</td>\n",
       "      <td>3-3-3</td>\n",
       "      <td>美浦加藤征</td>\n",
       "      <td>502(+4)</td>\n",
       "    </tr>\n",
       "    <tr>\n",
       "      <th>202101020401</th>\n",
       "      <td>11</td>\n",
       "      <td>1</td>\n",
       "      <td>1</td>\n",
       "      <td>ジョブックフィオリ</td>\n",
       "      <td>牝2</td>\n",
       "      <td>52.0</td>\n",
       "      <td>△山田</td>\n",
       "      <td>1:32.5</td>\n",
       "      <td>1.3/4</td>\n",
       "      <td>11</td>\n",
       "      <td>134.9</td>\n",
       "      <td>36.0</td>\n",
       "      <td>7-6-7</td>\n",
       "      <td>美浦小桧山</td>\n",
       "      <td>430(0)</td>\n",
       "    </tr>\n",
       "    <tr>\n",
       "      <th>202101020401</th>\n",
       "      <td>12</td>\n",
       "      <td>3</td>\n",
       "      <td>3</td>\n",
       "      <td>アポロリヤム</td>\n",
       "      <td>牡2</td>\n",
       "      <td>54.0</td>\n",
       "      <td>横山武</td>\n",
       "      <td>1:33.0</td>\n",
       "      <td>3</td>\n",
       "      <td>2</td>\n",
       "      <td>3.5</td>\n",
       "      <td>36.2</td>\n",
       "      <td>11-10-10</td>\n",
       "      <td>美浦鈴木伸</td>\n",
       "      <td>446(0)</td>\n",
       "    </tr>\n",
       "    <tr>\n",
       "      <th>202101020401</th>\n",
       "      <td>13</td>\n",
       "      <td>5</td>\n",
       "      <td>7</td>\n",
       "      <td>クリエースト</td>\n",
       "      <td>牝2</td>\n",
       "      <td>54.0</td>\n",
       "      <td>加藤</td>\n",
       "      <td>1:34.1</td>\n",
       "      <td>7</td>\n",
       "      <td>12</td>\n",
       "      <td>251.3</td>\n",
       "      <td>37.3</td>\n",
       "      <td>8-10-13</td>\n",
       "      <td>栗東杉山晴</td>\n",
       "      <td>450(+4)</td>\n",
       "    </tr>\n",
       "  </tbody>\n",
       "</table>\n",
       "<p>13 rows × 15 columns</p>\n",
       "</div>"
      ],
      "text/plain": [
       "              着順  枠  馬番         馬名  性齢    斤量    騎手     タイム     着差  人気  単勝オッズ   後3F   コーナー通過順     厩舎   馬体重(増減)\n",
       "202101020401   1  2   2  イエヴァンポルッカ  牡2  54.0    坂井  1:31.6    NaN   3    3.9  34.8  11-10-11  美浦伊藤圭   470(+2)\n",
       "202101020401   2  6   8  テイエムケントオー  牡2  52.0  △秋山稔  1:31.8  1.1/4   9   44.7  35.6     3-3-3  栗東五十嵐   446(-4)\n",
       "202101020401   3  8  13    シーヴィクセン  牝2  54.0   ルメー  1:31.8     クビ   1    3.5  35.4     5-6-5  美浦藤沢和    474(0)\n",
       "202101020401   4  7  11       ナバロン  牡2  54.0    菱田  1:31.9    1/2   4    9.9  35.8     2-2-2  栗東杉山佳  484(+10)\n",
       "202101020401   5  4   5      エクセトラ  牡2  54.0    団野  1:32.0    アタマ   5   10.8  35.4     8-8-7   栗東吉村   500(+4)\n",
       "...           .. ..  ..        ...  ..   ...   ...     ...    ...  ..    ...   ...       ...    ...       ...\n",
       "202101020401   9  4   4      キントリヒ  牡2  53.0   ☆泉谷  1:32.2    アタマ   7   22.5  35.1  13-13-12   美浦矢野   450(-2)\n",
       "202101020401  10  5   6    オクシデンタル  牡2  54.0   吉田隼  1:32.2     クビ   8   43.2  36.0     3-3-3  美浦加藤征   502(+4)\n",
       "202101020401  11  1   1  ジョブックフィオリ  牝2  52.0   △山田  1:32.5  1.3/4  11  134.9  36.0     7-6-7  美浦小桧山    430(0)\n",
       "202101020401  12  3   3     アポロリヤム  牡2  54.0   横山武  1:33.0      3   2    3.5  36.2  11-10-10  美浦鈴木伸    446(0)\n",
       "202101020401  13  5   7     クリエースト  牝2  54.0    加藤  1:34.1      7  12  251.3  37.3   8-10-13  栗東杉山晴   450(+4)\n",
       "\n",
       "[13 rows x 15 columns]"
      ]
     },
     "execution_count": 287,
     "metadata": {},
     "output_type": "execute_result"
    }
   ],
   "source": [
    "# results = pd.read_pickle(\"results.pickle\")\n",
    "results = pd.read_pickle(\"add.results.pickle\")\n",
    "results"
   ]
  },
  {
   "cell_type": "markdown",
   "metadata": {},
   "source": [
    "## 不要なデータの削除\n",
    "\n",
    "馬体重(増減)から右のデータはいらない\n",
    "\n",
    "１着のの馬の[着差]には[NaN]が入るため[着差]カラムを削除したい\n",
    "\n",
    "空白の行を削除\n",
    "\n",
    "タイム,単勝オッズ,後3F,コーナー通過順カラムは削除"
   ]
  },
  {
   "cell_type": "markdown",
   "metadata": {},
   "source": [
    "----"
   ]
  },
  {
   "cell_type": "markdown",
   "metadata": {},
   "source": [
    "欠損値の確認"
   ]
  },
  {
   "cell_type": "code",
   "execution_count": 288,
   "metadata": {},
   "outputs": [
    {
     "data": {
      "text/plain": [
       "着順         0\n",
       "枠          0\n",
       "馬番         0\n",
       "馬名         0\n",
       "性齢         0\n",
       "          ..\n",
       "単勝オッズ      0\n",
       "後3F        0\n",
       "コーナー通過順    0\n",
       "厩舎         0\n",
       "馬体重(増減)    0\n",
       "Length: 15, dtype: int64"
      ]
     },
     "execution_count": 288,
     "metadata": {},
     "output_type": "execute_result"
    }
   ],
   "source": [
    "results.isnull().sum()"
   ]
  },
  {
   "cell_type": "code",
   "execution_count": 289,
   "metadata": {},
   "outputs": [
    {
     "data": {
      "text/html": [
       "<div>\n",
       "<style scoped>\n",
       "    .dataframe tbody tr th:only-of-type {\n",
       "        vertical-align: middle;\n",
       "    }\n",
       "\n",
       "    .dataframe tbody tr th {\n",
       "        vertical-align: top;\n",
       "    }\n",
       "\n",
       "    .dataframe thead th {\n",
       "        text-align: right;\n",
       "    }\n",
       "</style>\n",
       "<table border=\"1\" class=\"dataframe\">\n",
       "  <thead>\n",
       "    <tr style=\"text-align: right;\">\n",
       "      <th></th>\n",
       "      <th>着順</th>\n",
       "      <th>枠</th>\n",
       "      <th>馬番</th>\n",
       "      <th>馬名</th>\n",
       "      <th>性齢</th>\n",
       "      <th>斤量</th>\n",
       "      <th>騎手</th>\n",
       "      <th>人気</th>\n",
       "      <th>馬体重(増減)</th>\n",
       "    </tr>\n",
       "  </thead>\n",
       "  <tbody>\n",
       "    <tr>\n",
       "      <th>202101020401</th>\n",
       "      <td>1</td>\n",
       "      <td>2</td>\n",
       "      <td>2</td>\n",
       "      <td>イエヴァンポルッカ</td>\n",
       "      <td>牡2</td>\n",
       "      <td>54.0</td>\n",
       "      <td>坂井</td>\n",
       "      <td>3</td>\n",
       "      <td>470(+2)</td>\n",
       "    </tr>\n",
       "    <tr>\n",
       "      <th>202101020401</th>\n",
       "      <td>2</td>\n",
       "      <td>6</td>\n",
       "      <td>8</td>\n",
       "      <td>テイエムケントオー</td>\n",
       "      <td>牡2</td>\n",
       "      <td>52.0</td>\n",
       "      <td>△秋山稔</td>\n",
       "      <td>9</td>\n",
       "      <td>446(-4)</td>\n",
       "    </tr>\n",
       "    <tr>\n",
       "      <th>...</th>\n",
       "      <td>...</td>\n",
       "      <td>...</td>\n",
       "      <td>...</td>\n",
       "      <td>...</td>\n",
       "      <td>...</td>\n",
       "      <td>...</td>\n",
       "      <td>...</td>\n",
       "      <td>...</td>\n",
       "      <td>...</td>\n",
       "    </tr>\n",
       "    <tr>\n",
       "      <th>202101020401</th>\n",
       "      <td>12</td>\n",
       "      <td>3</td>\n",
       "      <td>3</td>\n",
       "      <td>アポロリヤム</td>\n",
       "      <td>牡2</td>\n",
       "      <td>54.0</td>\n",
       "      <td>横山武</td>\n",
       "      <td>2</td>\n",
       "      <td>446(0)</td>\n",
       "    </tr>\n",
       "    <tr>\n",
       "      <th>202101020401</th>\n",
       "      <td>13</td>\n",
       "      <td>5</td>\n",
       "      <td>7</td>\n",
       "      <td>クリエースト</td>\n",
       "      <td>牝2</td>\n",
       "      <td>54.0</td>\n",
       "      <td>加藤</td>\n",
       "      <td>12</td>\n",
       "      <td>450(+4)</td>\n",
       "    </tr>\n",
       "  </tbody>\n",
       "</table>\n",
       "<p>13 rows × 9 columns</p>\n",
       "</div>"
      ],
      "text/plain": [
       "              着順  枠  馬番         馬名  性齢    斤量    騎手  人気  馬体重(増減)\n",
       "202101020401   1  2   2  イエヴァンポルッカ  牡2  54.0    坂井   3  470(+2)\n",
       "202101020401   2  6   8  テイエムケントオー  牡2  52.0  △秋山稔   9  446(-4)\n",
       "...           .. ..  ..        ...  ..   ...   ...  ..      ...\n",
       "202101020401  12  3   3     アポロリヤム  牡2  54.0   横山武   2   446(0)\n",
       "202101020401  13  5   7     クリエースト  牝2  54.0    加藤  12  450(+4)\n",
       "\n",
       "[13 rows x 9 columns]"
      ]
     },
     "execution_count": 289,
     "metadata": {},
     "output_type": "execute_result"
    }
   ],
   "source": [
    "pd.set_option('display.max_rows',5)\n",
    "\n",
    "results = results.iloc[:,:15]\n",
    "results = results.drop('着差', axis=1)\n",
    "results = results.dropna()\n",
    "results.drop([\"タイム\",'単勝オッズ','後3F',\"コーナー通過順\",\"厩舎\"],axis=1, inplace=True)\n",
    "results"
   ]
  },
  {
   "cell_type": "markdown",
   "metadata": {},
   "source": [
    "欠損値の確認"
   ]
  },
  {
   "cell_type": "markdown",
   "metadata": {},
   "source": [
    "----\n",
    "\n",
    "着順の整理"
   ]
  },
  {
   "cell_type": "markdown",
   "metadata": {},
   "source": [
    "数値以外の文字列を除外する"
   ]
  },
  {
   "cell_type": "code",
   "execution_count": 290,
   "metadata": {},
   "outputs": [
    {
     "data": {
      "text/plain": [
       "202101020401     1\n",
       "202101020401     2\n",
       "                ..\n",
       "202101020401    12\n",
       "202101020401    13\n",
       "Name: 着順, Length: 13, dtype: int64"
      ]
     },
     "execution_count": 290,
     "metadata": {},
     "output_type": "execute_result"
    }
   ],
   "source": [
    "# pd.set_option('display.max_rows',None)\n",
    "\n",
    "results[\"着順\"]"
   ]
  },
  {
   "cell_type": "markdown",
   "metadata": {},
   "source": [
    "エラー \n",
    "/var/folders/g6/k526pb596zv_zcdn87rsfwqc0000gn/T/ipykernel_61238/3965156673.py:2: SettingWithCopyWarning: \n",
    "A value is trying to be set on a copy of a slice from a DataFrame.\n",
    "Try using .loc[row_indexer,col_indexer] = value instead\n",
    "\n",
    "See the caveats in the documentation: https://pandas.pydata.org/pandas-docs/stable/user_guide/indexing.html#returning-a-view-versus-a-copy\n",
    "  results2[\"着順\"] = results2[\"着順\"].astype(int)\n",
    "\n",
    "  これが出た場合はコピーを作成して対応"
   ]
  },
  {
   "cell_type": "code",
   "execution_count": 291,
   "metadata": {},
   "outputs": [],
   "source": [
    "results[\"着順\"] = results[\"着順\"].astype(int)"
   ]
  },
  {
   "cell_type": "markdown",
   "metadata": {},
   "source": [
    "性齢の整理"
   ]
  },
  {
   "cell_type": "code",
   "execution_count": 292,
   "metadata": {},
   "outputs": [
    {
     "data": {
      "text/plain": [
       "202101020401    牡2\n",
       "202101020401    牡2\n",
       "202101020401    牝2\n",
       "202101020401    牡2\n",
       "202101020401    牡2\n",
       "202101020401    牝2\n",
       "202101020401    牝2\n",
       "202101020401    牡2\n",
       "202101020401    牡2\n",
       "202101020401    牡2\n",
       "202101020401    牝2\n",
       "202101020401    牡2\n",
       "202101020401    牝2\n",
       "Name: 性齢, dtype: object"
      ]
     },
     "execution_count": 292,
     "metadata": {},
     "output_type": "execute_result"
    }
   ],
   "source": [
    "pd.set_option('display.max_rows',20)\n",
    "\n",
    "results[\"性齢\"]"
   ]
  },
  {
   "cell_type": "code",
   "execution_count": 293,
   "metadata": {},
   "outputs": [
    {
     "data": {
      "text/plain": [
       "牡    8\n",
       "牝    5\n",
       "Name: 性, dtype: int64"
      ]
     },
     "execution_count": 293,
     "metadata": {},
     "output_type": "execute_result"
    }
   ],
   "source": [
    "results[\"性\"] = results[\"性齢\"].map(lambda x:str(x)[0])\n",
    "results[\"性\"].value_counts()"
   ]
  },
  {
   "cell_type": "code",
   "execution_count": 294,
   "metadata": {},
   "outputs": [
    {
     "data": {
      "text/plain": [
       "2    13\n",
       "Name: 齢, dtype: int64"
      ]
     },
     "execution_count": 294,
     "metadata": {},
     "output_type": "execute_result"
    }
   ],
   "source": [
    "results[\"齢\"] = results[\"性齢\"].map(lambda x:str(x)[1:]).astype(int)\n",
    "results[\"齢\"].value_counts()"
   ]
  },
  {
   "cell_type": "markdown",
   "metadata": {},
   "source": [
    "騎手の整理"
   ]
  },
  {
   "cell_type": "code",
   "execution_count": 295,
   "metadata": {},
   "outputs": [
    {
     "data": {
      "text/plain": [
       "坂井      1\n",
       "△秋山稔    1\n",
       "ルメー     1\n",
       "菱田      1\n",
       "団野      1\n",
       "▲小林凌    1\n",
       "▲小沢     1\n",
       "黛       1\n",
       "☆泉谷     1\n",
       "吉田隼     1\n",
       "△山田     1\n",
       "横山武     1\n",
       "加藤      1\n",
       "Name: 騎手, dtype: int64"
      ]
     },
     "execution_count": 295,
     "metadata": {},
     "output_type": "execute_result"
    }
   ],
   "source": [
    "results[\"騎手\"].value_counts()"
   ]
  },
  {
   "cell_type": "code",
   "execution_count": 296,
   "metadata": {},
   "outputs": [],
   "source": [
    "indexNames = results[results['騎手'] == 'シュシュエラブル' ].index\n",
    "# Delete these row indexes from dataFrame\n",
    "results.drop(indexNames , inplace=True)"
   ]
  },
  {
   "cell_type": "code",
   "execution_count": 297,
   "metadata": {},
   "outputs": [
    {
     "data": {
      "text/plain": [
       "坂井      1\n",
       "△秋山稔    1\n",
       "ルメー     1\n",
       "菱田      1\n",
       "団野      1\n",
       "▲小林凌    1\n",
       "▲小沢     1\n",
       "黛       1\n",
       "☆泉谷     1\n",
       "吉田隼     1\n",
       "△山田     1\n",
       "横山武     1\n",
       "加藤      1\n",
       "Name: 騎手, dtype: int64"
      ]
     },
     "execution_count": 297,
     "metadata": {},
     "output_type": "execute_result"
    }
   ],
   "source": [
    "results[\"騎手\"].value_counts()"
   ]
  },
  {
   "cell_type": "markdown",
   "metadata": {},
   "source": [
    "人気の整理"
   ]
  },
  {
   "cell_type": "code",
   "execution_count": 298,
   "metadata": {},
   "outputs": [],
   "source": [
    "pd.set_option('display.max_rows',None)\n",
    "results = results[results[\"人気\"].astype(str).str.contains(\"\\d\")]\n",
    "# results[\"人気\"]\n",
    "results[\"人気\"] = results[\"人気\"].astype(float)\n"
   ]
  },
  {
   "cell_type": "markdown",
   "metadata": {},
   "source": [
    "----\n",
    "\n",
    "馬体重(増減)の整理"
   ]
  },
  {
   "cell_type": "code",
   "execution_count": 299,
   "metadata": {},
   "outputs": [],
   "source": [
    "pd.set_option('display.max_rows',None)\n",
    "\n",
    "results[\"体重\"] = results[\"馬体重(増減)\"].str.split('(',expand=True)[0].astype(int)"
   ]
  },
  {
   "cell_type": "code",
   "execution_count": 300,
   "metadata": {},
   "outputs": [],
   "source": [
    "results[\"体重変化\"] = results[\"馬体重(増減)\"].str.split('(',expand=True)[1].str[:-1].astype(int)"
   ]
  },
  {
   "cell_type": "markdown",
   "metadata": {},
   "source": [
    "----\n",
    "最終確認"
   ]
  },
  {
   "cell_type": "code",
   "execution_count": 301,
   "metadata": {},
   "outputs": [],
   "source": [
    "results.drop([\"馬体重(増減)\",'性齢'],axis=1, inplace=True)\n"
   ]
  },
  {
   "cell_type": "code",
   "execution_count": 302,
   "metadata": {},
   "outputs": [
    {
     "data": {
      "text/plain": [
       "Index(['着順', '枠', '馬番', '馬名', '斤量', '騎手', '人気', '性', '齢', '体重', '体重変化'], dtype='object')"
      ]
     },
     "execution_count": 302,
     "metadata": {},
     "output_type": "execute_result"
    }
   ],
   "source": [
    "results.columns"
   ]
  },
  {
   "cell_type": "code",
   "execution_count": 303,
   "metadata": {},
   "outputs": [
    {
     "name": "stdout",
     "output_type": "stream",
     "text": [
      "着順\n",
      "1     1\n",
      "2     1\n",
      "3     1\n",
      "4     1\n",
      "5     1\n",
      "6     1\n",
      "7     1\n",
      "8     1\n",
      "9     1\n",
      "10    1\n",
      "11    1\n",
      "12    1\n",
      "13    1\n",
      "Name: 着順, dtype: int64\n",
      "枠\n",
      "6    2\n",
      "8    2\n",
      "7    2\n",
      "4    2\n",
      "5    2\n",
      "2    1\n",
      "1    1\n",
      "3    1\n",
      "Name: 枠, dtype: int64\n",
      "馬番\n",
      "2     1\n",
      "8     1\n",
      "13    1\n",
      "11    1\n",
      "5     1\n",
      "9     1\n",
      "10    1\n",
      "12    1\n",
      "4     1\n",
      "6     1\n",
      "1     1\n",
      "3     1\n",
      "7     1\n",
      "Name: 馬番, dtype: int64\n",
      "馬名\n",
      "イエヴァンポルッカ    1\n",
      "テイエムケントオー    1\n",
      "シーヴィクセン      1\n",
      "ナバロン         1\n",
      "エクセトラ        1\n",
      "シュシュエラブル     1\n",
      "チャオベッラ       1\n",
      "グランジャンブ      1\n",
      "キントリヒ        1\n",
      "オクシデンタル      1\n",
      "ジョブックフィオリ    1\n",
      "アポロリヤム       1\n",
      "クリエースト       1\n",
      "Name: 馬名, dtype: int64\n",
      "斤量\n",
      "54.0    8\n",
      "52.0    2\n",
      "51.0    2\n",
      "53.0    1\n",
      "Name: 斤量, dtype: int64\n",
      "騎手\n",
      "坂井      1\n",
      "△秋山稔    1\n",
      "ルメー     1\n",
      "菱田      1\n",
      "団野      1\n",
      "▲小林凌    1\n",
      "▲小沢     1\n",
      "黛       1\n",
      "☆泉谷     1\n",
      "吉田隼     1\n",
      "△山田     1\n",
      "横山武     1\n",
      "加藤      1\n",
      "Name: 騎手, dtype: int64\n",
      "人気\n",
      "3.0     1\n",
      "9.0     1\n",
      "1.0     1\n",
      "4.0     1\n",
      "5.0     1\n",
      "10.0    1\n",
      "6.0     1\n",
      "13.0    1\n",
      "7.0     1\n",
      "8.0     1\n",
      "11.0    1\n",
      "2.0     1\n",
      "12.0    1\n",
      "Name: 人気, dtype: int64\n",
      "性\n",
      "牡    8\n",
      "牝    5\n",
      "Name: 性, dtype: int64\n",
      "齢\n",
      "2    13\n",
      "Name: 齢, dtype: int64\n"
     ]
    }
   ],
   "source": [
    "pd.set_option('display.max_rows',None)\n",
    "print(\"着順\")\n",
    "print(results[\"着順\"].value_counts())\n",
    "print(\"枠\")\n",
    "print(results[\"枠\"].value_counts())\n",
    "print(\"馬番\")\n",
    "print(results[\"馬番\"].value_counts())\n",
    "print(\"馬名\")\n",
    "print(results[\"馬名\"].value_counts())\n",
    "print(\"斤量\")\n",
    "print(results[\"斤量\"].value_counts())\n",
    "print(\"騎手\")\n",
    "print(results[\"騎手\"].value_counts())\n",
    "print(\"人気\")\n",
    "print(results[\"人気\"].value_counts())\n",
    "print(\"性\")\n",
    "print(results[\"性\"].value_counts())\n",
    "print(\"齢\")\n",
    "print(results[\"齢\"].value_counts())"
   ]
  },
  {
   "cell_type": "code",
   "execution_count": 304,
   "metadata": {},
   "outputs": [
    {
     "name": "stdout",
     "output_type": "stream",
     "text": [
      "<class 'pandas.core.frame.DataFrame'>\n",
      "Index: 13 entries, 202101020401 to 202101020401\n",
      "Data columns (total 11 columns):\n",
      " #   Column  Non-Null Count  Dtype  \n",
      "---  ------  --------------  -----  \n",
      " 0   着順      13 non-null     int64  \n",
      " 1   枠       13 non-null     int64  \n",
      " 2   馬番      13 non-null     int64  \n",
      " 3   馬名      13 non-null     object \n",
      " 4   斤量      13 non-null     float64\n",
      " 5   騎手      13 non-null     object \n",
      " 6   人気      13 non-null     float64\n",
      " 7   性       13 non-null     object \n",
      " 8   齢       13 non-null     int64  \n",
      " 9   体重      13 non-null     int64  \n",
      " 10  体重変化    13 non-null     int64  \n",
      "dtypes: float64(2), int64(6), object(3)\n",
      "memory usage: 1.2+ KB\n"
     ]
    }
   ],
   "source": [
    "results.info()"
   ]
  },
  {
   "cell_type": "markdown",
   "metadata": {},
   "source": [
    "----\n",
    "\n",
    "保存するときの名前にきおつける\n",
    "\n",
    "追加時には保存ファイル名を変更する"
   ]
  },
  {
   "cell_type": "code",
   "execution_count": 305,
   "metadata": {},
   "outputs": [],
   "source": [
    "# results.to_pickle(\"cleaned.pickle\")"
   ]
  },
  {
   "cell_type": "code",
   "execution_count": 306,
   "metadata": {},
   "outputs": [],
   "source": [
    "results.to_pickle(\"add.cleaned.pickle\")"
   ]
  },
  {
   "cell_type": "code",
   "execution_count": 307,
   "metadata": {},
   "outputs": [
    {
     "data": {
      "text/html": [
       "<div>\n",
       "<style scoped>\n",
       "    .dataframe tbody tr th:only-of-type {\n",
       "        vertical-align: middle;\n",
       "    }\n",
       "\n",
       "    .dataframe tbody tr th {\n",
       "        vertical-align: top;\n",
       "    }\n",
       "\n",
       "    .dataframe thead th {\n",
       "        text-align: right;\n",
       "    }\n",
       "</style>\n",
       "<table border=\"1\" class=\"dataframe\">\n",
       "  <thead>\n",
       "    <tr style=\"text-align: right;\">\n",
       "      <th></th>\n",
       "      <th>着順</th>\n",
       "      <th>枠</th>\n",
       "      <th>馬番</th>\n",
       "      <th>馬名</th>\n",
       "      <th>斤量</th>\n",
       "      <th>騎手</th>\n",
       "      <th>人気</th>\n",
       "      <th>性</th>\n",
       "      <th>齢</th>\n",
       "      <th>体重</th>\n",
       "      <th>体重変化</th>\n",
       "    </tr>\n",
       "  </thead>\n",
       "  <tbody>\n",
       "    <tr>\n",
       "      <th>202101020401</th>\n",
       "      <td>1</td>\n",
       "      <td>2</td>\n",
       "      <td>2</td>\n",
       "      <td>イエヴァンポルッカ</td>\n",
       "      <td>54.0</td>\n",
       "      <td>坂井</td>\n",
       "      <td>3.0</td>\n",
       "      <td>牡</td>\n",
       "      <td>2</td>\n",
       "      <td>470</td>\n",
       "      <td>2</td>\n",
       "    </tr>\n",
       "    <tr>\n",
       "      <th>202101020401</th>\n",
       "      <td>2</td>\n",
       "      <td>6</td>\n",
       "      <td>8</td>\n",
       "      <td>テイエムケントオー</td>\n",
       "      <td>52.0</td>\n",
       "      <td>△秋山稔</td>\n",
       "      <td>9.0</td>\n",
       "      <td>牡</td>\n",
       "      <td>2</td>\n",
       "      <td>446</td>\n",
       "      <td>-4</td>\n",
       "    </tr>\n",
       "    <tr>\n",
       "      <th>202101020401</th>\n",
       "      <td>3</td>\n",
       "      <td>8</td>\n",
       "      <td>13</td>\n",
       "      <td>シーヴィクセン</td>\n",
       "      <td>54.0</td>\n",
       "      <td>ルメー</td>\n",
       "      <td>1.0</td>\n",
       "      <td>牝</td>\n",
       "      <td>2</td>\n",
       "      <td>474</td>\n",
       "      <td>0</td>\n",
       "    </tr>\n",
       "    <tr>\n",
       "      <th>202101020401</th>\n",
       "      <td>4</td>\n",
       "      <td>7</td>\n",
       "      <td>11</td>\n",
       "      <td>ナバロン</td>\n",
       "      <td>54.0</td>\n",
       "      <td>菱田</td>\n",
       "      <td>4.0</td>\n",
       "      <td>牡</td>\n",
       "      <td>2</td>\n",
       "      <td>484</td>\n",
       "      <td>10</td>\n",
       "    </tr>\n",
       "    <tr>\n",
       "      <th>202101020401</th>\n",
       "      <td>5</td>\n",
       "      <td>4</td>\n",
       "      <td>5</td>\n",
       "      <td>エクセトラ</td>\n",
       "      <td>54.0</td>\n",
       "      <td>団野</td>\n",
       "      <td>5.0</td>\n",
       "      <td>牡</td>\n",
       "      <td>2</td>\n",
       "      <td>500</td>\n",
       "      <td>4</td>\n",
       "    </tr>\n",
       "    <tr>\n",
       "      <th>202101020401</th>\n",
       "      <td>6</td>\n",
       "      <td>6</td>\n",
       "      <td>9</td>\n",
       "      <td>シュシュエラブル</td>\n",
       "      <td>51.0</td>\n",
       "      <td>▲小林凌</td>\n",
       "      <td>10.0</td>\n",
       "      <td>牝</td>\n",
       "      <td>2</td>\n",
       "      <td>438</td>\n",
       "      <td>6</td>\n",
       "    </tr>\n",
       "    <tr>\n",
       "      <th>202101020401</th>\n",
       "      <td>7</td>\n",
       "      <td>7</td>\n",
       "      <td>10</td>\n",
       "      <td>チャオベッラ</td>\n",
       "      <td>51.0</td>\n",
       "      <td>▲小沢</td>\n",
       "      <td>6.0</td>\n",
       "      <td>牝</td>\n",
       "      <td>2</td>\n",
       "      <td>450</td>\n",
       "      <td>12</td>\n",
       "    </tr>\n",
       "    <tr>\n",
       "      <th>202101020401</th>\n",
       "      <td>8</td>\n",
       "      <td>8</td>\n",
       "      <td>12</td>\n",
       "      <td>グランジャンブ</td>\n",
       "      <td>54.0</td>\n",
       "      <td>黛</td>\n",
       "      <td>13.0</td>\n",
       "      <td>牡</td>\n",
       "      <td>2</td>\n",
       "      <td>474</td>\n",
       "      <td>10</td>\n",
       "    </tr>\n",
       "    <tr>\n",
       "      <th>202101020401</th>\n",
       "      <td>9</td>\n",
       "      <td>4</td>\n",
       "      <td>4</td>\n",
       "      <td>キントリヒ</td>\n",
       "      <td>53.0</td>\n",
       "      <td>☆泉谷</td>\n",
       "      <td>7.0</td>\n",
       "      <td>牡</td>\n",
       "      <td>2</td>\n",
       "      <td>450</td>\n",
       "      <td>-2</td>\n",
       "    </tr>\n",
       "    <tr>\n",
       "      <th>202101020401</th>\n",
       "      <td>10</td>\n",
       "      <td>5</td>\n",
       "      <td>6</td>\n",
       "      <td>オクシデンタル</td>\n",
       "      <td>54.0</td>\n",
       "      <td>吉田隼</td>\n",
       "      <td>8.0</td>\n",
       "      <td>牡</td>\n",
       "      <td>2</td>\n",
       "      <td>502</td>\n",
       "      <td>4</td>\n",
       "    </tr>\n",
       "    <tr>\n",
       "      <th>202101020401</th>\n",
       "      <td>11</td>\n",
       "      <td>1</td>\n",
       "      <td>1</td>\n",
       "      <td>ジョブックフィオリ</td>\n",
       "      <td>52.0</td>\n",
       "      <td>△山田</td>\n",
       "      <td>11.0</td>\n",
       "      <td>牝</td>\n",
       "      <td>2</td>\n",
       "      <td>430</td>\n",
       "      <td>0</td>\n",
       "    </tr>\n",
       "    <tr>\n",
       "      <th>202101020401</th>\n",
       "      <td>12</td>\n",
       "      <td>3</td>\n",
       "      <td>3</td>\n",
       "      <td>アポロリヤム</td>\n",
       "      <td>54.0</td>\n",
       "      <td>横山武</td>\n",
       "      <td>2.0</td>\n",
       "      <td>牡</td>\n",
       "      <td>2</td>\n",
       "      <td>446</td>\n",
       "      <td>0</td>\n",
       "    </tr>\n",
       "    <tr>\n",
       "      <th>202101020401</th>\n",
       "      <td>13</td>\n",
       "      <td>5</td>\n",
       "      <td>7</td>\n",
       "      <td>クリエースト</td>\n",
       "      <td>54.0</td>\n",
       "      <td>加藤</td>\n",
       "      <td>12.0</td>\n",
       "      <td>牝</td>\n",
       "      <td>2</td>\n",
       "      <td>450</td>\n",
       "      <td>4</td>\n",
       "    </tr>\n",
       "  </tbody>\n",
       "</table>\n",
       "</div>"
      ],
      "text/plain": [
       "              着順  枠  馬番         馬名    斤量    騎手    人気  性  齢   体重  体重変化\n",
       "202101020401   1  2   2  イエヴァンポルッカ  54.0    坂井   3.0  牡  2  470     2\n",
       "202101020401   2  6   8  テイエムケントオー  52.0  △秋山稔   9.0  牡  2  446    -4\n",
       "202101020401   3  8  13    シーヴィクセン  54.0   ルメー   1.0  牝  2  474     0\n",
       "202101020401   4  7  11       ナバロン  54.0    菱田   4.0  牡  2  484    10\n",
       "202101020401   5  4   5      エクセトラ  54.0    団野   5.0  牡  2  500     4\n",
       "202101020401   6  6   9   シュシュエラブル  51.0  ▲小林凌  10.0  牝  2  438     6\n",
       "202101020401   7  7  10     チャオベッラ  51.0   ▲小沢   6.0  牝  2  450    12\n",
       "202101020401   8  8  12    グランジャンブ  54.0     黛  13.0  牡  2  474    10\n",
       "202101020401   9  4   4      キントリヒ  53.0   ☆泉谷   7.0  牡  2  450    -2\n",
       "202101020401  10  5   6    オクシデンタル  54.0   吉田隼   8.0  牡  2  502     4\n",
       "202101020401  11  1   1  ジョブックフィオリ  52.0   △山田  11.0  牝  2  430     0\n",
       "202101020401  12  3   3     アポロリヤム  54.0   横山武   2.0  牡  2  446     0\n",
       "202101020401  13  5   7     クリエースト  54.0    加藤  12.0  牝  2  450     4"
      ]
     },
     "execution_count": 307,
     "metadata": {},
     "output_type": "execute_result"
    }
   ],
   "source": [
    "results"
   ]
  }
 ],
 "metadata": {
  "interpreter": {
   "hash": "17524995b3fb89f69a1eefd3d21017daf0e335c7df3994005e07ddeae9fe971e"
  },
  "kernelspec": {
   "display_name": "Python 3.9.10 ('venv39': venv)",
   "language": "python",
   "name": "python3"
  },
  "language_info": {
   "codemirror_mode": {
    "name": "ipython",
    "version": 3
   },
   "file_extension": ".py",
   "mimetype": "text/x-python",
   "name": "python",
   "nbconvert_exporter": "python",
   "pygments_lexer": "ipython3",
   "version": "3.9.10"
  },
  "orig_nbformat": 4
 },
 "nbformat": 4,
 "nbformat_minor": 2
}
