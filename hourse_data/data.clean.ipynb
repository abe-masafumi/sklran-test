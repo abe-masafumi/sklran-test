{
 "cells": [
  {
   "cell_type": "code",
   "execution_count": null,
   "metadata": {},
   "outputs": [],
   "source": [
    "import pandas as pd\n",
    "\n",
    "pd.set_option('display.max_rows',None)\n",
    "pd.options.display.width = 200\n",
    "pd.options.display.column_space = 100"
   ]
  },
  {
   "cell_type": "markdown",
   "metadata": {},
   "source": [
    "データの読み込み"
   ]
  },
  {
   "cell_type": "markdown",
   "metadata": {},
   "source": [
    "追加時には読み取りファイル名を変更する"
   ]
  },
  {
   "cell_type": "markdown",
   "metadata": {},
   "source": [
    "## データの確認"
   ]
  },
  {
   "cell_type": "code",
   "execution_count": null,
   "metadata": {},
   "outputs": [],
   "source": [
    "results = pd.read_pickle(\"df.pickle\")\n",
    "results.columns\n",
    "print(results[\"着順\"].value_counts())\n",
    "print(results[\"枠\"].value_counts())\n",
    "print(results[\"馬番\"].value_counts())\n",
    "print(results[\"馬名\"].value_counts())\n",
    "print(results[\"性齢\"].value_counts())\n",
    "print(results[\"斤量\"].value_counts())\n",
    "print(results[\"騎手\"].value_counts())\n",
    "print(results[\"タイム\"].value_counts())\n",
    "print(results[\"着差\"].value_counts())\n",
    "print(results[\"人気\"].value_counts())\n",
    "print(results[\"単勝オッズ\"].value_counts())\n",
    "print(results[\"後3F\"].value_counts())\n",
    "print(results[\"コーナー通過順\"].value_counts())\n",
    "print(results[\"厩舎\"].value_counts())\n",
    "print(results[\"馬体重(増減)\"].value_counts())"
   ]
  },
  {
   "cell_type": "code",
   "execution_count": null,
   "metadata": {},
   "outputs": [],
   "source": [
    "results.isna().sum()"
   ]
  },
  {
   "cell_type": "code",
   "execution_count": null,
   "metadata": {},
   "outputs": [],
   "source": [
    "# results"
   ]
  },
  {
   "cell_type": "markdown",
   "metadata": {},
   "source": [
    "----"
   ]
  },
  {
   "cell_type": "markdown",
   "metadata": {},
   "source": [
    "## 不要なデータの削除\n",
    "\n",
    "馬体重(増減)から右のデータはいらない\n",
    "\n",
    "１着のの馬の[着差]には[NaN]が入るため[着差]カラムを削除したい\n",
    "\n",
    "空白の行を削除\n",
    "\n",
    "タイム,単勝オッズ,後3F,コーナー通過順カラムは削除"
   ]
  },
  {
   "cell_type": "markdown",
   "metadata": {},
   "source": [
    "----"
   ]
  },
  {
   "cell_type": "markdown",
   "metadata": {},
   "source": [
    "欠損値の確認"
   ]
  },
  {
   "cell_type": "code",
   "execution_count": null,
   "metadata": {},
   "outputs": [],
   "source": [
    "pd.set_option('display.max_rows',5)\n",
    "\n",
    "results = results.iloc[:,:15]\n",
    "results = results.drop('着差', axis=1)\n",
    "results = results.dropna()\n",
    "results.drop([\"タイム\",'単勝オッズ','後3F',\"コーナー通過順\",\"厩舎\"],axis=1, inplace=True)\n",
    "results"
   ]
  },
  {
   "cell_type": "markdown",
   "metadata": {},
   "source": [
    "欠損値の確認"
   ]
  },
  {
   "cell_type": "code",
   "execution_count": null,
   "metadata": {},
   "outputs": [],
   "source": [
    "results.isnull().sum()"
   ]
  },
  {
   "cell_type": "markdown",
   "metadata": {},
   "source": [
    "----\n",
    "\n",
    "着順の整理"
   ]
  },
  {
   "cell_type": "markdown",
   "metadata": {},
   "source": [
    "数値以外の文字列を除外する"
   ]
  },
  {
   "cell_type": "code",
   "execution_count": null,
   "metadata": {},
   "outputs": [],
   "source": [
    "# pd.set_option('display.max_rows',None)\n",
    "\n",
    "# results[\"着順\"]"
   ]
  },
  {
   "cell_type": "markdown",
   "metadata": {},
   "source": [
    "エラー \n",
    "/var/folders/g6/k526pb596zv_zcdn87rsfwqc0000gn/T/ipykernel_61238/3965156673.py:2: SettingWithCopyWarning: \n",
    "A value is trying to be set on a copy of a slice from a DataFrame.\n",
    "Try using .loc[row_indexer,col_indexer] = value instead\n",
    "\n",
    "See the caveats in the documentation: https://pandas.pydata.org/pandas-docs/stable/user_guide/indexing.html#returning-a-view-versus-a-copy\n",
    "  results2[\"着順\"] = results2[\"着順\"].astype(int)\n",
    "\n",
    "  これが出た場合はコピーを作成して対応"
   ]
  },
  {
   "cell_type": "code",
   "execution_count": null,
   "metadata": {},
   "outputs": [],
   "source": [
    "results[\"着順\"] = results[\"着順\"].astype(int)"
   ]
  },
  {
   "cell_type": "markdown",
   "metadata": {},
   "source": [
    "性齢の整理"
   ]
  },
  {
   "cell_type": "code",
   "execution_count": null,
   "metadata": {},
   "outputs": [],
   "source": [
    "pd.set_option('display.max_rows',20)\n",
    "\n",
    "results[\"性齢\"]"
   ]
  },
  {
   "cell_type": "code",
   "execution_count": null,
   "metadata": {},
   "outputs": [],
   "source": [
    "results[\"性\"] = results[\"性齢\"].map(lambda x:str(x)[0])\n",
    "results[\"性\"].value_counts()"
   ]
  },
  {
   "cell_type": "code",
   "execution_count": null,
   "metadata": {},
   "outputs": [],
   "source": [
    "results[\"齢\"] = results[\"性齢\"].map(lambda x:str(x)[1:]).astype(int)\n",
    "results[\"齢\"].value_counts()"
   ]
  },
  {
   "cell_type": "markdown",
   "metadata": {},
   "source": [
    "騎手の整理"
   ]
  },
  {
   "cell_type": "code",
   "execution_count": null,
   "metadata": {},
   "outputs": [],
   "source": [
    "results[\"騎手\"].value_counts()"
   ]
  },
  {
   "cell_type": "code",
   "execution_count": null,
   "metadata": {},
   "outputs": [],
   "source": [
    "indexNames = results[results['騎手'] == 'シュシュエラブル' ].index\n",
    "# Delete these row indexes from dataFrame\n",
    "results.drop(indexNames , inplace=True)"
   ]
  },
  {
   "cell_type": "code",
   "execution_count": null,
   "metadata": {},
   "outputs": [],
   "source": [
    "results[\"騎手\"].value_counts()"
   ]
  },
  {
   "cell_type": "markdown",
   "metadata": {},
   "source": [
    "人気の整理"
   ]
  },
  {
   "cell_type": "code",
   "execution_count": null,
   "metadata": {},
   "outputs": [],
   "source": [
    "pd.set_option('display.max_rows',None)\n",
    "results = results[results[\"人気\"].astype(str).str.contains(\"\\d\")]\n",
    "results = results[~(results[\"人気\"].astype(str).str.contains(\":\"))]\n",
    "# results[\"人気\"].value_counts()\n",
    "results[\"人気\"] = results[\"人気\"].astype(float)"
   ]
  },
  {
   "cell_type": "markdown",
   "metadata": {},
   "source": [
    "----\n",
    "\n",
    "馬体重(増減)の整理"
   ]
  },
  {
   "cell_type": "code",
   "execution_count": null,
   "metadata": {},
   "outputs": [],
   "source": [
    "pd.set_option('display.max_rows',None)\n",
    "results[\"馬体重(増減)\"].value_counts()\n",
    "results = results[~(results[\"馬体重(増減)\"].astype(str).str.contains(\"\\.\"))]\n",
    "results[\"体重\"] = results[\"馬体重(増減)\"].str.split('(',expand=True)[0].astype(int)"
   ]
  },
  {
   "cell_type": "code",
   "execution_count": null,
   "metadata": {},
   "outputs": [],
   "source": [
    "results[\"馬体重(増減)\"].value_counts()"
   ]
  },
  {
   "cell_type": "code",
   "execution_count": null,
   "metadata": {},
   "outputs": [],
   "source": [
    "results[\"体重変化\"] = results[\"馬体重(増減)\"].str.split('(',expand=True)[1].str[:-1].astype(int)\n",
    "# results[\"体重変化\"].value_counts()"
   ]
  },
  {
   "cell_type": "code",
   "execution_count": null,
   "metadata": {},
   "outputs": [],
   "source": [
    "indexNames = results[results['体重変化'] == 'None' ].index\n",
    "results.drop(indexNames , inplace=True)"
   ]
  },
  {
   "cell_type": "markdown",
   "metadata": {},
   "source": [
    "----\n",
    "最終確認"
   ]
  },
  {
   "cell_type": "code",
   "execution_count": null,
   "metadata": {},
   "outputs": [],
   "source": [
    "results.drop([\"馬体重(増減)\",'性齢'],axis=1, inplace=True)"
   ]
  },
  {
   "cell_type": "code",
   "execution_count": null,
   "metadata": {},
   "outputs": [],
   "source": [
    "results.columns"
   ]
  },
  {
   "cell_type": "code",
   "execution_count": null,
   "metadata": {},
   "outputs": [],
   "source": [
    "pd.set_option('display.max_rows',None)\n",
    "print(\"着順\")\n",
    "print(results[\"着順\"].value_counts())\n",
    "print(\"枠\")\n",
    "print(results[\"枠\"].value_counts())\n",
    "print(\"馬番\")\n",
    "print(results[\"馬番\"].value_counts())\n",
    "print(\"馬名\")\n",
    "print(results[\"馬名\"].value_counts())\n",
    "print(\"斤量\")\n",
    "print(results[\"斤量\"].value_counts())\n",
    "print(\"騎手\")\n",
    "print(results[\"騎手\"].value_counts())\n",
    "print(\"人気\")\n",
    "print(results[\"人気\"].value_counts())\n",
    "print(\"性\")\n",
    "print(results[\"性\"].value_counts())\n",
    "print(\"齢\")\n",
    "print(results[\"齢\"].value_counts())"
   ]
  },
  {
   "cell_type": "code",
   "execution_count": null,
   "metadata": {},
   "outputs": [],
   "source": [
    "results.info()"
   ]
  },
  {
   "cell_type": "code",
   "execution_count": null,
   "metadata": {},
   "outputs": [],
   "source": [
    "len(results)"
   ]
  },
  {
   "cell_type": "markdown",
   "metadata": {},
   "source": [
    "----\n",
    "\n",
    "保存するときの名前にきおつける\n",
    "\n",
    "追加時には保存ファイル名を変更する"
   ]
  },
  {
   "cell_type": "code",
   "execution_count": null,
   "metadata": {},
   "outputs": [],
   "source": [
    "results.to_pickle(\"cleaned.pickle\")"
   ]
  },
  {
   "cell_type": "code",
   "execution_count": null,
   "metadata": {},
   "outputs": [],
   "source": [
    "# results.to_pickle(\"add.cleaned.pickle\")"
   ]
  },
  {
   "cell_type": "code",
   "execution_count": null,
   "metadata": {},
   "outputs": [],
   "source": [
    "# results"
   ]
  },
  {
   "cell_type": "markdown",
   "metadata": {},
   "source": [
    "関数化"
   ]
  },
  {
   "cell_type": "code",
   "execution_count": null,
   "metadata": {},
   "outputs": [],
   "source": [
    "results = pd.read_pickle(\"results.pickle\")\n",
    "print(results[\"着順\"].value_counts())\n",
    "print(results[\"枠\"].value_counts())\n",
    "print(results[\"馬名\"].value_counts())\n",
    "print(results[\"性齢\"].value_counts())\n",
    "print(results[\"斤量\"].value_counts())\n",
    "print(results[\"騎手\"].value_counts())\n",
    "print(results[\"着差\"].value_counts())\n",
    "print(results[\"人気\"].value_counts())\n",
    "print(results[\"単勝オッズ\"].value_counts())\n",
    "print(results[\"後3F\"].value_counts())\n",
    "print(results[\"コーナー通過順\"].value_counts())\n",
    "print(results[\"厩舎\"].value_counts())\n",
    "print(results[\"馬体重(増減)\"].value_counts())"
   ]
  },
  {
   "cell_type": "code",
   "execution_count": null,
   "metadata": {},
   "outputs": [],
   "source": [
    "def clean_race_data(df):\n",
    "  results = df.iloc[:,:15]\n",
    "  results = results.drop('着差', axis=1)\n",
    "  results = results.dropna()\n",
    "  results.drop([\"タイム\",'単勝オッズ','後3F',\"コーナー通過順\",\"厩舎\"],axis=1, inplace=True)\n",
    "  results[\"着順\"] = results[\"着順\"].astype(int)\n",
    "  results[\"性\"] = results[\"性齢\"].map(lambda x:str(x)[0])\n",
    "  results[\"性\"].value_counts()\n",
    "  results[\"齢\"] = results[\"性齢\"].map(lambda x:str(x)[1:]).astype(int)\n",
    "  results[\"齢\"].value_counts()\n",
    "  indexNames = results[results['騎手'] == 'シュシュエラブル' ].index\n",
    "  # Delete these row indexes from dataFrame\n",
    "  results.drop(indexNames , inplace=True)\n",
    "  results = results[results[\"人気\"].astype(str).str.contains(\"\\d\")]\n",
    "  results = results[~(results[\"人気\"].astype(str).str.contains(\":\"))]\n",
    "  # results[\"人気\"].value_counts()\n",
    "  results[\"人気\"] = results[\"人気\"].astype(float)\n",
    "  results = results[~(results[\"馬体重(増減)\"].astype(str).str.contains(\"\\.\"))]\n",
    "  results[\"体重\"] = results[\"馬体重(増減)\"].str.split('(',expand=True)[0].astype(int)\n",
    "  # results\n",
    "  results[\"体重変化\"] = results[\"馬体重(増減)\"].str.split('(',expand=True)[1].str[:-1].astype(int)\n",
    "  indexNames = results[results['体重変化'] == 'None' ].index\n",
    "  results.drop(indexNames , inplace=True)\n",
    "  results.drop([\"馬体重(増減)\",'性齢'],axis=1, inplace=True)\n",
    "  return results"
   ]
  },
  {
   "cell_type": "code",
   "execution_count": null,
   "metadata": {},
   "outputs": [],
   "source": [
    "results = clean_race_data(results)"
   ]
  },
  {
   "cell_type": "code",
   "execution_count": null,
   "metadata": {},
   "outputs": [],
   "source": [
    "results.info()"
   ]
  },
  {
   "cell_type": "code",
   "execution_count": null,
   "metadata": {},
   "outputs": [],
   "source": [
    "print(results[\"着順\"].value_counts())\n",
    "print(results[\"枠\"].value_counts())\n",
    "print(results[\"馬名\"].value_counts())\n",
    "# print(results[\"性齢\"].value_counts())\n",
    "print(results[\"斤量\"].value_counts())\n",
    "print(results[\"騎手\"].value_counts())\n",
    "# print(results[\"着差\"].value_counts())\n",
    "print(results[\"人気\"].value_counts())\n",
    "# print(results[\"単勝オッズ\"].value_counts())\n",
    "# print(results[\"後3F\"].value_counts())\n",
    "# print(results[\"コーナー通過順\"].value_counts())\n",
    "# print(results[\"厩舎\"].value_counts())\n",
    "# print(results[\"馬体重(増減)\"].value_counts())"
   ]
  },
  {
   "cell_type": "code",
   "execution_count": null,
   "metadata": {},
   "outputs": [],
   "source": [
    "results.to_pickle('cleaned.pickle')"
   ]
  }
 ],
 "metadata": {
  "interpreter": {
   "hash": "17524995b3fb89f69a1eefd3d21017daf0e335c7df3994005e07ddeae9fe971e"
  },
  "kernelspec": {
   "display_name": "Python 3.9.10 ('venv39': venv)",
   "language": "python",
   "name": "python3"
  },
  "language_info": {
   "codemirror_mode": {
    "name": "ipython",
    "version": 3
   },
   "file_extension": ".py",
   "mimetype": "text/x-python",
   "name": "python",
   "nbconvert_exporter": "python",
   "pygments_lexer": "ipython3",
   "version": "3.9.10"
  },
  "orig_nbformat": 4
 },
 "nbformat": 4,
 "nbformat_minor": 2
}
