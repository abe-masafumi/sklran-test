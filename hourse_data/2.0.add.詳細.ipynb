{
 "cells": [
  {
   "cell_type": "markdown",
   "metadata": {},
   "source": [
    "## 3.日付データやその他情報を追加"
   ]
  },
  {
   "cell_type": "code",
   "execution_count": 11,
   "metadata": {},
   "outputs": [],
   "source": [
    "import pandas as pd\n",
    "import requests\n",
    "from bs4 import BeautifulSoup\n",
    "import pandas as pd\n",
    "import re\n",
    "import time\n",
    "from tqdm import tqdm"
   ]
  },
  {
   "cell_type": "markdown",
   "metadata": {},
   "source": [
    " データの読み込み"
   ]
  },
  {
   "cell_type": "code",
   "execution_count": 12,
   "metadata": {},
   "outputs": [
    {
     "data": {
      "text/plain": [
       "['202101010101',\n",
       " '202101010102',\n",
       " '202101010103',\n",
       " '202101010104',\n",
       " '202101010105',\n",
       " '202101010106',\n",
       " '202101010107',\n",
       " '202101010108',\n",
       " '202101010109',\n",
       " '202101010110',\n",
       " '202101010111',\n",
       " '202101010112',\n",
       " '202101010201',\n",
       " '202101010202',\n",
       " '202101010203',\n",
       " '202101010204',\n",
       " '202101010205',\n",
       " '202101010206',\n",
       " '202101010207',\n",
       " '202101010208',\n",
       " '202101010209',\n",
       " '202101010210',\n",
       " '202101010211',\n",
       " '202101010212',\n",
       " '202101020101',\n",
       " '202101020102',\n",
       " '202101020103',\n",
       " '202101020104',\n",
       " '202101020105',\n",
       " '202101020106',\n",
       " '202101020107',\n",
       " '202101020108',\n",
       " '202101020109',\n",
       " '202101020110',\n",
       " '202101020111',\n",
       " '202101020112',\n",
       " '202101020201',\n",
       " '202101020202',\n",
       " '202101020203',\n",
       " '202101020204',\n",
       " '202101020205',\n",
       " '202101020206',\n",
       " '202101020207',\n",
       " '202101020208',\n",
       " '202101020209',\n",
       " '202101020210',\n",
       " '202101020211',\n",
       " '202101020212',\n",
       " '202102010101',\n",
       " '202102010102',\n",
       " '202102010103',\n",
       " '202102010104',\n",
       " '202102010105',\n",
       " '202102010106',\n",
       " '202102010107',\n",
       " '202102010108',\n",
       " '202102010109',\n",
       " '202102010110',\n",
       " '202102010111',\n",
       " '202102010112',\n",
       " '202102010201',\n",
       " '202102010202',\n",
       " '202102010203',\n",
       " '202102010204',\n",
       " '202102010205',\n",
       " '202102010206',\n",
       " '202102010207',\n",
       " '202102010208',\n",
       " '202102010209',\n",
       " '202102010210',\n",
       " '202102010211',\n",
       " '202102010212',\n",
       " '202101010301',\n",
       " '202101010302',\n",
       " '202101010303',\n",
       " '202101010304',\n",
       " '202101010305',\n",
       " '202101010306',\n",
       " '202101010307',\n",
       " '202101010308',\n",
       " '202101010309',\n",
       " '202101010310',\n",
       " '202101010311',\n",
       " '202101010312',\n",
       " '202101020301',\n",
       " '202101020302',\n",
       " '202101020303',\n",
       " '202101020304',\n",
       " '202101020305',\n",
       " '202101020306',\n",
       " '202101020307',\n",
       " '202101020308',\n",
       " '202101020309',\n",
       " '202101020310',\n",
       " '202101020311',\n",
       " '202101020312',\n",
       " '202102010301',\n",
       " '202102010302',\n",
       " '202102010303',\n",
       " '202102010304',\n",
       " '202102010305',\n",
       " '202102010306',\n",
       " '202102010307',\n",
       " '202102010308',\n",
       " '202102010309',\n",
       " '202102010310',\n",
       " '202102010311',\n",
       " '202102010312']"
      ]
     },
     "execution_count": 12,
     "metadata": {},
     "output_type": "execute_result"
    }
   ],
   "source": [
    "pd.set_option('display.max_rows',5)\n",
    "pd.options.display.width = 500\n",
    "pd.options.display.column_space = 200\n",
    "\n",
    "df = pd.read_pickle('1.7.df.pickle')\n",
    "race_id_list = df.index.unique()\n",
    "str_id_list = list(map(str,race_id_list))\n",
    "str_id_list"
   ]
  },
  {
   "cell_type": "code",
   "execution_count": 13,
   "metadata": {},
   "outputs": [],
   "source": [
    "race_infos = {}\n",
    "def add_data(race_id_list):\n",
    "  for race_id in tqdm(race_id_list):\n",
    "    url = \"https://race.netkeiba.com/race/result.html?race_id=\" + race_id\n",
    "    html = requests.get(url)\n",
    "    html.encoding= \"EUC_JP\"\n",
    "    soup = BeautifulSoup(html.text, \"html.parser\")\n",
    "    time.sleep(1)\n",
    "  \n",
    "    日付 = soup.find(\"dd\",class_='Active')\n",
    "    日付 = 日付.find(\"a\").get_text()\n",
    "    レース情報 = soup.find(\"div\", class_=\"RaceList_Item02\") \n",
    "    # 距離 = レース情報.find(\"div\",class_=\"RaceData01\").find(\"span\").get_text()\n",
    "    # 馬場 = レース情報.find(\"div\",class_=\"RaceData01\").find(\"span\",class_=\"Item03\").get_text()\n",
    "    レース環境 = レース情報.find(\"div\",class_=\"RaceData01\").get_text()\n",
    "    info = re.findall(r\"\\w+\",レース環境)\n",
    "    info[0] = info[2][:1]\n",
    "    info[1] = info[2][1:]\n",
    "    info.pop(2)\n",
    "    info_dict = {}\n",
    "    # print(info)\n",
    "    info_dict[\"date\"] = f\"{race_id[:4]}年{日付[:-3]}\"\n",
    "\n",
    "    for text in info:\n",
    "      # print(text)\n",
    "      if text in [\"芝\",\"ダ\"]:\n",
    "        # print(\"芝付き\")\n",
    "        info_dict[\"race_type\"] = text\n",
    "      if \"障\" in text:\n",
    "        info_dict[\"race_type\"] = \"障害\"\n",
    "      if \"m\" in text:\n",
    "        # print(\"mつき\")\n",
    "        info_dict[\"course_ren\"] = re.findall(r\"\\d+\",text)[0]\n",
    "      if text in [\"雨\",\"小雨\",\"小雪\",\"雪\",\"晴\",\"曇\"]:\n",
    "        # print(\"天気\")\n",
    "        info_dict[\"weather\"] = text\n",
    "      # if \"年\" in text:\n",
    "      #   info_dict[\"data\"] = text\n",
    "      if text in [\"良\",\"不良\",\"重\",\"稍\",\"不\"]:\n",
    "        # print(\"馬場\")\n",
    "        info_dict[\"ground_state\"] = text\n",
    "\n",
    "\n",
    "    race_infos[race_id] = info_dict\n",
    "  return race_infos"
   ]
  },
  {
   "cell_type": "code",
   "execution_count": 14,
   "metadata": {},
   "outputs": [
    {
     "name": "stderr",
     "output_type": "stream",
     "text": [
      "100%|██████████| 108/108 [02:23<00:00,  1.33s/it]\n"
     ]
    }
   ],
   "source": [
    "results = add_data(str_id_list)"
   ]
  },
  {
   "cell_type": "markdown",
   "metadata": {},
   "source": [
    "----"
   ]
  },
  {
   "cell_type": "markdown",
   "metadata": {},
   "source": [
    "## 4.dataの形を成形して元のデータと結合"
   ]
  },
  {
   "cell_type": "code",
   "execution_count": 15,
   "metadata": {},
   "outputs": [],
   "source": [
    "race_infos_df = pd.DataFrame(results).T"
   ]
  },
  {
   "cell_type": "markdown",
   "metadata": {},
   "source": [
    "結合するdataframeの形が一致しないと結合できないので注意"
   ]
  },
  {
   "cell_type": "code",
   "execution_count": 16,
   "metadata": {},
   "outputs": [],
   "source": [
    "df.index = df.index.astype(str)"
   ]
  },
  {
   "cell_type": "code",
   "execution_count": 17,
   "metadata": {},
   "outputs": [],
   "source": [
    "race_infos_df.index = race_infos_df.index.astype(str)"
   ]
  },
  {
   "cell_type": "markdown",
   "metadata": {},
   "source": [
    "strに変わったか確認"
   ]
  },
  {
   "cell_type": "code",
   "execution_count": 18,
   "metadata": {},
   "outputs": [
    {
     "data": {
      "text/plain": [
       "str"
      ]
     },
     "execution_count": 18,
     "metadata": {},
     "output_type": "execute_result"
    }
   ],
   "source": [
    "type(df.index[0])"
   ]
  },
  {
   "cell_type": "code",
   "execution_count": 19,
   "metadata": {},
   "outputs": [],
   "source": [
    "pd.set_option('display.max_rows',None)\n",
    "\n",
    "inner_df = df.merge(race_infos_df,left_index=True,right_index=True,how=\"inner\")\n",
    "# inner_df = pd.merge(df, race_infos_df, left_index=True,right_index=True, how=\"inner\")\n",
    "# print(type(inner_df))\n",
    "# print(len(inner_df))\n",
    "# inner_df"
   ]
  },
  {
   "cell_type": "markdown",
   "metadata": {},
   "source": [
    "----"
   ]
  },
  {
   "cell_type": "code",
   "execution_count": 20,
   "metadata": {},
   "outputs": [],
   "source": [
    "inner_df.to_pickle(\"2.2.add.日付_df.pickle\")"
   ]
  }
 ],
 "metadata": {
  "interpreter": {
   "hash": "17524995b3fb89f69a1eefd3d21017daf0e335c7df3994005e07ddeae9fe971e"
  },
  "kernelspec": {
   "display_name": "Python 3.9.10 ('venv39': venv)",
   "language": "python",
   "name": "python3"
  },
  "language_info": {
   "codemirror_mode": {
    "name": "ipython",
    "version": 3
   },
   "file_extension": ".py",
   "mimetype": "text/x-python",
   "name": "python",
   "nbconvert_exporter": "python",
   "pygments_lexer": "ipython3",
   "version": "3.9.10"
  },
  "orig_nbformat": 4
 },
 "nbformat": 4,
 "nbformat_minor": 2
}
