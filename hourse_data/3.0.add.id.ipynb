{
 "cells": [
  {
   "cell_type": "markdown",
   "metadata": {},
   "source": [
    "## 5.horseIDとjockeyIDの取得"
   ]
  },
  {
   "cell_type": "code",
   "execution_count": null,
   "metadata": {},
   "outputs": [],
   "source": [
    "import pandas as pd\n",
    "import requests\n",
    "from bs4 import BeautifulSoup\n",
    "import pandas as pd\n",
    "import re\n",
    "import time\n",
    "from tqdm import tqdm\n",
    "import functions\n",
    "import numpy as np\n",
    "import importlib\n",
    "\n",
    "pd.options.display.max_rows = 5\n",
    "pd.options.display.max_columns = 100\n",
    "pd.options.display.max_colwidth = 30"
   ]
  },
  {
   "cell_type": "code",
   "execution_count": null,
   "metadata": {},
   "outputs": [],
   "source": [
    "\n",
    "df = pd.read_pickle('2.2.add.日付_df.pickle')\n",
    "race_id_list = df.index.unique()\n",
    "print(type(race_id_list[0]))\n",
    "# race_id_list = [\"202101010101\",\"202101010102\"]\n",
    "race_id_list\n",
    "# df"
   ]
  },
  {
   "cell_type": "code",
   "execution_count": null,
   "metadata": {},
   "outputs": [],
   "source": [
    "test = {}\n",
    "def scrape_race_results(race_id_lists,par_race_results={}):\n",
    "  race_results = par_race_results\n",
    "  for _race_id in tqdm(race_id_lists):\n",
    "    # if _race_id in race_result.keys():\n",
    "    #   continue\n",
    "    time.sleep(1)\n",
    "    try:\n",
    "      # スクレイピング\n",
    "      url = \"https://race.netkeiba.com/race/result.html?race_id=\" + _race_id\n",
    "      html = requests.get(url)\n",
    "      html.encoding= \"EUC_JP\"\n",
    "      soup = BeautifulSoup(html.text, \"html.parser\")\n",
    "      \n",
    "      # horse_id\n",
    "      horse_id_list = []      \n",
    "      horse_a_list = soup.find('table',attrs={\"summary\":\"全着順\"}).find_all('a',attrs={\"href\":re.compile(\"/horse/\")})\n",
    "      for a in horse_a_list:\n",
    "        horse_id = re.findall(r'\\d+',a[\"href\"])\n",
    "        horse_id_list.append(horse_id[0])\n",
    "      Series1 = pd.Series(data = horse_id_list,dtype=str,name=\"horse_id\")\n",
    "      # jockey_id\n",
    "      jockey_id_list = []\n",
    "      jockey_a_list = soup.find('table',attrs={\"summary\":\"全着順\"}).find_all('a',attrs={\"href\":re.compile(\"/jockey/\")})\n",
    "      for u in jockey_a_list:\n",
    "        jockey_id = re.findall(r'\\d+',u[\"href\"])\n",
    "        jockey_id_list.append(jockey_id[0])\n",
    "      Series2 = pd.Series(data = jockey_id_list,dtype=str,name=\"jockey_id\")\n",
    "      \n",
    "      results = pd.concat([Series1, Series2], axis=1)\n",
    "      test[_race_id] = results\n",
    "      \n",
    "    except UnicodeDecodeError as e:\n",
    "      # print(e)\n",
    "      print(f\"レースID: {_race_id} のデータはありません\")\n",
    "      continue\n",
    "    except KeyboardInterrupt:\n",
    "      break\n",
    "    except TimeoutError:\n",
    "      break\n",
    "  return test"
   ]
  },
  {
   "cell_type": "code",
   "execution_count": null,
   "metadata": {},
   "outputs": [],
   "source": [
    "results_new = scrape_race_results(race_id_list)\n",
    "results_new"
   ]
  },
  {
   "cell_type": "markdown",
   "metadata": {},
   "source": [
    "----"
   ]
  },
  {
   "cell_type": "markdown",
   "metadata": {},
   "source": [
    "## 6.取得したデータを成形して元のデータと結合"
   ]
  },
  {
   "cell_type": "code",
   "execution_count": null,
   "metadata": {},
   "outputs": [],
   "source": [
    "for key in results_new.keys():\n",
    "  results_new[key].index = [key] * len(results_new[key])\n",
    "print(results_new)\n",
    "results = pd.concat([results_new[key] for key in results_new.keys()],sort=False)\n",
    "# results"
   ]
  },
  {
   "cell_type": "code",
   "execution_count": null,
   "metadata": {},
   "outputs": [],
   "source": [
    "print(type(results))\n",
    "print(len(results))\n",
    "print(type(df))\n",
    "print(len(df))"
   ]
  },
  {
   "cell_type": "code",
   "execution_count": null,
   "metadata": {},
   "outputs": [],
   "source": [
    "# pd.set_option('display.max_rows',None)\n",
    "\n",
    "df_add_id = pd.concat([df,results],axis=1)"
   ]
  },
  {
   "cell_type": "code",
   "execution_count": null,
   "metadata": {},
   "outputs": [],
   "source": [
    "# df_add_id.to_pickle(\"df_add_id.pickle\")"
   ]
  },
  {
   "cell_type": "markdown",
   "metadata": {},
   "source": [
    "----\n",
    "\n",
    "## 7.idのリストを作成"
   ]
  },
  {
   "cell_type": "code",
   "execution_count": null,
   "metadata": {},
   "outputs": [],
   "source": [
    "horse_id_list = df_add_id[\"horse_id\"].unique()\n",
    "len(horse_id_list)\n",
    "# horse_id_list = horse_id_list[:50]\n",
    "# horse_id_list = ['2018105875',\"2018102192\"]"
   ]
  },
  {
   "cell_type": "code",
   "execution_count": null,
   "metadata": {},
   "outputs": [],
   "source": [
    "# url = \"https://db.netkeiba.com/horse/2019109094\"\n",
    "# url = \"https://db.netkeiba.com/horse/2018102444\"\n",
    "# time.sleep(1)\n",
    "# pd.read_html(url,match='日付')"
   ]
  },
  {
   "cell_type": "code",
   "execution_count": null,
   "metadata": {},
   "outputs": [],
   "source": [
    "test = {}\n",
    "def scrape_horse_results(horse_id_list,par_horse_results={}):\n",
    "  horse_results = par_horse_results\n",
    "  for _horse_id in tqdm(horse_id_list):\n",
    "    # if _horse_id in horse_id_list.keys():\n",
    "    #   continue\n",
    "    time.sleep(1)\n",
    "    try:\n",
    "      # スクレイピング\n",
    "      url = \"https://db.netkeiba.com/horse/\" + _horse_id\n",
    "      time.sleep(1)\n",
    "      # [0]をつけてリストの中だけを取得\n",
    "      horse_results[_horse_id] = pd.read_html(url,match='日付',encoding='EUC-JP')[0]\n",
    "    except UnicodeDecodeError as e:\n",
    "      # print(e)\n",
    "      # print(f\"レースID: {race_id} のデータはありません\")\n",
    "      continue\n",
    "    except KeyboardInterrupt:\n",
    "      break\n",
    "        \n",
    "    except TimeoutError:\n",
    "      break\n",
    "    # print(horse_results)\n",
    "      \n",
    "  return horse_results"
   ]
  },
  {
   "cell_type": "code",
   "execution_count": null,
   "metadata": {},
   "outputs": [],
   "source": [
    "horse_results = scrape_horse_results(horse_id_list)"
   ]
  },
  {
   "cell_type": "code",
   "execution_count": null,
   "metadata": {},
   "outputs": [],
   "source": [
    "horse_results"
   ]
  },
  {
   "cell_type": "markdown",
   "metadata": {},
   "source": [
    "----\n",
    "\n",
    "## 取得したデータを成形"
   ]
  },
  {
   "cell_type": "code",
   "execution_count": null,
   "metadata": {},
   "outputs": [],
   "source": [
    "for key in horse_results.keys():\n",
    "  horse_results[key].index = [key] * len(horse_results[key])\n",
    "results = pd.concat([horse_results[key] for key in horse_results.keys()],sort=False)"
   ]
  },
  {
   "cell_type": "code",
   "execution_count": null,
   "metadata": {},
   "outputs": [],
   "source": [
    "# pd.options.display.max_rows = None\n",
    "\n",
    "results"
   ]
  },
  {
   "cell_type": "code",
   "execution_count": null,
   "metadata": {},
   "outputs": [],
   "source": [
    "# results.to_csv(\"3.2.horse_vs_data.csv\")"
   ]
  },
  {
   "cell_type": "code",
   "execution_count": null,
   "metadata": {},
   "outputs": [],
   "source": [
    "# time.sleep(2)\n",
    "# df = pd.read_csv(\"3.2.horse_vs_data.csv\")"
   ]
  },
  {
   "cell_type": "code",
   "execution_count": null,
   "metadata": {},
   "outputs": [],
   "source": [
    "# print(df.columns)\n",
    "# df = df.iloc[:,:29]\n",
    "# print(df.columns)"
   ]
  },
  {
   "cell_type": "markdown",
   "metadata": {},
   "source": [
    "----\n",
    "\n",
    "## データの自動成形"
   ]
  },
  {
   "cell_type": "code",
   "execution_count": null,
   "metadata": {},
   "outputs": [],
   "source": [
    "importlib.reload(functions)\n",
    "# arr = [6,7,184,340,341,722,813,814]\n",
    "arr = [\n",
    "       40,492,1198,1199,1761,1762,2115,2116,2117,\n",
    "       1944,1945,2305,2306,2450,2451,2485,2498,2499,\n",
    "       2560,2588,2589,2590,2591,2592,2680,2681,2682,\n",
    "       2683,2684,2685,2686,2687,2688,2689,3215,3216,\n",
    "       3842,3843,4404,4482,4621,4622,4623,4624,4625,\n",
    "       4626,5090,5091,5092,5597,5598,5790,5791,5792,\n",
    "       5793,5794,5795,5796,5797,5798,5799,5800,5801,\n",
    "       5827,5828,5895,6026,6027,6028,6472,6473,6474,\n",
    "       6569,7510,7511,7512,7513,7514,7515,7516,7517,\n",
    "       7518,7519,7520,7521,7523,7524,7525,7526,\n",
    "       7527,7528,7529,7530,7531,7532,7533,7534,7535,\n",
    "       7536,7537,7538,7539,7540,7541,7542,7543,7544,\n",
    "       7545,7546,7755,7812,7850,7851,8185,8316,8317,\n",
    "       8410,8573,8574,8676,8677,8704,8705,8784,9638,\n",
    "       9740,9741,9944,9945,9946,9947,9948,9949,9950,\n",
    "       9951,9952,9953,9981,9982,10053,10054,10055,\n",
    "       10056,10057,10058,10059,10060,10061,10062,\n",
    "       10063,10064,10065,10066,10068,10107,10216,\n",
    "       10217,10331,10332,10760,10972,10973,11023,\n",
    "       11024,11105,11106,11141,11142,11149,11150\n",
    "       ]\n",
    "clean_index = list(map(lambda x: x-1,arr))\n",
    "# l,l_length,columns_len = Molding(clean_index,\"3.2.horse_vs_data.csv\")\n",
    "\n",
    "l,l_length,columns_len,おかしいリスト = functions.Molding_new(clean_index,\"3.2.horse_vs_data.csv\")\n",
    "おかしいリスト"
   ]
  },
  {
   "cell_type": "code",
   "execution_count": null,
   "metadata": {},
   "outputs": [],
   "source": [
    "print(f\"全体のlen{l_length}\")\n",
    "print(f\"カラムのlen{columns_len}\")"
   ]
  },
  {
   "cell_type": "code",
   "execution_count": null,
   "metadata": {},
   "outputs": [],
   "source": [
    "\n",
    "add = np.array(l[1:]).reshape(l_length-1,columns_len)\n"
   ]
  },
  {
   "cell_type": "code",
   "execution_count": null,
   "metadata": {},
   "outputs": [],
   "source": [
    "df_add = pd.DataFrame(add, columns=l[0])\n",
    "# print(df_add)"
   ]
  },
  {
   "cell_type": "code",
   "execution_count": null,
   "metadata": {},
   "outputs": [],
   "source": [
    "df_add.to_csv('3.3.horse_vs_data.csv\"',index=False)\n"
   ]
  },
  {
   "cell_type": "code",
   "execution_count": null,
   "metadata": {},
   "outputs": [],
   "source": [
    "# print(df[\"日付\"].value_counts())\n",
    "# print(df[\"開催\"].value_counts())\n",
    "# print(df[\"天気\"].value_counts())\n",
    "# print(df[\"R\"].value_counts())\n",
    "# print(df[\"レース名\"].value_counts())\n",
    "# print(df[\"映像\"].value_counts())\n",
    "# print(df[\"頭数\"].value_counts())\n",
    "# print(df[\"枠番\"].value_counts())\n",
    "# print(df[\"馬番\"].value_counts())\n",
    "# print(df[\"オッズ\"].value_counts())\n",
    "# print(df[\"人気\"].value_counts())\n",
    "# print(df[\"着順\"].value_counts())\n",
    "# print(df[\"騎手\"].value_counts())\n",
    "# print(df[\"斤量\"].value_counts())"
   ]
  }
 ],
 "metadata": {
  "interpreter": {
   "hash": "17524995b3fb89f69a1eefd3d21017daf0e335c7df3994005e07ddeae9fe971e"
  },
  "kernelspec": {
   "display_name": "Python 3.9.10 ('venv39': venv)",
   "language": "python",
   "name": "python3"
  },
  "language_info": {
   "codemirror_mode": {
    "name": "ipython",
    "version": 3
   },
   "file_extension": ".py",
   "mimetype": "text/x-python",
   "name": "python",
   "nbconvert_exporter": "python",
   "pygments_lexer": "ipython3",
   "version": "3.9.10"
  },
  "orig_nbformat": 4
 },
 "nbformat": 4,
 "nbformat_minor": 2
}
