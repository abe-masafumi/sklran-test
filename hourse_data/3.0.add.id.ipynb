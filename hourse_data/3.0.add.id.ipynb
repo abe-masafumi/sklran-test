{
 "cells": [
  {
   "cell_type": "markdown",
   "metadata": {},
   "source": [
    "## 5.horseIDとjockeyIDの取得"
   ]
  },
  {
   "cell_type": "code",
   "execution_count": 37,
   "metadata": {},
   "outputs": [],
   "source": [
    "import pandas as pd\n",
    "import requests\n",
    "from bs4 import BeautifulSoup\n",
    "import pandas as pd\n",
    "import re\n",
    "import time\n",
    "from tqdm import tqdm\n",
    "import functions\n",
    "import numpy as np\n",
    "import importlib\n",
    "\n",
    "pd.options.display.max_rows = 5\n",
    "pd.options.display.max_columns = 100\n",
    "pd.options.display.max_colwidth = 30"
   ]
  },
  {
   "cell_type": "code",
   "execution_count": null,
   "metadata": {},
   "outputs": [],
   "source": [
    "\n",
    "df = pd.read_csv('2.2.add.日付_df.csv')\n",
    "race_id_list = df.index.unique()\n",
    "# indexをstr型に変換\n",
    "print(type(race_id_list[0]))\n",
    "# race_id_list = [\"2018106086\",\"2018102272\",\"2018102229\",\"2017105400\",\"2018101729\",\"2015105960\"]\n",
    "race_id_list = map(str,race_id_list)\n",
    "# df"
   ]
  },
  {
   "cell_type": "code",
   "execution_count": null,
   "metadata": {},
   "outputs": [],
   "source": [
    "test = {}\n",
    "def scrape_race_results(race_id_lists,par_race_results={}):\n",
    "  race_results = par_race_results\n",
    "  for _race_id in tqdm(race_id_lists):\n",
    "    # if _race_id in race_result.keys():\n",
    "    #   continue\n",
    "    time.sleep(1)\n",
    "    try:\n",
    "      # スクレイピング\n",
    "      url = \"https://race.netkeiba.com/race/result.html?race_id=\" + _race_id\n",
    "      html = requests.get(url)\n",
    "      html.encoding= \"EUC_JP\"\n",
    "      soup = BeautifulSoup(html.text, \"html.parser\")\n",
    "      \n",
    "      # horse_id\n",
    "      horse_id_list = []      \n",
    "      horse_a_list = soup.find('table',attrs={\"summary\":\"全着順\"}).find_all('a',attrs={\"href\":re.compile(\"/horse/\")})\n",
    "      for a in horse_a_list:\n",
    "        horse_id = re.findall(r'\\d+',a[\"href\"])\n",
    "        horse_id_list.append(horse_id[0])\n",
    "      Series1 = pd.Series(data = horse_id_list,dtype=str,name=\"horse_id\")\n",
    "      # jockey_id\n",
    "      jockey_id_list = []\n",
    "      jockey_a_list = soup.find('table',attrs={\"summary\":\"全着順\"}).find_all('a',attrs={\"href\":re.compile(\"/jockey/\")})\n",
    "      for u in jockey_a_list:\n",
    "        jockey_id = re.findall(r'\\d+',u[\"href\"])\n",
    "        jockey_id_list.append(jockey_id[0])\n",
    "      Series2 = pd.Series(data = jockey_id_list,dtype=str,name=\"jockey_id\")\n",
    "      \n",
    "      results = pd.concat([Series1, Series2], axis=1)\n",
    "      test[_race_id] = results\n",
    "      \n",
    "    except UnicodeDecodeError as e:\n",
    "      # print(e)\n",
    "      print(f\"レースID: {_race_id} のデータはありません\")\n",
    "      continue\n",
    "    except KeyboardInterrupt:\n",
    "      break\n",
    "    except TimeoutError:\n",
    "      break\n",
    "  return test"
   ]
  },
  {
   "cell_type": "code",
   "execution_count": null,
   "metadata": {},
   "outputs": [],
   "source": [
    "results_new = scrape_race_results(race_id_list)\n",
    "# results_new"
   ]
  },
  {
   "cell_type": "markdown",
   "metadata": {},
   "source": [
    "----"
   ]
  },
  {
   "cell_type": "markdown",
   "metadata": {},
   "source": [
    "## 6.取得したデータを成形して元のデータと結合"
   ]
  },
  {
   "cell_type": "code",
   "execution_count": null,
   "metadata": {},
   "outputs": [],
   "source": [
    "for key in results_new.keys():\n",
    "  results_new[key].index = [key] * len(results_new[key])\n",
    "print(results_new)\n",
    "results = pd.concat([results_new[key] for key in results_new.keys()],sort=False)\n",
    "results"
   ]
  },
  {
   "cell_type": "code",
   "execution_count": null,
   "metadata": {},
   "outputs": [],
   "source": [
    "print(type(results))\n",
    "print(len(results))\n",
    "# results.index = results.index.astype(str)\n",
    "print(type(results.index[0]))\n",
    "print(type(df))\n",
    "print(len(df))\n",
    "df.index = df.index.astype(str)\n",
    "print(type(df.index[0]))\n"
   ]
  },
  {
   "cell_type": "code",
   "execution_count": null,
   "metadata": {},
   "outputs": [],
   "source": [
    "# pd.set_option('display.max_rows',None)\n",
    "\n",
    "df_add_id = pd.concat([df,results],axis=1)"
   ]
  },
  {
   "cell_type": "code",
   "execution_count": null,
   "metadata": {},
   "outputs": [],
   "source": [
    "# df_add_id.to_csv(\"3.1.df_add_id.csv\")"
   ]
  },
  {
   "cell_type": "markdown",
   "metadata": {},
   "source": [
    "----\n",
    "\n",
    "## 7.idのリストを作成"
   ]
  },
  {
   "cell_type": "code",
   "execution_count": 38,
   "metadata": {},
   "outputs": [],
   "source": [
    "horse_id_list = df_add_id[\"horse_id\"].unique()\n",
    "len(horse_id_list)\n",
    "# horse_id_list = horse_id_list[:50]\n",
    "horse_id_list = [\"2018106086\",\"2018102272\",\"2018102229\",\"2017105400\",\"2018101729\",\"2015105960\"]"
   ]
  },
  {
   "cell_type": "code",
   "execution_count": null,
   "metadata": {},
   "outputs": [],
   "source": [
    "# url = \"https://db.netkeiba.com/horse/2019109094\"\n",
    "# url = \"https://db.netkeiba.com/horse/2018102444\"\n",
    "# time.sleep(1)\n",
    "# pd.read_html(url,match='日付')"
   ]
  },
  {
   "cell_type": "code",
   "execution_count": 39,
   "metadata": {},
   "outputs": [],
   "source": [
    "test = {}\n",
    "def scrape_horse_results(horse_id_list,par_horse_results={}):\n",
    "  horse_results = par_horse_results\n",
    "  for _horse_id in tqdm(horse_id_list):\n",
    "    # if _horse_id in horse_id_list.keys():\n",
    "    #   continue\n",
    "    time.sleep(1)\n",
    "    try:\n",
    "      # スクレイピング\n",
    "      url = \"https://db.netkeiba.com/horse/\" + _horse_id\n",
    "      time.sleep(1)\n",
    "      # [0]をつけてリストの中だけを取得\n",
    "      horse_results[_horse_id] = pd.read_html(url,match='日付',encoding='EUC-JP')[0]\n",
    "    except UnicodeDecodeError as e:\n",
    "      # print(e)\n",
    "      # print(f\"レースID: {race_id} のデータはありません\")\n",
    "      continue\n",
    "    except KeyboardInterrupt:\n",
    "      break\n",
    "        \n",
    "    except TimeoutError:\n",
    "      break\n",
    "    # print(horse_results)\n",
    "      \n",
    "  return horse_results"
   ]
  },
  {
   "cell_type": "code",
   "execution_count": 40,
   "metadata": {},
   "outputs": [
    {
     "name": "stderr",
     "output_type": "stream",
     "text": [
      " 83%|████████▎ | 5/6 [00:12<00:02,  2.38s/it]/Users/masa/Desktop/scikit-learn-test/venv39/lib/python3.9/site-packages/bs4/__init__.py:223: UserWarning: You provided Unicode markup but also provided a value for from_encoding. Your from_encoding will be ignored.\n",
      "  warnings.warn(\"You provided Unicode markup but also provided a value for from_encoding. Your from_encoding will be ignored.\")\n",
      "100%|██████████| 6/6 [00:15<00:00,  2.50s/it]\n"
     ]
    }
   ],
   "source": [
    "horse_results = scrape_horse_results(horse_id_list)"
   ]
  },
  {
   "cell_type": "code",
   "execution_count": 41,
   "metadata": {},
   "outputs": [
    {
     "data": {
      "text/plain": [
       "{'2018106086':             日付    開催 天気  R    レース名  映像  頭数  枠番  馬番   オッズ   人気    着順    騎手  斤量  \\\n",
       " 0   2022/04/04    川崎  雨  8  C2一　二三 NaN  13   5   7  10.3  4.0     2   笹川翼  56   \n",
       " 1   2022/03/16    浦和  曇  8   C2六　七 NaN   9   4   4   8.6  5.0     1   笹川翼  56   \n",
       " ..         ...   ... .. ..     ...  ..  ..  ..  ..   ...  ...   ...   ...  ..   \n",
       " 14  2020/12/12  6阪神3  晴  3   2歳未勝利 NaN  12   2   2   4.4  2.0     5  福永祐一  55   \n",
       " 15  2020/11/21  5阪神5  晴  6    2歳新馬 NaN  15   8  16  23.6  7.0  3(降)  鮫島克駿  55   \n",
       " \n",
       "        距離 馬場 馬場指数     タイム   着差 ﾀｲﾑ指数       通過        ペース    上り      馬体重  \\\n",
       " 0   ダ1600  不   **  1:46.0  0.4    **  4-6-2-2  37.6-41.3  41.5  539(-2)   \n",
       " 1   ダ1400  良   **  1:30.0 -0.3    **  2-2-2-1  37.5-39.4  39.2  541(-3)   \n",
       " ..    ... ..  ...     ...  ...   ...      ...        ...   ...      ...   \n",
       " 14  ダ1200  良   **  1:14.1  0.8    **      4-4  35.4-37.9  38.4   532(0)   \n",
       " 15  ダ1200  良   **  1:14.1  0.1    **      1-1  35.7-38.3  38.4   532(0)   \n",
       " \n",
       "     厩舎ｺﾒﾝﾄ  備考   勝ち馬(2着馬)     賞金  \n",
       " 0      NaN NaN  ゲストプリンシパル   40.0  \n",
       " 1      NaN NaN  (プリトヴィツェ)  100.0  \n",
       " ..     ...  ..        ...    ...  \n",
       " 14     NaN NaN  メイショウデージー   51.0  \n",
       " 15     NaN NaN    ルシャリーブル  180.0  \n",
       " \n",
       " [16 rows x 28 columns],\n",
       " '2018102272':             日付    開催 天気  R     レース名  映像  頭数  枠番  馬番   オッズ   人気   着順    騎手  斤量  \\\n",
       " 0   2022/04/14    笠松  曇  4      花嵐賞 NaN   5   3   3   4.4  2.0  3.0  藤原幹生  56   \n",
       " 1   2022/03/28    笠松  曇  5  サラ系C20組 NaN   8   8   8   1.8  1.0  1.0  藤原幹生  56   \n",
       " ..         ...   ... .. ..      ...  ..  ..  ..  ..   ...  ...  ...   ...  ..   \n",
       " 17  2020/11/08  5阪神2  晴  3    2歳未勝利 NaN  11   2   2  22.1  7.0  7.0  古川吉洋  55   \n",
       " 18  2020/10/25  4京都6  晴  5     2歳新馬 NaN  18   8  17  14.9  4.0  7.0  古川吉洋  55   \n",
       " \n",
       "        距離 馬場 馬場指数     タイム   着差 ﾀｲﾑ指数       通過        ペース    上り      馬体重  \\\n",
       " 0   ダ1400  良   **  1:33.4  0.4    **    2-2-1   0.0-40.2  40.4  458(-2)   \n",
       " 1   ダ1400  良   **  1:33.7 -0.9    **    3-3-2   0.0-41.2  40.9  460(-2)   \n",
       " ..    ... ..  ...     ...  ...   ...      ...        ...   ...      ...   \n",
       " 17  芝2000  良   **  2:03.1  1.0    **  2-3-3-4  37.2-35.4  36.1  470(+2)   \n",
       " 18  芝1800  良   **  1:51.5  1.6    **     12-9  36.2-35.0  35.9   468(0)   \n",
       " \n",
       "     厩舎ｺﾒﾝﾄ  備考    勝ち馬(2着馬)    賞金  \n",
       " 0      NaN NaN     ダンディゴッホ   5.1  \n",
       " 1      NaN NaN  (サンマルジョオー)  27.0  \n",
       " ..     ...  ..         ...   ...  \n",
       " 17     NaN NaN     ディクテイター   NaN  \n",
       " 18     NaN NaN     シャフリヤール   NaN  \n",
       " \n",
       " [19 rows x 28 columns],\n",
       " '2018102229':             日付     開催 天気  R       レース名  映像  頭数  枠番  馬番   オッズ  人気  着順    騎手  \\\n",
       " 0   2022/04/02   2阪神3  晴  7  4歳以上1勝クラス NaN  14   6   9  69.7  10   8   富田暁   \n",
       " 1   2022/03/20  1阪神12  曇  8  4歳以上1勝クラス NaN  16   2   4  63.7  14   7   富田暁   \n",
       " ..         ...    ... .. ..        ...  ..  ..  ..  ..   ...  ..  ..   ...   \n",
       " 13  2020/11/21   5阪神5  晴  1      2歳未勝利 NaN  13   8  12  14.0   6   6  藤岡康太   \n",
       " 14  2020/11/08   5阪神2  晴  4       2歳新馬 NaN  11   1   1  24.0   5   4  藤岡康太   \n",
       " \n",
       "     斤量     距離 馬場 馬場指数     タイム   着差 ﾀｲﾑ指数     通過        ペース    上り      馬体重  \\\n",
       " 0   55  ダ1200  良   **  1:13.2  0.3    **  13-13  36.4-36.5  35.4   460(0)   \n",
       " 1   55  ダ1200  重   **  1:12.9  0.8    **  15-15  35.2-36.9  36.4   460(0)   \n",
       " ..  ..    ... ..  ...     ...  ...   ...    ...        ...   ...      ...   \n",
       " 13  54  ダ1400  良   **  1:27.5  1.0    **    3-3  35.8-38.1  38.8  460(-4)   \n",
       " 14  54  ダ1200  良   **  1:13.9  1.1    **    9-7  35.5-37.3  37.2   464(0)   \n",
       " \n",
       "     厩舎ｺﾒﾝﾄ  備考  勝ち馬(2着馬)     賞金  \n",
       " 0      NaN NaN   ロードサージュ    NaN  \n",
       " 1      NaN NaN   ミスズメジャー    NaN  \n",
       " ..     ...  ..       ...    ...  \n",
       " 13     NaN NaN   サウンドパドマ    NaN  \n",
       " 14     NaN NaN  ワイズマンハート  110.0  \n",
       " \n",
       " [15 rows x 28 columns],\n",
       " '2017105400':             日付    開催 天気   R              レース名  映像  頭数  枠番  馬番    オッズ  人気  着順  \\\n",
       " 0   2022/04/03  2阪神4  曇  12       なにわS(3勝クラス) NaN  16   4   8   69.7  14  13   \n",
       " 1   2022/02/27  2中山2  晴  10  ブラッドストーンS(3勝クラス) NaN  16   4   8   61.8  13  15   \n",
       " ..         ...   ... ..  ..               ...  ..  ..  ..  ..    ...  ..  ..   \n",
       " 22  2019/09/07  4中山1  晴   9      アスター賞(1勝クラス) NaN   9   8   9  122.2   8   6   \n",
       " 23  2019/07/28  2新潟2  曇   5              2歳新馬 NaN  15   1   1   16.7   4  11   \n",
       " \n",
       "       騎手  斤量     距離 馬場 馬場指数     タイム   着差 ﾀｲﾑ指数     通過        ペース    上り  \\\n",
       " 0   松若風馬  55  ダ1200  良   **  1:13.2  2.1    **  12-15  35.5-35.6  36.1   \n",
       " 1   丸山元気  53  ダ1200  良   **  1:12.5  1.4    **    2-2  33.0-38.1  39.4   \n",
       " ..   ...  ..    ... ..  ...     ...  ...   ...    ...        ...   ...   \n",
       " 22  田中勝春  54  芝1600  良   **  1:35.4  0.8    **  8-8-7  36.0-33.9  34.0   \n",
       " 23  田中勝春  54  芝1800  良   **  1:49.9  1.7    **    7-7  35.7-34.8  35.9   \n",
       " \n",
       "          馬体重  厩舎ｺﾒﾝﾄ  備考  勝ち馬(2着馬)  賞金  \n",
       " 0    484(-2)     NaN NaN      シャマル NaN  \n",
       " 1    486(+4)     NaN NaN  ハコダテブショウ NaN  \n",
       " ..       ...     ...  ..       ...  ..  \n",
       " 22  464(-12)     NaN NaN   サクセッション NaN  \n",
       " 23    476(0)     NaN NaN    ドナキアーロ NaN  \n",
       " \n",
       " [24 rows x 28 columns],\n",
       " '2018101729':             日付    開催  天気   R          レース名  映像  頭数  枠番  馬番    オッズ  人気  着順  \\\n",
       " 0   2021/10/31  5新潟8   晴   8     3歳以上1勝クラス NaN  14   6   9   20.9   8   7   \n",
       " 1   2021/10/09  5新潟1   晴  10  萬代橋特別(1勝クラス) NaN  13   5   6   16.8   7   8   \n",
       " ..         ...   ...  ..  ..           ...  ..  ..  ..  ..    ...  ..  ..   \n",
       " 14  2020/08/01  2新潟3   曇   2         2歳未勝利 NaN  17   5  10  368.1  16  11   \n",
       " 15  2020/07/04  2福島1  小雨   6          2歳新馬 NaN  16   7  13   60.3   9  13   \n",
       " \n",
       "      騎手  斤量     距離 馬場 馬場指数     タイム   着差 ﾀｲﾑ指数         通過        ペース    上り  \\\n",
       " 0   原優介  52  芝2000  良   **  2:01.1  0.8    **       12-8  36.2-35.5  34.9   \n",
       " 1   原優介  54  芝2400  良   **  2:27.3  0.8    **  10-10-7-6  35.7-35.3  35.6   \n",
       " ..  ...  ..    ... ..  ...     ...  ...   ...        ...        ...   ...   \n",
       " 14  吉田豊  54  芝1600  稍   **  1:35.9  1.8    **      14-16  35.3-33.7  34.4   \n",
       " 15  吉田豊  54  ダ1150  不   **  1:12.0  3.5    **      11-13  31.5-37.0  38.5   \n",
       " \n",
       "         馬体重  厩舎ｺﾒﾝﾄ  備考   勝ち馬(2着馬)  賞金  \n",
       " 0   458(+6)     NaN NaN       エシカル NaN  \n",
       " 1   452(+4)     NaN NaN  ブリングトゥライフ NaN  \n",
       " ..      ...     ...  ..        ...  ..  \n",
       " 14  442(+6)     NaN NaN    フォティノース NaN  \n",
       " 15   436(0)     NaN NaN  ミスズグランドオー NaN  \n",
       " \n",
       " [16 rows x 28 columns],\n",
       " '2015105960':             日付    開催 天気   R          レース名  映像  頭数  枠番  馬番   オッズ    人気 着順  \\\n",
       " 0   2022/02/13  2小倉2  曇  10  太宰府特別(2勝クラス) NaN  13   5   7  72.3  12.0  8   \n",
       " 1   2021/12/11  5中山3  晴  12     3歳以上2勝クラス NaN  10   2   2  90.9   9.0  6   \n",
       " ..         ...   ... ..  ..           ...  ..  ..  ..  ..   ...   ... ..   \n",
       " 42  2017/10/29  4東京9  雨   3         2歳未勝利 NaN  13   3   3  15.1   6.0  4   \n",
       " 43  2017/09/30  4中山8  曇   5          2歳新馬 NaN  15   7  12  71.7  10.0  3   \n",
       " \n",
       "       騎手  斤量     距離 馬場 馬場指数     タイム   着差 ﾀｲﾑ指数         通過        ペース    上り  \\\n",
       " 0   川又賢治  55  芝1800  稍   **  1:50.0  0.7    **    3-3-3-3  36.5-36.4  36.8   \n",
       " 1   永野猛蔵  52  芝2000  良   **  2:00.5  0.5    **  9-10-10-8  35.8-35.4  34.7   \n",
       " ..   ...  ..    ... ..  ...     ...  ...   ...        ...        ...   ...   \n",
       " 42  シュミノ  54  芝1600  不   **  1:39.7  0.6    **        3-4  36.9-36.8  36.8   \n",
       " 43   石橋脩  54  芝1600  良   **  1:37.2  0.1    **      3-3-2  36.9-34.6  34.6   \n",
       " \n",
       "         馬体重  厩舎ｺﾒﾝﾄ  備考  勝ち馬(2着馬)     賞金  \n",
       " 0   452(+8)     NaN NaN    ソニックベガ    NaN  \n",
       " 1   444(-8)     NaN NaN    ストゥーティ    NaN  \n",
       " ..      ...     ...  ..       ...    ...  \n",
       " 42  436(+2)     NaN NaN    ミカリーニョ   75.0  \n",
       " 43   434(0)     NaN NaN  デュッセルドルフ  180.0  \n",
       " \n",
       " [44 rows x 28 columns]}"
      ]
     },
     "execution_count": 41,
     "metadata": {},
     "output_type": "execute_result"
    }
   ],
   "source": [
    "horse_results"
   ]
  },
  {
   "cell_type": "markdown",
   "metadata": {},
   "source": [
    "----\n",
    "\n",
    "## 取得したデータを成形"
   ]
  },
  {
   "cell_type": "code",
   "execution_count": 42,
   "metadata": {},
   "outputs": [],
   "source": [
    "for key in horse_results.keys():\n",
    "  horse_results[key].index = [key] * len(horse_results[key])\n",
    "results = pd.concat([horse_results[key] for key in horse_results.keys()],sort=False)"
   ]
  },
  {
   "cell_type": "code",
   "execution_count": 43,
   "metadata": {},
   "outputs": [
    {
     "data": {
      "text/html": [
       "<div>\n",
       "<style scoped>\n",
       "    .dataframe tbody tr th:only-of-type {\n",
       "        vertical-align: middle;\n",
       "    }\n",
       "\n",
       "    .dataframe tbody tr th {\n",
       "        vertical-align: top;\n",
       "    }\n",
       "\n",
       "    .dataframe thead th {\n",
       "        text-align: right;\n",
       "    }\n",
       "</style>\n",
       "<table border=\"1\" class=\"dataframe\">\n",
       "  <thead>\n",
       "    <tr style=\"text-align: right;\">\n",
       "      <th></th>\n",
       "      <th>日付</th>\n",
       "      <th>開催</th>\n",
       "      <th>天気</th>\n",
       "      <th>R</th>\n",
       "      <th>レース名</th>\n",
       "      <th>映像</th>\n",
       "      <th>頭数</th>\n",
       "      <th>枠番</th>\n",
       "      <th>馬番</th>\n",
       "      <th>オッズ</th>\n",
       "      <th>人気</th>\n",
       "      <th>着順</th>\n",
       "      <th>騎手</th>\n",
       "      <th>斤量</th>\n",
       "      <th>距離</th>\n",
       "      <th>馬場</th>\n",
       "      <th>馬場指数</th>\n",
       "      <th>タイム</th>\n",
       "      <th>着差</th>\n",
       "      <th>ﾀｲﾑ指数</th>\n",
       "      <th>通過</th>\n",
       "      <th>ペース</th>\n",
       "      <th>上り</th>\n",
       "      <th>馬体重</th>\n",
       "      <th>厩舎ｺﾒﾝﾄ</th>\n",
       "      <th>備考</th>\n",
       "      <th>勝ち馬(2着馬)</th>\n",
       "      <th>賞金</th>\n",
       "    </tr>\n",
       "  </thead>\n",
       "  <tbody>\n",
       "    <tr>\n",
       "      <th>2018106086</th>\n",
       "      <td>2022/04/04</td>\n",
       "      <td>川崎</td>\n",
       "      <td>雨</td>\n",
       "      <td>8</td>\n",
       "      <td>C2一　二三</td>\n",
       "      <td>NaN</td>\n",
       "      <td>13</td>\n",
       "      <td>5</td>\n",
       "      <td>7</td>\n",
       "      <td>10.3</td>\n",
       "      <td>4.0</td>\n",
       "      <td>2</td>\n",
       "      <td>笹川翼</td>\n",
       "      <td>56</td>\n",
       "      <td>ダ1600</td>\n",
       "      <td>不</td>\n",
       "      <td>**</td>\n",
       "      <td>1:46.0</td>\n",
       "      <td>0.4</td>\n",
       "      <td>**</td>\n",
       "      <td>4-6-2-2</td>\n",
       "      <td>37.6-41.3</td>\n",
       "      <td>41.5</td>\n",
       "      <td>539(-2)</td>\n",
       "      <td>NaN</td>\n",
       "      <td>NaN</td>\n",
       "      <td>ゲストプリンシパル</td>\n",
       "      <td>40.0</td>\n",
       "    </tr>\n",
       "    <tr>\n",
       "      <th>2018106086</th>\n",
       "      <td>2022/03/16</td>\n",
       "      <td>浦和</td>\n",
       "      <td>曇</td>\n",
       "      <td>8</td>\n",
       "      <td>C2六　七</td>\n",
       "      <td>NaN</td>\n",
       "      <td>9</td>\n",
       "      <td>4</td>\n",
       "      <td>4</td>\n",
       "      <td>8.6</td>\n",
       "      <td>5.0</td>\n",
       "      <td>1</td>\n",
       "      <td>笹川翼</td>\n",
       "      <td>56</td>\n",
       "      <td>ダ1400</td>\n",
       "      <td>良</td>\n",
       "      <td>**</td>\n",
       "      <td>1:30.0</td>\n",
       "      <td>-0.3</td>\n",
       "      <td>**</td>\n",
       "      <td>2-2-2-1</td>\n",
       "      <td>37.5-39.4</td>\n",
       "      <td>39.2</td>\n",
       "      <td>541(-3)</td>\n",
       "      <td>NaN</td>\n",
       "      <td>NaN</td>\n",
       "      <td>(プリトヴィツェ)</td>\n",
       "      <td>100.0</td>\n",
       "    </tr>\n",
       "    <tr>\n",
       "      <th>...</th>\n",
       "      <td>...</td>\n",
       "      <td>...</td>\n",
       "      <td>...</td>\n",
       "      <td>...</td>\n",
       "      <td>...</td>\n",
       "      <td>...</td>\n",
       "      <td>...</td>\n",
       "      <td>...</td>\n",
       "      <td>...</td>\n",
       "      <td>...</td>\n",
       "      <td>...</td>\n",
       "      <td>...</td>\n",
       "      <td>...</td>\n",
       "      <td>...</td>\n",
       "      <td>...</td>\n",
       "      <td>...</td>\n",
       "      <td>...</td>\n",
       "      <td>...</td>\n",
       "      <td>...</td>\n",
       "      <td>...</td>\n",
       "      <td>...</td>\n",
       "      <td>...</td>\n",
       "      <td>...</td>\n",
       "      <td>...</td>\n",
       "      <td>...</td>\n",
       "      <td>...</td>\n",
       "      <td>...</td>\n",
       "      <td>...</td>\n",
       "    </tr>\n",
       "    <tr>\n",
       "      <th>2015105960</th>\n",
       "      <td>2017/10/29</td>\n",
       "      <td>4東京9</td>\n",
       "      <td>雨</td>\n",
       "      <td>3</td>\n",
       "      <td>2歳未勝利</td>\n",
       "      <td>NaN</td>\n",
       "      <td>13</td>\n",
       "      <td>3</td>\n",
       "      <td>3</td>\n",
       "      <td>15.1</td>\n",
       "      <td>6.0</td>\n",
       "      <td>4</td>\n",
       "      <td>シュミノ</td>\n",
       "      <td>54</td>\n",
       "      <td>芝1600</td>\n",
       "      <td>不</td>\n",
       "      <td>**</td>\n",
       "      <td>1:39.7</td>\n",
       "      <td>0.6</td>\n",
       "      <td>**</td>\n",
       "      <td>3-4</td>\n",
       "      <td>36.9-36.8</td>\n",
       "      <td>36.8</td>\n",
       "      <td>436(+2)</td>\n",
       "      <td>NaN</td>\n",
       "      <td>NaN</td>\n",
       "      <td>ミカリーニョ</td>\n",
       "      <td>75.0</td>\n",
       "    </tr>\n",
       "    <tr>\n",
       "      <th>2015105960</th>\n",
       "      <td>2017/09/30</td>\n",
       "      <td>4中山8</td>\n",
       "      <td>曇</td>\n",
       "      <td>5</td>\n",
       "      <td>2歳新馬</td>\n",
       "      <td>NaN</td>\n",
       "      <td>15</td>\n",
       "      <td>7</td>\n",
       "      <td>12</td>\n",
       "      <td>71.7</td>\n",
       "      <td>10.0</td>\n",
       "      <td>3</td>\n",
       "      <td>石橋脩</td>\n",
       "      <td>54</td>\n",
       "      <td>芝1600</td>\n",
       "      <td>良</td>\n",
       "      <td>**</td>\n",
       "      <td>1:37.2</td>\n",
       "      <td>0.1</td>\n",
       "      <td>**</td>\n",
       "      <td>3-3-2</td>\n",
       "      <td>36.9-34.6</td>\n",
       "      <td>34.6</td>\n",
       "      <td>434(0)</td>\n",
       "      <td>NaN</td>\n",
       "      <td>NaN</td>\n",
       "      <td>デュッセルドルフ</td>\n",
       "      <td>180.0</td>\n",
       "    </tr>\n",
       "  </tbody>\n",
       "</table>\n",
       "<p>134 rows × 28 columns</p>\n",
       "</div>"
      ],
      "text/plain": [
       "                    日付    開催 天気  R    レース名  映像  頭数  枠番  馬番   オッズ    人気 着順  \\\n",
       "2018106086  2022/04/04    川崎  雨  8  C2一　二三 NaN  13   5   7  10.3   4.0  2   \n",
       "2018106086  2022/03/16    浦和  曇  8   C2六　七 NaN   9   4   4   8.6   5.0  1   \n",
       "...                ...   ... .. ..     ...  ..  ..  ..  ..   ...   ... ..   \n",
       "2015105960  2017/10/29  4東京9  雨  3   2歳未勝利 NaN  13   3   3  15.1   6.0  4   \n",
       "2015105960  2017/09/30  4中山8  曇  5    2歳新馬 NaN  15   7  12  71.7  10.0  3   \n",
       "\n",
       "              騎手  斤量     距離 馬場 馬場指数     タイム   着差 ﾀｲﾑ指数       通過        ペース  \\\n",
       "2018106086   笹川翼  56  ダ1600  不   **  1:46.0  0.4    **  4-6-2-2  37.6-41.3   \n",
       "2018106086   笹川翼  56  ダ1400  良   **  1:30.0 -0.3    **  2-2-2-1  37.5-39.4   \n",
       "...          ...  ..    ... ..  ...     ...  ...   ...      ...        ...   \n",
       "2015105960  シュミノ  54  芝1600  不   **  1:39.7  0.6    **      3-4  36.9-36.8   \n",
       "2015105960   石橋脩  54  芝1600  良   **  1:37.2  0.1    **    3-3-2  36.9-34.6   \n",
       "\n",
       "              上り      馬体重  厩舎ｺﾒﾝﾄ  備考   勝ち馬(2着馬)     賞金  \n",
       "2018106086  41.5  539(-2)     NaN NaN  ゲストプリンシパル   40.0  \n",
       "2018106086  39.2  541(-3)     NaN NaN  (プリトヴィツェ)  100.0  \n",
       "...          ...      ...     ...  ..        ...    ...  \n",
       "2015105960  36.8  436(+2)     NaN NaN     ミカリーニョ   75.0  \n",
       "2015105960  34.6   434(0)     NaN NaN   デュッセルドルフ  180.0  \n",
       "\n",
       "[134 rows x 28 columns]"
      ]
     },
     "execution_count": 43,
     "metadata": {},
     "output_type": "execute_result"
    }
   ],
   "source": [
    "# pd.options.display.max_rows = None\n",
    "\n",
    "results"
   ]
  },
  {
   "cell_type": "code",
   "execution_count": null,
   "metadata": {},
   "outputs": [],
   "source": [
    "# results.to_csv(\"3.2.horse_vs_data.csv\")\n",
    "results.to_csv(\"追加.horse_vs_data.csv\")"
   ]
  },
  {
   "cell_type": "code",
   "execution_count": null,
   "metadata": {},
   "outputs": [],
   "source": [
    "# time.sleep(2)\n",
    "# df = pd.read_csv(\"3.2.horse_vs_data.csv\")"
   ]
  },
  {
   "cell_type": "code",
   "execution_count": null,
   "metadata": {},
   "outputs": [],
   "source": [
    "# print(df.columns)\n",
    "# df = df.iloc[:,:29]\n",
    "# print(df.columns)"
   ]
  },
  {
   "cell_type": "markdown",
   "metadata": {},
   "source": [
    "----\n",
    "\n",
    "## データの自動成形"
   ]
  },
  {
   "cell_type": "code",
   "execution_count": null,
   "metadata": {},
   "outputs": [],
   "source": [
    "importlib.reload(functions)\n",
    "\n",
    "arr = [\n",
    "       # 13238,13239,13334,13335,13958,13978,13993,14019,\n",
    "       # 14020,14316,14317,14341,14342,14388,14548,14549,\n",
    "       # 14555,14556,14718,14719,14555,14556,15056,15057,\n",
    "       # 15129,14555,14556,15057,15129,15130,15316,15317,\n",
    "       # 15378,15379,15425,15426,15466,15517,15518,15519,\n",
    "       # 15557,15558,15638,15639,15665,15666,15799,15800,\n",
    "       # 15838,15839,15859,15860\n",
    "       ]\n",
    "\n",
    "clean_index = list(map(lambda x: x-1,arr))\n",
    "# l,l_length,columns_len = Molding(clean_index,\"3.2.horse_vs_data.csv\")\n",
    "\n",
    "# l,l_length,columns_len,おかしいリスト = functions.Molding_new(clean_index,\"3.4.horse_vs_data.csv\")\n",
    "l,l_length,columns_len,おかしいリスト = functions.Molding_new(clean_index,\"追加.horse_vs_data.csv\")\n",
    "おかしいリスト"
   ]
  },
  {
   "cell_type": "code",
   "execution_count": null,
   "metadata": {},
   "outputs": [],
   "source": [
    "print(f\"全体のlen{l_length}\")\n",
    "print(f\"カラムのlen{columns_len}\")"
   ]
  },
  {
   "cell_type": "code",
   "execution_count": null,
   "metadata": {},
   "outputs": [],
   "source": [
    "for i in l :\n",
    "  if len(i) == 32:pass\n",
    "  else: print(len(i), i)"
   ]
  },
  {
   "cell_type": "code",
   "execution_count": null,
   "metadata": {},
   "outputs": [],
   "source": [
    "\n",
    "add = np.array(l[1:]).reshape(l_length-1,32)\n"
   ]
  },
  {
   "cell_type": "markdown",
   "metadata": {},
   "source": [
    "10秒"
   ]
  },
  {
   "cell_type": "code",
   "execution_count": null,
   "metadata": {},
   "outputs": [],
   "source": [
    "df_add = pd.DataFrame(add, columns=l[0])\n",
    "# print(df_add)"
   ]
  },
  {
   "cell_type": "code",
   "execution_count": null,
   "metadata": {},
   "outputs": [],
   "source": [
    "# df_add.to_csv('3.4.horse_vs_data.csv',index=False)"
   ]
  },
  {
   "cell_type": "code",
   "execution_count": null,
   "metadata": {},
   "outputs": [],
   "source": [
    "df = pd.read_csv(\"3.4.horse_vs_data.csv\")"
   ]
  },
  {
   "cell_type": "code",
   "execution_count": null,
   "metadata": {},
   "outputs": [],
   "source": [
    "pd.options.display.max_rows = None\n",
    "for i in df.columns:\n",
    "  print(df[i].value_counts())"
   ]
  },
  {
   "cell_type": "code",
   "execution_count": null,
   "metadata": {},
   "outputs": [],
   "source": [
    "# df"
   ]
  }
 ],
 "metadata": {
  "interpreter": {
   "hash": "17524995b3fb89f69a1eefd3d21017daf0e335c7df3994005e07ddeae9fe971e"
  },
  "kernelspec": {
   "display_name": "Python 3.9.10 ('venv39': venv)",
   "language": "python",
   "name": "python3"
  },
  "language_info": {
   "codemirror_mode": {
    "name": "ipython",
    "version": 3
   },
   "file_extension": ".py",
   "mimetype": "text/x-python",
   "name": "python",
   "nbconvert_exporter": "python",
   "pygments_lexer": "ipython3",
   "version": "3.9.10"
  },
  "orig_nbformat": 4
 },
 "nbformat": 4,
 "nbformat_minor": 2
}
