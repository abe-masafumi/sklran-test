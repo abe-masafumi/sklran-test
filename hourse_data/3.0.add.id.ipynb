{
 "cells": [
  {
   "cell_type": "markdown",
   "metadata": {},
   "source": [
    "## 5.horseIDとjockeyIDの取得"
   ]
  },
  {
   "cell_type": "code",
   "execution_count": 54,
   "metadata": {},
   "outputs": [],
   "source": [
    "import pandas as pd\n",
    "import requests\n",
    "from bs4 import BeautifulSoup\n",
    "import pandas as pd\n",
    "import re\n",
    "import time\n",
    "from tqdm import tqdm\n",
    "import functions\n",
    "import numpy as np\n",
    "import importlib\n",
    "\n",
    "pd.options.display.max_rows = 5\n",
    "pd.options.display.max_columns = 100\n",
    "pd.options.display.max_colwidth = 30"
   ]
  },
  {
   "cell_type": "code",
   "execution_count": null,
   "metadata": {},
   "outputs": [],
   "source": [
    "\n",
    "df = pd.read_pickle('2.2.add.日付_df.pickle')\n",
    "race_id_list = df.index.unique()\n",
    "print(type(race_id_list[0]))\n",
    "# race_id_list = [\"202101010101\",\"202101010102\"]\n",
    "race_id_list\n",
    "# df"
   ]
  },
  {
   "cell_type": "code",
   "execution_count": null,
   "metadata": {},
   "outputs": [],
   "source": [
    "test = {}\n",
    "def scrape_race_results(race_id_lists,par_race_results={}):\n",
    "  race_results = par_race_results\n",
    "  for _race_id in tqdm(race_id_lists):\n",
    "    # if _race_id in race_result.keys():\n",
    "    #   continue\n",
    "    time.sleep(1)\n",
    "    try:\n",
    "      # スクレイピング\n",
    "      url = \"https://race.netkeiba.com/race/result.html?race_id=\" + _race_id\n",
    "      html = requests.get(url)\n",
    "      html.encoding= \"EUC_JP\"\n",
    "      soup = BeautifulSoup(html.text, \"html.parser\")\n",
    "      \n",
    "      # horse_id\n",
    "      horse_id_list = []      \n",
    "      horse_a_list = soup.find('table',attrs={\"summary\":\"全着順\"}).find_all('a',attrs={\"href\":re.compile(\"/horse/\")})\n",
    "      for a in horse_a_list:\n",
    "        horse_id = re.findall(r'\\d+',a[\"href\"])\n",
    "        horse_id_list.append(horse_id[0])\n",
    "      Series1 = pd.Series(data = horse_id_list,dtype=str,name=\"horse_id\")\n",
    "      # jockey_id\n",
    "      jockey_id_list = []\n",
    "      jockey_a_list = soup.find('table',attrs={\"summary\":\"全着順\"}).find_all('a',attrs={\"href\":re.compile(\"/jockey/\")})\n",
    "      for u in jockey_a_list:\n",
    "        jockey_id = re.findall(r'\\d+',u[\"href\"])\n",
    "        jockey_id_list.append(jockey_id[0])\n",
    "      Series2 = pd.Series(data = jockey_id_list,dtype=str,name=\"jockey_id\")\n",
    "      \n",
    "      results = pd.concat([Series1, Series2], axis=1)\n",
    "      test[_race_id] = results\n",
    "      \n",
    "    except UnicodeDecodeError as e:\n",
    "      # print(e)\n",
    "      print(f\"レースID: {_race_id} のデータはありません\")\n",
    "      continue\n",
    "    except KeyboardInterrupt:\n",
    "      break\n",
    "    except TimeoutError:\n",
    "      break\n",
    "  return test"
   ]
  },
  {
   "cell_type": "code",
   "execution_count": null,
   "metadata": {},
   "outputs": [],
   "source": [
    "results_new = scrape_race_results(race_id_list)\n",
    "results_new"
   ]
  },
  {
   "cell_type": "markdown",
   "metadata": {},
   "source": [
    "----"
   ]
  },
  {
   "cell_type": "markdown",
   "metadata": {},
   "source": [
    "## 6.取得したデータを成形して元のデータと結合"
   ]
  },
  {
   "cell_type": "code",
   "execution_count": null,
   "metadata": {},
   "outputs": [],
   "source": [
    "for key in results_new.keys():\n",
    "  results_new[key].index = [key] * len(results_new[key])\n",
    "print(results_new)\n",
    "results = pd.concat([results_new[key] for key in results_new.keys()],sort=False)\n",
    "# results"
   ]
  },
  {
   "cell_type": "code",
   "execution_count": null,
   "metadata": {},
   "outputs": [],
   "source": [
    "print(type(results))\n",
    "print(len(results))\n",
    "print(type(df))\n",
    "print(len(df))"
   ]
  },
  {
   "cell_type": "code",
   "execution_count": null,
   "metadata": {},
   "outputs": [],
   "source": [
    "# pd.set_option('display.max_rows',None)\n",
    "\n",
    "df_add_id = pd.concat([df,results],axis=1)"
   ]
  },
  {
   "cell_type": "code",
   "execution_count": null,
   "metadata": {},
   "outputs": [],
   "source": [
    "# df_add_id.to_pickle(\"df_add_id.pickle\")"
   ]
  },
  {
   "cell_type": "markdown",
   "metadata": {},
   "source": [
    "----\n",
    "\n",
    "## 7.idのリストを作成"
   ]
  },
  {
   "cell_type": "code",
   "execution_count": null,
   "metadata": {},
   "outputs": [],
   "source": [
    "horse_id_list = df_add_id[\"horse_id\"].unique()\n",
    "len(horse_id_list)\n",
    "# horse_id_list = horse_id_list[:50]\n",
    "# horse_id_list = ['2018105875',\"2018102192\"]"
   ]
  },
  {
   "cell_type": "code",
   "execution_count": null,
   "metadata": {},
   "outputs": [],
   "source": [
    "# url = \"https://db.netkeiba.com/horse/2019109094\"\n",
    "# url = \"https://db.netkeiba.com/horse/2018102444\"\n",
    "# time.sleep(1)\n",
    "# pd.read_html(url,match='日付')"
   ]
  },
  {
   "cell_type": "code",
   "execution_count": null,
   "metadata": {},
   "outputs": [],
   "source": [
    "test = {}\n",
    "def scrape_horse_results(horse_id_list,par_horse_results={}):\n",
    "  horse_results = par_horse_results\n",
    "  for _horse_id in tqdm(horse_id_list):\n",
    "    # if _horse_id in horse_id_list.keys():\n",
    "    #   continue\n",
    "    time.sleep(1)\n",
    "    try:\n",
    "      # スクレイピング\n",
    "      url = \"https://db.netkeiba.com/horse/\" + _horse_id\n",
    "      time.sleep(1)\n",
    "      # [0]をつけてリストの中だけを取得\n",
    "      horse_results[_horse_id] = pd.read_html(url,match='日付',encoding='EUC-JP')[0]\n",
    "    except UnicodeDecodeError as e:\n",
    "      # print(e)\n",
    "      # print(f\"レースID: {race_id} のデータはありません\")\n",
    "      continue\n",
    "    except KeyboardInterrupt:\n",
    "      break\n",
    "        \n",
    "    except TimeoutError:\n",
    "      break\n",
    "    # print(horse_results)\n",
    "      \n",
    "  return horse_results"
   ]
  },
  {
   "cell_type": "code",
   "execution_count": null,
   "metadata": {},
   "outputs": [],
   "source": [
    "horse_results = scrape_horse_results(horse_id_list)"
   ]
  },
  {
   "cell_type": "code",
   "execution_count": null,
   "metadata": {},
   "outputs": [],
   "source": [
    "horse_results"
   ]
  },
  {
   "cell_type": "markdown",
   "metadata": {},
   "source": [
    "----\n",
    "\n",
    "## 取得したデータを成形"
   ]
  },
  {
   "cell_type": "code",
   "execution_count": null,
   "metadata": {},
   "outputs": [],
   "source": [
    "for key in horse_results.keys():\n",
    "  horse_results[key].index = [key] * len(horse_results[key])\n",
    "results = pd.concat([horse_results[key] for key in horse_results.keys()],sort=False)"
   ]
  },
  {
   "cell_type": "code",
   "execution_count": null,
   "metadata": {},
   "outputs": [],
   "source": [
    "# pd.options.display.max_rows = None\n",
    "\n",
    "results"
   ]
  },
  {
   "cell_type": "code",
   "execution_count": null,
   "metadata": {},
   "outputs": [],
   "source": [
    "# results.to_csv(\"3.2.horse_vs_data.csv\")"
   ]
  },
  {
   "cell_type": "code",
   "execution_count": null,
   "metadata": {},
   "outputs": [],
   "source": [
    "# time.sleep(2)\n",
    "# df = pd.read_csv(\"3.2.horse_vs_data.csv\")"
   ]
  },
  {
   "cell_type": "code",
   "execution_count": null,
   "metadata": {},
   "outputs": [],
   "source": [
    "# print(df.columns)\n",
    "# df = df.iloc[:,:29]\n",
    "# print(df.columns)"
   ]
  },
  {
   "cell_type": "markdown",
   "metadata": {},
   "source": [
    "----\n",
    "\n",
    "## データの自動成形"
   ]
  },
  {
   "cell_type": "code",
   "execution_count": 55,
   "metadata": {},
   "outputs": [
    {
     "data": {
      "text/plain": [
       "[]"
      ]
     },
     "execution_count": 55,
     "metadata": {},
     "output_type": "execute_result"
    }
   ],
   "source": [
    "importlib.reload(functions)\n",
    "\n",
    "arr = [\n",
    "       13238,13239,13334,13335,13958,13978,13993,14019,\n",
    "       14020,14316,14317,14341,14342,14388,14548,14549,\n",
    "       14555,14556,14718,14719,14555,14556,15056,15057,\n",
    "       15129,14555,14556,15057,15129,15130,15316,15317,\n",
    "       15378,15379,15425,15426,15466,15517,15518,15519,\n",
    "       15557,15558,15638,15639,15665,15666,15799,15800,\n",
    "       15838,15839,15859,15860\n",
    "       ]\n",
    "\n",
    "clean_index = list(map(lambda x: x-1,arr))\n",
    "# l,l_length,columns_len = Molding(clean_index,\"3.2.horse_vs_data.csv\")\n",
    "\n",
    "l,l_length,columns_len,おかしいリスト = functions.Molding_new(clean_index,\"3.4.horse_vs_data.csv\")\n",
    "おかしいリスト"
   ]
  },
  {
   "cell_type": "code",
   "execution_count": null,
   "metadata": {},
   "outputs": [],
   "source": [
    "print(f\"全体のlen{l_length}\")\n",
    "print(f\"カラムのlen{columns_len}\")"
   ]
  },
  {
   "cell_type": "code",
   "execution_count": null,
   "metadata": {},
   "outputs": [],
   "source": [
    "for i in l :\n",
    "  if len(i) == 32:pass\n",
    "  else: print(len(i), i)"
   ]
  },
  {
   "cell_type": "code",
   "execution_count": null,
   "metadata": {},
   "outputs": [],
   "source": [
    "\n",
    "add = np.array(l[1:]).reshape(l_length-1,32)\n"
   ]
  },
  {
   "cell_type": "markdown",
   "metadata": {},
   "source": [
    "10秒"
   ]
  },
  {
   "cell_type": "code",
   "execution_count": null,
   "metadata": {},
   "outputs": [],
   "source": [
    "df_add = pd.DataFrame(add, columns=l[0])\n",
    "# print(df_add)"
   ]
  },
  {
   "cell_type": "code",
   "execution_count": null,
   "metadata": {},
   "outputs": [],
   "source": [
    "df_add.to_csv('3.4.horse_vs_data.csv',index=False)"
   ]
  },
  {
   "cell_type": "code",
   "execution_count": null,
   "metadata": {},
   "outputs": [],
   "source": []
  },
  {
   "cell_type": "code",
   "execution_count": null,
   "metadata": {},
   "outputs": [],
   "source": [
    "# print(df[\"日付\"].value_counts())\n",
    "# print(df[\"開催\"].value_counts())\n",
    "# print(df[\"天気\"].value_counts())\n",
    "# print(df[\"R\"].value_counts())\n",
    "# print(df[\"レース名\"].value_counts())\n",
    "# print(df[\"映像\"].value_counts())\n",
    "# print(df[\"頭数\"].value_counts())\n",
    "# print(df[\"枠番\"].value_counts())\n",
    "# print(df[\"馬番\"].value_counts())\n",
    "# print(df[\"オッズ\"].value_counts())\n",
    "# print(df[\"人気\"].value_counts())\n",
    "# print(df[\"着順\"].value_counts())\n",
    "# print(df[\"騎手\"].value_counts())\n",
    "# print(df[\"斤量\"].value_counts())"
   ]
  }
 ],
 "metadata": {
  "interpreter": {
   "hash": "17524995b3fb89f69a1eefd3d21017daf0e335c7df3994005e07ddeae9fe971e"
  },
  "kernelspec": {
   "display_name": "Python 3.9.10 ('venv39': venv)",
   "language": "python",
   "name": "python3"
  },
  "language_info": {
   "codemirror_mode": {
    "name": "ipython",
    "version": 3
   },
   "file_extension": ".py",
   "mimetype": "text/x-python",
   "name": "python",
   "nbconvert_exporter": "python",
   "pygments_lexer": "ipython3",
   "version": "3.9.10"
  },
  "orig_nbformat": 4
 },
 "nbformat": 4,
 "nbformat_minor": 2
}
