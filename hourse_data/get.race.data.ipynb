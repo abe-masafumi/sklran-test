{
 "cells": [
  {
   "cell_type": "markdown",
   "metadata": {},
   "source": [
    "## 1,レース情報をスクレイピング"
   ]
  },
  {
   "cell_type": "markdown",
   "metadata": {},
   "source": [
    "jupyter notebook で [ImportError: lxml not found, please install it]エラーが出た場合は [pip3 install lxml] でインストール後プロジェクトを再起動\n"
   ]
  },
  {
   "cell_type": "code",
   "execution_count": 189,
   "metadata": {},
   "outputs": [],
   "source": [
    "import pandas as pd\n",
    "from tqdm import tqdm\n",
    "import time"
   ]
  },
  {
   "cell_type": "markdown",
   "metadata": {},
   "source": [
    "url >> race_id=2022 09 01 11 01 : 年  競馬場(01:札幌,02:函館,03:福島,04:新潟,05:東京,06:中山,07:中京,08:京都,09:阪神,10:小倉) 何回(今年その競馬場でのレース回数) 何日目(何レース目)"
   ]
  },
  {
   "cell_type": "code",
   "execution_count": 190,
   "metadata": {},
   "outputs": [],
   "source": [
    "pd.set_option('display.max_rows',5)\n",
    "pd.options.display.width = 200\n",
    "pd.options.display.column_space = 100"
   ]
  },
  {
   "cell_type": "markdown",
   "metadata": {},
   "source": [
    "スクレイピング"
   ]
  },
  {
   "cell_type": "code",
   "execution_count": 191,
   "metadata": {},
   "outputs": [
    {
     "data": {
      "text/plain": [
       "['202101010101',\n",
       " '202101010102',\n",
       " '202101010103',\n",
       " '202101010104',\n",
       " '202101010105',\n",
       " '202101010106',\n",
       " '202101010107',\n",
       " '202101010108',\n",
       " '202101010109',\n",
       " '202101010110',\n",
       " '202101010111',\n",
       " '202101010112']"
      ]
     },
     "execution_count": 191,
     "metadata": {},
     "output_type": "execute_result"
    }
   ],
   "source": [
    "df = pd.read_csv(\"test.csv\")\n",
    "already = df.index.unique()\n",
    "already = list(map(str, already))\n",
    "already"
   ]
  },
  {
   "cell_type": "code",
   "execution_count": 192,
   "metadata": {},
   "outputs": [],
   "source": [
    "def scrape_race_results(race_id_lists,par_race_results={}):\n",
    "  race_result_dict = par_race_results\n",
    "  for _race_id in tqdm(race_id_lists):\n",
    "    if _race_id in already:\n",
    "      continue\n",
    "    time.sleep(2)\n",
    "    try:\n",
    "      url = \"https://race.netkeiba.com/race/result.html?race_id=\" + _race_id\n",
    "      race_result_dict[_race_id] = pd.read_html(url)[0]\n",
    "      # print(race_result_dict[race_id])\n",
    "    except UnicodeDecodeError as e:\n",
    "      # print(e)\n",
    "      # print(f\"レースID: {race_id} のデータはありません\")\n",
    "      continue\n",
    "    except KeyboardInterrupt:\n",
    "      break\n",
    "    except TimeoutError:\n",
    "      break\n",
    "  return race_result_dict\n",
    "\n",
    "# race_result = {}"
   ]
  },
  {
   "cell_type": "markdown",
   "metadata": {},
   "source": [
    "dictのkeyをrace_idに変換\n"
   ]
  },
  {
   "cell_type": "code",
   "execution_count": 193,
   "metadata": {},
   "outputs": [],
   "source": [
    "def get_house_data():\n",
    "  race_id_lists = []\n",
    "\n",
    "  for 年 in range(2021,2022):\n",
    "    for 競馬場 in range(1,3): # 1,11\n",
    "      for 回 in range(1,2): # 1,11\n",
    "        for 回目 in range(1,2): # 1,11\n",
    "          for レース回 in range(1,13): # 1,13\n",
    "            race_id = f\"{年}{str(競馬場).zfill(2)}{str(回).zfill(2)}{str(回目).zfill(2)}{str(レース回).zfill(2)}\"\n",
    "            race_id_lists.append(race_id)\n",
    "            \n",
    "  race_result = scrape_race_results(race_id_lists)\n",
    "  for key in race_result.keys():\n",
    "    race_result[key].index = [key] * len(race_result[key])\n",
    "    \n",
    "  results = pd.concat([race_result[key] for key in race_result.keys()],sort=False)\n",
    "  return results"
   ]
  },
  {
   "cell_type": "markdown",
   "metadata": {},
   "source": [
    "新規でdata取得するとき"
   ]
  },
  {
   "cell_type": "code",
   "execution_count": 194,
   "metadata": {},
   "outputs": [
    {
     "name": "stderr",
     "output_type": "stream",
     "text": [
      "100%|██████████| 24/24 [00:27<00:00,  1.15s/it]\n"
     ]
    }
   ],
   "source": [
    "house_data = get_house_data()"
   ]
  },
  {
   "cell_type": "markdown",
   "metadata": {},
   "source": [
    "追加でdata取得するとき"
   ]
  },
  {
   "cell_type": "code",
   "execution_count": 195,
   "metadata": {},
   "outputs": [
    {
     "data": {
      "text/plain": [
       "149"
      ]
     },
     "execution_count": 195,
     "metadata": {},
     "output_type": "execute_result"
    }
   ],
   "source": [
    "len(house_data)"
   ]
  },
  {
   "cell_type": "code",
   "execution_count": 196,
   "metadata": {},
   "outputs": [
    {
     "data": {
      "text/html": [
       "<div>\n",
       "<style scoped>\n",
       "    .dataframe tbody tr th:only-of-type {\n",
       "        vertical-align: middle;\n",
       "    }\n",
       "\n",
       "    .dataframe tbody tr th {\n",
       "        vertical-align: top;\n",
       "    }\n",
       "\n",
       "    .dataframe thead th {\n",
       "        text-align: right;\n",
       "    }\n",
       "</style>\n",
       "<table border=\"1\" class=\"dataframe\">\n",
       "  <thead>\n",
       "    <tr style=\"text-align: right;\">\n",
       "      <th></th>\n",
       "      <th>着順</th>\n",
       "      <th>枠</th>\n",
       "      <th>馬番</th>\n",
       "      <th>馬名</th>\n",
       "      <th>性齢</th>\n",
       "      <th>斤量</th>\n",
       "      <th>騎手</th>\n",
       "      <th>タイム</th>\n",
       "      <th>着差</th>\n",
       "      <th>人気</th>\n",
       "      <th>単勝オッズ</th>\n",
       "      <th>後3F</th>\n",
       "      <th>コーナー通過順</th>\n",
       "      <th>厩舎</th>\n",
       "      <th>馬体重(増減)</th>\n",
       "      <th>Unnamed: 15</th>\n",
       "      <th>Unnamed: 16</th>\n",
       "      <th>Unnamed: 17</th>\n",
       "    </tr>\n",
       "  </thead>\n",
       "  <tbody>\n",
       "    <tr>\n",
       "      <th>202102010101</th>\n",
       "      <td>1</td>\n",
       "      <td>4</td>\n",
       "      <td>4</td>\n",
       "      <td>ナムラリコリス</td>\n",
       "      <td>牝2</td>\n",
       "      <td>52.0</td>\n",
       "      <td>△泉谷</td>\n",
       "      <td>1:09.3</td>\n",
       "      <td>NaN</td>\n",
       "      <td>1</td>\n",
       "      <td>1.4</td>\n",
       "      <td>35.7</td>\n",
       "      <td>2-2</td>\n",
       "      <td>栗東大橋</td>\n",
       "      <td>466(+2)</td>\n",
       "      <td>NaN</td>\n",
       "      <td>NaN</td>\n",
       "      <td>NaN</td>\n",
       "    </tr>\n",
       "    <tr>\n",
       "      <th>202102010101</th>\n",
       "      <td>2</td>\n",
       "      <td>1</td>\n",
       "      <td>1</td>\n",
       "      <td>プラソン</td>\n",
       "      <td>牝2</td>\n",
       "      <td>54.0</td>\n",
       "      <td>藤岡佑</td>\n",
       "      <td>1:09.4</td>\n",
       "      <td>1/2</td>\n",
       "      <td>2</td>\n",
       "      <td>5.5</td>\n",
       "      <td>35.9</td>\n",
       "      <td>1-1</td>\n",
       "      <td>栗東寺島</td>\n",
       "      <td>430(+2)</td>\n",
       "      <td>NaN</td>\n",
       "      <td>NaN</td>\n",
       "      <td>NaN</td>\n",
       "    </tr>\n",
       "    <tr>\n",
       "      <th>...</th>\n",
       "      <td>...</td>\n",
       "      <td>...</td>\n",
       "      <td>...</td>\n",
       "      <td>...</td>\n",
       "      <td>...</td>\n",
       "      <td>...</td>\n",
       "      <td>...</td>\n",
       "      <td>...</td>\n",
       "      <td>...</td>\n",
       "      <td>...</td>\n",
       "      <td>...</td>\n",
       "      <td>...</td>\n",
       "      <td>...</td>\n",
       "      <td>...</td>\n",
       "      <td>...</td>\n",
       "      <td>...</td>\n",
       "      <td>...</td>\n",
       "      <td>...</td>\n",
       "    </tr>\n",
       "    <tr>\n",
       "      <th>202102010112</th>\n",
       "      <td>10</td>\n",
       "      <td>7</td>\n",
       "      <td>9</td>\n",
       "      <td>ウエストンバート</td>\n",
       "      <td>牡3</td>\n",
       "      <td>54.0</td>\n",
       "      <td>横山武</td>\n",
       "      <td>1:48.1</td>\n",
       "      <td>2.1/2</td>\n",
       "      <td>4</td>\n",
       "      <td>6.8</td>\n",
       "      <td>36.3</td>\n",
       "      <td>2-2-2-2</td>\n",
       "      <td>栗東吉岡</td>\n",
       "      <td>522(-6)</td>\n",
       "      <td>NaN</td>\n",
       "      <td>NaN</td>\n",
       "      <td>NaN</td>\n",
       "    </tr>\n",
       "    <tr>\n",
       "      <th>202102010112</th>\n",
       "      <td>11</td>\n",
       "      <td>8</td>\n",
       "      <td>10</td>\n",
       "      <td>ザイラ</td>\n",
       "      <td>牝4</td>\n",
       "      <td>55.0</td>\n",
       "      <td>吉田隼</td>\n",
       "      <td>1:48.3</td>\n",
       "      <td>1.1/4</td>\n",
       "      <td>10</td>\n",
       "      <td>45.9</td>\n",
       "      <td>35.6</td>\n",
       "      <td>9-9-8-10</td>\n",
       "      <td>栗東奥村豊</td>\n",
       "      <td>484(0)</td>\n",
       "      <td>NaN</td>\n",
       "      <td>NaN</td>\n",
       "      <td>NaN</td>\n",
       "    </tr>\n",
       "  </tbody>\n",
       "</table>\n",
       "<p>149 rows × 18 columns</p>\n",
       "</div>"
      ],
      "text/plain": [
       "              着順  枠  馬番        馬名  性齢    斤量   騎手     タイム     着差  人気 単勝オッズ   後3F   コーナー通過順     厩舎  馬体重(増減) Unnamed: 15 Unnamed: 16 Unnamed: 17\n",
       "202102010101   1  4   4   ナムラリコリス  牝2  52.0  △泉谷  1:09.3    NaN   1   1.4  35.7       2-2   栗東大橋  466(+2)         NaN         NaN         NaN\n",
       "202102010101   2  1   1      プラソン  牝2  54.0  藤岡佑  1:09.4    1/2   2   5.5  35.9       1-1   栗東寺島  430(+2)         NaN         NaN         NaN\n",
       "...           .. ..  ..       ...  ..   ...  ...     ...    ...  ..   ...   ...       ...    ...      ...         ...         ...         ...\n",
       "202102010112  10  7   9  ウエストンバート  牡3  54.0  横山武  1:48.1  2.1/2   4   6.8  36.3   2-2-2-2   栗東吉岡  522(-6)         NaN         NaN         NaN\n",
       "202102010112  11  8  10       ザイラ  牝4  55.0  吉田隼  1:48.3  1.1/4  10  45.9  35.6  9-9-8-10  栗東奥村豊   484(0)         NaN         NaN         NaN\n",
       "\n",
       "[149 rows x 18 columns]"
      ]
     },
     "execution_count": 196,
     "metadata": {},
     "output_type": "execute_result"
    }
   ],
   "source": [
    "house_data"
   ]
  },
  {
   "cell_type": "markdown",
   "metadata": {},
   "source": [
    "保存する"
   ]
  },
  {
   "cell_type": "code",
   "execution_count": 200,
   "metadata": {},
   "outputs": [],
   "source": [
    "\n",
    "# house_data.to_csv('test1.csv')\n",
    "# house_data.to_csv('test2.csv')"
   ]
  },
  {
   "cell_type": "code",
   "execution_count": 219,
   "metadata": {},
   "outputs": [
    {
     "name": "stdout",
     "output_type": "stream",
     "text": [
      "Index(['Unnamed: 0', '着順', '枠', '馬番', '馬名', '性齢', '斤量', '騎手', 'タイム', '着差', '人気', '単勝オッズ', '後3F', 'コーナー通過順', '厩舎'], dtype='object')\n"
     ]
    },
    {
     "data": {
      "text/plain": [
       "0       栗東大橋\n",
       "1       栗東寺島\n",
       "2       美浦深山\n",
       "3      美浦伊藤大\n",
       "4       栗東加用\n",
       "5       美浦手塚\n",
       "6       美浦田村\n",
       "7      栗東飯田祐\n",
       "8      美浦高橋裕\n",
       "9       栗東梅田\n",
       "10     栗東清水久\n",
       "11      美浦手塚\n",
       "12       美浦堀\n",
       "13     栗東大根田\n",
       "14     美浦田中博\n",
       "15      美浦小島\n",
       "16       栗東宮\n",
       "17      栗東野中\n",
       "18      栗東平田\n",
       "19     栗東高柳大\n",
       "20      栗東岡田\n",
       "21      栗東牧浦\n",
       "22     栗東高橋忠\n",
       "23      栗東浜田\n",
       "24     栗東池添兼\n",
       "25      美浦新開\n",
       "26     栗東中内田\n",
       "27      栗東大橋\n",
       "28      美浦竹内\n",
       "29      美浦栗田\n",
       "30     美浦大江原\n",
       "31      美浦稲垣\n",
       "32      美浦高木\n",
       "33      栗東友道\n",
       "34     美浦加藤征\n",
       "35     栗東藤原英\n",
       "36      栗東武英\n",
       "37      栗東坂口\n",
       "38      美浦岩戸\n",
       "39      美浦深山\n",
       "40     美浦清水英\n",
       "41     栗東藤沢則\n",
       "42      美浦田村\n",
       "43     美浦伊藤伸\n",
       "44      栗東吉田\n",
       "45      美浦本間\n",
       "46     栗東杉山佳\n",
       "47     美浦伊藤圭\n",
       "48      美浦杉浦\n",
       "49      美浦小野\n",
       "50      美浦新開\n",
       "51      栗東浅見\n",
       "52      美浦岩戸\n",
       "53      栗東今野\n",
       "54     美浦蛯名利\n",
       "55      栗東加用\n",
       "56     栗東池添兼\n",
       "57      美浦堀井\n",
       "58      栗東須貝\n",
       "59      栗東松下\n",
       "60     栗東安田隆\n",
       "61      栗東音無\n",
       "62      美浦国枝\n",
       "63      栗東本田\n",
       "64      栗東笹田\n",
       "65      美浦堀井\n",
       "66     美浦田中清\n",
       "67     美浦古賀慎\n",
       "68      美浦杉浦\n",
       "69       栗東宮\n",
       "70      栗東渡辺\n",
       "71      栗東吉村\n",
       "72     美浦田中博\n",
       "73      栗東森田\n",
       "74     栗東高柳大\n",
       "75     美浦高橋祥\n",
       "76      栗東新谷\n",
       "77     栗東飯田祐\n",
       "78      美浦伊坂\n",
       "79     美浦藤原辰\n",
       "80      栗東高野\n",
       "81      栗東牧田\n",
       "82      美浦田島\n",
       "83      美浦石栗\n",
       "84      美浦栗田\n",
       "85      美浦杉浦\n",
       "86     栗東池添学\n",
       "87     美浦和田雄\n",
       "88      美浦尾形\n",
       "89      美浦石栗\n",
       "90     美浦伊藤伸\n",
       "91      美浦菊川\n",
       "92      美浦中野\n",
       "93      栗東橋田\n",
       "94     栗東高柳大\n",
       "95     美浦大江原\n",
       "96      美浦中舘\n",
       "97      栗東石坂\n",
       "98      栗東西園\n",
       "99     美浦斎藤誠\n",
       "100     栗東橋口\n",
       "101    美浦藤原辰\n",
       "102     栗東大橋\n",
       "103     栗東荒川\n",
       "104     栗東矢作\n",
       "105     栗東藤岡\n",
       "106     栗東上村\n",
       "107     美浦竹内\n",
       "108      栗東谷\n",
       "109     美浦金成\n",
       "110    栗東大根田\n",
       "111    美浦藤沢和\n",
       "112        -\n",
       "113    美浦和田勇\n",
       "114    美浦大和田\n",
       "115     栗東友道\n",
       "116     栗東牧田\n",
       "117     美浦宮田\n",
       "118     栗東小崎\n",
       "119    美浦加藤士\n",
       "120    美浦小手川\n",
       "121    栗東長谷川\n",
       "122     美浦菊沢\n",
       "123    美浦斎藤誠\n",
       "124    栗東安田翔\n",
       "125     美浦手塚\n",
       "126    栗東清水久\n",
       "127     栗東高野\n",
       "128    栗東池添兼\n",
       "129    栗東杉山晴\n",
       "130     美浦武市\n",
       "131     栗東浅見\n",
       "132    美浦伊藤伸\n",
       "133     美浦青木\n",
       "134     栗東茶木\n",
       "135     栗東池江\n",
       "136     栗東浜田\n",
       "137     栗東牧浦\n",
       "138     栗東須貝\n",
       "139     栗東新谷\n",
       "140      美浦堀\n",
       "141    栗東藤原英\n",
       "142      美浦牧\n",
       "143     栗東上村\n",
       "144      栗東谷\n",
       "145     栗東石橋\n",
       "146     栗東安達\n",
       "147     美浦中野\n",
       "148      栗東宮\n",
       "149     栗東吉岡\n",
       "150    栗東奥村豊\n",
       "Name: 厩舎, dtype: object"
      ]
     },
     "execution_count": 219,
     "metadata": {},
     "output_type": "execute_result"
    }
   ],
   "source": [
    "# pd.set_option('display.max_rows',None)\n",
    "# df = pd.read_csv(\"test.csv\")\n",
    "# df1 = df.iloc[:,:15]\n",
    "# print(df1.columns)\n",
    "# df1[\"厩舎\"]"
   ]
  }
 ],
 "metadata": {
  "interpreter": {
   "hash": "17524995b3fb89f69a1eefd3d21017daf0e335c7df3994005e07ddeae9fe971e"
  },
  "kernelspec": {
   "display_name": "Python 3.9.10 ('venv39': venv)",
   "language": "python",
   "name": "python3"
  },
  "language_info": {
   "codemirror_mode": {
    "name": "ipython",
    "version": 3
   },
   "file_extension": ".py",
   "mimetype": "text/x-python",
   "name": "python",
   "nbconvert_exporter": "python",
   "pygments_lexer": "ipython3",
   "version": "3.9.10"
  },
  "orig_nbformat": 4
 },
 "nbformat": 4,
 "nbformat_minor": 2
}
