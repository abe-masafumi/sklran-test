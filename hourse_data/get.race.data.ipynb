{
 "cells": [
  {
   "cell_type": "markdown",
   "metadata": {},
   "source": [
    "jupyter notebook で [ImportError: lxml not found, please install it]エラーが出た場合は [pip3 install lxml] でインストール後プロジェクトを再起動\n"
   ]
  },
  {
   "cell_type": "code",
   "execution_count": null,
   "metadata": {},
   "outputs": [],
   "source": [
    "import pandas as pd\n",
    "from tqdm import tqdm\n",
    "import time\n",
    "import os"
   ]
  },
  {
   "cell_type": "markdown",
   "metadata": {},
   "source": [
    "url >> race_id=2022 09 01 11 01 : 年  競馬場(01:札幌,02:函館,03:福島,04:新潟,05:東京,06:中山,07:中京,08:京都,09:阪神,10:小倉) 何回(今年その競馬場でのレース回数) 何日目(何レース目)"
   ]
  },
  {
   "cell_type": "code",
   "execution_count": null,
   "metadata": {},
   "outputs": [],
   "source": [
    "url = \"https://race.netkeiba.com/race/result.html?race_id=202209011110\"\n",
    "\n",
    "pd.set_option('display.max_rows',20)\n",
    "pd.options.display.width = 200\n",
    "pd.options.display.column_space = 100\n",
    "\n",
    "# pd.read_html(url)[0]"
   ]
  },
  {
   "cell_type": "markdown",
   "metadata": {},
   "source": [
    "レース結果をスクレイピング"
   ]
  },
  {
   "cell_type": "code",
   "execution_count": null,
   "metadata": {},
   "outputs": [],
   "source": [
    "url = \"https://race.netkeiba.com/race/result.html?race_id=202209011110\"\n",
    "# pd.read_html(url)[0]"
   ]
  },
  {
   "cell_type": "code",
   "execution_count": null,
   "metadata": {},
   "outputs": [],
   "source": [
    "race_id_lists = []\n",
    "\n",
    "for 年 in range(2021,2022):\n",
    "  for 競馬場 in range(1,11): # 1,11\n",
    "    for 回 in range(1,2): # 1,11\n",
    "      for 回目 in range(1,2): # 1,11\n",
    "        for レース回 in range(1,3): # 1,13\n",
    "          race_id = f\"{年}{str(競馬場).zfill(2)}{str(回).zfill(2)}{str(回目).zfill(2)}{str(レース回).zfill(2)}\"\n",
    "          race_id_lists.append(race_id)\n",
    "# print(race_id_lists)\n",
    "\n",
    "# 実行時間 72分\n",
    "def scrape_race_results(race_id_lists,par_race_results={}):\n",
    "  race_result_dict = par_race_results\n",
    "  for _race_id in tqdm(race_id_lists):\n",
    "    if _race_id in race_result.keys():\n",
    "      continue\n",
    "    time.sleep(1)\n",
    "    try:\n",
    "      url = \"https://race.netkeiba.com/race/result.html?race_id=\" + _race_id\n",
    "      race_result_dict[_race_id] = pd.read_html(url)[0]\n",
    "      # print(race_result_dict[race_id])\n",
    "    except UnicodeDecodeError as e:\n",
    "      # print(e)\n",
    "      # print(f\"レースID: {race_id} のデータはありません\")\n",
    "      continue\n",
    "    except KeyboardInterrupt:\n",
    "      break\n",
    "    except TimeoutError:\n",
    "      break\n",
    "  return race_result_dict\n",
    "\n",
    "race_result = {}"
   ]
  },
  {
   "cell_type": "code",
   "execution_count": null,
   "metadata": {},
   "outputs": [],
   "source": [
    "race_result = scrape_race_results(race_id_lists)"
   ]
  },
  {
   "cell_type": "code",
   "execution_count": null,
   "metadata": {},
   "outputs": [],
   "source": [
    "race_result = scrape_race_results(race_result)"
   ]
  },
  {
   "cell_type": "code",
   "execution_count": null,
   "metadata": {},
   "outputs": [],
   "source": [
    "len(race_result)"
   ]
  },
  {
   "cell_type": "code",
   "execution_count": null,
   "metadata": {},
   "outputs": [],
   "source": [
    "\n",
    "race_result"
   ]
  },
  {
   "cell_type": "markdown",
   "metadata": {},
   "source": [
    "dictのkeyをrace_idに変換\n"
   ]
  },
  {
   "cell_type": "code",
   "execution_count": null,
   "metadata": {},
   "outputs": [],
   "source": [
    "for key in race_result.keys():\n",
    "  race_result[key].index = [key] * len(race_result[key])\n",
    "print(type(race_result))"
   ]
  },
  {
   "cell_type": "markdown",
   "metadata": {},
   "source": [
    "全てのdictを結合し、dataframeに変換"
   ]
  },
  {
   "cell_type": "code",
   "execution_count": null,
   "metadata": {},
   "outputs": [],
   "source": [
    "results = pd.concat([race_result[key] for key in race_result.keys()],sort=False)\n",
    "print(type(results))"
   ]
  },
  {
   "cell_type": "code",
   "execution_count": null,
   "metadata": {},
   "outputs": [],
   "source": [
    "results.to_pickle(\"results.pickle\")\n",
    "time.sleep(2)"
   ]
  },
  {
   "cell_type": "code",
   "execution_count": null,
   "metadata": {},
   "outputs": [],
   "source": [
    "pd.read_pickle(\"results.pickle\")"
   ]
  }
 ],
 "metadata": {
  "interpreter": {
   "hash": "17524995b3fb89f69a1eefd3d21017daf0e335c7df3994005e07ddeae9fe971e"
  },
  "kernelspec": {
   "display_name": "Python 3.9.10 ('venv39': venv)",
   "language": "python",
   "name": "python3"
  },
  "language_info": {
   "codemirror_mode": {
    "name": "ipython",
    "version": 3
   },
   "file_extension": ".py",
   "mimetype": "text/x-python",
   "name": "python",
   "nbconvert_exporter": "python",
   "pygments_lexer": "ipython3",
   "version": "3.9.10"
  },
  "orig_nbformat": 4
 },
 "nbformat": 4,
 "nbformat_minor": 2
}
