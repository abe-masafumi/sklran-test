{
 "cells": [
  {
   "cell_type": "markdown",
   "metadata": {},
   "source": [
    "## 1.レース情報をスクレイピング"
   ]
  },
  {
   "cell_type": "markdown",
   "metadata": {},
   "source": [
    "jupyter notebook で [ImportError: lxml not found, please install it]エラーが出た場合は [pip3 install lxml] でインストール後プロジェクトを再起動\n"
   ]
  },
  {
   "cell_type": "code",
   "execution_count": null,
   "metadata": {},
   "outputs": [],
   "source": [
    "import pandas as pd\n",
    "from tqdm import tqdm\n",
    "import time\n",
    "import csv\n",
    "import numpy as np\n",
    "from functions import Molding"
   ]
  },
  {
   "cell_type": "markdown",
   "metadata": {},
   "source": [
    "url >> race_id=2022 09 01 11 01 : 年  競馬場(01:札幌,02:函館,03:福島,04:新潟,05:東京,06:中山,07:中京,08:京都,09:阪神,10:小倉) 何回(今年その競馬場でのレース回数) 何日目(何レース目)"
   ]
  },
  {
   "cell_type": "code",
   "execution_count": null,
   "metadata": {},
   "outputs": [],
   "source": [
    "pd.set_option('display.max_rows',5)\n",
    "pd.options.display.width = 200\n",
    "pd.options.display.column_space = 100"
   ]
  },
  {
   "cell_type": "markdown",
   "metadata": {},
   "source": [
    "スクレイピング"
   ]
  },
  {
   "cell_type": "code",
   "execution_count": null,
   "metadata": {},
   "outputs": [],
   "source": [
    "# df = pd.read_pickle(\"1.7.df.pickle\")\n",
    "# already = df.index.unique()\n",
    "# already = list(map(str, already))\n",
    "# already"
   ]
  },
  {
   "cell_type": "code",
   "execution_count": null,
   "metadata": {},
   "outputs": [],
   "source": [
    "nondata = []\n",
    "def scrape_race_results(race_id_lists,par_race_results={}):\n",
    "  race_result_dict = par_race_results\n",
    "  for _race_id in tqdm(race_id_lists):\n",
    "    # if _race_id in already:\n",
    "    #   continue\n",
    "    time.sleep(1)\n",
    "    try:\n",
    "      url = \"https://race.netkeiba.com/race/result.html?race_id=\" + _race_id\n",
    "      race_result_dict[_race_id] = pd.read_html(url)[0]\n",
    "    except UnicodeDecodeError as e:\n",
    "      # print(e)\n",
    "      # print(f\"レースID: {race_id} のデータはありません\")\n",
    "      nondata.append(_race_id)\n",
    "      continue\n",
    "    except KeyboardInterrupt:\n",
    "      break\n",
    "    except TimeoutError:\n",
    "      break\n",
    "  return race_result_dict"
   ]
  },
  {
   "cell_type": "markdown",
   "metadata": {},
   "source": [
    "dictのkeyをrace_idに変換\n"
   ]
  },
  {
   "cell_type": "code",
   "execution_count": null,
   "metadata": {},
   "outputs": [],
   "source": [
    "def get_house_data():\n",
    "  race_id_lists = []\n",
    "\n",
    "  for 年 in range(2021,2022):\n",
    "    for 競馬場 in range(1,3): # 1,11\n",
    "      for 回 in range(1,4): # 1,11\n",
    "        for 回目 in range(1,4): # 1,11\n",
    "          for レース回 in range(1,13): # 1,13\n",
    "            race_id = f\"{年}{str(競馬場).zfill(2)}{str(回).zfill(2)}{str(回目).zfill(2)}{str(レース回).zfill(2)}\"\n",
    "            race_id_lists.append(race_id)\n",
    "            \n",
    "  race_result = scrape_race_results(race_id_lists)\n",
    "  for key in race_result.keys():\n",
    "    race_result[key].index = [key] * len(race_result[key])\n",
    "    \n",
    "  results = pd.concat([race_result[key] for key in race_result.keys()],sort=False)\n",
    "  return results"
   ]
  },
  {
   "cell_type": "markdown",
   "metadata": {},
   "source": [
    "新規でdata取得するとき"
   ]
  },
  {
   "cell_type": "code",
   "execution_count": null,
   "metadata": {},
   "outputs": [],
   "source": [
    "house_data = get_house_data()"
   ]
  },
  {
   "cell_type": "markdown",
   "metadata": {},
   "source": [
    "取得できない数値"
   ]
  },
  {
   "cell_type": "code",
   "execution_count": null,
   "metadata": {},
   "outputs": [],
   "source": [
    "nondata"
   ]
  },
  {
   "cell_type": "markdown",
   "metadata": {},
   "source": [
    "追加でdata取得するとき"
   ]
  },
  {
   "cell_type": "code",
   "execution_count": null,
   "metadata": {},
   "outputs": [],
   "source": [
    "house_data"
   ]
  },
  {
   "cell_type": "markdown",
   "metadata": {},
   "source": [
    "csvで保存"
   ]
  },
  {
   "cell_type": "code",
   "execution_count": null,
   "metadata": {},
   "outputs": [],
   "source": [
    "house_data.to_csv('1.2.test1.csv')\n",
    "# house_data.to_csv('1.2.test2.csv')"
   ]
  },
  {
   "cell_type": "markdown",
   "metadata": {},
   "source": [
    "## 2.データの自動修正"
   ]
  },
  {
   "cell_type": "markdown",
   "metadata": {},
   "source": [
    "1.csvデータがうまく取得できていない箇所を[サイト](https://race.netkeiba.com/race/result.html?race_id=202102010203)からコピー\n",
    "\n",
    "2.csvファイルにペースト\n",
    "\n",
    "3.修正箇所の行番号を\"arr\"に入力"
   ]
  },
  {
   "cell_type": "code",
   "execution_count": null,
   "metadata": {},
   "outputs": [],
   "source": [
    "# arr = [6,7,184,340,341,722,813,814]\n",
    "arr = [6,7,238,262,319,320,323,322,73,319]\n",
    "clean_index = list(map(lambda x: x-1,arr))\n",
    "clean_index"
   ]
  },
  {
   "cell_type": "code",
   "execution_count": null,
   "metadata": {},
   "outputs": [],
   "source": [
    "l,l_length,columns_len = Molding(clean_index,\"1.2.test1.csv\")"
   ]
  },
  {
   "cell_type": "code",
   "execution_count": null,
   "metadata": {},
   "outputs": [],
   "source": [
    "add = np.array(l[1:]).reshape(l_length-1,columns_len)\n",
    "df_add = pd.DataFrame(add, columns=l[0])\n",
    "print(df_add)\n",
    "\n",
    "df_add.to_csv('1.2.test1.csv',index=False)\n",
    "# or\n",
    "# df_add.to_csv('1.2.test2.csv',index=False)"
   ]
  },
  {
   "cell_type": "code",
   "execution_count": null,
   "metadata": {},
   "outputs": [],
   "source": [
    "time.sleep(2)\n",
    "df = pd.read_csv(\"1.2.test1.csv\")\n",
    "# or\n",
    "# df = pd.read_csv(\"1.2.test2.csv\")\n",
    "# df"
   ]
  },
  {
   "cell_type": "markdown",
   "metadata": {},
   "source": [
    "## 最終確認"
   ]
  },
  {
   "cell_type": "code",
   "execution_count": null,
   "metadata": {},
   "outputs": [],
   "source": [
    "# pd.set_option('display.max_rows',None)\n",
    "\n",
    "# df.columns\n",
    "# print(df[\"着順\"].value_counts())\n",
    "# print(df[\"枠\"].value_counts())\n",
    "# print(df[\"馬番\"].value_counts())\n",
    "# print(df[\"馬名\"].value_counts())\n",
    "# print(df[\"性齢\"].value_counts())\n",
    "# print(df[\"斤量\"].value_counts())\n",
    "# print(df[\"騎手\"].value_counts())\n",
    "# print(df[\"タイム\"].value_counts())\n",
    "# print(df[\"着差\"].value_counts())\n",
    "# print(df[\"人気\"].value_counts())\n",
    "# print(df[\"単勝オッズ\"].value_counts())\n",
    "# print(df[\"後3F\"].value_counts())\n",
    "# print(df[\"コーナー通過順\"].value_counts())\n",
    "# print(df[\"厩舎\"].value_counts())\n",
    "# print(df[\"馬体重(増減)\"].value_counts())"
   ]
  },
  {
   "cell_type": "code",
   "execution_count": null,
   "metadata": {},
   "outputs": [],
   "source": [
    "# house_data[house_data[\"厩舎\"] == \"36.8\"].index"
   ]
  }
 ],
 "metadata": {
  "interpreter": {
   "hash": "17524995b3fb89f69a1eefd3d21017daf0e335c7df3994005e07ddeae9fe971e"
  },
  "kernelspec": {
   "display_name": "Python 3.9.10 ('venv39': venv)",
   "language": "python",
   "name": "python3"
  },
  "language_info": {
   "codemirror_mode": {
    "name": "ipython",
    "version": 3
   },
   "file_extension": ".py",
   "mimetype": "text/x-python",
   "name": "python",
   "nbconvert_exporter": "python",
   "pygments_lexer": "ipython3",
   "version": "3.9.10"
  },
  "orig_nbformat": 4
 },
 "nbformat": 4,
 "nbformat_minor": 2
}
