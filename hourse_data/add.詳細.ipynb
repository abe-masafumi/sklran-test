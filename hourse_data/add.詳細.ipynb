{
 "cells": [
  {
   "cell_type": "markdown",
   "metadata": {},
   "source": [
    "## 日付データやその他情報を追加"
   ]
  },
  {
   "cell_type": "code",
   "execution_count": 2,
   "metadata": {},
   "outputs": [],
   "source": [
    "import pandas as pd"
   ]
  },
  {
   "cell_type": "markdown",
   "metadata": {},
   "source": [
    " データの読み込み"
   ]
  },
  {
   "cell_type": "code",
   "execution_count": 4,
   "metadata": {},
   "outputs": [
    {
     "data": {
      "text/html": [
       "<div>\n",
       "<style scoped>\n",
       "    .dataframe tbody tr th:only-of-type {\n",
       "        vertical-align: middle;\n",
       "    }\n",
       "\n",
       "    .dataframe tbody tr th {\n",
       "        vertical-align: top;\n",
       "    }\n",
       "\n",
       "    .dataframe thead th {\n",
       "        text-align: right;\n",
       "    }\n",
       "</style>\n",
       "<table border=\"1\" class=\"dataframe\">\n",
       "  <thead>\n",
       "    <tr style=\"text-align: right;\">\n",
       "      <th></th>\n",
       "      <th>着順</th>\n",
       "      <th>枠</th>\n",
       "      <th>馬番</th>\n",
       "      <th>馬名</th>\n",
       "      <th>性齢</th>\n",
       "      <th>斤量</th>\n",
       "      <th>騎手</th>\n",
       "      <th>タイム</th>\n",
       "      <th>着差</th>\n",
       "      <th>人気</th>\n",
       "      <th>単勝オッズ</th>\n",
       "      <th>後3F</th>\n",
       "      <th>コーナー通過順</th>\n",
       "      <th>厩舎</th>\n",
       "      <th>馬体重(増減)</th>\n",
       "    </tr>\n",
       "  </thead>\n",
       "  <tbody>\n",
       "    <tr>\n",
       "      <th>202103010101</th>\n",
       "      <td>1</td>\n",
       "      <td>6</td>\n",
       "      <td>9</td>\n",
       "      <td>ビレッジイーグル</td>\n",
       "      <td>牡4</td>\n",
       "      <td>60.0</td>\n",
       "      <td>大江原</td>\n",
       "      <td>2:58.2</td>\n",
       "      <td>NaN</td>\n",
       "      <td>5</td>\n",
       "      <td>8.6</td>\n",
       "      <td>13.0</td>\n",
       "      <td>1-1-1-1</td>\n",
       "      <td>美浦竹内</td>\n",
       "      <td>500(-6)</td>\n",
       "    </tr>\n",
       "    <tr>\n",
       "      <th>202103010101</th>\n",
       "      <td>2</td>\n",
       "      <td>3</td>\n",
       "      <td>4</td>\n",
       "      <td>ベイビーステップ</td>\n",
       "      <td>牡7</td>\n",
       "      <td>60.0</td>\n",
       "      <td>伴</td>\n",
       "      <td>2:58.4</td>\n",
       "      <td>1</td>\n",
       "      <td>6</td>\n",
       "      <td>10.1</td>\n",
       "      <td>13.0</td>\n",
       "      <td>4-3-2-2</td>\n",
       "      <td>美浦菊川</td>\n",
       "      <td>496(0)</td>\n",
       "    </tr>\n",
       "    <tr>\n",
       "      <th>...</th>\n",
       "      <td>...</td>\n",
       "      <td>...</td>\n",
       "      <td>...</td>\n",
       "      <td>...</td>\n",
       "      <td>...</td>\n",
       "      <td>...</td>\n",
       "      <td>...</td>\n",
       "      <td>...</td>\n",
       "      <td>...</td>\n",
       "      <td>...</td>\n",
       "      <td>...</td>\n",
       "      <td>...</td>\n",
       "      <td>...</td>\n",
       "      <td>...</td>\n",
       "      <td>...</td>\n",
       "    </tr>\n",
       "    <tr>\n",
       "      <th>202102010112</th>\n",
       "      <td>10</td>\n",
       "      <td>7</td>\n",
       "      <td>9</td>\n",
       "      <td>ウエストンバート</td>\n",
       "      <td>牡3</td>\n",
       "      <td>54.0</td>\n",
       "      <td>横山武</td>\n",
       "      <td>1:48.1</td>\n",
       "      <td>2.1/2</td>\n",
       "      <td>4</td>\n",
       "      <td>6.8</td>\n",
       "      <td>36.3</td>\n",
       "      <td>2-2-2-2</td>\n",
       "      <td>栗東吉岡</td>\n",
       "      <td>522(-6)</td>\n",
       "    </tr>\n",
       "    <tr>\n",
       "      <th>202102010112</th>\n",
       "      <td>11</td>\n",
       "      <td>8</td>\n",
       "      <td>10</td>\n",
       "      <td>ザイラ</td>\n",
       "      <td>牝4</td>\n",
       "      <td>55.0</td>\n",
       "      <td>吉田隼</td>\n",
       "      <td>1:48.3</td>\n",
       "      <td>1.1/4</td>\n",
       "      <td>10</td>\n",
       "      <td>45.9</td>\n",
       "      <td>35.6</td>\n",
       "      <td>9-9-8-10</td>\n",
       "      <td>栗東奥村豊</td>\n",
       "      <td>484(0)</td>\n",
       "    </tr>\n",
       "  </tbody>\n",
       "</table>\n",
       "<p>468 rows × 15 columns</p>\n",
       "</div>"
      ],
      "text/plain": [
       "              着順  枠  馬番        馬名  性齢    斤量   騎手     タイム     着差  人気 単勝オッズ  \\\n",
       "202103010101   1  6   9  ビレッジイーグル  牡4  60.0  大江原  2:58.2    NaN   5   8.6   \n",
       "202103010101   2  3   4  ベイビーステップ  牡7  60.0    伴  2:58.4      1   6  10.1   \n",
       "...           .. ..  ..       ...  ..   ...  ...     ...    ...  ..   ...   \n",
       "202102010112  10  7   9  ウエストンバート  牡3  54.0  横山武  1:48.1  2.1/2   4   6.8   \n",
       "202102010112  11  8  10       ザイラ  牝4  55.0  吉田隼  1:48.3  1.1/4  10  45.9   \n",
       "\n",
       "               後3F   コーナー通過順     厩舎  馬体重(増減)  \n",
       "202103010101  13.0   1-1-1-1   美浦竹内  500(-6)  \n",
       "202103010101  13.0   4-3-2-2   美浦菊川   496(0)  \n",
       "...            ...       ...    ...      ...  \n",
       "202102010112  36.3   2-2-2-2   栗東吉岡  522(-6)  \n",
       "202102010112  35.6  9-9-8-10  栗東奥村豊   484(0)  \n",
       "\n",
       "[468 rows x 15 columns]"
      ]
     },
     "execution_count": 4,
     "metadata": {},
     "output_type": "execute_result"
    }
   ],
   "source": [
    "pd.set_option('display.max_rows',5)\n",
    "\n",
    "results = pd.read_pickle('df.pickle')"
   ]
  },
  {
   "cell_type": "markdown",
   "metadata": {},
   "source": [
    " ---"
   ]
  },
  {
   "cell_type": "code",
   "execution_count": null,
   "metadata": {},
   "outputs": [],
   "source": []
  },
  {
   "cell_type": "code",
   "execution_count": null,
   "metadata": {},
   "outputs": [],
   "source": []
  }
 ],
 "metadata": {
  "interpreter": {
   "hash": "17524995b3fb89f69a1eefd3d21017daf0e335c7df3994005e07ddeae9fe971e"
  },
  "kernelspec": {
   "display_name": "Python 3.9.10 ('venv39': venv)",
   "language": "python",
   "name": "python3"
  },
  "language_info": {
   "codemirror_mode": {
    "name": "ipython",
    "version": 3
   },
   "file_extension": ".py",
   "mimetype": "text/x-python",
   "name": "python",
   "nbconvert_exporter": "python",
   "pygments_lexer": "ipython3",
   "version": "3.9.10"
  },
  "orig_nbformat": 4
 },
 "nbformat": 4,
 "nbformat_minor": 2
}
