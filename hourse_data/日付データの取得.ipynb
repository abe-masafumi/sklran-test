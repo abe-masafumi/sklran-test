{
 "cells": [
  {
   "cell_type": "markdown",
   "metadata": {},
   "source": [
    "レース環境情報をスクレイピングで取得"
   ]
  },
  {
   "cell_type": "code",
   "execution_count": 177,
   "metadata": {},
   "outputs": [],
   "source": [
    "import requests\n",
    "from bs4 import BeautifulSoup\n",
    "import pandas as pd\n",
    "import re\n",
    "import time\n",
    "from tqdm import tqdm\n",
    "import datetime\n",
    "\n",
    "pd.options.display.width = 500\n",
    "pd.options.display.column_space = 200"
   ]
  },
  {
   "cell_type": "code",
   "execution_count": 178,
   "metadata": {},
   "outputs": [],
   "source": [
    "# race_id = \"202104020101\"\n",
    "# url = \"https://race.netkeiba.com/race/result.html?race_id=\" + race_id\n",
    "# html = requests.get(url)\n",
    "# html.encoding= \"EUC_JP\"\n",
    "# soup = BeautifulSoup(html.text, \"html.parser\")"
   ]
  },
  {
   "cell_type": "code",
   "execution_count": 179,
   "metadata": {},
   "outputs": [
    {
     "data": {
      "text/plain": [
       "'5月8日(土)'"
      ]
     },
     "execution_count": 179,
     "metadata": {},
     "output_type": "execute_result"
    }
   ],
   "source": [
    "# 日付 = soup.find(\"dd\",class_='Active')\n",
    "# 日付.find(\"a\").get_text()"
   ]
  },
  {
   "cell_type": "code",
   "execution_count": 180,
   "metadata": {},
   "outputs": [],
   "source": [
    "# レース情報 = soup.find(\"div\", class_=\"RaceList_Item02\") "
   ]
  },
  {
   "cell_type": "code",
   "execution_count": 181,
   "metadata": {},
   "outputs": [
    {
     "data": {
      "text/plain": [
       "['4歳以上障害OP']"
      ]
     },
     "execution_count": 181,
     "metadata": {},
     "output_type": "execute_result"
    }
   ],
   "source": [
    "# レース名 = レース情報.find(\"div\",class_=\"RaceName\").get_text()\n",
    "# re.findall(r\"\\w+\",レース名)"
   ]
  },
  {
   "cell_type": "code",
   "execution_count": 182,
   "metadata": {},
   "outputs": [
    {
     "data": {
      "text/plain": [
       "['09', '50発走', '障2890m', '芝', '外', '内', '天候', '晴', '馬場', '良']"
      ]
     },
     "execution_count": 182,
     "metadata": {},
     "output_type": "execute_result"
    }
   ],
   "source": [
    "# レース環境 = レース情報.find(\"div\",class_=\"RaceData01\").get_text()\n",
    "# re.findall(r\"\\w+\",レース環境)"
   ]
  },
  {
   "cell_type": "markdown",
   "metadata": {},
   "source": [
    "----\n",
    "\n",
    "スクレイピングしながらデータの成形"
   ]
  },
  {
   "cell_type": "code",
   "execution_count": 183,
   "metadata": {},
   "outputs": [
    {
     "data": {
      "text/plain": [
       "Index(['202101010101', '202101010102', '202102010101', '202102010102', '202103010101', '202103010102', '202104010101', '202104010102', '202105010101', '202105010102',\n",
       "       ...\n",
       "       '202109040102', '202109040201', '202109040202', '202109040301', '202110040101', '202110040102', '202110040201', '202110040202', '202110040301', '202110040302'], dtype='object', length=173)"
      ]
     },
     "execution_count": 183,
     "metadata": {},
     "output_type": "execute_result"
    }
   ],
   "source": [
    "df = pd.read_pickle('df.pickle')\n",
    "race_id_list = df.index.unique()\n",
    "race_id_list"
   ]
  },
  {
   "cell_type": "markdown",
   "metadata": {},
   "source": [
    "df.pickleに保存したdataframeのindexを参照してして全てのレース環境情報をスクレイピング"
   ]
  },
  {
   "cell_type": "code",
   "execution_count": 184,
   "metadata": {},
   "outputs": [
    {
     "name": "stderr",
     "output_type": "stream",
     "text": [
      "100%|██████████| 173/173 [02:30<00:00,  1.15it/s]\n"
     ]
    }
   ],
   "source": [
    "race_infos = {}\n",
    "for race_id in tqdm(race_id_list):\n",
    "  url = \"https://race.netkeiba.com/race/result.html?race_id=\" + race_id\n",
    "  html = requests.get(url)\n",
    "  html.encoding= \"EUC_JP\"\n",
    "  soup = BeautifulSoup(html.text, \"html.parser\")\n",
    "\n",
    "  日付 = soup.find(\"dd\",class_='Active')\n",
    "  日付 = 日付.find(\"a\").get_text()\n",
    "  レース情報 = soup.find(\"div\", class_=\"RaceList_Item02\") \n",
    "  # 距離 = レース情報.find(\"div\",class_=\"RaceData01\").find(\"span\").get_text()\n",
    "  # 馬場 = レース情報.find(\"div\",class_=\"RaceData01\").find(\"span\",class_=\"Item03\").get_text()\n",
    "  レース環境 = レース情報.find(\"div\",class_=\"RaceData01\").get_text()\n",
    "  info = re.findall(r\"\\w+\",レース環境)\n",
    "  info[0] = info[2][:1]\n",
    "  info[1] = info[2][1:]\n",
    "  info.pop(2)\n",
    "  info_dict = {}\n",
    "  # print(info)\n",
    "  info_dict[\"date\"] = f\"{race_id[:4]}年{日付[:-3]}\"\n",
    "\n",
    "  for text in info:\n",
    "    # print(text)\n",
    "    if text in [\"芝\",\"ダ\"]:\n",
    "      # print(\"芝付き\")\n",
    "      info_dict[\"race_type\"] = text\n",
    "    if \"障\" in text:\n",
    "      info_dict[\"race_type\"] = \"障害\"\n",
    "    if \"m\" in text:\n",
    "      # print(\"mつき\")\n",
    "      info_dict[\"course_ren\"] = re.findall(r\"\\d+\",text)[0]\n",
    "    if text in [\"雨\",\"小雨\",\"小雪\",\"雪\",\"晴\",\"曇\"]:\n",
    "      # print(\"天気\")\n",
    "      info_dict[\"weather\"] = text\n",
    "    # if \"年\" in text:\n",
    "    #   info_dict[\"data\"] = text\n",
    "    if text in [\"良\",\"不良\",\"重\",\"稍\",\"不\"]:\n",
    "      # print(\"馬場\")\n",
    "      info_dict[\"ground_state\"] = text\n",
    "\n",
    "\n",
    "  race_infos[race_id] = info_dict\n",
    "  time.sleep(.5)"
   ]
  },
  {
   "cell_type": "code",
   "execution_count": 185,
   "metadata": {},
   "outputs": [],
   "source": [
    "race_infos_df = pd.DataFrame(race_infos).T\n"
   ]
  },
  {
   "cell_type": "code",
   "execution_count": 186,
   "metadata": {},
   "outputs": [],
   "source": [
    "results = pd.read_pickle(\"df.pickle\")"
   ]
  },
  {
   "cell_type": "code",
   "execution_count": 187,
   "metadata": {},
   "outputs": [],
   "source": [
    "results_addinfo = results.merge(race_infos_df,left_index=True,right_index=True,how=\"inner\")"
   ]
  },
  {
   "cell_type": "code",
   "execution_count": 188,
   "metadata": {},
   "outputs": [
    {
     "data": {
      "text/plain": [
       "Index(['着順', '枠', '馬番', '馬名', '斤量', '騎手', '人気', '性', '齢', '体重', '体重変化', 'date', 'race_type', 'course_ren', 'weather', 'ground_state'], dtype='object')"
      ]
     },
     "execution_count": 188,
     "metadata": {},
     "output_type": "execute_result"
    }
   ],
   "source": [
    "results_addinfo.columns"
   ]
  },
  {
   "cell_type": "code",
   "execution_count": 189,
   "metadata": {},
   "outputs": [
    {
     "data": {
      "text/plain": [
       "着順              0\n",
       "枠               0\n",
       "馬番              0\n",
       "馬名              0\n",
       "斤量              0\n",
       "騎手              0\n",
       "人気              0\n",
       "性               0\n",
       "齢               0\n",
       "体重              0\n",
       "体重変化            0\n",
       "date            0\n",
       "race_type       0\n",
       "course_ren      0\n",
       "weather         0\n",
       "ground_state    0\n",
       "dtype: int64"
      ]
     },
     "execution_count": 189,
     "metadata": {},
     "output_type": "execute_result"
    }
   ],
   "source": [
    "pd.set_option('display.max_rows',None)\n",
    "# results_addinfo[\"ground_state\"].value_counts()\n",
    "results_addinfo.isnull().sum()"
   ]
  },
  {
   "cell_type": "markdown",
   "metadata": {},
   "source": [
    "日付データの成形"
   ]
  },
  {
   "cell_type": "code",
   "execution_count": 190,
   "metadata": {},
   "outputs": [
    {
     "name": "stdout",
     "output_type": "stream",
     "text": [
      "<class 'pandas.core.frame.DataFrame'>\n",
      "Index: 2416 entries, 202101010101 to 202110040302\n",
      "Data columns (total 16 columns):\n",
      " #   Column        Non-Null Count  Dtype         \n",
      "---  ------        --------------  -----         \n",
      " 0   着順            2416 non-null   int64         \n",
      " 1   枠             2416 non-null   float64       \n",
      " 2   馬番            2416 non-null   object        \n",
      " 3   馬名            2416 non-null   object        \n",
      " 4   斤量            2416 non-null   float64       \n",
      " 5   騎手            2416 non-null   object        \n",
      " 6   人気            2416 non-null   float64       \n",
      " 7   性             2416 non-null   object        \n",
      " 8   齢             2416 non-null   int64         \n",
      " 9   体重            2416 non-null   int64         \n",
      " 10  体重変化          2416 non-null   int64         \n",
      " 11  date          2416 non-null   datetime64[ns]\n",
      " 12  race_type     2416 non-null   object        \n",
      " 13  course_ren    2416 non-null   object        \n",
      " 14  weather       2416 non-null   object        \n",
      " 15  ground_state  2416 non-null   object        \n",
      "dtypes: datetime64[ns](1), float64(3), int64(4), object(8)\n",
      "memory usage: 320.9+ KB\n"
     ]
    }
   ],
   "source": [
    "results_addinfo[\"date\"] = pd.to_datetime(results_addinfo[\"date\"],format=\"%Y年%m月%d日\")\n",
    "results_addinfo.info()"
   ]
  },
  {
   "cell_type": "code",
   "execution_count": 191,
   "metadata": {},
   "outputs": [],
   "source": [
    "sorted_id_list = results_addinfo.sort_values(\"date\").index.unique()"
   ]
  },
  {
   "cell_type": "code",
   "execution_count": 192,
   "metadata": {},
   "outputs": [
    {
     "data": {
      "text/plain": [
       "121"
      ]
     },
     "execution_count": 192,
     "metadata": {},
     "output_type": "execute_result"
    }
   ],
   "source": [
    "round(len(sorted_id_list) * 0.7)"
   ]
  },
  {
   "cell_type": "code",
   "execution_count": 193,
   "metadata": {},
   "outputs": [],
   "source": [
    "# train_id_list = sorted_id_list[:round(len(sorted_id_list) * 0.7)]\n",
    "# test_id_list = sorted_id_list[round(len(sorted_id_list) * 0.7):]"
   ]
  },
  {
   "cell_type": "code",
   "execution_count": 194,
   "metadata": {},
   "outputs": [],
   "source": [
    "# train = results_addinfo.loc[train_id_list]\n",
    "# test = results_addinfo.loc[test_id_list]"
   ]
  },
  {
   "cell_type": "code",
   "execution_count": 195,
   "metadata": {},
   "outputs": [],
   "source": [
    "# len(train)"
   ]
  },
  {
   "cell_type": "code",
   "execution_count": 196,
   "metadata": {},
   "outputs": [],
   "source": [
    "# len(test)"
   ]
  },
  {
   "cell_type": "code",
   "execution_count": 197,
   "metadata": {},
   "outputs": [],
   "source": [
    "# len(results_addinfo)"
   ]
  },
  {
   "cell_type": "code",
   "execution_count": 198,
   "metadata": {},
   "outputs": [],
   "source": [
    "def split_data(df, test_size):\n",
    "  # ソート\n",
    "  sorted_id_list = df.sort_values('date').index.unique()\n",
    "  # データの分割\n",
    "  train_id_list = sorted_id_list[:round(len(sorted_id_list) * (1-test_size))]\n",
    "  test_id_list = sorted_id_list[round(len(sorted_id_list) * (1-test_size)):]\n",
    "  \n",
    "  train = df.loc[train_id_list]\n",
    "  test = df.loc[test_id_list]\n",
    "  return train, test"
   ]
  },
  {
   "cell_type": "code",
   "execution_count": 199,
   "metadata": {},
   "outputs": [],
   "source": [
    "# ダミーデータの作成\n",
    "results_d = pd.get_dummies(results_addinfo)\n",
    "results_d[\"rank\"] = results_d[\"着順\"].map(lambda x: x if x < 4 else 4)\n",
    "train,test = split_data(results_d,0.3)"
   ]
  },
  {
   "cell_type": "code",
   "execution_count": 200,
   "metadata": {},
   "outputs": [
    {
     "data": {
      "text/plain": [
       "Index(['着順', '枠', '斤量', '人気', '齢', '体重', '体重変化', 'date', '馬番_1', '馬番_2',\n",
       "       ...\n",
       "       'course_ren_3390', 'weather_小雨', 'weather_晴', 'weather_曇', 'weather_雨', 'ground_state_不', 'ground_state_稍', 'ground_state_良', 'ground_state_重', 'rank'], dtype='object', length=2099)"
      ]
     },
     "execution_count": 200,
     "metadata": {},
     "output_type": "execute_result"
    }
   ],
   "source": [
    "train.columns"
   ]
  },
  {
   "cell_type": "code",
   "execution_count": 202,
   "metadata": {},
   "outputs": [],
   "source": [
    "from imblearn.under_sampling import RandomUnderSampler\n",
    "\n",
    "rank_1 = train[\"rank\"].value_counts()[1]\n",
    "rank_2 = train[\"rank\"].value_counts()[2]\n",
    "rank_3 = train[\"rank\"].value_counts()[3]\n",
    "\n",
    "rus = RandomUnderSampler(sampling_strategy=\"auto\",random_state=None,replacement=False)\n",
    "\n",
    "X_train = train.drop([\"着順\",\"date\",\"rank\"],axis=1)\n",
    "y_train = train[\"rank\"]\n",
    "X_test = test.drop([\"着順\",\"date\",\"rank\"],axis=1)\n",
    "y_test = test[\"rank\"]\n",
    "\n",
    "\n",
    "X_train_rus,y_train_rus = rus.fit_resample(X_train,y_train)"
   ]
  },
  {
   "cell_type": "code",
   "execution_count": null,
   "metadata": {},
   "outputs": [],
   "source": [
    "X_train_rus"
   ]
  },
  {
   "cell_type": "code",
   "execution_count": null,
   "metadata": {},
   "outputs": [],
   "source": [
    "y_train_rus"
   ]
  },
  {
   "cell_type": "code",
   "execution_count": 209,
   "metadata": {},
   "outputs": [
    {
     "name": "stdout",
     "output_type": "stream",
     "text": [
      "0.7017643710870802 0.4613050075872534\n"
     ]
    }
   ],
   "source": [
    "from sklearn.ensemble import RandomForestClassifier\n",
    "\n",
    "clf = RandomForestClassifier(random_state=0)\n",
    "clf.fit(X_train_rus,y_train_rus)\n",
    "\n",
    "print(clf.score(X_train,y_train),clf.score(X_test,y_test))"
   ]
  }
 ],
 "metadata": {
  "interpreter": {
   "hash": "17524995b3fb89f69a1eefd3d21017daf0e335c7df3994005e07ddeae9fe971e"
  },
  "kernelspec": {
   "display_name": "Python 3.9.10 ('venv39': venv)",
   "language": "python",
   "name": "python3"
  },
  "language_info": {
   "codemirror_mode": {
    "name": "ipython",
    "version": 3
   },
   "file_extension": ".py",
   "mimetype": "text/x-python",
   "name": "python",
   "nbconvert_exporter": "python",
   "pygments_lexer": "ipython3",
   "version": "3.9.10"
  },
  "orig_nbformat": 4
 },
 "nbformat": 4,
 "nbformat_minor": 2
}
