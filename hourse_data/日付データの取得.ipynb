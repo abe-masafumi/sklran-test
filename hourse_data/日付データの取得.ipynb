{
 "cells": [
  {
   "cell_type": "markdown",
   "metadata": {},
   "source": [
    "レース環境情報をスクレイピングで取得"
   ]
  },
  {
   "cell_type": "code",
   "execution_count": 1,
   "metadata": {},
   "outputs": [],
   "source": [
    "import requests\n",
    "from bs4 import BeautifulSoup\n",
    "import pandas as pd\n",
    "import re\n",
    "import time\n",
    "from tqdm import tqdm\n",
    "import datetime\n",
    "\n",
    "pd.options.display.width = 500\n",
    "pd.options.display.column_space = 200"
   ]
  },
  {
   "cell_type": "code",
   "execution_count": 2,
   "metadata": {},
   "outputs": [],
   "source": [
    "# race_id = \"202104020101\"\n",
    "# url = \"https://race.netkeiba.com/race/result.html?race_id=\" + race_id\n",
    "# html = requests.get(url)\n",
    "# html.encoding= \"EUC_JP\"\n",
    "# soup = BeautifulSoup(html.text, \"html.parser\")"
   ]
  },
  {
   "cell_type": "code",
   "execution_count": 3,
   "metadata": {},
   "outputs": [],
   "source": [
    "# 日付 = soup.find(\"dd\",class_='Active')\n",
    "# 日付.find(\"a\").get_text()"
   ]
  },
  {
   "cell_type": "code",
   "execution_count": 4,
   "metadata": {},
   "outputs": [],
   "source": [
    "# レース情報 = soup.find(\"div\", class_=\"RaceList_Item02\") "
   ]
  },
  {
   "cell_type": "code",
   "execution_count": 5,
   "metadata": {},
   "outputs": [],
   "source": [
    "# レース名 = レース情報.find(\"div\",class_=\"RaceName\").get_text()\n",
    "# re.findall(r\"\\w+\",レース名)"
   ]
  },
  {
   "cell_type": "code",
   "execution_count": 6,
   "metadata": {},
   "outputs": [],
   "source": [
    "# レース環境 = レース情報.find(\"div\",class_=\"RaceData01\").get_text()\n",
    "# re.findall(r\"\\w+\",レース環境)"
   ]
  },
  {
   "cell_type": "markdown",
   "metadata": {},
   "source": [
    "----\n",
    "\n",
    "スクレイピングしながらデータの成形"
   ]
  },
  {
   "cell_type": "code",
   "execution_count": 7,
   "metadata": {},
   "outputs": [
    {
     "data": {
      "text/plain": [
       "Index(['202101010101', '202101010102', '202102010101', '202102010102', '202103010101', '202103010102', '202104010101', '202104010102', '202105010101', '202105010102',\n",
       "       ...\n",
       "       '202109040102', '202109040201', '202109040202', '202109040301', '202110040101', '202110040102', '202110040201', '202110040202', '202110040301', '202110040302'], dtype='object', length=173)"
      ]
     },
     "execution_count": 7,
     "metadata": {},
     "output_type": "execute_result"
    }
   ],
   "source": [
    "df = pd.read_pickle('df.pickle')\n",
    "race_id_list = df.index.unique()\n",
    "race_id_list"
   ]
  },
  {
   "cell_type": "markdown",
   "metadata": {},
   "source": [
    "df.pickleに保存したdataframeのindexを参照してして全てのレース環境情報をスクレイピング"
   ]
  },
  {
   "cell_type": "code",
   "execution_count": 8,
   "metadata": {},
   "outputs": [
    {
     "name": "stderr",
     "output_type": "stream",
     "text": [
      "100%|██████████| 173/173 [02:30<00:00,  1.15it/s]\n"
     ]
    }
   ],
   "source": [
    "race_infos = {}\n",
    "for race_id in tqdm(race_id_list):\n",
    "  url = \"https://race.netkeiba.com/race/result.html?race_id=\" + race_id\n",
    "  html = requests.get(url)\n",
    "  html.encoding= \"EUC_JP\"\n",
    "  soup = BeautifulSoup(html.text, \"html.parser\")\n",
    "\n",
    "  日付 = soup.find(\"dd\",class_='Active')\n",
    "  日付 = 日付.find(\"a\").get_text()\n",
    "  レース情報 = soup.find(\"div\", class_=\"RaceList_Item02\") \n",
    "  # 距離 = レース情報.find(\"div\",class_=\"RaceData01\").find(\"span\").get_text()\n",
    "  # 馬場 = レース情報.find(\"div\",class_=\"RaceData01\").find(\"span\",class_=\"Item03\").get_text()\n",
    "  レース環境 = レース情報.find(\"div\",class_=\"RaceData01\").get_text()\n",
    "  info = re.findall(r\"\\w+\",レース環境)\n",
    "  info[0] = info[2][:1]\n",
    "  info[1] = info[2][1:]\n",
    "  info.pop(2)\n",
    "  info_dict = {}\n",
    "  # print(info)\n",
    "  info_dict[\"date\"] = f\"{race_id[:4]}年{日付[:-3]}\"\n",
    "\n",
    "  for text in info:\n",
    "    # print(text)\n",
    "    if text in [\"芝\",\"ダ\"]:\n",
    "      # print(\"芝付き\")\n",
    "      info_dict[\"race_type\"] = text\n",
    "    if \"障\" in text:\n",
    "      info_dict[\"race_type\"] = \"障害\"\n",
    "    if \"m\" in text:\n",
    "      # print(\"mつき\")\n",
    "      info_dict[\"course_ren\"] = re.findall(r\"\\d+\",text)[0]\n",
    "    if text in [\"雨\",\"小雨\",\"小雪\",\"雪\",\"晴\",\"曇\"]:\n",
    "      # print(\"天気\")\n",
    "      info_dict[\"weather\"] = text\n",
    "    # if \"年\" in text:\n",
    "    #   info_dict[\"data\"] = text\n",
    "    if text in [\"良\",\"不良\",\"重\",\"稍\",\"不\"]:\n",
    "      # print(\"馬場\")\n",
    "      info_dict[\"ground_state\"] = text\n",
    "\n",
    "\n",
    "  race_infos[race_id] = info_dict\n",
    "  time.sleep(.5)"
   ]
  },
  {
   "cell_type": "code",
   "execution_count": 9,
   "metadata": {},
   "outputs": [],
   "source": [
    "race_infos_df = pd.DataFrame(race_infos).T\n"
   ]
  },
  {
   "cell_type": "code",
   "execution_count": 10,
   "metadata": {},
   "outputs": [],
   "source": [
    "results = pd.read_pickle(\"df.pickle\")"
   ]
  },
  {
   "cell_type": "code",
   "execution_count": 11,
   "metadata": {},
   "outputs": [],
   "source": [
    "results_addinfo = results.merge(race_infos_df,left_index=True,right_index=True,how=\"inner\")"
   ]
  },
  {
   "cell_type": "code",
   "execution_count": 12,
   "metadata": {},
   "outputs": [
    {
     "data": {
      "text/plain": [
       "Index(['着順', '枠', '馬番', '馬名', '斤量', '騎手', '人気', '性', '齢', '体重', '体重変化', 'date', 'race_type', 'course_ren', 'weather', 'ground_state'], dtype='object')"
      ]
     },
     "execution_count": 12,
     "metadata": {},
     "output_type": "execute_result"
    }
   ],
   "source": [
    "results_addinfo.columns"
   ]
  },
  {
   "cell_type": "code",
   "execution_count": 13,
   "metadata": {},
   "outputs": [
    {
     "data": {
      "text/plain": [
       "着順              0\n",
       "枠               0\n",
       "馬番              0\n",
       "馬名              0\n",
       "斤量              0\n",
       "騎手              0\n",
       "人気              0\n",
       "性               0\n",
       "齢               0\n",
       "体重              0\n",
       "体重変化            0\n",
       "date            0\n",
       "race_type       0\n",
       "course_ren      0\n",
       "weather         0\n",
       "ground_state    0\n",
       "dtype: int64"
      ]
     },
     "execution_count": 13,
     "metadata": {},
     "output_type": "execute_result"
    }
   ],
   "source": [
    "pd.set_option('display.max_rows',None)\n",
    "# results_addinfo[\"ground_state\"].value_counts()\n",
    "results_addinfo.isnull().sum()"
   ]
  },
  {
   "cell_type": "markdown",
   "metadata": {},
   "source": [
    "日付データの成形"
   ]
  },
  {
   "cell_type": "code",
   "execution_count": 31,
   "metadata": {},
   "outputs": [],
   "source": []
  },
  {
   "cell_type": "code",
   "execution_count": 14,
   "metadata": {},
   "outputs": [
    {
     "name": "stdout",
     "output_type": "stream",
     "text": [
      "<class 'pandas.core.frame.DataFrame'>\n",
      "Index: 2416 entries, 202101010101 to 202110040302\n",
      "Data columns (total 16 columns):\n",
      " #   Column        Non-Null Count  Dtype         \n",
      "---  ------        --------------  -----         \n",
      " 0   着順            2416 non-null   int64         \n",
      " 1   枠             2416 non-null   float64       \n",
      " 2   馬番            2416 non-null   object        \n",
      " 3   馬名            2416 non-null   object        \n",
      " 4   斤量            2416 non-null   float64       \n",
      " 5   騎手            2416 non-null   object        \n",
      " 6   人気            2416 non-null   float64       \n",
      " 7   性             2416 non-null   object        \n",
      " 8   齢             2416 non-null   int64         \n",
      " 9   体重            2416 non-null   int64         \n",
      " 10  体重変化          2416 non-null   int64         \n",
      " 11  date          2416 non-null   datetime64[ns]\n",
      " 12  race_type     2416 non-null   object        \n",
      " 13  course_ren    2416 non-null   object        \n",
      " 14  weather       2416 non-null   object        \n",
      " 15  ground_state  2416 non-null   object        \n",
      "dtypes: datetime64[ns](1), float64(3), int64(4), object(8)\n",
      "memory usage: 320.9+ KB\n"
     ]
    }
   ],
   "source": [
    "results_addinfo[\"date\"] = pd.to_datetime(results_addinfo[\"date\"],format=\"%Y年%m月%d日\")\n",
    "results_addinfo.info()"
   ]
  },
  {
   "cell_type": "code",
   "execution_count": null,
   "metadata": {},
   "outputs": [],
   "source": [
    "results_addinfo.to_pickle(\"results_p\")"
   ]
  },
  {
   "cell_type": "code",
   "execution_count": 15,
   "metadata": {},
   "outputs": [],
   "source": [
    "sorted_id_list = results_addinfo.sort_values(\"date\").index.unique()"
   ]
  },
  {
   "cell_type": "code",
   "execution_count": 16,
   "metadata": {},
   "outputs": [
    {
     "data": {
      "text/plain": [
       "121"
      ]
     },
     "execution_count": 16,
     "metadata": {},
     "output_type": "execute_result"
    }
   ],
   "source": [
    "round(len(sorted_id_list) * 0.7)"
   ]
  },
  {
   "cell_type": "code",
   "execution_count": 17,
   "metadata": {},
   "outputs": [],
   "source": [
    "# train_id_list = sorted_id_list[:round(len(sorted_id_list) * 0.7)]\n",
    "# test_id_list = sorted_id_list[round(len(sorted_id_list) * 0.7):]"
   ]
  },
  {
   "cell_type": "code",
   "execution_count": 18,
   "metadata": {},
   "outputs": [],
   "source": [
    "# train = results_addinfo.loc[train_id_list]\n",
    "# test = results_addinfo.loc[test_id_list]"
   ]
  },
  {
   "cell_type": "code",
   "execution_count": 19,
   "metadata": {},
   "outputs": [],
   "source": [
    "# len(train)"
   ]
  },
  {
   "cell_type": "code",
   "execution_count": 20,
   "metadata": {},
   "outputs": [],
   "source": [
    "# len(test)"
   ]
  },
  {
   "cell_type": "code",
   "execution_count": 21,
   "metadata": {},
   "outputs": [],
   "source": [
    "# len(results_addinfo)"
   ]
  },
  {
   "cell_type": "code",
   "execution_count": 22,
   "metadata": {},
   "outputs": [],
   "source": [
    "def split_data(df, test_size):\n",
    "  # ソート\n",
    "  sorted_id_list = df.sort_values('date').index.unique()\n",
    "  # データの分割\n",
    "  train_id_list = sorted_id_list[:round(len(sorted_id_list) * (1-test_size))]\n",
    "  test_id_list = sorted_id_list[round(len(sorted_id_list) * (1-test_size)):]\n",
    "  \n",
    "  train = df.loc[train_id_list]\n",
    "  test = df.loc[test_id_list]\n",
    "  return train, test"
   ]
  },
  {
   "cell_type": "code",
   "execution_count": 23,
   "metadata": {},
   "outputs": [],
   "source": [
    "# ダミーデータの作成\n",
    "results_d = pd.get_dummies(results_addinfo)\n",
    "results_d[\"rank\"] = results_d[\"着順\"].map(lambda x: x if x < 4 else 4)\n",
    "train,test = split_data(results_d,0.3)"
   ]
  },
  {
   "cell_type": "code",
   "execution_count": 24,
   "metadata": {},
   "outputs": [
    {
     "data": {
      "text/plain": [
       "Index(['着順', '枠', '斤量', '人気', '齢', '体重', '体重変化', 'date', '馬番_1', '馬番_2',\n",
       "       ...\n",
       "       'course_ren_3390', 'weather_小雨', 'weather_晴', 'weather_曇', 'weather_雨', 'ground_state_不', 'ground_state_稍', 'ground_state_良', 'ground_state_重', 'rank'], dtype='object', length=2099)"
      ]
     },
     "execution_count": 24,
     "metadata": {},
     "output_type": "execute_result"
    }
   ],
   "source": [
    "train.columns"
   ]
  },
  {
   "cell_type": "code",
   "execution_count": 25,
   "metadata": {},
   "outputs": [],
   "source": [
    "from imblearn.under_sampling import RandomUnderSampler\n",
    "\n",
    "rank_1 = train[\"rank\"].value_counts()[1]\n",
    "rank_2 = train[\"rank\"].value_counts()[2]\n",
    "rank_3 = train[\"rank\"].value_counts()[3]\n",
    "\n",
    "rus = RandomUnderSampler(sampling_strategy=\"auto\",random_state=None,replacement=False)\n",
    "\n",
    "X_train = train.drop([\"着順\",\"date\",\"rank\"],axis=1)\n",
    "y_train = train[\"rank\"]\n",
    "X_test = test.drop([\"着順\",\"date\",\"rank\"],axis=1)\n",
    "y_test = test[\"rank\"]\n",
    "\n",
    "\n",
    "X_train_rus,y_train_rus = rus.fit_resample(X_train,y_train)"
   ]
  },
  {
   "cell_type": "code",
   "execution_count": null,
   "metadata": {},
   "outputs": [],
   "source": [
    "X_train_rus"
   ]
  },
  {
   "cell_type": "code",
   "execution_count": 27,
   "metadata": {},
   "outputs": [
    {
     "data": {
      "text/plain": [
       "0      1\n",
       "1      1\n",
       "2      1\n",
       "3      1\n",
       "4      1\n",
       "5      1\n",
       "6      1\n",
       "7      1\n",
       "8      1\n",
       "9      1\n",
       "10     1\n",
       "11     1\n",
       "12     1\n",
       "13     1\n",
       "14     1\n",
       "15     1\n",
       "16     1\n",
       "17     1\n",
       "18     1\n",
       "19     1\n",
       "20     1\n",
       "21     1\n",
       "22     1\n",
       "23     1\n",
       "24     1\n",
       "25     1\n",
       "26     1\n",
       "27     1\n",
       "28     1\n",
       "29     1\n",
       "30     1\n",
       "31     1\n",
       "32     1\n",
       "33     1\n",
       "34     1\n",
       "35     1\n",
       "36     1\n",
       "37     1\n",
       "38     1\n",
       "39     1\n",
       "40     1\n",
       "41     1\n",
       "42     1\n",
       "43     1\n",
       "44     1\n",
       "45     1\n",
       "46     1\n",
       "47     1\n",
       "48     1\n",
       "49     1\n",
       "50     1\n",
       "51     1\n",
       "52     1\n",
       "53     1\n",
       "54     1\n",
       "55     1\n",
       "56     1\n",
       "57     1\n",
       "58     1\n",
       "59     1\n",
       "60     1\n",
       "61     1\n",
       "62     1\n",
       "63     1\n",
       "64     1\n",
       "65     1\n",
       "66     1\n",
       "67     1\n",
       "68     1\n",
       "69     1\n",
       "70     1\n",
       "71     1\n",
       "72     1\n",
       "73     1\n",
       "74     1\n",
       "75     1\n",
       "76     1\n",
       "77     1\n",
       "78     1\n",
       "79     1\n",
       "80     1\n",
       "81     1\n",
       "82     1\n",
       "83     1\n",
       "84     1\n",
       "85     1\n",
       "86     1\n",
       "87     1\n",
       "88     1\n",
       "89     1\n",
       "90     1\n",
       "91     1\n",
       "92     1\n",
       "93     1\n",
       "94     1\n",
       "95     1\n",
       "96     1\n",
       "97     1\n",
       "98     1\n",
       "99     1\n",
       "100    1\n",
       "101    1\n",
       "102    1\n",
       "103    1\n",
       "104    1\n",
       "105    1\n",
       "106    1\n",
       "107    1\n",
       "108    1\n",
       "109    1\n",
       "110    1\n",
       "111    1\n",
       "112    1\n",
       "113    1\n",
       "114    1\n",
       "115    1\n",
       "116    1\n",
       "117    1\n",
       "118    1\n",
       "119    1\n",
       "120    1\n",
       "121    2\n",
       "122    2\n",
       "123    2\n",
       "124    2\n",
       "125    2\n",
       "126    2\n",
       "127    2\n",
       "128    2\n",
       "129    2\n",
       "130    2\n",
       "131    2\n",
       "132    2\n",
       "133    2\n",
       "134    2\n",
       "135    2\n",
       "136    2\n",
       "137    2\n",
       "138    2\n",
       "139    2\n",
       "140    2\n",
       "141    2\n",
       "142    2\n",
       "143    2\n",
       "144    2\n",
       "145    2\n",
       "146    2\n",
       "147    2\n",
       "148    2\n",
       "149    2\n",
       "150    2\n",
       "151    2\n",
       "152    2\n",
       "153    2\n",
       "154    2\n",
       "155    2\n",
       "156    2\n",
       "157    2\n",
       "158    2\n",
       "159    2\n",
       "160    2\n",
       "161    2\n",
       "162    2\n",
       "163    2\n",
       "164    2\n",
       "165    2\n",
       "166    2\n",
       "167    2\n",
       "168    2\n",
       "169    2\n",
       "170    2\n",
       "171    2\n",
       "172    2\n",
       "173    2\n",
       "174    2\n",
       "175    2\n",
       "176    2\n",
       "177    2\n",
       "178    2\n",
       "179    2\n",
       "180    2\n",
       "181    2\n",
       "182    2\n",
       "183    2\n",
       "184    2\n",
       "185    2\n",
       "186    2\n",
       "187    2\n",
       "188    2\n",
       "189    2\n",
       "190    2\n",
       "191    2\n",
       "192    2\n",
       "193    2\n",
       "194    2\n",
       "195    2\n",
       "196    2\n",
       "197    2\n",
       "198    2\n",
       "199    2\n",
       "200    2\n",
       "201    2\n",
       "202    2\n",
       "203    2\n",
       "204    2\n",
       "205    2\n",
       "206    2\n",
       "207    2\n",
       "208    2\n",
       "209    2\n",
       "210    2\n",
       "211    2\n",
       "212    2\n",
       "213    2\n",
       "214    2\n",
       "215    2\n",
       "216    2\n",
       "217    2\n",
       "218    2\n",
       "219    2\n",
       "220    2\n",
       "221    2\n",
       "222    2\n",
       "223    2\n",
       "224    2\n",
       "225    2\n",
       "226    2\n",
       "227    2\n",
       "228    2\n",
       "229    2\n",
       "230    2\n",
       "231    2\n",
       "232    2\n",
       "233    2\n",
       "234    2\n",
       "235    2\n",
       "236    2\n",
       "237    2\n",
       "238    2\n",
       "239    2\n",
       "240    2\n",
       "241    2\n",
       "242    3\n",
       "243    3\n",
       "244    3\n",
       "245    3\n",
       "246    3\n",
       "247    3\n",
       "248    3\n",
       "249    3\n",
       "250    3\n",
       "251    3\n",
       "252    3\n",
       "253    3\n",
       "254    3\n",
       "255    3\n",
       "256    3\n",
       "257    3\n",
       "258    3\n",
       "259    3\n",
       "260    3\n",
       "261    3\n",
       "262    3\n",
       "263    3\n",
       "264    3\n",
       "265    3\n",
       "266    3\n",
       "267    3\n",
       "268    3\n",
       "269    3\n",
       "270    3\n",
       "271    3\n",
       "272    3\n",
       "273    3\n",
       "274    3\n",
       "275    3\n",
       "276    3\n",
       "277    3\n",
       "278    3\n",
       "279    3\n",
       "280    3\n",
       "281    3\n",
       "282    3\n",
       "283    3\n",
       "284    3\n",
       "285    3\n",
       "286    3\n",
       "287    3\n",
       "288    3\n",
       "289    3\n",
       "290    3\n",
       "291    3\n",
       "292    3\n",
       "293    3\n",
       "294    3\n",
       "295    3\n",
       "296    3\n",
       "297    3\n",
       "298    3\n",
       "299    3\n",
       "300    3\n",
       "301    3\n",
       "302    3\n",
       "303    3\n",
       "304    3\n",
       "305    3\n",
       "306    3\n",
       "307    3\n",
       "308    3\n",
       "309    3\n",
       "310    3\n",
       "311    3\n",
       "312    3\n",
       "313    3\n",
       "314    3\n",
       "315    3\n",
       "316    3\n",
       "317    3\n",
       "318    3\n",
       "319    3\n",
       "320    3\n",
       "321    3\n",
       "322    3\n",
       "323    3\n",
       "324    3\n",
       "325    3\n",
       "326    3\n",
       "327    3\n",
       "328    3\n",
       "329    3\n",
       "330    3\n",
       "331    3\n",
       "332    3\n",
       "333    3\n",
       "334    3\n",
       "335    3\n",
       "336    3\n",
       "337    3\n",
       "338    3\n",
       "339    3\n",
       "340    3\n",
       "341    3\n",
       "342    3\n",
       "343    3\n",
       "344    3\n",
       "345    3\n",
       "346    3\n",
       "347    3\n",
       "348    3\n",
       "349    3\n",
       "350    3\n",
       "351    3\n",
       "352    3\n",
       "353    3\n",
       "354    3\n",
       "355    3\n",
       "356    3\n",
       "357    3\n",
       "358    3\n",
       "359    3\n",
       "360    3\n",
       "361    3\n",
       "362    3\n",
       "363    4\n",
       "364    4\n",
       "365    4\n",
       "366    4\n",
       "367    4\n",
       "368    4\n",
       "369    4\n",
       "370    4\n",
       "371    4\n",
       "372    4\n",
       "373    4\n",
       "374    4\n",
       "375    4\n",
       "376    4\n",
       "377    4\n",
       "378    4\n",
       "379    4\n",
       "380    4\n",
       "381    4\n",
       "382    4\n",
       "383    4\n",
       "384    4\n",
       "385    4\n",
       "386    4\n",
       "387    4\n",
       "388    4\n",
       "389    4\n",
       "390    4\n",
       "391    4\n",
       "392    4\n",
       "393    4\n",
       "394    4\n",
       "395    4\n",
       "396    4\n",
       "397    4\n",
       "398    4\n",
       "399    4\n",
       "400    4\n",
       "401    4\n",
       "402    4\n",
       "403    4\n",
       "404    4\n",
       "405    4\n",
       "406    4\n",
       "407    4\n",
       "408    4\n",
       "409    4\n",
       "410    4\n",
       "411    4\n",
       "412    4\n",
       "413    4\n",
       "414    4\n",
       "415    4\n",
       "416    4\n",
       "417    4\n",
       "418    4\n",
       "419    4\n",
       "420    4\n",
       "421    4\n",
       "422    4\n",
       "423    4\n",
       "424    4\n",
       "425    4\n",
       "426    4\n",
       "427    4\n",
       "428    4\n",
       "429    4\n",
       "430    4\n",
       "431    4\n",
       "432    4\n",
       "433    4\n",
       "434    4\n",
       "435    4\n",
       "436    4\n",
       "437    4\n",
       "438    4\n",
       "439    4\n",
       "440    4\n",
       "441    4\n",
       "442    4\n",
       "443    4\n",
       "444    4\n",
       "445    4\n",
       "446    4\n",
       "447    4\n",
       "448    4\n",
       "449    4\n",
       "450    4\n",
       "451    4\n",
       "452    4\n",
       "453    4\n",
       "454    4\n",
       "455    4\n",
       "456    4\n",
       "457    4\n",
       "458    4\n",
       "459    4\n",
       "460    4\n",
       "461    4\n",
       "462    4\n",
       "463    4\n",
       "464    4\n",
       "465    4\n",
       "466    4\n",
       "467    4\n",
       "468    4\n",
       "469    4\n",
       "470    4\n",
       "471    4\n",
       "472    4\n",
       "473    4\n",
       "474    4\n",
       "475    4\n",
       "476    4\n",
       "477    4\n",
       "478    4\n",
       "479    4\n",
       "480    4\n",
       "481    4\n",
       "482    4\n",
       "483    4\n",
       "Name: rank, dtype: int64"
      ]
     },
     "execution_count": 27,
     "metadata": {},
     "output_type": "execute_result"
    }
   ],
   "source": [
    "y_train_rus"
   ]
  },
  {
   "cell_type": "code",
   "execution_count": 28,
   "metadata": {},
   "outputs": [
    {
     "name": "stdout",
     "output_type": "stream",
     "text": [
      "0.7296528173022196 0.47344461305007585\n"
     ]
    }
   ],
   "source": [
    "from sklearn.ensemble import RandomForestClassifier\n",
    "\n",
    "clf = RandomForestClassifier(random_state=0)\n",
    "clf.fit(X_train_rus,y_train_rus)\n",
    "\n",
    "print(clf.score(X_train,y_train),clf.score(X_test,y_test))"
   ]
  }
 ],
 "metadata": {
  "interpreter": {
   "hash": "17524995b3fb89f69a1eefd3d21017daf0e335c7df3994005e07ddeae9fe971e"
  },
  "kernelspec": {
   "display_name": "Python 3.9.10 ('venv39': venv)",
   "language": "python",
   "name": "python3"
  },
  "language_info": {
   "codemirror_mode": {
    "name": "ipython",
    "version": 3
   },
   "file_extension": ".py",
   "mimetype": "text/x-python",
   "name": "python",
   "nbconvert_exporter": "python",
   "pygments_lexer": "ipython3",
   "version": "3.9.10"
  },
  "orig_nbformat": 4
 },
 "nbformat": 4,
 "nbformat_minor": 2
}
