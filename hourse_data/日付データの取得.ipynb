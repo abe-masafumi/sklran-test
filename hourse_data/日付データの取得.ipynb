{
 "cells": [
  {
   "cell_type": "code",
   "execution_count": 113,
   "metadata": {},
   "outputs": [],
   "source": [
    "import requests\n",
    "from bs4 import BeautifulSoup"
   ]
  },
  {
   "cell_type": "code",
   "execution_count": 114,
   "metadata": {},
   "outputs": [],
   "source": [
    "race_id = \"202104030601\"\n",
    "url = \"https://race.netkeiba.com/race/result.html?race_id=\" + race_id\n",
    "html = requests.get(url)\n",
    "html.encoding= \"EUC_JP\"\n",
    "soup = BeautifulSoup(html.text, \"html.parser\")"
   ]
  },
  {
   "cell_type": "code",
   "execution_count": 115,
   "metadata": {},
   "outputs": [
    {
     "data": {
      "text/plain": [
       "'8月8日(日)'"
      ]
     },
     "execution_count": 115,
     "metadata": {},
     "output_type": "execute_result"
    }
   ],
   "source": [
    "日付 = soup.find(\"dd\",class_='Active')\n",
    "日付.find(\"a\").get_text()"
   ]
  },
  {
   "cell_type": "code",
   "execution_count": 116,
   "metadata": {},
   "outputs": [],
   "source": [
    "レース情報 = soup.find(\"div\", class_=\"RaceList_Item02\") "
   ]
  },
  {
   "cell_type": "code",
   "execution_count": 117,
   "metadata": {},
   "outputs": [
    {
     "data": {
      "text/plain": [
       "'2歳未勝利\\n\\n\\n\\n\\n\\n\\n\\n\\n\\n\\n\\n\\n\\n\\n\\n\\n\\n'"
      ]
     },
     "execution_count": 117,
     "metadata": {},
     "output_type": "execute_result"
    }
   ],
   "source": [
    "レース名 = レース情報.find(\"div\",class_=\"RaceName\").get_text()\n",
    "レース名"
   ]
  },
  {
   "cell_type": "code",
   "execution_count": 132,
   "metadata": {},
   "outputs": [
    {
     "data": {
      "text/plain": [
       "' 芝1200m'"
      ]
     },
     "execution_count": 132,
     "metadata": {},
     "output_type": "execute_result"
    }
   ],
   "source": [
    "距離 = レース情報.find(\"div\",class_=\"RaceData01\").find(\"span\").get_text()\n",
    "距離"
   ]
  },
  {
   "cell_type": "code",
   "execution_count": 133,
   "metadata": {},
   "outputs": [
    {
     "data": {
      "text/plain": [
       "'/ 馬場:良'"
      ]
     },
     "execution_count": 133,
     "metadata": {},
     "output_type": "execute_result"
    }
   ],
   "source": [
    "馬場 = レース情報.find(\"div\",class_=\"RaceData01\").find(\"span\",class_=\"Item03\").get_text()\n",
    "馬場"
   ]
  },
  {
   "cell_type": "code",
   "execution_count": 156,
   "metadata": {},
   "outputs": [
    {
     "data": {
      "text/plain": [
       "['10:10発走', '芝1200m', '(左)/', '天候:曇/', '馬場:良']"
      ]
     },
     "execution_count": 156,
     "metadata": {},
     "output_type": "execute_result"
    }
   ],
   "source": [
    "レース環境 = レース情報.find(\"div\",class_=\"RaceData01\").get_text()\n",
    "レース環境 = レース環境.strip()\n",
    "レース環境 = レース環境.replace('\\n', '')\n",
    "レース環境 = レース環境.replace(' /', '')\n",
    "\n",
    "レース環境 = レース環境.split(' ')\n",
    "レース環境"
   ]
  }
 ],
 "metadata": {
  "interpreter": {
   "hash": "17524995b3fb89f69a1eefd3d21017daf0e335c7df3994005e07ddeae9fe971e"
  },
  "kernelspec": {
   "display_name": "Python 3.9.10 ('venv39': venv)",
   "language": "python",
   "name": "python3"
  },
  "language_info": {
   "codemirror_mode": {
    "name": "ipython",
    "version": 3
   },
   "file_extension": ".py",
   "mimetype": "text/x-python",
   "name": "python",
   "nbconvert_exporter": "python",
   "pygments_lexer": "ipython3",
   "version": "3.9.10"
  },
  "orig_nbformat": 4
 },
 "nbformat": 4,
 "nbformat_minor": 2
}
