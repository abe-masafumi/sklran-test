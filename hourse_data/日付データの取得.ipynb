{
 "cells": [
  {
   "cell_type": "markdown",
   "metadata": {},
   "source": [
    "レース環境情報をスクレイピングで取得"
   ]
  },
  {
   "cell_type": "code",
   "execution_count": null,
   "metadata": {},
   "outputs": [],
   "source": [
    "import requests\n",
    "from bs4 import BeautifulSoup\n",
    "import pandas as pd\n",
    "import re\n",
    "import time\n",
    "from tqdm import tqdm\n",
    "import datetime\n",
    "\n",
    "pd.options.display.width = 500\n",
    "pd.options.display.column_space = 200"
   ]
  },
  {
   "cell_type": "code",
   "execution_count": null,
   "metadata": {},
   "outputs": [],
   "source": [
    "# race_id = \"202104020101\"\n",
    "# url = \"https://race.netkeiba.com/race/result.html?race_id=\" + race_id\n",
    "# html = requests.get(url)\n",
    "# html.encoding= \"EUC_JP\"\n",
    "# soup = BeautifulSoup(html.text, \"html.parser\")"
   ]
  },
  {
   "cell_type": "code",
   "execution_count": null,
   "metadata": {},
   "outputs": [],
   "source": [
    "# 日付 = soup.find(\"dd\",class_='Active')\n",
    "# 日付.find(\"a\").get_text()"
   ]
  },
  {
   "cell_type": "code",
   "execution_count": null,
   "metadata": {},
   "outputs": [],
   "source": [
    "# レース情報 = soup.find(\"div\", class_=\"RaceList_Item02\") "
   ]
  },
  {
   "cell_type": "code",
   "execution_count": null,
   "metadata": {},
   "outputs": [],
   "source": [
    "# レース名 = レース情報.find(\"div\",class_=\"RaceName\").get_text()\n",
    "# re.findall(r\"\\w+\",レース名)"
   ]
  },
  {
   "cell_type": "code",
   "execution_count": null,
   "metadata": {},
   "outputs": [],
   "source": [
    "# レース環境 = レース情報.find(\"div\",class_=\"RaceData01\").get_text()\n",
    "# re.findall(r\"\\w+\",レース環境)"
   ]
  },
  {
   "cell_type": "markdown",
   "metadata": {},
   "source": [
    "----\n",
    "\n",
    "スクレイピングしながらデータの成形"
   ]
  },
  {
   "cell_type": "code",
   "execution_count": null,
   "metadata": {},
   "outputs": [],
   "source": [
    "df = pd.read_pickle('df.pickle')\n",
    "race_id_list = df.index.unique()\n",
    "race_id_list"
   ]
  },
  {
   "cell_type": "markdown",
   "metadata": {},
   "source": [
    "df.pickleに保存したdataframeのindexを参照してして全てのレース環境情報をスクレイピング"
   ]
  },
  {
   "cell_type": "code",
   "execution_count": null,
   "metadata": {},
   "outputs": [],
   "source": [
    "race_infos = {}\n",
    "for race_id in tqdm(race_id_list):\n",
    "  url = \"https://race.netkeiba.com/race/result.html?race_id=\" + race_id\n",
    "  html = requests.get(url)\n",
    "  html.encoding= \"EUC_JP\"\n",
    "  soup = BeautifulSoup(html.text, \"html.parser\")\n",
    "\n",
    "  日付 = soup.find(\"dd\",class_='Active')\n",
    "  日付 = 日付.find(\"a\").get_text()\n",
    "  レース情報 = soup.find(\"div\", class_=\"RaceList_Item02\") \n",
    "  # 距離 = レース情報.find(\"div\",class_=\"RaceData01\").find(\"span\").get_text()\n",
    "  # 馬場 = レース情報.find(\"div\",class_=\"RaceData01\").find(\"span\",class_=\"Item03\").get_text()\n",
    "  レース環境 = レース情報.find(\"div\",class_=\"RaceData01\").get_text()\n",
    "  info = re.findall(r\"\\w+\",レース環境)\n",
    "  info[0] = info[2][:1]\n",
    "  info[1] = info[2][1:]\n",
    "  info.pop(2)\n",
    "  info_dict = {}\n",
    "  # print(info)\n",
    "  info_dict[\"date\"] = f\"{race_id[:4]}年{日付[:-3]}\"\n",
    "\n",
    "  for text in info:\n",
    "    # print(text)\n",
    "    if text in [\"芝\",\"ダ\"]:\n",
    "      # print(\"芝付き\")\n",
    "      info_dict[\"race_type\"] = text\n",
    "    if \"障\" in text:\n",
    "      info_dict[\"race_type\"] = \"障害\"\n",
    "    if \"m\" in text:\n",
    "      # print(\"mつき\")\n",
    "      info_dict[\"course_ren\"] = re.findall(r\"\\d+\",text)[0]\n",
    "    if text in [\"雨\",\"小雨\",\"小雪\",\"雪\",\"晴\",\"曇\"]:\n",
    "      # print(\"天気\")\n",
    "      info_dict[\"weather\"] = text\n",
    "    # if \"年\" in text:\n",
    "    #   info_dict[\"data\"] = text\n",
    "    if text in [\"良\",\"不良\",\"重\",\"稍\",\"不\"]:\n",
    "      # print(\"馬場\")\n",
    "      info_dict[\"ground_state\"] = text\n",
    "\n",
    "\n",
    "  race_infos[race_id] = info_dict\n",
    "  time.sleep(.5)"
   ]
  },
  {
   "cell_type": "code",
   "execution_count": null,
   "metadata": {},
   "outputs": [],
   "source": [
    "race_infos_df = pd.DataFrame(race_infos).T\n"
   ]
  },
  {
   "cell_type": "code",
   "execution_count": null,
   "metadata": {},
   "outputs": [],
   "source": [
    "results = pd.read_pickle(\"df.pickle\")"
   ]
  },
  {
   "cell_type": "code",
   "execution_count": null,
   "metadata": {},
   "outputs": [],
   "source": [
    "results_addinfo = results.merge(race_infos_df,left_index=True,right_index=True,how=\"inner\")"
   ]
  },
  {
   "cell_type": "code",
   "execution_count": null,
   "metadata": {},
   "outputs": [],
   "source": [
    "results_addinfo.columns"
   ]
  },
  {
   "cell_type": "code",
   "execution_count": null,
   "metadata": {},
   "outputs": [],
   "source": [
    "pd.set_option('display.max_rows',None)\n",
    "# results_addinfo[\"ground_state\"].value_counts()\n",
    "results_addinfo.isnull().sum()"
   ]
  },
  {
   "cell_type": "markdown",
   "metadata": {},
   "source": [
    "日付データの成形"
   ]
  },
  {
   "cell_type": "code",
   "execution_count": null,
   "metadata": {},
   "outputs": [],
   "source": []
  },
  {
   "cell_type": "code",
   "execution_count": null,
   "metadata": {},
   "outputs": [],
   "source": [
    "results_addinfo[\"date\"] = pd.to_datetime(results_addinfo[\"date\"],format=\"%Y年%m月%d日\")\n",
    "results_addinfo.info()"
   ]
  },
  {
   "cell_type": "code",
   "execution_count": null,
   "metadata": {},
   "outputs": [],
   "source": [
    "results_addinfo.to_pickle(\"results_p\")"
   ]
  },
  {
   "cell_type": "code",
   "execution_count": null,
   "metadata": {},
   "outputs": [],
   "source": [
    "sorted_id_list = results_addinfo.sort_values(\"date\").index.unique()"
   ]
  },
  {
   "cell_type": "code",
   "execution_count": null,
   "metadata": {},
   "outputs": [],
   "source": [
    "round(len(sorted_id_list) * 0.7)"
   ]
  },
  {
   "cell_type": "code",
   "execution_count": null,
   "metadata": {},
   "outputs": [],
   "source": [
    "# train_id_list = sorted_id_list[:round(len(sorted_id_list) * 0.7)]\n",
    "# test_id_list = sorted_id_list[round(len(sorted_id_list) * 0.7):]"
   ]
  },
  {
   "cell_type": "code",
   "execution_count": null,
   "metadata": {},
   "outputs": [],
   "source": [
    "# train = results_addinfo.loc[train_id_list]\n",
    "# test = results_addinfo.loc[test_id_list]"
   ]
  },
  {
   "cell_type": "code",
   "execution_count": null,
   "metadata": {},
   "outputs": [],
   "source": [
    "# len(train)"
   ]
  },
  {
   "cell_type": "code",
   "execution_count": null,
   "metadata": {},
   "outputs": [],
   "source": [
    "# len(test)"
   ]
  },
  {
   "cell_type": "code",
   "execution_count": null,
   "metadata": {},
   "outputs": [],
   "source": [
    "# len(results_addinfo)"
   ]
  },
  {
   "cell_type": "code",
   "execution_count": null,
   "metadata": {},
   "outputs": [],
   "source": [
    "def split_data(df, test_size):\n",
    "  # ソート\n",
    "  sorted_id_list = df.sort_values('date').index.unique()\n",
    "  # データの分割\n",
    "  train_id_list = sorted_id_list[:round(len(sorted_id_list) * (1-test_size))]\n",
    "  test_id_list = sorted_id_list[round(len(sorted_id_list) * (1-test_size)):]\n",
    "  \n",
    "  train = df.loc[train_id_list]\n",
    "  test = df.loc[test_id_list]\n",
    "  return train, test"
   ]
  },
  {
   "cell_type": "code",
   "execution_count": null,
   "metadata": {},
   "outputs": [],
   "source": [
    "# ダミーデータの作成\n",
    "results_d = pd.get_dummies(results_addinfo)\n",
    "results_d[\"rank\"] = results_d[\"着順\"].map(lambda x: x if x < 4 else 4)\n",
    "train,test = split_data(results_d,0.3)"
   ]
  },
  {
   "cell_type": "code",
   "execution_count": null,
   "metadata": {},
   "outputs": [],
   "source": [
    "train.columns"
   ]
  },
  {
   "cell_type": "code",
   "execution_count": null,
   "metadata": {},
   "outputs": [],
   "source": [
    "from imblearn.under_sampling import RandomUnderSampler\n",
    "\n",
    "rank_1 = train[\"rank\"].value_counts()[1]\n",
    "rank_2 = train[\"rank\"].value_counts()[2]\n",
    "rank_3 = train[\"rank\"].value_counts()[3]\n",
    "\n",
    "rus = RandomUnderSampler(sampling_strategy=\"auto\",random_state=None,replacement=False)\n",
    "\n",
    "X_train = train.drop([\"着順\",\"date\",\"rank\"],axis=1)\n",
    "y_train = train[\"rank\"]\n",
    "X_test = test.drop([\"着順\",\"date\",\"rank\"],axis=1)\n",
    "y_test = test[\"rank\"]\n",
    "\n",
    "\n",
    "X_train_rus,y_train_rus = rus.fit_resample(X_train,y_train)"
   ]
  },
  {
   "cell_type": "code",
   "execution_count": null,
   "metadata": {},
   "outputs": [],
   "source": [
    "X_train_rus"
   ]
  },
  {
   "cell_type": "code",
   "execution_count": null,
   "metadata": {},
   "outputs": [],
   "source": [
    "y_train_rus"
   ]
  },
  {
   "cell_type": "code",
   "execution_count": null,
   "metadata": {},
   "outputs": [],
   "source": [
    "from sklearn.ensemble import RandomForestClassifier\n",
    "\n",
    "clf = RandomForestClassifier(random_state=0)\n",
    "clf.fit(X_train_rus,y_train_rus)\n",
    "\n",
    "print(clf.score(X_train,y_train),clf.score(X_test,y_test))"
   ]
  }
 ],
 "metadata": {
  "interpreter": {
   "hash": "17524995b3fb89f69a1eefd3d21017daf0e335c7df3994005e07ddeae9fe971e"
  },
  "kernelspec": {
   "display_name": "Python 3.9.10 ('venv39': venv)",
   "language": "python",
   "name": "python3"
  },
  "language_info": {
   "codemirror_mode": {
    "name": "ipython",
    "version": 3
   },
   "file_extension": ".py",
   "mimetype": "text/x-python",
   "name": "python",
   "nbconvert_exporter": "python",
   "pygments_lexer": "ipython3",
   "version": "3.9.10"
  },
  "orig_nbformat": 4
 },
 "nbformat": 4,
 "nbformat_minor": 2
}
