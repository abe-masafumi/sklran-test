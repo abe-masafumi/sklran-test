{
 "cells": [
  {
   "cell_type": "code",
   "execution_count": 45,
   "metadata": {},
   "outputs": [],
   "source": [
    "import pandas as pd"
   ]
  },
  {
   "cell_type": "code",
   "execution_count": 46,
   "metadata": {},
   "outputs": [
    {
     "data": {
      "text/html": [
       "<div>\n",
       "<style scoped>\n",
       "    .dataframe tbody tr th:only-of-type {\n",
       "        vertical-align: middle;\n",
       "    }\n",
       "\n",
       "    .dataframe tbody tr th {\n",
       "        vertical-align: top;\n",
       "    }\n",
       "\n",
       "    .dataframe thead th {\n",
       "        text-align: right;\n",
       "    }\n",
       "</style>\n",
       "<table border=\"1\" class=\"dataframe\">\n",
       "  <thead>\n",
       "    <tr style=\"text-align: right;\">\n",
       "      <th></th>\n",
       "      <th>着順</th>\n",
       "      <th>枠</th>\n",
       "      <th>馬番</th>\n",
       "      <th>馬名</th>\n",
       "      <th>斤量</th>\n",
       "      <th>騎手</th>\n",
       "      <th>人気</th>\n",
       "      <th>性</th>\n",
       "      <th>齢</th>\n",
       "      <th>体重</th>\n",
       "      <th>体重変化</th>\n",
       "      <th>date</th>\n",
       "      <th>race_type</th>\n",
       "      <th>course_ren</th>\n",
       "      <th>weather</th>\n",
       "      <th>ground_state</th>\n",
       "    </tr>\n",
       "  </thead>\n",
       "  <tbody>\n",
       "    <tr>\n",
       "      <th>202101010101</th>\n",
       "      <td>1</td>\n",
       "      <td>5.0</td>\n",
       "      <td>9</td>\n",
       "      <td>ディーバサンライズ</td>\n",
       "      <td>52.0</td>\n",
       "      <td>△秋山稔</td>\n",
       "      <td>7.0</td>\n",
       "      <td>牝</td>\n",
       "      <td>3</td>\n",
       "      <td>474</td>\n",
       "      <td>-22</td>\n",
       "      <td>2021-06-12</td>\n",
       "      <td>芝</td>\n",
       "      <td>1200</td>\n",
       "      <td>小雨</td>\n",
       "      <td>良</td>\n",
       "    </tr>\n",
       "    <tr>\n",
       "      <th>202101010101</th>\n",
       "      <td>2</td>\n",
       "      <td>3.0</td>\n",
       "      <td>6</td>\n",
       "      <td>バンベルク</td>\n",
       "      <td>56.0</td>\n",
       "      <td>横山和</td>\n",
       "      <td>2.0</td>\n",
       "      <td>牡</td>\n",
       "      <td>3</td>\n",
       "      <td>470</td>\n",
       "      <td>-2</td>\n",
       "      <td>2021-06-12</td>\n",
       "      <td>芝</td>\n",
       "      <td>1200</td>\n",
       "      <td>小雨</td>\n",
       "      <td>良</td>\n",
       "    </tr>\n",
       "    <tr>\n",
       "      <th>202101010101</th>\n",
       "      <td>3</td>\n",
       "      <td>7.0</td>\n",
       "      <td>14</td>\n",
       "      <td>リツィタル</td>\n",
       "      <td>54.0</td>\n",
       "      <td>大野</td>\n",
       "      <td>14.0</td>\n",
       "      <td>牝</td>\n",
       "      <td>3</td>\n",
       "      <td>394</td>\n",
       "      <td>2</td>\n",
       "      <td>2021-06-12</td>\n",
       "      <td>芝</td>\n",
       "      <td>1200</td>\n",
       "      <td>小雨</td>\n",
       "      <td>良</td>\n",
       "    </tr>\n",
       "    <tr>\n",
       "      <th>202101010101</th>\n",
       "      <td>4</td>\n",
       "      <td>5.0</td>\n",
       "      <td>10</td>\n",
       "      <td>クレマチステソーロ</td>\n",
       "      <td>54.0</td>\n",
       "      <td>鮫島駿</td>\n",
       "      <td>5.0</td>\n",
       "      <td>牝</td>\n",
       "      <td>3</td>\n",
       "      <td>468</td>\n",
       "      <td>2</td>\n",
       "      <td>2021-06-12</td>\n",
       "      <td>芝</td>\n",
       "      <td>1200</td>\n",
       "      <td>小雨</td>\n",
       "      <td>良</td>\n",
       "    </tr>\n",
       "    <tr>\n",
       "      <th>202101010101</th>\n",
       "      <td>5</td>\n",
       "      <td>3.0</td>\n",
       "      <td>5</td>\n",
       "      <td>ペイシャケイティー</td>\n",
       "      <td>54.0</td>\n",
       "      <td>古川吉</td>\n",
       "      <td>4.0</td>\n",
       "      <td>牝</td>\n",
       "      <td>3</td>\n",
       "      <td>456</td>\n",
       "      <td>8</td>\n",
       "      <td>2021-06-12</td>\n",
       "      <td>芝</td>\n",
       "      <td>1200</td>\n",
       "      <td>小雨</td>\n",
       "      <td>良</td>\n",
       "    </tr>\n",
       "    <tr>\n",
       "      <th>...</th>\n",
       "      <td>...</td>\n",
       "      <td>...</td>\n",
       "      <td>...</td>\n",
       "      <td>...</td>\n",
       "      <td>...</td>\n",
       "      <td>...</td>\n",
       "      <td>...</td>\n",
       "      <td>...</td>\n",
       "      <td>...</td>\n",
       "      <td>...</td>\n",
       "      <td>...</td>\n",
       "      <td>...</td>\n",
       "      <td>...</td>\n",
       "      <td>...</td>\n",
       "      <td>...</td>\n",
       "      <td>...</td>\n",
       "    </tr>\n",
       "    <tr>\n",
       "      <th>202110040302</th>\n",
       "      <td>12</td>\n",
       "      <td>3.0</td>\n",
       "      <td>5</td>\n",
       "      <td>メイショウヤマツミ</td>\n",
       "      <td>56.0</td>\n",
       "      <td>小牧</td>\n",
       "      <td>6.0</td>\n",
       "      <td>牡</td>\n",
       "      <td>3</td>\n",
       "      <td>500</td>\n",
       "      <td>-18</td>\n",
       "      <td>2021-08-21</td>\n",
       "      <td>ダ</td>\n",
       "      <td>1700</td>\n",
       "      <td>曇</td>\n",
       "      <td>良</td>\n",
       "    </tr>\n",
       "    <tr>\n",
       "      <th>202110040302</th>\n",
       "      <td>13</td>\n",
       "      <td>3.0</td>\n",
       "      <td>6</td>\n",
       "      <td>サンデーインアスク</td>\n",
       "      <td>54.0</td>\n",
       "      <td>川田</td>\n",
       "      <td>4.0</td>\n",
       "      <td>牝</td>\n",
       "      <td>3</td>\n",
       "      <td>414</td>\n",
       "      <td>0</td>\n",
       "      <td>2021-08-21</td>\n",
       "      <td>ダ</td>\n",
       "      <td>1700</td>\n",
       "      <td>曇</td>\n",
       "      <td>良</td>\n",
       "    </tr>\n",
       "    <tr>\n",
       "      <th>202110040302</th>\n",
       "      <td>14</td>\n",
       "      <td>5.0</td>\n",
       "      <td>9</td>\n",
       "      <td>ベントラ</td>\n",
       "      <td>56.0</td>\n",
       "      <td>酒井</td>\n",
       "      <td>12.0</td>\n",
       "      <td>牡</td>\n",
       "      <td>3</td>\n",
       "      <td>500</td>\n",
       "      <td>6</td>\n",
       "      <td>2021-08-21</td>\n",
       "      <td>ダ</td>\n",
       "      <td>1700</td>\n",
       "      <td>曇</td>\n",
       "      <td>良</td>\n",
       "    </tr>\n",
       "    <tr>\n",
       "      <th>202110040302</th>\n",
       "      <td>15</td>\n",
       "      <td>7.0</td>\n",
       "      <td>13</td>\n",
       "      <td>ギレルモ</td>\n",
       "      <td>56.0</td>\n",
       "      <td>岩田望</td>\n",
       "      <td>10.0</td>\n",
       "      <td>牡</td>\n",
       "      <td>3</td>\n",
       "      <td>490</td>\n",
       "      <td>0</td>\n",
       "      <td>2021-08-21</td>\n",
       "      <td>ダ</td>\n",
       "      <td>1700</td>\n",
       "      <td>曇</td>\n",
       "      <td>良</td>\n",
       "    </tr>\n",
       "    <tr>\n",
       "      <th>202110040302</th>\n",
       "      <td>16</td>\n",
       "      <td>7.0</td>\n",
       "      <td>14</td>\n",
       "      <td>クリノミカサ</td>\n",
       "      <td>54.0</td>\n",
       "      <td>藤懸</td>\n",
       "      <td>16.0</td>\n",
       "      <td>牝</td>\n",
       "      <td>3</td>\n",
       "      <td>450</td>\n",
       "      <td>-4</td>\n",
       "      <td>2021-08-21</td>\n",
       "      <td>ダ</td>\n",
       "      <td>1700</td>\n",
       "      <td>曇</td>\n",
       "      <td>良</td>\n",
       "    </tr>\n",
       "  </tbody>\n",
       "</table>\n",
       "<p>2416 rows × 16 columns</p>\n",
       "</div>"
      ],
      "text/plain": [
       "              着順    枠  馬番         馬名    斤量    騎手    人気  性  齢   体重  体重変化  \\\n",
       "202101010101   1  5.0   9  ディーバサンライズ  52.0  △秋山稔   7.0  牝  3  474   -22   \n",
       "202101010101   2  3.0   6      バンベルク  56.0   横山和   2.0  牡  3  470    -2   \n",
       "202101010101   3  7.0  14      リツィタル  54.0    大野  14.0  牝  3  394     2   \n",
       "202101010101   4  5.0  10  クレマチステソーロ  54.0   鮫島駿   5.0  牝  3  468     2   \n",
       "202101010101   5  3.0   5  ペイシャケイティー  54.0   古川吉   4.0  牝  3  456     8   \n",
       "...           ..  ...  ..        ...   ...   ...   ... .. ..  ...   ...   \n",
       "202110040302  12  3.0   5  メイショウヤマツミ  56.0    小牧   6.0  牡  3  500   -18   \n",
       "202110040302  13  3.0   6  サンデーインアスク  54.0    川田   4.0  牝  3  414     0   \n",
       "202110040302  14  5.0   9       ベントラ  56.0    酒井  12.0  牡  3  500     6   \n",
       "202110040302  15  7.0  13       ギレルモ  56.0   岩田望  10.0  牡  3  490     0   \n",
       "202110040302  16  7.0  14     クリノミカサ  54.0    藤懸  16.0  牝  3  450    -4   \n",
       "\n",
       "                   date race_type course_ren weather ground_state  \n",
       "202101010101 2021-06-12         芝       1200      小雨            良  \n",
       "202101010101 2021-06-12         芝       1200      小雨            良  \n",
       "202101010101 2021-06-12         芝       1200      小雨            良  \n",
       "202101010101 2021-06-12         芝       1200      小雨            良  \n",
       "202101010101 2021-06-12         芝       1200      小雨            良  \n",
       "...                 ...       ...        ...     ...          ...  \n",
       "202110040302 2021-08-21         ダ       1700       曇            良  \n",
       "202110040302 2021-08-21         ダ       1700       曇            良  \n",
       "202110040302 2021-08-21         ダ       1700       曇            良  \n",
       "202110040302 2021-08-21         ダ       1700       曇            良  \n",
       "202110040302 2021-08-21         ダ       1700       曇            良  \n",
       "\n",
       "[2416 rows x 16 columns]"
      ]
     },
     "execution_count": 46,
     "metadata": {},
     "output_type": "execute_result"
    }
   ],
   "source": [
    "results_p = pd.read_pickle(\"results_p\")\n",
    "results_p"
   ]
  },
  {
   "cell_type": "code",
   "execution_count": 47,
   "metadata": {},
   "outputs": [
    {
     "data": {
      "text/plain": [
       "0    1897\n",
       "1     519\n",
       "Name: rank, dtype: int64"
      ]
     },
     "execution_count": 47,
     "metadata": {},
     "output_type": "execute_result"
    }
   ],
   "source": [
    "results_p[\"rank\"] = results_p[\"着順\"].map(lambda x: 1 if x < 4 else 0)\n",
    "\n",
    "results_p[\"rank\"].value_counts()"
   ]
  },
  {
   "cell_type": "code",
   "execution_count": 48,
   "metadata": {},
   "outputs": [],
   "source": [
    "def split_data(df, test_size):\n",
    "  # ソート\n",
    "  sorted_id_list = df.sort_values('date').index.unique()\n",
    "  # データの分割\n",
    "  train_id_list = sorted_id_list[:round(len(sorted_id_list) * (1-test_size))]\n",
    "  test_id_list = sorted_id_list[round(len(sorted_id_list) * (1-test_size)):]\n",
    "  \n",
    "  train = df.loc[train_id_list]\n",
    "  test = df.loc[test_id_list]\n",
    "  return train, test"
   ]
  },
  {
   "cell_type": "code",
   "execution_count": 49,
   "metadata": {},
   "outputs": [],
   "source": [
    "results_p.drop([\"馬名\"],axis=1,inplace=True)\n",
    "results_d = pd.get_dummies(results_p)\n",
    "train,test = split_data(results_d,0.3)"
   ]
  },
  {
   "cell_type": "code",
   "execution_count": 50,
   "metadata": {},
   "outputs": [],
   "source": [
    "X_train = train.drop([\"rank\",\"date\"],axis=1)\n",
    "y_train = train[\"rank\"]\n",
    "X_test = test.drop([\"rank\",\"date\"],axis=1)\n",
    "y_test = test[\"rank\"]"
   ]
  },
  {
   "cell_type": "markdown",
   "metadata": {},
   "source": [
    "ランダムフォレスト"
   ]
  },
  {
   "cell_type": "code",
   "execution_count": 51,
   "metadata": {},
   "outputs": [
    {
     "data": {
      "text/plain": [
       "RandomForestClassifier(random_state=100)"
      ]
     },
     "execution_count": 51,
     "metadata": {},
     "output_type": "execute_result"
    }
   ],
   "source": [
    "from sklearn.ensemble import RandomForestClassifier\n",
    "\n",
    "rf = RandomForestClassifier(random_state=100)\n",
    "rf.fit(X_train,y_train)"
   ]
  },
  {
   "cell_type": "code",
   "execution_count": 52,
   "metadata": {},
   "outputs": [
    {
     "data": {
      "text/plain": [
       "array([0.71, 0.87, 0.85, 0.06, 0.09, 0.03, 0.16, 0.04, 0.04, 0.1 , 0.01,\n",
       "       0.87, 0.92, 0.84, 0.05, 0.01, 0.13, 0.03, 0.06, 0.06, 0.11, 0.03,\n",
       "       0.86, 0.77, 0.87, 0.04, 0.  , 0.17, 0.04, 0.02, 0.07, 0.02, 0.05,\n",
       "       0.06, 0.89, 0.8 , 0.77, 0.03, 0.06, 0.06, 0.05, 0.05, 0.06, 0.06,\n",
       "       0.73, 0.71, 0.8 , 0.03, 0.03, 0.03, 0.22, 0.01, 0.12, 0.07, 0.08,\n",
       "       0.01, 0.01, 0.04, 0.03, 0.03, 0.76, 0.78, 0.8 , 0.21, 0.26, 0.06,\n",
       "       0.07, 0.08, 0.05, 0.03, 0.12, 0.2 , 0.  , 0.02, 0.01, 0.88, 0.86,\n",
       "       0.84, 0.18, 0.04, 0.01, 0.04, 0.06, 0.06, 0.  , 0.9 , 0.85, 0.81,\n",
       "       0.07, 0.  , 0.02, 0.05, 0.  , 0.01, 0.3 , 0.  , 0.11, 0.02, 0.08,\n",
       "       0.03, 0.9 , 0.88, 0.77, 0.16, 0.2 , 0.09, 0.  , 0.03, 0.88, 0.85,\n",
       "       0.77, 0.05, 0.02, 0.13, 0.1 , 0.03, 0.01, 0.  , 0.  , 0.  , 0.02,\n",
       "       0.09, 0.01, 0.01, 0.02, 0.91, 0.86, 0.87, 0.03, 0.24, 0.19, 0.09,\n",
       "       0.01, 0.02, 0.02, 0.06, 0.02, 0.03, 0.07, 0.01, 0.83, 0.75, 0.85,\n",
       "       0.12, 0.12, 0.19, 0.05, 0.03, 0.06, 0.07, 0.07, 0.75, 0.92, 0.81,\n",
       "       0.32, 0.01, 0.04, 0.06, 0.02, 0.06, 0.01, 0.01, 0.02, 0.07, 0.06,\n",
       "       0.07, 0.87, 0.86, 0.91, 0.09, 0.02, 0.07, 0.71, 0.85, 0.68, 0.08,\n",
       "       0.04, 0.19, 0.  , 0.03, 0.19, 0.07, 0.01, 0.07, 0.02, 0.04, 0.07,\n",
       "       0.92, 0.92, 0.84, 0.03, 0.03, 0.15, 0.05, 0.03, 0.06, 0.  , 0.02,\n",
       "       0.02, 0.02, 0.  , 0.82, 0.76, 0.8 , 0.09, 0.16, 0.13, 0.11, 0.15,\n",
       "       0.05, 0.11, 0.06, 0.11, 0.86, 0.91, 0.82, 0.07, 0.06, 0.03, 0.02,\n",
       "       0.  , 0.02, 0.04, 0.02, 0.05, 0.03, 0.01, 0.  , 0.11, 0.81, 0.8 ,\n",
       "       0.84, 0.2 , 0.04, 0.06, 0.05, 0.23, 0.05, 0.69, 0.87, 0.88, 0.03,\n",
       "       0.05, 0.05, 0.04, 0.05, 0.01, 0.01, 0.04, 0.04, 0.86, 0.83, 0.87,\n",
       "       0.04, 0.03, 0.02, 0.06, 0.05, 0.02, 0.03, 0.07, 0.24, 0.04, 0.04,\n",
       "       0.91, 0.88, 0.88, 0.2 , 0.08, 0.08, 0.09, 0.09, 0.07, 0.81, 0.86,\n",
       "       0.87, 0.04, 0.01, 0.06, 0.03, 0.01, 0.16, 0.02, 0.  , 0.89, 0.8 ,\n",
       "       0.84, 0.09, 0.07, 0.2 , 0.04, 0.09, 0.15, 0.79, 0.93, 0.86, 0.19,\n",
       "       0.02, 0.11, 0.08, 0.03, 0.  , 0.05, 0.02, 0.04, 0.1 , 0.02, 0.05,\n",
       "       0.  , 0.92, 0.82, 0.78, 0.17, 0.02, 0.25, 0.04, 0.05, 0.94, 0.81,\n",
       "       0.8 , 0.08, 0.14, 0.07, 0.21, 0.05, 0.03, 0.02, 0.04, 0.82, 0.9 ,\n",
       "       0.79, 0.03, 0.12, 0.02, 0.03, 0.01, 0.01, 0.11, 0.2 , 0.  , 0.02,\n",
       "       0.04, 0.01, 0.87, 0.83, 0.86, 0.02, 0.12, 0.08, 0.16, 0.03, 0.02,\n",
       "       0.06, 0.04, 0.07, 0.86, 0.84, 0.89, 0.09, 0.09, 0.08, 0.07, 0.01,\n",
       "       0.02, 0.01, 0.08, 0.77, 0.81, 0.72, 0.28, 0.01, 0.05, 0.08, 0.02,\n",
       "       0.02, 0.17, 0.04, 0.07, 0.08, 0.04, 0.04, 0.03, 0.85, 0.85, 0.89,\n",
       "       0.08, 0.09, 0.04, 0.05, 0.07, 0.02, 0.04, 0.92, 0.87, 0.82, 0.04,\n",
       "       0.22, 0.09, 0.04, 0.1 , 0.03, 0.06, 0.04, 0.03, 0.03, 0.07, 0.1 ,\n",
       "       0.05, 0.74, 0.87, 0.77, 0.15, 0.04, 0.04, 0.05, 0.24, 0.02, 0.  ,\n",
       "       0.02, 0.06, 0.02, 0.02, 0.91, 0.8 , 0.74, 0.03, 0.13, 0.08, 0.03,\n",
       "       0.06, 0.2 , 0.03, 0.83, 0.82, 0.76, 0.2 , 0.13, 0.01, 0.01, 0.03,\n",
       "       0.01, 0.12, 0.03, 0.01, 0.08, 0.03, 0.81, 0.94, 0.82, 0.03, 0.08,\n",
       "       0.06, 0.18, 0.02, 0.03, 0.04, 0.03, 0.83, 0.95, 0.81, 0.09, 0.08,\n",
       "       0.  , 0.01, 0.83, 0.84, 0.71, 0.19, 0.17, 0.07, 0.34, 0.03, 0.03,\n",
       "       0.04, 0.1 , 0.02, 0.88, 0.89, 0.66, 0.19, 0.09, 0.09, 0.05, 0.06,\n",
       "       0.03, 0.02, 0.02, 0.03, 0.  , 0.06, 0.05, 0.06, 0.79, 0.86, 0.8 ,\n",
       "       0.14, 0.08, 0.08, 0.04, 0.03, 0.07, 0.06, 0.05, 0.02, 0.03, 0.04,\n",
       "       0.06, 0.82, 0.82, 0.86, 0.17, 0.05, 0.08, 0.03, 0.02, 0.06, 0.  ,\n",
       "       0.  , 0.05, 0.03, 0.86, 0.87, 0.9 , 0.15, 0.07, 0.08, 0.01, 0.06,\n",
       "       0.01, 0.81, 0.8 , 0.87, 0.06, 0.08, 0.05, 0.05, 0.03, 0.03, 0.06,\n",
       "       0.02, 0.04, 0.05, 0.04, 0.03, 0.03, 0.85, 0.8 , 0.86, 0.1 , 0.06,\n",
       "       0.03, 0.25, 0.12, 0.  , 0.03, 0.09, 0.05, 0.05, 0.91, 0.92, 0.85,\n",
       "       0.09, 0.09, 0.03, 0.08, 0.02, 0.08, 0.04, 0.82, 0.93, 0.87, 0.02,\n",
       "       0.03, 0.  , 0.  , 0.03, 0.06, 0.03, 0.15, 0.05, 0.07, 0.02, 0.  ,\n",
       "       0.01, 0.79, 0.86, 0.86, 0.04, 0.03, 0.17, 0.01, 0.1 , 0.01, 0.04,\n",
       "       0.02, 0.05, 0.04, 0.01, 0.03, 0.01, 0.86, 0.86, 0.74, 0.23, 0.08,\n",
       "       0.04, 0.04, 0.02, 0.04, 0.03, 0.02, 0.01, 0.03, 0.03, 0.02, 0.01,\n",
       "       0.8 , 0.75, 0.83, 0.21, 0.07, 0.04, 0.03, 0.12, 0.02, 0.05, 0.05,\n",
       "       0.07, 0.05, 0.06, 0.85, 0.87, 0.77, 0.02, 0.09, 0.04, 0.01, 0.04,\n",
       "       0.05, 0.08, 0.05, 0.05, 0.15, 0.01, 0.75, 0.88, 0.89, 0.07, 0.04,\n",
       "       0.05, 0.04, 0.  , 0.12, 0.06, 0.02, 0.03, 0.06, 0.02, 0.01])"
      ]
     },
     "execution_count": 52,
     "metadata": {},
     "output_type": "execute_result"
    }
   ],
   "source": [
    "y_pred = rf.predict_proba(X_test)[:,1]\n",
    "y_pred"
   ]
  },
  {
   "cell_type": "code",
   "execution_count": 53,
   "metadata": {},
   "outputs": [
    {
     "data": {
      "text/plain": [
       "202103010301    1\n",
       "202103010301    1\n",
       "202103010301    1\n",
       "202103010301    0\n",
       "202103010301    0\n",
       "               ..\n",
       "202103020301    0\n",
       "202103020301    0\n",
       "202103020301    0\n",
       "202103020301    0\n",
       "202103020301    0\n",
       "Name: rank, Length: 659, dtype: int64"
      ]
     },
     "execution_count": 53,
     "metadata": {},
     "output_type": "execute_result"
    }
   ],
   "source": [
    "y_test"
   ]
  },
  {
   "cell_type": "code",
   "execution_count": 54,
   "metadata": {},
   "outputs": [
    {
     "data": {
      "text/plain": [
       "659"
      ]
     },
     "execution_count": 54,
     "metadata": {},
     "output_type": "execute_result"
    }
   ],
   "source": [
    "len(y_pred)"
   ]
  },
  {
   "cell_type": "code",
   "execution_count": 59,
   "metadata": {},
   "outputs": [
    {
     "data": {
      "image/png": "[encoded data removed]",
      "text/plain": [
       "<Figure size 460.8x403.2 with 1 Axes>"
      ]
     },
     "metadata": {},
     "output_type": "display_data"
    }
   ],
   "source": [
    "from sklearn.metrics import roc_curve,roc_auc_score\n",
    "import matplotlib.pyplot as plt\n",
    "from jupyterthemes import jtplot\n",
    "\n",
    "# https://github.com/dunovank/jupyter-themes\n",
    "jtplot.style(theme=\"monokai\")\n",
    "\n",
    "fpr,tpr,thresholds = roc_curve(y_test,y_pred)\n",
    "plt.plot(fpr,tpr,marker=\"o\")\n",
    "plt.xlabel(\"False positive rate\")\n",
    "plt.ylabel('True positive rate')\n",
    "plt.grid()\n",
    "plt.show()"
   ]
  },
  {
   "cell_type": "code",
   "execution_count": 56,
   "metadata": {},
   "outputs": [
    {
     "data": {
      "text/plain": [
       "array([0.        , 0.        , 0.        , 0.        , 0.        ,\n",
       "       0.        , 0.        , 0.        , 0.        , 0.        ,\n",
       "       0.        , 0.        , 0.        , 0.        , 0.        ,\n",
       "       0.        , 0.        , 0.        , 0.        , 0.        ,\n",
       "       0.        , 0.        , 0.        , 0.        , 0.00994036,\n",
       "       0.0139165 , 0.01988072, 0.027833  , 0.03379722, 0.04970179,\n",
       "       0.06361829, 0.06759443, 0.07952286, 0.08946322, 0.10337972,\n",
       "       0.10735586, 0.11729622, 0.13717694, 0.16898608, 0.21073559,\n",
       "       0.26441352, 0.32405567, 0.4055666 , 0.49304175, 0.59840954,\n",
       "       0.73558648, 0.8528827 , 0.94234592, 1.        ])"
      ]
     },
     "execution_count": 56,
     "metadata": {},
     "output_type": "execute_result"
    }
   ],
   "source": [
    "fpr"
   ]
  },
  {
   "cell_type": "code",
   "execution_count": 57,
   "metadata": {},
   "outputs": [
    {
     "data": {
      "text/plain": [
       "array([0.        , 0.00641026, 0.03205128, 0.07692308, 0.11538462,\n",
       "       0.14102564, 0.17948718, 0.23076923, 0.32692308, 0.44230769,\n",
       "       0.50641026, 0.59615385, 0.66025641, 0.71794872, 0.79487179,\n",
       "       0.82051282, 0.83333333, 0.87820513, 0.8974359 , 0.92307692,\n",
       "       0.94230769, 0.95512821, 0.98076923, 1.        , 1.        ,\n",
       "       1.        , 1.        , 1.        , 1.        , 1.        ,\n",
       "       1.        , 1.        , 1.        , 1.        , 1.        ,\n",
       "       1.        , 1.        , 1.        , 1.        , 1.        ,\n",
       "       1.        , 1.        , 1.        , 1.        , 1.        ,\n",
       "       1.        , 1.        , 1.        , 1.        ])"
      ]
     },
     "execution_count": 57,
     "metadata": {},
     "output_type": "execute_result"
    }
   ],
   "source": [
    "tpr"
   ]
  },
  {
   "cell_type": "code",
   "execution_count": 58,
   "metadata": {},
   "outputs": [
    {
     "data": {
      "text/plain": [
       "array([1.95, 0.95, 0.93, 0.92, 0.91, 0.9 , 0.89, 0.88, 0.87, 0.86, 0.85,\n",
       "       0.83, 0.82, 0.81, 0.8 , 0.79, 0.78, 0.77, 0.76, 0.75, 0.74, 0.72,\n",
       "       0.71, 0.66, 0.26, 0.25, 0.24, 0.22, 0.21, 0.2 , 0.19, 0.18, 0.17,\n",
       "       0.16, 0.15, 0.14, 0.13, 0.12, 0.1 , 0.09, 0.08, 0.07, 0.06, 0.05,\n",
       "       0.04, 0.03, 0.02, 0.01, 0.  ])"
      ]
     },
     "execution_count": 58,
     "metadata": {},
     "output_type": "execute_result"
    }
   ],
   "source": [
    "thresholds"
   ]
  },
  {
   "cell_type": "code",
   "execution_count": 60,
   "metadata": {},
   "outputs": [
    {
     "data": {
      "text/plain": [
       "1.0"
      ]
     },
     "execution_count": 60,
     "metadata": {},
     "output_type": "execute_result"
    }
   ],
   "source": [
    "roc_auc_score(y_test,y_pred)"
   ]
  }
 ],
 "metadata": {
  "interpreter": {
   "hash": "17524995b3fb89f69a1eefd3d21017daf0e335c7df3994005e07ddeae9fe971e"
  },
  "kernelspec": {
   "display_name": "Python 3.9.10 ('venv39': venv)",
   "language": "python",
   "name": "python3"
  },
  "language_info": {
   "codemirror_mode": {
    "name": "ipython",
    "version": 3
   },
   "file_extension": ".py",
   "mimetype": "text/x-python",
   "name": "python",
   "nbconvert_exporter": "python",
   "pygments_lexer": "ipython3",
   "version": "3.9.10"
  },
  "orig_nbformat": 4
 },
 "nbformat": 4,
 "nbformat_minor": 2
}
