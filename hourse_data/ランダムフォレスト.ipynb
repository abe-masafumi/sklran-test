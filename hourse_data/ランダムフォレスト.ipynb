{
 "cells": [
  {
   "cell_type": "code",
   "execution_count": 93,
   "metadata": {},
   "outputs": [],
   "source": [
    "import pandas as pd"
   ]
  },
  {
   "cell_type": "code",
   "execution_count": 94,
   "metadata": {},
   "outputs": [
    {
     "name": "stdout",
     "output_type": "stream",
     "text": [
      "<class 'pandas.core.frame.DataFrame'>\n",
      "Index: 3685 entries, 202001010101 to 202002020612\n",
      "Data columns (total 16 columns):\n",
      " #   Column        Non-Null Count  Dtype         \n",
      "---  ------        --------------  -----         \n",
      " 0   着順            3685 non-null   int64         \n",
      " 1   枠             3685 non-null   int64         \n",
      " 2   馬番            3685 non-null   int64         \n",
      " 3   馬名            3685 non-null   object        \n",
      " 4   斤量            3685 non-null   float64       \n",
      " 5   騎手            3685 non-null   object        \n",
      " 6   人気            3685 non-null   float64       \n",
      " 7   性             3685 non-null   object        \n",
      " 8   齢             3685 non-null   int64         \n",
      " 9   体重            3685 non-null   int64         \n",
      " 10  体重変化          3685 non-null   int64         \n",
      " 11  date          3685 non-null   datetime64[ns]\n",
      " 12  race_type     3685 non-null   object        \n",
      " 13  course_ren    3685 non-null   object        \n",
      " 14  weather       3685 non-null   object        \n",
      " 15  ground_state  3685 non-null   object        \n",
      "dtypes: datetime64[ns](1), float64(2), int64(6), object(7)\n",
      "memory usage: 489.4+ KB\n"
     ]
    }
   ],
   "source": [
    "results_p = pd.read_pickle(\"df.pickle\")\n",
    "results_p.info()"
   ]
  },
  {
   "cell_type": "code",
   "execution_count": 95,
   "metadata": {},
   "outputs": [
    {
     "data": {
      "text/plain": [
       "0    2753\n",
       "1     932\n",
       "Name: rank, dtype: int64"
      ]
     },
     "execution_count": 95,
     "metadata": {},
     "output_type": "execute_result"
    }
   ],
   "source": [
    "results_p[\"rank\"] = results_p[\"着順\"].map(lambda x: 1 if x < 4 else 0)\n",
    "\n",
    "results_p[\"rank\"].value_counts()"
   ]
  },
  {
   "cell_type": "code",
   "execution_count": 96,
   "metadata": {},
   "outputs": [],
   "source": [
    "def split_data(df, test_size):\n",
    "  # ソート\n",
    "  sorted_id_list = df.sort_values('date').index.unique()\n",
    "  # データの分割\n",
    "  train_id_list = sorted_id_list[:round(len(sorted_id_list) * (1-test_size))]\n",
    "  test_id_list = sorted_id_list[round(len(sorted_id_list) * (1-test_size)):]\n",
    "  \n",
    "  train = df.loc[train_id_list]\n",
    "  test = df.loc[test_id_list]\n",
    "  return train, test"
   ]
  },
  {
   "cell_type": "code",
   "execution_count": 97,
   "metadata": {},
   "outputs": [],
   "source": [
    "results_p.drop([\"馬名\"],axis=1,inplace=True)\n",
    "results_d = pd.get_dummies(results_p)\n",
    "train,test = split_data(results_d,0.3)"
   ]
  },
  {
   "cell_type": "code",
   "execution_count": 98,
   "metadata": {},
   "outputs": [],
   "source": [
    "X_train = train.drop([\"rank\",\"date\"],axis=1)\n",
    "y_train = train[\"rank\"]\n",
    "X_test = test.drop([\"rank\",\"date\"],axis=1)\n",
    "y_test = test[\"rank\"]"
   ]
  },
  {
   "cell_type": "markdown",
   "metadata": {},
   "source": [
    "ランダムフォレスト"
   ]
  },
  {
   "cell_type": "code",
   "execution_count": 99,
   "metadata": {},
   "outputs": [
    {
     "data": {
      "text/plain": [
       "RandomForestClassifier(random_state=100)"
      ]
     },
     "execution_count": 99,
     "metadata": {},
     "output_type": "execute_result"
    }
   ],
   "source": [
    "from sklearn.ensemble import RandomForestClassifier\n",
    "\n",
    "rf = RandomForestClassifier(random_state=100)\n",
    "rf.fit(X_train,y_train)"
   ]
  },
  {
   "cell_type": "code",
   "execution_count": 100,
   "metadata": {},
   "outputs": [
    {
     "data": {
      "text/plain": [
       "array([0.87, 0.9 , 0.16, ..., 0.01, 0.02, 0.01])"
      ]
     },
     "execution_count": 100,
     "metadata": {},
     "output_type": "execute_result"
    }
   ],
   "source": [
    "y_pred = rf.predict_proba(X_test)[:,1]\n",
    "y_pred"
   ]
  },
  {
   "cell_type": "code",
   "execution_count": 101,
   "metadata": {},
   "outputs": [],
   "source": [
    "# y_test"
   ]
  },
  {
   "cell_type": "code",
   "execution_count": 102,
   "metadata": {},
   "outputs": [
    {
     "data": {
      "text/plain": [
       "1137"
      ]
     },
     "execution_count": 102,
     "metadata": {},
     "output_type": "execute_result"
    }
   ],
   "source": [
    "len(y_pred)"
   ]
  },
  {
   "cell_type": "code",
   "execution_count": 103,
   "metadata": {},
   "outputs": [
    {
     "data": {
      "image/png": "[encoded data removed]",
      "text/plain": [
       "<Figure size 432x288 with 1 Axes>"
      ]
     },
     "metadata": {
      "needs_background": "light"
     },
     "output_type": "display_data"
    }
   ],
   "source": [
    "from sklearn.metrics import roc_curve,roc_auc_score\n",
    "import matplotlib.pyplot as plt\n",
    "# from jupyterthemes import jtplot\n",
    "\n",
    "# https://github.com/dunovank/jupyter-themes\n",
    "# jtplot.style(theme=\"monokai\")\n",
    "\n",
    "fpr,tpr,thresholds = roc_curve(y_test,y_pred)\n",
    "plt.plot(fpr,tpr,marker=\"o\")\n",
    "plt.xlabel(\"False positive rate\")\n",
    "plt.ylabel('True positive rate')\n",
    "plt.grid()\n",
    "plt.show()"
   ]
  },
  {
   "cell_type": "code",
   "execution_count": 104,
   "metadata": {},
   "outputs": [
    {
     "data": {
      "text/plain": [
       "array([0.        , 0.        , 0.        , 0.        , 0.        ,\n",
       "       0.        , 0.        , 0.        , 0.        , 0.        ,\n",
       "       0.        , 0.        , 0.        , 0.        , 0.        ,\n",
       "       0.        , 0.        , 0.        , 0.        , 0.        ,\n",
       "       0.        , 0.        , 0.        , 0.        , 0.        ,\n",
       "       0.        , 0.        , 0.        , 0.002331  , 0.004662  ,\n",
       "       0.00699301, 0.00932401, 0.01631702, 0.02214452, 0.02564103,\n",
       "       0.02797203, 0.03846154, 0.05477855, 0.06993007, 0.08275058,\n",
       "       0.09440559, 0.11538462, 0.13286713, 0.15151515, 0.18648019,\n",
       "       0.21678322, 0.25641026, 0.2983683 , 0.35664336, 0.41841492,\n",
       "       0.52564103, 0.66200466, 0.78321678, 0.9009324 , 1.        ])"
      ]
     },
     "execution_count": 104,
     "metadata": {},
     "output_type": "execute_result"
    }
   ],
   "source": [
    "fpr"
   ]
  },
  {
   "cell_type": "code",
   "execution_count": 105,
   "metadata": {},
   "outputs": [
    {
     "data": {
      "text/plain": [
       "array([0.        , 0.00716846, 0.01792115, 0.03584229, 0.05017921,\n",
       "       0.09318996, 0.12544803, 0.18637993, 0.25089606, 0.3046595 ,\n",
       "       0.390681  , 0.44444444, 0.51612903, 0.59498208, 0.63799283,\n",
       "       0.67383513, 0.72043011, 0.77419355, 0.81362007, 0.83512545,\n",
       "       0.86021505, 0.89247312, 0.91039427, 0.92473118, 0.97849462,\n",
       "       0.98207885, 0.98924731, 1.        , 1.        , 1.        ,\n",
       "       1.        , 1.        , 1.        , 1.        , 1.        ,\n",
       "       1.        , 1.        , 1.        , 1.        , 1.        ,\n",
       "       1.        , 1.        , 1.        , 1.        , 1.        ,\n",
       "       1.        , 1.        , 1.        , 1.        , 1.        ,\n",
       "       1.        , 1.        , 1.        , 1.        , 1.        ])"
      ]
     },
     "execution_count": 105,
     "metadata": {},
     "output_type": "execute_result"
    }
   ],
   "source": [
    "tpr"
   ]
  },
  {
   "cell_type": "code",
   "execution_count": 106,
   "metadata": {},
   "outputs": [
    {
     "data": {
      "text/plain": [
       "array([1.98, 0.98, 0.97, 0.96, 0.95, 0.94, 0.93, 0.92, 0.91, 0.9 , 0.89,\n",
       "       0.88, 0.87, 0.86, 0.85, 0.84, 0.83, 0.82, 0.81, 0.8 , 0.79, 0.78,\n",
       "       0.77, 0.76, 0.71, 0.7 , 0.67, 0.58, 0.28, 0.26, 0.24, 0.23, 0.22,\n",
       "       0.21, 0.2 , 0.19, 0.18, 0.17, 0.16, 0.15, 0.14, 0.13, 0.12, 0.11,\n",
       "       0.1 , 0.09, 0.08, 0.07, 0.06, 0.05, 0.04, 0.03, 0.02, 0.01, 0.  ])"
      ]
     },
     "execution_count": 106,
     "metadata": {},
     "output_type": "execute_result"
    }
   ],
   "source": [
    "thresholds"
   ]
  },
  {
   "cell_type": "code",
   "execution_count": 107,
   "metadata": {},
   "outputs": [
    {
     "data": {
      "text/plain": [
       "1.0"
      ]
     },
     "execution_count": 107,
     "metadata": {},
     "output_type": "execute_result"
    }
   ],
   "source": [
    "roc_auc_score(y_test,y_pred)"
   ]
  },
  {
   "cell_type": "code",
   "execution_count": 108,
   "metadata": {},
   "outputs": [
    {
     "data": {
      "text/plain": [
       "1.0"
      ]
     },
     "execution_count": 108,
     "metadata": {},
     "output_type": "execute_result"
    }
   ],
   "source": [
    "y_pred_train = rf.predict_proba(X_train)[:,1]\n",
    "roc_auc_score(y_train,y_pred_train)"
   ]
  },
  {
   "cell_type": "code",
   "execution_count": 109,
   "metadata": {},
   "outputs": [
    {
     "data": {
      "image/png": "[encoded data removed]",
      "text/plain": [
       "<Figure size 432x288 with 1 Axes>"
      ]
     },
     "metadata": {
      "needs_background": "light"
     },
     "output_type": "display_data"
    }
   ],
   "source": [
    "fpr,tpr,thresholds = roc_curve(y_train,y_pred_train)\n",
    "plt.plot(fpr,tpr,marker=\"o\")\n",
    "plt.xlabel(\"False positive rate\")\n",
    "plt.ylabel('True positive rate')\n",
    "plt.grid()\n",
    "plt.show()"
   ]
  },
  {
   "cell_type": "code",
   "execution_count": 110,
   "metadata": {},
   "outputs": [
    {
     "data": {
      "text/plain": [
       "0    1895\n",
       "1     653\n",
       "Name: rank, dtype: int64"
      ]
     },
     "execution_count": 110,
     "metadata": {},
     "output_type": "execute_result"
    }
   ],
   "source": [
    "y_train.value_counts()"
   ]
  },
  {
   "cell_type": "code",
   "execution_count": 111,
   "metadata": {},
   "outputs": [],
   "source": [
    "params = {\n",
    "  \"min_samples_split\":500,\n",
    "  \"max_depth\": None,\n",
    "  \"n_estimators\":60,\n",
    "  \"criterion\":\"entropy\",\n",
    "  \"class_weight\":\"balanced\",\n",
    "  \"random_state\":100\n",
    "}"
   ]
  },
  {
   "cell_type": "code",
   "execution_count": 112,
   "metadata": {},
   "outputs": [],
   "source": [
    "rf = RandomForestClassifier(**params)\n",
    "rf.fit(X_train,y_train)\n",
    "y_pred_train = rf.predict_proba(X_train)[:,1]\n",
    "y_pred = rf.predict_proba(X_test)[:,1]"
   ]
  },
  {
   "cell_type": "code",
   "execution_count": 113,
   "metadata": {},
   "outputs": [
    {
     "name": "stdout",
     "output_type": "stream",
     "text": [
      "1.0\n",
      "1.0\n"
     ]
    }
   ],
   "source": [
    "print(roc_auc_score(y_train,y_pred_train))\n",
    "print(roc_auc_score(y_test,y_pred))"
   ]
  },
  {
   "cell_type": "code",
   "execution_count": 114,
   "metadata": {},
   "outputs": [],
   "source": [
    "imprtances = pd.DataFrame({\"fetures\": X_train.columns, \"importance\": rf.feature_importances_})"
   ]
  },
  {
   "cell_type": "code",
   "execution_count": 115,
   "metadata": {},
   "outputs": [
    {
     "data": {
      "text/html": [
       "<div>\n",
       "<style scoped>\n",
       "    .dataframe tbody tr th:only-of-type {\n",
       "        vertical-align: middle;\n",
       "    }\n",
       "\n",
       "    .dataframe tbody tr th {\n",
       "        vertical-align: top;\n",
       "    }\n",
       "\n",
       "    .dataframe thead th {\n",
       "        text-align: right;\n",
       "    }\n",
       "</style>\n",
       "<table border=\"1\" class=\"dataframe\">\n",
       "  <thead>\n",
       "    <tr style=\"text-align: right;\">\n",
       "      <th></th>\n",
       "      <th>fetures</th>\n",
       "      <th>importance</th>\n",
       "    </tr>\n",
       "  </thead>\n",
       "  <tbody>\n",
       "    <tr>\n",
       "      <th>0</th>\n",
       "      <td>着順</td>\n",
       "      <td>0.617351</td>\n",
       "    </tr>\n",
       "    <tr>\n",
       "      <th>4</th>\n",
       "      <td>人気</td>\n",
       "      <td>0.168768</td>\n",
       "    </tr>\n",
       "    <tr>\n",
       "      <th>18</th>\n",
       "      <td>騎手_ルメー</td>\n",
       "      <td>0.026013</td>\n",
       "    </tr>\n",
       "    <tr>\n",
       "      <th>10</th>\n",
       "      <td>騎手_▲山田</td>\n",
       "      <td>0.021546</td>\n",
       "    </tr>\n",
       "    <tr>\n",
       "      <th>84</th>\n",
       "      <td>騎手_黛</td>\n",
       "      <td>0.014987</td>\n",
       "    </tr>\n",
       "    <tr>\n",
       "      <th>...</th>\n",
       "      <td>...</td>\n",
       "      <td>...</td>\n",
       "    </tr>\n",
       "    <tr>\n",
       "      <th>64</th>\n",
       "      <td>騎手_的場</td>\n",
       "      <td>0.000000</td>\n",
       "    </tr>\n",
       "    <tr>\n",
       "      <th>67</th>\n",
       "      <td>騎手_石川裕</td>\n",
       "      <td>0.000000</td>\n",
       "    </tr>\n",
       "    <tr>\n",
       "      <th>69</th>\n",
       "      <td>騎手_秋山稔</td>\n",
       "      <td>0.000000</td>\n",
       "    </tr>\n",
       "    <tr>\n",
       "      <th>32</th>\n",
       "      <td>騎手_国分優</td>\n",
       "      <td>0.000000</td>\n",
       "    </tr>\n",
       "    <tr>\n",
       "      <th>106</th>\n",
       "      <td>ground_state_重</td>\n",
       "      <td>0.000000</td>\n",
       "    </tr>\n",
       "  </tbody>\n",
       "</table>\n",
       "<p>107 rows × 2 columns</p>\n",
       "</div>"
      ],
      "text/plain": [
       "            fetures  importance\n",
       "0                着順    0.617351\n",
       "4                人気    0.168768\n",
       "18           騎手_ルメー    0.026013\n",
       "10           騎手_▲山田    0.021546\n",
       "84             騎手_黛    0.014987\n",
       "..              ...         ...\n",
       "64            騎手_的場    0.000000\n",
       "67           騎手_石川裕    0.000000\n",
       "69           騎手_秋山稔    0.000000\n",
       "32           騎手_国分優    0.000000\n",
       "106  ground_state_重    0.000000\n",
       "\n",
       "[107 rows x 2 columns]"
      ]
     },
     "execution_count": 115,
     "metadata": {},
     "output_type": "execute_result"
    }
   ],
   "source": [
    "imprtances.sort_values('importance',ascending=False)"
   ]
  },
  {
   "cell_type": "code",
   "execution_count": 116,
   "metadata": {},
   "outputs": [],
   "source": [
    "import lightgbm as lgb\n",
    "# import pandas as pd"
   ]
  },
  {
   "cell_type": "code",
   "execution_count": 117,
   "metadata": {},
   "outputs": [],
   "source": [
    "params = {\n",
    "  \"num_leaves\":2,\n",
    "  \"n_estimators\":50,\n",
    "  \"class_weight\":\"balanced\",\n",
    "  \"random_state\":100,\n",
    "}"
   ]
  },
  {
   "cell_type": "code",
   "execution_count": 118,
   "metadata": {},
   "outputs": [
    {
     "name": "stdout",
     "output_type": "stream",
     "text": [
      "1.0\n",
      "1.0\n"
     ]
    }
   ],
   "source": [
    "lgb_clf = lgb.LGBMClassifier(**params)\n",
    "lgb_clf.fit(X_train.values,y_train.values)\n",
    "y_pred_train = lgb_clf.predict_proba(X_train)[:,1]\n",
    "y_pred = lgb_clf.predict_proba(X_test)[:,1]\n",
    "print(roc_auc_score(y_train,y_pred_train))\n",
    "print(roc_auc_score(y_test,y_pred))\n"
   ]
  },
  {
   "cell_type": "code",
   "execution_count": 119,
   "metadata": {},
   "outputs": [],
   "source": [
    "imprtances = pd.DataFrame({\"fetures\": X_train.columns, \"importance\": lgb_clf.feature_importances_})"
   ]
  },
  {
   "cell_type": "code",
   "execution_count": 120,
   "metadata": {},
   "outputs": [
    {
     "data": {
      "text/html": [
       "<div>\n",
       "<style scoped>\n",
       "    .dataframe tbody tr th:only-of-type {\n",
       "        vertical-align: middle;\n",
       "    }\n",
       "\n",
       "    .dataframe tbody tr th {\n",
       "        vertical-align: top;\n",
       "    }\n",
       "\n",
       "    .dataframe thead th {\n",
       "        text-align: right;\n",
       "    }\n",
       "</style>\n",
       "<table border=\"1\" class=\"dataframe\">\n",
       "  <thead>\n",
       "    <tr style=\"text-align: right;\">\n",
       "      <th></th>\n",
       "      <th>fetures</th>\n",
       "      <th>importance</th>\n",
       "    </tr>\n",
       "  </thead>\n",
       "  <tbody>\n",
       "    <tr>\n",
       "      <th>0</th>\n",
       "      <td>着順</td>\n",
       "      <td>50</td>\n",
       "    </tr>\n",
       "    <tr>\n",
       "      <th>80</th>\n",
       "      <td>騎手_西村淳</td>\n",
       "      <td>0</td>\n",
       "    </tr>\n",
       "    <tr>\n",
       "      <th>78</th>\n",
       "      <td>騎手_藤田菜</td>\n",
       "      <td>0</td>\n",
       "    </tr>\n",
       "    <tr>\n",
       "      <th>77</th>\n",
       "      <td>騎手_藤岡康</td>\n",
       "      <td>0</td>\n",
       "    </tr>\n",
       "    <tr>\n",
       "      <th>76</th>\n",
       "      <td>騎手_藤岡佑</td>\n",
       "      <td>0</td>\n",
       "    </tr>\n",
       "    <tr>\n",
       "      <th>75</th>\n",
       "      <td>騎手_藤井勘</td>\n",
       "      <td>0</td>\n",
       "    </tr>\n",
       "    <tr>\n",
       "      <th>74</th>\n",
       "      <td>騎手_落合玄</td>\n",
       "      <td>0</td>\n",
       "    </tr>\n",
       "    <tr>\n",
       "      <th>73</th>\n",
       "      <td>騎手_菱田</td>\n",
       "      <td>0</td>\n",
       "    </tr>\n",
       "    <tr>\n",
       "      <th>72</th>\n",
       "      <td>騎手_荻野琢</td>\n",
       "      <td>0</td>\n",
       "    </tr>\n",
       "    <tr>\n",
       "      <th>71</th>\n",
       "      <td>騎手_荻野極</td>\n",
       "      <td>0</td>\n",
       "    </tr>\n",
       "    <tr>\n",
       "      <th>70</th>\n",
       "      <td>騎手_竹之下</td>\n",
       "      <td>0</td>\n",
       "    </tr>\n",
       "    <tr>\n",
       "      <th>69</th>\n",
       "      <td>騎手_秋山稔</td>\n",
       "      <td>0</td>\n",
       "    </tr>\n",
       "    <tr>\n",
       "      <th>68</th>\n",
       "      <td>騎手_福永</td>\n",
       "      <td>0</td>\n",
       "    </tr>\n",
       "    <tr>\n",
       "      <th>67</th>\n",
       "      <td>騎手_石川裕</td>\n",
       "      <td>0</td>\n",
       "    </tr>\n",
       "    <tr>\n",
       "      <th>66</th>\n",
       "      <td>騎手_石川倭</td>\n",
       "      <td>0</td>\n",
       "    </tr>\n",
       "    <tr>\n",
       "      <th>65</th>\n",
       "      <td>騎手_石川</td>\n",
       "      <td>0</td>\n",
       "    </tr>\n",
       "    <tr>\n",
       "      <th>64</th>\n",
       "      <td>騎手_的場</td>\n",
       "      <td>0</td>\n",
       "    </tr>\n",
       "    <tr>\n",
       "      <th>63</th>\n",
       "      <td>騎手_畑端</td>\n",
       "      <td>0</td>\n",
       "    </tr>\n",
       "    <tr>\n",
       "      <th>62</th>\n",
       "      <td>騎手_田辺</td>\n",
       "      <td>0</td>\n",
       "    </tr>\n",
       "    <tr>\n",
       "      <th>61</th>\n",
       "      <td>騎手_田中勝</td>\n",
       "      <td>0</td>\n",
       "    </tr>\n",
       "  </tbody>\n",
       "</table>\n",
       "</div>"
      ],
      "text/plain": [
       "   fetures  importance\n",
       "0       着順          50\n",
       "80  騎手_西村淳           0\n",
       "78  騎手_藤田菜           0\n",
       "77  騎手_藤岡康           0\n",
       "76  騎手_藤岡佑           0\n",
       "75  騎手_藤井勘           0\n",
       "74  騎手_落合玄           0\n",
       "73   騎手_菱田           0\n",
       "72  騎手_荻野琢           0\n",
       "71  騎手_荻野極           0\n",
       "70  騎手_竹之下           0\n",
       "69  騎手_秋山稔           0\n",
       "68   騎手_福永           0\n",
       "67  騎手_石川裕           0\n",
       "66  騎手_石川倭           0\n",
       "65   騎手_石川           0\n",
       "64   騎手_的場           0\n",
       "63   騎手_畑端           0\n",
       "62   騎手_田辺           0\n",
       "61  騎手_田中勝           0"
      ]
     },
     "execution_count": 120,
     "metadata": {},
     "output_type": "execute_result"
    }
   ],
   "source": [
    "imprtances.sort_values('importance',ascending=False)[:20]\n"
   ]
  },
  {
   "cell_type": "code",
   "execution_count": null,
   "metadata": {},
   "outputs": [],
   "source": []
  }
 ],
 "metadata": {
  "interpreter": {
   "hash": "17524995b3fb89f69a1eefd3d21017daf0e335c7df3994005e07ddeae9fe971e"
  },
  "kernelspec": {
   "display_name": "Python 3.9.10 ('venv39': venv)",
   "language": "python",
   "name": "python3"
  },
  "language_info": {
   "codemirror_mode": {
    "name": "ipython",
    "version": 3
   },
   "file_extension": ".py",
   "mimetype": "text/x-python",
   "name": "python",
   "nbconvert_exporter": "python",
   "pygments_lexer": "ipython3",
   "version": "3.9.10"
  },
  "orig_nbformat": 4
 },
 "nbformat": 4,
 "nbformat_minor": 2
}
