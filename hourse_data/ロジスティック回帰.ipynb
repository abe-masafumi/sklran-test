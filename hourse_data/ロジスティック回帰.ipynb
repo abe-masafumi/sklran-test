{
 "cells": [
  {
   "cell_type": "markdown",
   "metadata": {},
   "source": [
    "ロジスティック回帰"
   ]
  },
  {
   "cell_type": "code",
   "execution_count": 83,
   "metadata": {},
   "outputs": [],
   "source": [
    "import pandas as pd\n",
    "\n",
    "pd.options.display.width = 500\n",
    "pd.options.display.column_space = 200"
   ]
  },
  {
   "cell_type": "code",
   "execution_count": 84,
   "metadata": {},
   "outputs": [],
   "source": [
    "results = pd.read_pickle(\"df.pickle\")"
   ]
  },
  {
   "cell_type": "code",
   "execution_count": 85,
   "metadata": {},
   "outputs": [],
   "source": [
    "# results"
   ]
  },
  {
   "cell_type": "code",
   "execution_count": 86,
   "metadata": {},
   "outputs": [],
   "source": [
    "clip_rank = lambda x: x if x < 4 else 4 \n",
    "\n",
    "results[\"rank\"] = results[\"着順\"].map(clip_rank)"
   ]
  },
  {
   "cell_type": "code",
   "execution_count": 87,
   "metadata": {},
   "outputs": [
    {
     "data": {
      "text/plain": [
       "4    1897\n",
       "1     173\n",
       "2     173\n",
       "3     173\n",
       "Name: rank, dtype: int64"
      ]
     },
     "execution_count": 87,
     "metadata": {},
     "output_type": "execute_result"
    }
   ],
   "source": [
    "results[\"rank\"].value_counts()"
   ]
  },
  {
   "cell_type": "code",
   "execution_count": 88,
   "metadata": {},
   "outputs": [
    {
     "data": {
      "text/plain": [
       "☆富田     46\n",
       "木幡巧     46\n",
       "丹内      45\n",
       "鮫島駿     41\n",
       "☆菅原明    37\n",
       "        ..\n",
       "井上       2\n",
       "難波       2\n",
       "柴田未      2\n",
       "三津谷      1\n",
       "城戸義      1\n",
       "Name: 騎手, Length: 147, dtype: int64"
      ]
     },
     "execution_count": 88,
     "metadata": {},
     "output_type": "execute_result"
    }
   ],
   "source": [
    "results[\"騎手\"].value_counts()"
   ]
  },
  {
   "cell_type": "code",
   "execution_count": 89,
   "metadata": {},
   "outputs": [
    {
     "data": {
      "text/html": [
       "<div>\n",
       "<style scoped>\n",
       "    .dataframe tbody tr th:only-of-type {\n",
       "        vertical-align: middle;\n",
       "    }\n",
       "\n",
       "    .dataframe tbody tr th {\n",
       "        vertical-align: top;\n",
       "    }\n",
       "\n",
       "    .dataframe thead th {\n",
       "        text-align: right;\n",
       "    }\n",
       "</style>\n",
       "<table border=\"1\" class=\"dataframe\">\n",
       "  <thead>\n",
       "    <tr style=\"text-align: right;\">\n",
       "      <th></th>\n",
       "      <th>枠</th>\n",
       "      <th>斤量</th>\n",
       "      <th>人気</th>\n",
       "      <th>齢</th>\n",
       "      <th>体重</th>\n",
       "      <th>体重変化</th>\n",
       "      <th>rank</th>\n",
       "      <th>馬番_1</th>\n",
       "      <th>馬番_2</th>\n",
       "      <th>馬番_3</th>\n",
       "      <th>...</th>\n",
       "      <th>騎手_高田</th>\n",
       "      <th>騎手_高野</th>\n",
       "      <th>騎手_鮫島良</th>\n",
       "      <th>騎手_鮫島駿</th>\n",
       "      <th>騎手_黒岩</th>\n",
       "      <th>騎手_黛</th>\n",
       "      <th>騎手_Ｍデム</th>\n",
       "      <th>性_セ</th>\n",
       "      <th>性_牝</th>\n",
       "      <th>性_牡</th>\n",
       "    </tr>\n",
       "  </thead>\n",
       "  <tbody>\n",
       "    <tr>\n",
       "      <th>202101010101</th>\n",
       "      <td>5.0</td>\n",
       "      <td>52.0</td>\n",
       "      <td>7.0</td>\n",
       "      <td>3</td>\n",
       "      <td>474</td>\n",
       "      <td>-22</td>\n",
       "      <td>1</td>\n",
       "      <td>0</td>\n",
       "      <td>0</td>\n",
       "      <td>0</td>\n",
       "      <td>...</td>\n",
       "      <td>0</td>\n",
       "      <td>0</td>\n",
       "      <td>0</td>\n",
       "      <td>0</td>\n",
       "      <td>0</td>\n",
       "      <td>0</td>\n",
       "      <td>0</td>\n",
       "      <td>0</td>\n",
       "      <td>1</td>\n",
       "      <td>0</td>\n",
       "    </tr>\n",
       "    <tr>\n",
       "      <th>202101010101</th>\n",
       "      <td>3.0</td>\n",
       "      <td>56.0</td>\n",
       "      <td>2.0</td>\n",
       "      <td>3</td>\n",
       "      <td>470</td>\n",
       "      <td>-2</td>\n",
       "      <td>2</td>\n",
       "      <td>0</td>\n",
       "      <td>0</td>\n",
       "      <td>0</td>\n",
       "      <td>...</td>\n",
       "      <td>0</td>\n",
       "      <td>0</td>\n",
       "      <td>0</td>\n",
       "      <td>0</td>\n",
       "      <td>0</td>\n",
       "      <td>0</td>\n",
       "      <td>0</td>\n",
       "      <td>0</td>\n",
       "      <td>0</td>\n",
       "      <td>1</td>\n",
       "    </tr>\n",
       "    <tr>\n",
       "      <th>202101010101</th>\n",
       "      <td>7.0</td>\n",
       "      <td>54.0</td>\n",
       "      <td>14.0</td>\n",
       "      <td>3</td>\n",
       "      <td>394</td>\n",
       "      <td>2</td>\n",
       "      <td>3</td>\n",
       "      <td>0</td>\n",
       "      <td>0</td>\n",
       "      <td>0</td>\n",
       "      <td>...</td>\n",
       "      <td>0</td>\n",
       "      <td>0</td>\n",
       "      <td>0</td>\n",
       "      <td>0</td>\n",
       "      <td>0</td>\n",
       "      <td>0</td>\n",
       "      <td>0</td>\n",
       "      <td>0</td>\n",
       "      <td>1</td>\n",
       "      <td>0</td>\n",
       "    </tr>\n",
       "    <tr>\n",
       "      <th>202101010101</th>\n",
       "      <td>5.0</td>\n",
       "      <td>54.0</td>\n",
       "      <td>5.0</td>\n",
       "      <td>3</td>\n",
       "      <td>468</td>\n",
       "      <td>2</td>\n",
       "      <td>4</td>\n",
       "      <td>0</td>\n",
       "      <td>0</td>\n",
       "      <td>0</td>\n",
       "      <td>...</td>\n",
       "      <td>0</td>\n",
       "      <td>0</td>\n",
       "      <td>0</td>\n",
       "      <td>1</td>\n",
       "      <td>0</td>\n",
       "      <td>0</td>\n",
       "      <td>0</td>\n",
       "      <td>0</td>\n",
       "      <td>1</td>\n",
       "      <td>0</td>\n",
       "    </tr>\n",
       "    <tr>\n",
       "      <th>202101010101</th>\n",
       "      <td>3.0</td>\n",
       "      <td>54.0</td>\n",
       "      <td>4.0</td>\n",
       "      <td>3</td>\n",
       "      <td>456</td>\n",
       "      <td>8</td>\n",
       "      <td>4</td>\n",
       "      <td>0</td>\n",
       "      <td>0</td>\n",
       "      <td>0</td>\n",
       "      <td>...</td>\n",
       "      <td>0</td>\n",
       "      <td>0</td>\n",
       "      <td>0</td>\n",
       "      <td>0</td>\n",
       "      <td>0</td>\n",
       "      <td>0</td>\n",
       "      <td>0</td>\n",
       "      <td>0</td>\n",
       "      <td>1</td>\n",
       "      <td>0</td>\n",
       "    </tr>\n",
       "    <tr>\n",
       "      <th>...</th>\n",
       "      <td>...</td>\n",
       "      <td>...</td>\n",
       "      <td>...</td>\n",
       "      <td>...</td>\n",
       "      <td>...</td>\n",
       "      <td>...</td>\n",
       "      <td>...</td>\n",
       "      <td>...</td>\n",
       "      <td>...</td>\n",
       "      <td>...</td>\n",
       "      <td>...</td>\n",
       "      <td>...</td>\n",
       "      <td>...</td>\n",
       "      <td>...</td>\n",
       "      <td>...</td>\n",
       "      <td>...</td>\n",
       "      <td>...</td>\n",
       "      <td>...</td>\n",
       "      <td>...</td>\n",
       "      <td>...</td>\n",
       "      <td>...</td>\n",
       "    </tr>\n",
       "    <tr>\n",
       "      <th>202110040302</th>\n",
       "      <td>3.0</td>\n",
       "      <td>56.0</td>\n",
       "      <td>6.0</td>\n",
       "      <td>3</td>\n",
       "      <td>500</td>\n",
       "      <td>-18</td>\n",
       "      <td>4</td>\n",
       "      <td>0</td>\n",
       "      <td>0</td>\n",
       "      <td>0</td>\n",
       "      <td>...</td>\n",
       "      <td>0</td>\n",
       "      <td>0</td>\n",
       "      <td>0</td>\n",
       "      <td>0</td>\n",
       "      <td>0</td>\n",
       "      <td>0</td>\n",
       "      <td>0</td>\n",
       "      <td>0</td>\n",
       "      <td>0</td>\n",
       "      <td>1</td>\n",
       "    </tr>\n",
       "    <tr>\n",
       "      <th>202110040302</th>\n",
       "      <td>3.0</td>\n",
       "      <td>54.0</td>\n",
       "      <td>4.0</td>\n",
       "      <td>3</td>\n",
       "      <td>414</td>\n",
       "      <td>0</td>\n",
       "      <td>4</td>\n",
       "      <td>0</td>\n",
       "      <td>0</td>\n",
       "      <td>0</td>\n",
       "      <td>...</td>\n",
       "      <td>0</td>\n",
       "      <td>0</td>\n",
       "      <td>0</td>\n",
       "      <td>0</td>\n",
       "      <td>0</td>\n",
       "      <td>0</td>\n",
       "      <td>0</td>\n",
       "      <td>0</td>\n",
       "      <td>1</td>\n",
       "      <td>0</td>\n",
       "    </tr>\n",
       "    <tr>\n",
       "      <th>202110040302</th>\n",
       "      <td>5.0</td>\n",
       "      <td>56.0</td>\n",
       "      <td>12.0</td>\n",
       "      <td>3</td>\n",
       "      <td>500</td>\n",
       "      <td>6</td>\n",
       "      <td>4</td>\n",
       "      <td>0</td>\n",
       "      <td>0</td>\n",
       "      <td>0</td>\n",
       "      <td>...</td>\n",
       "      <td>0</td>\n",
       "      <td>0</td>\n",
       "      <td>0</td>\n",
       "      <td>0</td>\n",
       "      <td>0</td>\n",
       "      <td>0</td>\n",
       "      <td>0</td>\n",
       "      <td>0</td>\n",
       "      <td>0</td>\n",
       "      <td>1</td>\n",
       "    </tr>\n",
       "    <tr>\n",
       "      <th>202110040302</th>\n",
       "      <td>7.0</td>\n",
       "      <td>56.0</td>\n",
       "      <td>10.0</td>\n",
       "      <td>3</td>\n",
       "      <td>490</td>\n",
       "      <td>0</td>\n",
       "      <td>4</td>\n",
       "      <td>0</td>\n",
       "      <td>0</td>\n",
       "      <td>0</td>\n",
       "      <td>...</td>\n",
       "      <td>0</td>\n",
       "      <td>0</td>\n",
       "      <td>0</td>\n",
       "      <td>0</td>\n",
       "      <td>0</td>\n",
       "      <td>0</td>\n",
       "      <td>0</td>\n",
       "      <td>0</td>\n",
       "      <td>0</td>\n",
       "      <td>1</td>\n",
       "    </tr>\n",
       "    <tr>\n",
       "      <th>202110040302</th>\n",
       "      <td>7.0</td>\n",
       "      <td>54.0</td>\n",
       "      <td>16.0</td>\n",
       "      <td>3</td>\n",
       "      <td>450</td>\n",
       "      <td>-4</td>\n",
       "      <td>4</td>\n",
       "      <td>0</td>\n",
       "      <td>0</td>\n",
       "      <td>0</td>\n",
       "      <td>...</td>\n",
       "      <td>0</td>\n",
       "      <td>0</td>\n",
       "      <td>0</td>\n",
       "      <td>0</td>\n",
       "      <td>0</td>\n",
       "      <td>0</td>\n",
       "      <td>0</td>\n",
       "      <td>0</td>\n",
       "      <td>1</td>\n",
       "      <td>0</td>\n",
       "    </tr>\n",
       "  </tbody>\n",
       "</table>\n",
       "<p>2416 rows × 186 columns</p>\n",
       "</div>"
      ],
      "text/plain": [
       "                枠    斤量    人気  齢   体重  体重変化  rank  馬番_1  馬番_2  馬番_3  ...  騎手_高田  騎手_高野  騎手_鮫島良  騎手_鮫島駿  騎手_黒岩  騎手_黛  騎手_Ｍデム  性_セ  性_牝  性_牡\n",
       "202101010101  5.0  52.0   7.0  3  474   -22     1     0     0     0  ...      0      0       0       0      0     0       0    0    1    0\n",
       "202101010101  3.0  56.0   2.0  3  470    -2     2     0     0     0  ...      0      0       0       0      0     0       0    0    0    1\n",
       "202101010101  7.0  54.0  14.0  3  394     2     3     0     0     0  ...      0      0       0       0      0     0       0    0    1    0\n",
       "202101010101  5.0  54.0   5.0  3  468     2     4     0     0     0  ...      0      0       0       1      0     0       0    0    1    0\n",
       "202101010101  3.0  54.0   4.0  3  456     8     4     0     0     0  ...      0      0       0       0      0     0       0    0    1    0\n",
       "...           ...   ...   ... ..  ...   ...   ...   ...   ...   ...  ...    ...    ...     ...     ...    ...   ...     ...  ...  ...  ...\n",
       "202110040302  3.0  56.0   6.0  3  500   -18     4     0     0     0  ...      0      0       0       0      0     0       0    0    0    1\n",
       "202110040302  3.0  54.0   4.0  3  414     0     4     0     0     0  ...      0      0       0       0      0     0       0    0    1    0\n",
       "202110040302  5.0  56.0  12.0  3  500     6     4     0     0     0  ...      0      0       0       0      0     0       0    0    0    1\n",
       "202110040302  7.0  56.0  10.0  3  490     0     4     0     0     0  ...      0      0       0       0      0     0       0    0    0    1\n",
       "202110040302  7.0  54.0  16.0  3  450    -4     4     0     0     0  ...      0      0       0       0      0     0       0    0    1    0\n",
       "\n",
       "[2416 rows x 186 columns]"
      ]
     },
     "execution_count": 89,
     "metadata": {},
     "output_type": "execute_result"
    }
   ],
   "source": [
    "pd.set_option('display.max_rows',10)\n",
    "results.drop([\"着順\",\"馬名\"],axis=1,inplace=True)\n",
    "results_d = pd.get_dummies(results)\n",
    "results_d"
   ]
  },
  {
   "cell_type": "code",
   "execution_count": 90,
   "metadata": {},
   "outputs": [],
   "source": [
    "from sklearn.linear_model import LogisticRegression\n",
    "from sklearn.model_selection import train_test_split"
   ]
  },
  {
   "cell_type": "markdown",
   "metadata": {},
   "source": [
    "X >> 学習させるデータ , y >> 予測したいデータ"
   ]
  },
  {
   "cell_type": "code",
   "execution_count": 91,
   "metadata": {},
   "outputs": [
    {
     "name": "stdout",
     "output_type": "stream",
     "text": [
      "(2416, 185)\n",
      "(2416,)\n"
     ]
    }
   ],
   "source": [
    "X = results_d.drop([\"rank\"],axis=1)\n",
    "y = results_d[\"rank\"] \n",
    "print(X.shape)\n",
    "print(y.shape)"
   ]
  },
  {
   "cell_type": "markdown",
   "metadata": {},
   "source": [
    "データを２分割にする: train >> 学習データ : test >> テストデータ"
   ]
  },
  {
   "cell_type": "code",
   "execution_count": 92,
   "metadata": {},
   "outputs": [
    {
     "name": "stdout",
     "output_type": "stream",
     "text": [
      "(1691, 185)\n",
      "(725, 185)\n"
     ]
    }
   ],
   "source": [
    "X_train,X_test,y_train,y_test =  train_test_split(X,y, stratify=y, test_size=0.3,random_state=0)\n",
    "print(X_train.shape)\n",
    "print(X_test.shape)"
   ]
  },
  {
   "cell_type": "code",
   "execution_count": 93,
   "metadata": {},
   "outputs": [
    {
     "name": "stdout",
     "output_type": "stream",
     "text": [
      "                枠    斤量    人気  齢   体重  体重変化  馬番_1  馬番_2  馬番_3  馬番_4  ...  騎手_高田  騎手_高野  騎手_鮫島良  騎手_鮫島駿  騎手_黒岩  騎手_黛  騎手_Ｍデム  性_セ  性_牝  性_牡\n",
      "202103010301  7.0  54.0   1.0  2  422     2     0     0     0     0  ...      0      0       0       0      0     0       0    0    1    0\n",
      "202104020301  7.0  53.0   8.0  3  438     8     0     0     0     0  ...      0      0       0       0      0     0       0    0    1    0\n",
      "202104040201  7.0  60.0   6.0  4  482    -6     0     0     0     0  ...      0      0       0       0      0     0       0    0    0    1\n",
      "202107010302  5.0  56.0  13.0  3  460    -2     0     0     0     0  ...      0      0       0       0      0     0       0    0    0    1\n",
      "202107030302  8.0  56.0   1.0  3  486     2     0     0     0     0  ...      0      0       0       0      0     0       0    0    0    1\n",
      "...           ...   ...   ... ..  ...   ...   ...   ...   ...   ...  ...    ...    ...     ...     ...    ...   ...     ...  ...  ...  ...\n",
      "202110020201  3.0  53.0   2.0  3  416     0     0     0     0     0  ...      0      0       0       0      0     0       0    0    1    0\n",
      "202103020201  3.0  51.0   3.0  2  454     0     0     0     0     1  ...      0      0       0       0      0     0       0    0    0    1\n",
      "202110010101  4.0  56.0  14.0  3  574     6     0     0     0     0  ...      0      0       0       0      0     0       0    0    0    1\n",
      "202107020201  5.0  51.0   8.0  3  444   -14     0     0     0     0  ...      0      0       0       0      0     0       0    0    1    0\n",
      "202106020302  1.0  56.0   9.0  3  504    -2     1     0     0     0  ...      0      0       0       0      0     0       0    0    0    1\n",
      "\n",
      "[1691 rows x 185 columns]\n",
      "                枠    斤量    人気  齢   体重  体重変化  馬番_1  馬番_2  馬番_3  馬番_4  ...  騎手_高田  騎手_高野  騎手_鮫島良  騎手_鮫島駿  騎手_黒岩  騎手_黛  騎手_Ｍデム  性_セ  性_牝  性_牡\n",
      "202105040301  8.0  55.0   1.0  2  512     8     0     0     0     0  ...      0      0       0       0      0     0       0    0    0    1\n",
      "202101010102  8.0  54.0  14.0  3  428     0     0     0     0     0  ...      0      0       0       0      0     0       0    0    1    0\n",
      "202104040101  5.0  54.0  14.0  2  514    -8     0     0     0     0  ...      0      0       0       0      0     0       0    0    0    1\n",
      "202104010102  3.0  56.0   6.0  3  530    -6     0     0     0     1  ...      0      0       0       0      0     0       0    0    0    1\n",
      "202107030202  2.0  53.0   3.0  3  456    -2     0     0     1     0  ...      0      0       0       0      0     0       0    0    1    0\n",
      "...           ...   ...   ... ..  ...   ...   ...   ...   ...   ...  ...    ...    ...     ...     ...    ...   ...     ...  ...  ...  ...\n",
      "202107020201  3.0  54.0  10.0  3  476    -2     0     0     0     0  ...      0      0       0       0      0     0       0    0    1    0\n",
      "202109030201  7.0  54.0   1.0  3  456     0     0     0     0     0  ...      0      0       0       0      0     0       0    0    1    0\n",
      "202110010101  3.0  53.0   2.0  3  508    -2     0     0     0     1  ...      0      0       0       0      0     0       0    0    0    1\n",
      "202110020101  4.0  56.0   3.0  3  472    -4     0     0     0     0  ...      0      0       0       0      0     0       0    0    0    1\n",
      "202109020301  8.0  54.0  10.0  3  500     0     0     0     0     0  ...      0      0       0       0      0     0       0    0    1    0\n",
      "\n",
      "[725 rows x 185 columns]\n",
      "202103010301    4\n",
      "202104020301    4\n",
      "202104040201    3\n",
      "202107010302    4\n",
      "202107030302    4\n",
      "               ..\n",
      "202110020201    4\n",
      "202103020201    4\n",
      "202110010101    4\n",
      "202107020201    4\n",
      "202106020302    4\n",
      "Name: rank, Length: 1691, dtype: int64\n",
      "202105040301    1\n",
      "202101010102    4\n",
      "202104040101    4\n",
      "202104010102    4\n",
      "202107030202    1\n",
      "               ..\n",
      "202107020201    4\n",
      "202109030201    2\n",
      "202110010101    4\n",
      "202110020101    4\n",
      "202109020301    4\n",
      "Name: rank, Length: 725, dtype: int64\n"
     ]
    }
   ],
   "source": [
    "print(X_train)\n",
    "print(X_test)\n",
    "print(y_train)\n",
    "print(y_test)"
   ]
  },
  {
   "cell_type": "code",
   "execution_count": 94,
   "metadata": {},
   "outputs": [
    {
     "name": "stderr",
     "output_type": "stream",
     "text": [
      "/Users/masa/Desktop/scikit-learn-test/venv39/lib/python3.9/site-packages/sklearn/linear_model/_logistic.py:814: ConvergenceWarning: lbfgs failed to converge (status=1):\n",
      "STOP: TOTAL NO. of ITERATIONS REACHED LIMIT.\n",
      "\n",
      "Increase the number of iterations (max_iter) or scale the data as shown in:\n",
      "    https://scikit-learn.org/stable/modules/preprocessing.html\n",
      "Please also refer to the documentation for alternative solver options:\n",
      "    https://scikit-learn.org/stable/modules/linear_model.html#logistic-regression\n",
      "  n_iter_i = _check_optimize_result(\n"
     ]
    },
    {
     "data": {
      "text/plain": [
       "LogisticRegression()"
      ]
     },
     "execution_count": 94,
     "metadata": {},
     "output_type": "execute_result"
    }
   ],
   "source": [
    "model = LogisticRegression()\n",
    "model.fit(X_train,y_train)"
   ]
  },
  {
   "cell_type": "code",
   "execution_count": 97,
   "metadata": {},
   "outputs": [
    {
     "name": "stdout",
     "output_type": "stream",
     "text": [
      "0.7859254878769959 0.7875862068965517\n"
     ]
    }
   ],
   "source": [
    "print(model.score(X_train,y_train),model.score(X_test,y_test))"
   ]
  },
  {
   "cell_type": "code",
   "execution_count": 98,
   "metadata": {},
   "outputs": [
    {
     "data": {
      "text/plain": [
       "array([4, 4, 4, 4, 4, 4, 4, 4, 4, 4, 4, 4, 4, 4, 4, 4, 4, 4, 4, 4, 4, 4,\n",
       "       4, 2, 4, 4, 4, 4, 4, 4, 4, 4, 4, 4, 4, 4, 4, 4, 4, 4, 4, 4, 4, 4,\n",
       "       4, 4, 4, 4, 4, 4, 4, 4, 4, 4, 4, 4, 4, 4, 4, 4, 1, 4, 4, 4, 4, 4,\n",
       "       4, 4, 4, 4, 4, 4, 4, 4, 4, 4, 4, 4, 4, 4, 4, 4, 4, 4, 4, 4, 4, 4,\n",
       "       4, 4, 4, 4, 4, 4, 4, 4, 4, 4, 4, 4, 4, 4, 4, 4, 4, 4, 4, 4, 4, 4,\n",
       "       4, 4, 4, 4, 4, 4, 4, 4, 4, 4, 4, 4, 4, 4, 4, 4, 4, 4, 4, 4, 4, 4,\n",
       "       4, 4, 4, 4, 4, 4, 4, 4, 4, 4, 4, 4, 4, 4, 4, 4, 4, 4, 4, 4, 4, 4,\n",
       "       4, 4, 4, 4, 4, 4, 4, 4, 4, 4, 4, 4, 4, 4, 4, 4, 4, 4, 4, 4, 4, 4,\n",
       "       4, 4, 4, 4, 4, 4, 4, 4, 4, 4, 4, 4, 4, 4, 4, 4, 4, 4, 4, 4, 4, 4,\n",
       "       4, 4, 4, 4, 4, 4, 4, 4, 4, 4, 4, 4, 4, 4, 4, 2, 4, 4, 4, 4, 4, 4,\n",
       "       4, 4, 4, 4, 4, 4, 4, 4, 4, 4, 4, 4, 4, 4, 4, 4, 4, 4, 4, 4, 4, 4,\n",
       "       4, 4, 4, 4, 4, 4, 4, 4, 4, 4, 4, 4, 4, 4, 4, 4, 4, 4, 4, 4, 4, 4,\n",
       "       4, 4, 4, 4, 4, 4, 4, 4, 4, 4, 4, 4, 4, 4, 4, 4, 4, 4, 4, 2, 4, 4,\n",
       "       4, 4, 4, 4, 4, 4, 4, 4, 4, 4, 4, 4, 4, 4, 4, 4, 4, 4, 4, 4, 4, 4,\n",
       "       4, 4, 4, 4, 4, 4, 4, 4, 4, 4, 4, 4, 4, 4, 4, 4, 4, 4, 4, 4, 4, 4,\n",
       "       4, 4, 4, 4, 4, 4, 4, 4, 4, 4, 4, 4, 4, 4, 4, 4, 4, 4, 4, 4, 4, 4,\n",
       "       4, 4, 4, 4, 4, 4, 4, 4, 4, 4, 4, 4, 4, 4, 4, 4, 4, 4, 4, 4, 4, 2,\n",
       "       4, 4, 4, 4, 4, 4, 4, 4, 4, 4, 4, 4, 4, 4, 4, 4, 4, 4, 4, 4, 4, 4,\n",
       "       4, 4, 4, 4, 4, 4, 4, 4, 4, 4, 4, 4, 4, 4, 2, 4, 4, 4, 4, 4, 4, 4,\n",
       "       4, 4, 4, 4, 4, 4, 4, 4, 4, 4, 4, 4, 4, 4, 4, 4, 4, 4, 4, 4, 4, 4,\n",
       "       4, 4, 4, 4, 4, 4, 4, 4, 4, 4, 4, 4, 4, 4, 4, 4, 4, 4, 4, 4, 4, 4,\n",
       "       4, 4, 4, 4, 4, 4, 4, 4, 4, 4, 4, 4, 4, 4, 4, 4, 4, 4, 4, 4, 4, 4,\n",
       "       4, 4, 4, 4, 4, 4, 4, 4, 4, 4, 4, 4, 4, 4, 4, 4, 4, 4, 4, 4, 4, 4,\n",
       "       4, 4, 4, 4, 4, 4, 4, 4, 4, 4, 4, 4, 4, 4, 4, 4, 4, 4, 4, 4, 4, 4,\n",
       "       4, 4, 4, 4, 4, 4, 4, 4, 4, 4, 4, 4, 4, 4, 4, 4, 4, 4, 4, 4, 4, 4,\n",
       "       4, 4, 4, 4, 4, 4, 4, 4, 4, 4, 4, 4, 4, 4, 4, 4, 4, 4, 4, 4, 4, 4,\n",
       "       4, 4, 4, 4, 4, 4, 4, 4, 4, 4, 4, 4, 4, 4, 4, 4, 4, 4, 4, 4, 4, 4,\n",
       "       4, 4, 4, 4, 4, 4, 4, 4, 4, 4, 4, 4, 4, 4, 4, 4, 4, 4, 4, 4, 4, 4,\n",
       "       4, 4, 4, 4, 4, 4, 4, 4, 4, 4, 4, 4, 4, 4, 4, 4, 4, 4, 4, 4, 4, 4,\n",
       "       4, 4, 4, 4, 4, 4, 4, 4, 4, 4, 4, 4, 4, 4, 4, 4, 4, 4, 4, 4, 4, 4,\n",
       "       4, 4, 4, 4, 4, 4, 4, 4, 4, 4, 4, 4, 4, 4, 4, 4, 4, 4, 4, 4, 4, 4,\n",
       "       4, 4, 4, 4, 4, 4, 4, 4, 4, 4, 4, 4, 4, 4, 4, 4, 4, 4, 4, 4, 4, 4,\n",
       "       4, 4, 4, 4, 4, 4, 4, 4, 4, 4, 4, 4, 4, 4, 4, 4, 4, 4, 4, 4, 4])"
      ]
     },
     "execution_count": 98,
     "metadata": {},
     "output_type": "execute_result"
    }
   ],
   "source": [
    "y_predd = model.predict(X_test)\n",
    "y_predd"
   ]
  }
 ],
 "metadata": {
  "interpreter": {
   "hash": "17524995b3fb89f69a1eefd3d21017daf0e335c7df3994005e07ddeae9fe971e"
  },
  "kernelspec": {
   "display_name": "Python 3.9.10 ('venv39': venv)",
   "language": "python",
   "name": "python3"
  },
  "language_info": {
   "codemirror_mode": {
    "name": "ipython",
    "version": 3
   },
   "file_extension": ".py",
   "mimetype": "text/x-python",
   "name": "python",
   "nbconvert_exporter": "python",
   "pygments_lexer": "ipython3",
   "version": "3.9.10"
  },
  "orig_nbformat": 4
 },
 "nbformat": 4,
 "nbformat_minor": 2
}
