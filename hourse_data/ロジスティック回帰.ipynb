{
 "cells": [
  {
   "cell_type": "markdown",
   "metadata": {},
   "source": [
    "ロジスティック回帰"
   ]
  },
  {
   "cell_type": "code",
   "execution_count": 134,
   "metadata": {},
   "outputs": [],
   "source": [
    "import pandas as pd\n",
    "\n",
    "pd.options.display.width = 500\n",
    "pd.options.display.column_space = 200"
   ]
  },
  {
   "cell_type": "code",
   "execution_count": 135,
   "metadata": {},
   "outputs": [],
   "source": [
    "results = pd.read_pickle(\"df.pickle\")"
   ]
  },
  {
   "cell_type": "code",
   "execution_count": 136,
   "metadata": {},
   "outputs": [],
   "source": [
    "# results"
   ]
  },
  {
   "cell_type": "code",
   "execution_count": 137,
   "metadata": {},
   "outputs": [],
   "source": [
    "clip_rank = lambda x: x if x < 4 else 4 \n",
    "\n",
    "results[\"rank\"] = results[\"着順\"].map(clip_rank)"
   ]
  },
  {
   "cell_type": "code",
   "execution_count": 138,
   "metadata": {},
   "outputs": [
    {
     "data": {
      "text/plain": [
       "4    1897\n",
       "1     173\n",
       "2     173\n",
       "3     173\n",
       "Name: rank, dtype: int64"
      ]
     },
     "execution_count": 138,
     "metadata": {},
     "output_type": "execute_result"
    }
   ],
   "source": [
    "results[\"rank\"].value_counts()"
   ]
  },
  {
   "cell_type": "code",
   "execution_count": 139,
   "metadata": {},
   "outputs": [
    {
     "data": {
      "text/plain": [
       "☆富田     46\n",
       "木幡巧     46\n",
       "丹内      45\n",
       "鮫島駿     41\n",
       "☆菅原明    37\n",
       "        ..\n",
       "井上       2\n",
       "難波       2\n",
       "柴田未      2\n",
       "三津谷      1\n",
       "城戸義      1\n",
       "Name: 騎手, Length: 147, dtype: int64"
      ]
     },
     "execution_count": 139,
     "metadata": {},
     "output_type": "execute_result"
    }
   ],
   "source": [
    "results[\"騎手\"].value_counts()"
   ]
  },
  {
   "cell_type": "code",
   "execution_count": 140,
   "metadata": {},
   "outputs": [
    {
     "data": {
      "text/html": [
       "<div>\n",
       "<style scoped>\n",
       "    .dataframe tbody tr th:only-of-type {\n",
       "        vertical-align: middle;\n",
       "    }\n",
       "\n",
       "    .dataframe tbody tr th {\n",
       "        vertical-align: top;\n",
       "    }\n",
       "\n",
       "    .dataframe thead th {\n",
       "        text-align: right;\n",
       "    }\n",
       "</style>\n",
       "<table border=\"1\" class=\"dataframe\">\n",
       "  <thead>\n",
       "    <tr style=\"text-align: right;\">\n",
       "      <th></th>\n",
       "      <th>枠</th>\n",
       "      <th>斤量</th>\n",
       "      <th>人気</th>\n",
       "      <th>齢</th>\n",
       "      <th>体重</th>\n",
       "      <th>体重変化</th>\n",
       "      <th>rank</th>\n",
       "      <th>馬番_1</th>\n",
       "      <th>馬番_2</th>\n",
       "      <th>馬番_3</th>\n",
       "      <th>...</th>\n",
       "      <th>騎手_高田</th>\n",
       "      <th>騎手_高野</th>\n",
       "      <th>騎手_鮫島良</th>\n",
       "      <th>騎手_鮫島駿</th>\n",
       "      <th>騎手_黒岩</th>\n",
       "      <th>騎手_黛</th>\n",
       "      <th>騎手_Ｍデム</th>\n",
       "      <th>性_セ</th>\n",
       "      <th>性_牝</th>\n",
       "      <th>性_牡</th>\n",
       "    </tr>\n",
       "  </thead>\n",
       "  <tbody>\n",
       "    <tr>\n",
       "      <th>202101010101</th>\n",
       "      <td>5.0</td>\n",
       "      <td>52.0</td>\n",
       "      <td>7.0</td>\n",
       "      <td>3</td>\n",
       "      <td>474</td>\n",
       "      <td>-22</td>\n",
       "      <td>1</td>\n",
       "      <td>0</td>\n",
       "      <td>0</td>\n",
       "      <td>0</td>\n",
       "      <td>...</td>\n",
       "      <td>0</td>\n",
       "      <td>0</td>\n",
       "      <td>0</td>\n",
       "      <td>0</td>\n",
       "      <td>0</td>\n",
       "      <td>0</td>\n",
       "      <td>0</td>\n",
       "      <td>0</td>\n",
       "      <td>1</td>\n",
       "      <td>0</td>\n",
       "    </tr>\n",
       "    <tr>\n",
       "      <th>202101010101</th>\n",
       "      <td>3.0</td>\n",
       "      <td>56.0</td>\n",
       "      <td>2.0</td>\n",
       "      <td>3</td>\n",
       "      <td>470</td>\n",
       "      <td>-2</td>\n",
       "      <td>2</td>\n",
       "      <td>0</td>\n",
       "      <td>0</td>\n",
       "      <td>0</td>\n",
       "      <td>...</td>\n",
       "      <td>0</td>\n",
       "      <td>0</td>\n",
       "      <td>0</td>\n",
       "      <td>0</td>\n",
       "      <td>0</td>\n",
       "      <td>0</td>\n",
       "      <td>0</td>\n",
       "      <td>0</td>\n",
       "      <td>0</td>\n",
       "      <td>1</td>\n",
       "    </tr>\n",
       "    <tr>\n",
       "      <th>202101010101</th>\n",
       "      <td>7.0</td>\n",
       "      <td>54.0</td>\n",
       "      <td>14.0</td>\n",
       "      <td>3</td>\n",
       "      <td>394</td>\n",
       "      <td>2</td>\n",
       "      <td>3</td>\n",
       "      <td>0</td>\n",
       "      <td>0</td>\n",
       "      <td>0</td>\n",
       "      <td>...</td>\n",
       "      <td>0</td>\n",
       "      <td>0</td>\n",
       "      <td>0</td>\n",
       "      <td>0</td>\n",
       "      <td>0</td>\n",
       "      <td>0</td>\n",
       "      <td>0</td>\n",
       "      <td>0</td>\n",
       "      <td>1</td>\n",
       "      <td>0</td>\n",
       "    </tr>\n",
       "    <tr>\n",
       "      <th>202101010101</th>\n",
       "      <td>5.0</td>\n",
       "      <td>54.0</td>\n",
       "      <td>5.0</td>\n",
       "      <td>3</td>\n",
       "      <td>468</td>\n",
       "      <td>2</td>\n",
       "      <td>4</td>\n",
       "      <td>0</td>\n",
       "      <td>0</td>\n",
       "      <td>0</td>\n",
       "      <td>...</td>\n",
       "      <td>0</td>\n",
       "      <td>0</td>\n",
       "      <td>0</td>\n",
       "      <td>1</td>\n",
       "      <td>0</td>\n",
       "      <td>0</td>\n",
       "      <td>0</td>\n",
       "      <td>0</td>\n",
       "      <td>1</td>\n",
       "      <td>0</td>\n",
       "    </tr>\n",
       "    <tr>\n",
       "      <th>202101010101</th>\n",
       "      <td>3.0</td>\n",
       "      <td>54.0</td>\n",
       "      <td>4.0</td>\n",
       "      <td>3</td>\n",
       "      <td>456</td>\n",
       "      <td>8</td>\n",
       "      <td>4</td>\n",
       "      <td>0</td>\n",
       "      <td>0</td>\n",
       "      <td>0</td>\n",
       "      <td>...</td>\n",
       "      <td>0</td>\n",
       "      <td>0</td>\n",
       "      <td>0</td>\n",
       "      <td>0</td>\n",
       "      <td>0</td>\n",
       "      <td>0</td>\n",
       "      <td>0</td>\n",
       "      <td>0</td>\n",
       "      <td>1</td>\n",
       "      <td>0</td>\n",
       "    </tr>\n",
       "    <tr>\n",
       "      <th>...</th>\n",
       "      <td>...</td>\n",
       "      <td>...</td>\n",
       "      <td>...</td>\n",
       "      <td>...</td>\n",
       "      <td>...</td>\n",
       "      <td>...</td>\n",
       "      <td>...</td>\n",
       "      <td>...</td>\n",
       "      <td>...</td>\n",
       "      <td>...</td>\n",
       "      <td>...</td>\n",
       "      <td>...</td>\n",
       "      <td>...</td>\n",
       "      <td>...</td>\n",
       "      <td>...</td>\n",
       "      <td>...</td>\n",
       "      <td>...</td>\n",
       "      <td>...</td>\n",
       "      <td>...</td>\n",
       "      <td>...</td>\n",
       "      <td>...</td>\n",
       "    </tr>\n",
       "    <tr>\n",
       "      <th>202110040302</th>\n",
       "      <td>3.0</td>\n",
       "      <td>56.0</td>\n",
       "      <td>6.0</td>\n",
       "      <td>3</td>\n",
       "      <td>500</td>\n",
       "      <td>-18</td>\n",
       "      <td>4</td>\n",
       "      <td>0</td>\n",
       "      <td>0</td>\n",
       "      <td>0</td>\n",
       "      <td>...</td>\n",
       "      <td>0</td>\n",
       "      <td>0</td>\n",
       "      <td>0</td>\n",
       "      <td>0</td>\n",
       "      <td>0</td>\n",
       "      <td>0</td>\n",
       "      <td>0</td>\n",
       "      <td>0</td>\n",
       "      <td>0</td>\n",
       "      <td>1</td>\n",
       "    </tr>\n",
       "    <tr>\n",
       "      <th>202110040302</th>\n",
       "      <td>3.0</td>\n",
       "      <td>54.0</td>\n",
       "      <td>4.0</td>\n",
       "      <td>3</td>\n",
       "      <td>414</td>\n",
       "      <td>0</td>\n",
       "      <td>4</td>\n",
       "      <td>0</td>\n",
       "      <td>0</td>\n",
       "      <td>0</td>\n",
       "      <td>...</td>\n",
       "      <td>0</td>\n",
       "      <td>0</td>\n",
       "      <td>0</td>\n",
       "      <td>0</td>\n",
       "      <td>0</td>\n",
       "      <td>0</td>\n",
       "      <td>0</td>\n",
       "      <td>0</td>\n",
       "      <td>1</td>\n",
       "      <td>0</td>\n",
       "    </tr>\n",
       "    <tr>\n",
       "      <th>202110040302</th>\n",
       "      <td>5.0</td>\n",
       "      <td>56.0</td>\n",
       "      <td>12.0</td>\n",
       "      <td>3</td>\n",
       "      <td>500</td>\n",
       "      <td>6</td>\n",
       "      <td>4</td>\n",
       "      <td>0</td>\n",
       "      <td>0</td>\n",
       "      <td>0</td>\n",
       "      <td>...</td>\n",
       "      <td>0</td>\n",
       "      <td>0</td>\n",
       "      <td>0</td>\n",
       "      <td>0</td>\n",
       "      <td>0</td>\n",
       "      <td>0</td>\n",
       "      <td>0</td>\n",
       "      <td>0</td>\n",
       "      <td>0</td>\n",
       "      <td>1</td>\n",
       "    </tr>\n",
       "    <tr>\n",
       "      <th>202110040302</th>\n",
       "      <td>7.0</td>\n",
       "      <td>56.0</td>\n",
       "      <td>10.0</td>\n",
       "      <td>3</td>\n",
       "      <td>490</td>\n",
       "      <td>0</td>\n",
       "      <td>4</td>\n",
       "      <td>0</td>\n",
       "      <td>0</td>\n",
       "      <td>0</td>\n",
       "      <td>...</td>\n",
       "      <td>0</td>\n",
       "      <td>0</td>\n",
       "      <td>0</td>\n",
       "      <td>0</td>\n",
       "      <td>0</td>\n",
       "      <td>0</td>\n",
       "      <td>0</td>\n",
       "      <td>0</td>\n",
       "      <td>0</td>\n",
       "      <td>1</td>\n",
       "    </tr>\n",
       "    <tr>\n",
       "      <th>202110040302</th>\n",
       "      <td>7.0</td>\n",
       "      <td>54.0</td>\n",
       "      <td>16.0</td>\n",
       "      <td>3</td>\n",
       "      <td>450</td>\n",
       "      <td>-4</td>\n",
       "      <td>4</td>\n",
       "      <td>0</td>\n",
       "      <td>0</td>\n",
       "      <td>0</td>\n",
       "      <td>...</td>\n",
       "      <td>0</td>\n",
       "      <td>0</td>\n",
       "      <td>0</td>\n",
       "      <td>0</td>\n",
       "      <td>0</td>\n",
       "      <td>0</td>\n",
       "      <td>0</td>\n",
       "      <td>0</td>\n",
       "      <td>1</td>\n",
       "      <td>0</td>\n",
       "    </tr>\n",
       "  </tbody>\n",
       "</table>\n",
       "<p>2416 rows × 186 columns</p>\n",
       "</div>"
      ],
      "text/plain": [
       "                枠    斤量    人気  齢   体重  体重変化  rank  馬番_1  馬番_2  馬番_3  ...  騎手_高田  騎手_高野  騎手_鮫島良  騎手_鮫島駿  騎手_黒岩  騎手_黛  騎手_Ｍデム  性_セ  性_牝  性_牡\n",
       "202101010101  5.0  52.0   7.0  3  474   -22     1     0     0     0  ...      0      0       0       0      0     0       0    0    1    0\n",
       "202101010101  3.0  56.0   2.0  3  470    -2     2     0     0     0  ...      0      0       0       0      0     0       0    0    0    1\n",
       "202101010101  7.0  54.0  14.0  3  394     2     3     0     0     0  ...      0      0       0       0      0     0       0    0    1    0\n",
       "202101010101  5.0  54.0   5.0  3  468     2     4     0     0     0  ...      0      0       0       1      0     0       0    0    1    0\n",
       "202101010101  3.0  54.0   4.0  3  456     8     4     0     0     0  ...      0      0       0       0      0     0       0    0    1    0\n",
       "...           ...   ...   ... ..  ...   ...   ...   ...   ...   ...  ...    ...    ...     ...     ...    ...   ...     ...  ...  ...  ...\n",
       "202110040302  3.0  56.0   6.0  3  500   -18     4     0     0     0  ...      0      0       0       0      0     0       0    0    0    1\n",
       "202110040302  3.0  54.0   4.0  3  414     0     4     0     0     0  ...      0      0       0       0      0     0       0    0    1    0\n",
       "202110040302  5.0  56.0  12.0  3  500     6     4     0     0     0  ...      0      0       0       0      0     0       0    0    0    1\n",
       "202110040302  7.0  56.0  10.0  3  490     0     4     0     0     0  ...      0      0       0       0      0     0       0    0    0    1\n",
       "202110040302  7.0  54.0  16.0  3  450    -4     4     0     0     0  ...      0      0       0       0      0     0       0    0    1    0\n",
       "\n",
       "[2416 rows x 186 columns]"
      ]
     },
     "execution_count": 140,
     "metadata": {},
     "output_type": "execute_result"
    }
   ],
   "source": [
    "pd.set_option('display.max_rows',10)\n",
    "results.drop([\"着順\",\"馬名\"],axis=1,inplace=True)\n",
    "results_d = pd.get_dummies(results)\n",
    "results_d"
   ]
  },
  {
   "cell_type": "code",
   "execution_count": 141,
   "metadata": {},
   "outputs": [],
   "source": [
    "from sklearn.linear_model import LogisticRegression\n",
    "from sklearn.model_selection import train_test_split"
   ]
  },
  {
   "cell_type": "markdown",
   "metadata": {},
   "source": [
    "X >> 学習させるデータ , y >> 予測したいデータ"
   ]
  },
  {
   "cell_type": "code",
   "execution_count": 142,
   "metadata": {},
   "outputs": [
    {
     "name": "stdout",
     "output_type": "stream",
     "text": [
      "(2416, 185)\n",
      "(2416,)\n"
     ]
    }
   ],
   "source": [
    "X = results_d.drop([\"rank\"],axis=1)\n",
    "y = results_d[\"rank\"] \n",
    "print(X.shape)\n",
    "print(y.shape)"
   ]
  },
  {
   "cell_type": "markdown",
   "metadata": {},
   "source": [
    "データを２分割にする: train >> 学習データ : test >> テストデータ"
   ]
  },
  {
   "cell_type": "code",
   "execution_count": 143,
   "metadata": {},
   "outputs": [
    {
     "name": "stdout",
     "output_type": "stream",
     "text": [
      "(1691, 185)\n",
      "(725, 185)\n"
     ]
    }
   ],
   "source": [
    "X_train,X_test,y_train,y_test =  train_test_split(X,y, stratify=y, test_size=0.3,random_state=0)\n",
    "print(X_train.shape)\n",
    "print(X_test.shape)"
   ]
  },
  {
   "cell_type": "code",
   "execution_count": 144,
   "metadata": {},
   "outputs": [
    {
     "name": "stdout",
     "output_type": "stream",
     "text": [
      "                枠    斤量    人気  齢   体重  体重変化  馬番_1  馬番_2  馬番_3  馬番_4  ...  騎手_高田  騎手_高野  騎手_鮫島良  騎手_鮫島駿  騎手_黒岩  騎手_黛  騎手_Ｍデム  性_セ  性_牝  性_牡\n",
      "202103010301  7.0  54.0   1.0  2  422     2     0     0     0     0  ...      0      0       0       0      0     0       0    0    1    0\n",
      "202104020301  7.0  53.0   8.0  3  438     8     0     0     0     0  ...      0      0       0       0      0     0       0    0    1    0\n",
      "202104040201  7.0  60.0   6.0  4  482    -6     0     0     0     0  ...      0      0       0       0      0     0       0    0    0    1\n",
      "202107010302  5.0  56.0  13.0  3  460    -2     0     0     0     0  ...      0      0       0       0      0     0       0    0    0    1\n",
      "202107030302  8.0  56.0   1.0  3  486     2     0     0     0     0  ...      0      0       0       0      0     0       0    0    0    1\n",
      "...           ...   ...   ... ..  ...   ...   ...   ...   ...   ...  ...    ...    ...     ...     ...    ...   ...     ...  ...  ...  ...\n",
      "202110020201  3.0  53.0   2.0  3  416     0     0     0     0     0  ...      0      0       0       0      0     0       0    0    1    0\n",
      "202103020201  3.0  51.0   3.0  2  454     0     0     0     0     1  ...      0      0       0       0      0     0       0    0    0    1\n",
      "202110010101  4.0  56.0  14.0  3  574     6     0     0     0     0  ...      0      0       0       0      0     0       0    0    0    1\n",
      "202107020201  5.0  51.0   8.0  3  444   -14     0     0     0     0  ...      0      0       0       0      0     0       0    0    1    0\n",
      "202106020302  1.0  56.0   9.0  3  504    -2     1     0     0     0  ...      0      0       0       0      0     0       0    0    0    1\n",
      "\n",
      "[1691 rows x 185 columns]\n",
      "                枠    斤量    人気  齢   体重  体重変化  馬番_1  馬番_2  馬番_3  馬番_4  ...  騎手_高田  騎手_高野  騎手_鮫島良  騎手_鮫島駿  騎手_黒岩  騎手_黛  騎手_Ｍデム  性_セ  性_牝  性_牡\n",
      "202105040301  8.0  55.0   1.0  2  512     8     0     0     0     0  ...      0      0       0       0      0     0       0    0    0    1\n",
      "202101010102  8.0  54.0  14.0  3  428     0     0     0     0     0  ...      0      0       0       0      0     0       0    0    1    0\n",
      "202104040101  5.0  54.0  14.0  2  514    -8     0     0     0     0  ...      0      0       0       0      0     0       0    0    0    1\n",
      "202104010102  3.0  56.0   6.0  3  530    -6     0     0     0     1  ...      0      0       0       0      0     0       0    0    0    1\n",
      "202107030202  2.0  53.0   3.0  3  456    -2     0     0     1     0  ...      0      0       0       0      0     0       0    0    1    0\n",
      "...           ...   ...   ... ..  ...   ...   ...   ...   ...   ...  ...    ...    ...     ...     ...    ...   ...     ...  ...  ...  ...\n",
      "202107020201  3.0  54.0  10.0  3  476    -2     0     0     0     0  ...      0      0       0       0      0     0       0    0    1    0\n",
      "202109030201  7.0  54.0   1.0  3  456     0     0     0     0     0  ...      0      0       0       0      0     0       0    0    1    0\n",
      "202110010101  3.0  53.0   2.0  3  508    -2     0     0     0     1  ...      0      0       0       0      0     0       0    0    0    1\n",
      "202110020101  4.0  56.0   3.0  3  472    -4     0     0     0     0  ...      0      0       0       0      0     0       0    0    0    1\n",
      "202109020301  8.0  54.0  10.0  3  500     0     0     0     0     0  ...      0      0       0       0      0     0       0    0    1    0\n",
      "\n",
      "[725 rows x 185 columns]\n",
      "202103010301    4\n",
      "202104020301    4\n",
      "202104040201    3\n",
      "202107010302    4\n",
      "202107030302    4\n",
      "               ..\n",
      "202110020201    4\n",
      "202103020201    4\n",
      "202110010101    4\n",
      "202107020201    4\n",
      "202106020302    4\n",
      "Name: rank, Length: 1691, dtype: int64\n",
      "202105040301    1\n",
      "202101010102    4\n",
      "202104040101    4\n",
      "202104010102    4\n",
      "202107030202    1\n",
      "               ..\n",
      "202107020201    4\n",
      "202109030201    2\n",
      "202110010101    4\n",
      "202110020101    4\n",
      "202109020301    4\n",
      "Name: rank, Length: 725, dtype: int64\n"
     ]
    }
   ],
   "source": [
    "print(X_train)\n",
    "print(X_test)\n",
    "print(y_train)\n",
    "print(y_test)"
   ]
  },
  {
   "cell_type": "code",
   "execution_count": 145,
   "metadata": {},
   "outputs": [
    {
     "name": "stderr",
     "output_type": "stream",
     "text": [
      "/Users/masa/Desktop/scikit-learn-test/venv39/lib/python3.9/site-packages/sklearn/linear_model/_logistic.py:814: ConvergenceWarning: lbfgs failed to converge (status=1):\n",
      "STOP: TOTAL NO. of ITERATIONS REACHED LIMIT.\n",
      "\n",
      "Increase the number of iterations (max_iter) or scale the data as shown in:\n",
      "    https://scikit-learn.org/stable/modules/preprocessing.html\n",
      "Please also refer to the documentation for alternative solver options:\n",
      "    https://scikit-learn.org/stable/modules/linear_model.html#logistic-regression\n",
      "  n_iter_i = _check_optimize_result(\n"
     ]
    },
    {
     "data": {
      "text/plain": [
       "LogisticRegression()"
      ]
     },
     "execution_count": 145,
     "metadata": {},
     "output_type": "execute_result"
    }
   ],
   "source": [
    "model = LogisticRegression()\n",
    "model.fit(X_train,y_train)"
   ]
  },
  {
   "cell_type": "code",
   "execution_count": 146,
   "metadata": {},
   "outputs": [
    {
     "name": "stdout",
     "output_type": "stream",
     "text": [
      "0.7859254878769959 0.7875862068965517\n"
     ]
    }
   ],
   "source": [
    "print(model.score(X_train,y_train),model.score(X_test,y_test))"
   ]
  },
  {
   "cell_type": "code",
   "execution_count": 147,
   "metadata": {},
   "outputs": [
    {
     "data": {
      "text/plain": [
       "4    719\n",
       "2      5\n",
       "1      1\n",
       "dtype: int64"
      ]
     },
     "execution_count": 147,
     "metadata": {},
     "output_type": "execute_result"
    }
   ],
   "source": [
    "y_pred = model.predict(X_test)\n",
    "pd.Series(y_pred).value_counts()"
   ]
  },
  {
   "cell_type": "code",
   "execution_count": 148,
   "metadata": {},
   "outputs": [],
   "source": [
    "from imblearn.under_sampling import RandomUnderSampler\n",
    "\n",
    "rank_1 = y_train.value_counts()[1]\n",
    "rank_2 = y_train.value_counts()[2]\n",
    "rank_3 = y_train.value_counts()[3]\n",
    "\n",
    "rus = RandomUnderSampler(sampling_strategy=\"auto\",random_state=None,replacement=False)\n",
    "X_train_rus,y_train_rus = rus.fit_resample(X_train,y_train)"
   ]
  },
  {
   "cell_type": "code",
   "execution_count": 149,
   "metadata": {},
   "outputs": [
    {
     "data": {
      "text/plain": [
       "1    121\n",
       "2    121\n",
       "3    121\n",
       "4    121\n",
       "Name: rank, dtype: int64"
      ]
     },
     "execution_count": 149,
     "metadata": {},
     "output_type": "execute_result"
    }
   ],
   "source": [
    "pd.Series(y_train_rus.value_counts())"
   ]
  },
  {
   "cell_type": "code",
   "execution_count": 150,
   "metadata": {},
   "outputs": [
    {
     "name": "stderr",
     "output_type": "stream",
     "text": [
      "/Users/masa/Desktop/scikit-learn-test/venv39/lib/python3.9/site-packages/sklearn/linear_model/_logistic.py:814: ConvergenceWarning: lbfgs failed to converge (status=1):\n",
      "STOP: TOTAL NO. of ITERATIONS REACHED LIMIT.\n",
      "\n",
      "Increase the number of iterations (max_iter) or scale the data as shown in:\n",
      "    https://scikit-learn.org/stable/modules/preprocessing.html\n",
      "Please also refer to the documentation for alternative solver options:\n",
      "    https://scikit-learn.org/stable/modules/linear_model.html#logistic-regression\n",
      "  n_iter_i = _check_optimize_result(\n"
     ]
    },
    {
     "data": {
      "text/plain": [
       "LogisticRegression()"
      ]
     },
     "execution_count": 150,
     "metadata": {},
     "output_type": "execute_result"
    }
   ],
   "source": [
    "model = LogisticRegression()\n",
    "model.fit(X_train_rus,y_train_rus)"
   ]
  },
  {
   "cell_type": "code",
   "execution_count": 151,
   "metadata": {},
   "outputs": [
    {
     "name": "stdout",
     "output_type": "stream",
     "text": [
      "0.6179775280898876 0.5958620689655172\n"
     ]
    }
   ],
   "source": [
    "print(model.score(X_train,y_train),model.score(X_test,y_test))"
   ]
  },
  {
   "cell_type": "code",
   "execution_count": 152,
   "metadata": {},
   "outputs": [
    {
     "data": {
      "text/plain": [
       "array([1, 4, 4, 3, 3, 4, 4, 2, 1, 4, 4, 4, 4, 4, 3, 4, 4, 1, 2, 3, 1, 4,\n",
       "       4, 2, 4, 4, 3, 1, 1, 3, 4, 2, 2, 4, 4, 4, 2, 3, 4, 4, 4, 1, 4, 1,\n",
       "       1, 3, 4, 4, 2, 4, 2, 4, 4, 4, 1, 4, 4, 4, 1, 2, 3, 4, 4, 2, 2, 4,\n",
       "       3, 1, 4, 2, 4, 1, 4, 4, 4, 2, 2, 4, 3, 4, 2, 2, 3, 4, 4, 4, 4, 4,\n",
       "       4, 4, 4, 4, 4, 4, 3, 2, 4, 4, 4, 1, 2, 2, 3, 4, 4, 4, 4, 4, 1, 1,\n",
       "       3, 4, 3, 3, 4, 1, 2, 1, 2, 1, 1, 4, 4, 1, 1, 4, 4, 4, 4, 4, 3, 3,\n",
       "       1, 3, 4, 1, 3, 4, 4, 3, 4, 3, 2, 4, 4, 4, 4, 1, 4, 2, 4, 3, 4, 4,\n",
       "       4, 2, 4, 4, 2, 3, 2, 4, 4, 3, 4, 2, 1, 4, 4, 3, 4, 3, 1, 4, 4, 3,\n",
       "       4, 4, 2, 4, 2, 4, 3, 4, 3, 3, 1, 1, 3, 4, 4, 2, 4, 3, 3, 2, 4, 4,\n",
       "       4, 3, 2, 4, 2, 4, 4, 3, 4, 4, 3, 4, 4, 1, 2, 2, 4, 4, 4, 4, 4, 4,\n",
       "       4, 4, 2, 2, 4, 3, 1, 3, 4, 4, 2, 2, 4, 4, 4, 2, 4, 1, 4, 4, 4, 2,\n",
       "       2, 3, 4, 4, 4, 3, 3, 4, 4, 3, 4, 4, 3, 2, 3, 4, 4, 1, 4, 1, 4, 4,\n",
       "       4, 3, 4, 4, 4, 2, 4, 2, 4, 2, 4, 4, 4, 4, 4, 4, 1, 4, 1, 2, 4, 4,\n",
       "       4, 1, 4, 2, 4, 1, 3, 4, 2, 4, 4, 3, 4, 3, 4, 3, 2, 2, 2, 1, 3, 2,\n",
       "       2, 4, 4, 2, 4, 2, 4, 3, 1, 4, 4, 4, 4, 2, 2, 4, 4, 1, 4, 4, 4, 4,\n",
       "       3, 1, 4, 4, 4, 4, 3, 4, 4, 3, 1, 4, 2, 4, 4, 2, 4, 4, 3, 4, 4, 1,\n",
       "       4, 3, 4, 4, 4, 4, 2, 3, 4, 1, 3, 3, 2, 2, 2, 4, 4, 4, 4, 3, 4, 2,\n",
       "       4, 4, 4, 4, 4, 4, 4, 4, 4, 4, 4, 4, 4, 4, 4, 4, 4, 3, 3, 2, 4, 4,\n",
       "       2, 1, 4, 3, 1, 4, 4, 3, 1, 4, 4, 2, 4, 4, 2, 4, 4, 4, 4, 3, 4, 1,\n",
       "       4, 4, 4, 4, 3, 3, 4, 1, 1, 4, 4, 4, 3, 2, 4, 1, 2, 4, 4, 1, 4, 2,\n",
       "       4, 2, 4, 4, 3, 4, 1, 4, 4, 4, 4, 3, 4, 1, 4, 4, 4, 4, 4, 4, 4, 4,\n",
       "       1, 4, 3, 4, 4, 4, 4, 2, 3, 4, 4, 4, 4, 4, 2, 4, 2, 2, 4, 4, 4, 4,\n",
       "       2, 4, 4, 4, 4, 1, 4, 1, 4, 2, 2, 2, 4, 1, 4, 2, 4, 2, 3, 4, 2, 4,\n",
       "       4, 4, 2, 4, 2, 3, 4, 4, 2, 4, 4, 4, 1, 1, 4, 4, 4, 4, 4, 4, 3, 2,\n",
       "       1, 4, 4, 3, 3, 4, 3, 4, 2, 3, 1, 2, 4, 4, 4, 4, 4, 3, 4, 4, 2, 4,\n",
       "       4, 4, 2, 4, 4, 1, 4, 4, 4, 2, 3, 4, 4, 4, 1, 4, 3, 4, 4, 1, 2, 4,\n",
       "       4, 4, 2, 1, 2, 1, 4, 4, 4, 4, 1, 4, 4, 4, 4, 4, 2, 4, 4, 4, 3, 3,\n",
       "       2, 4, 4, 4, 3, 4, 4, 4, 2, 2, 4, 4, 3, 4, 3, 1, 4, 3, 2, 3, 4, 4,\n",
       "       4, 4, 1, 1, 4, 4, 4, 2, 4, 2, 4, 3, 1, 4, 2, 4, 4, 4, 2, 4, 2, 3,\n",
       "       2, 4, 1, 3, 2, 2, 2, 4, 4, 4, 4, 4, 4, 4, 4, 3, 3, 3, 2, 4, 3, 3,\n",
       "       4, 3, 2, 4, 2, 4, 4, 2, 4, 4, 4, 1, 2, 3, 4, 4, 4, 4, 4, 4, 4, 1,\n",
       "       4, 4, 4, 4, 2, 4, 4, 4, 4, 4, 4, 4, 4, 4, 3, 3, 4, 2, 4, 4, 1, 4,\n",
       "       4, 4, 4, 4, 4, 3, 4, 4, 4, 3, 4, 4, 3, 4, 2, 3, 4, 2, 3, 1, 4])"
      ]
     },
     "execution_count": 152,
     "metadata": {},
     "output_type": "execute_result"
    }
   ],
   "source": [
    "y_pred = model.predict(X_test)\n",
    "y_pred"
   ]
  },
  {
   "cell_type": "code",
   "execution_count": 155,
   "metadata": {},
   "outputs": [
    {
     "data": {
      "text/html": [
       "<div>\n",
       "<style scoped>\n",
       "    .dataframe tbody tr th:only-of-type {\n",
       "        vertical-align: middle;\n",
       "    }\n",
       "\n",
       "    .dataframe tbody tr th {\n",
       "        vertical-align: top;\n",
       "    }\n",
       "\n",
       "    .dataframe thead th {\n",
       "        text-align: right;\n",
       "    }\n",
       "</style>\n",
       "<table border=\"1\" class=\"dataframe\">\n",
       "  <thead>\n",
       "    <tr style=\"text-align: right;\">\n",
       "      <th></th>\n",
       "      <th>pred</th>\n",
       "      <th>actual</th>\n",
       "    </tr>\n",
       "  </thead>\n",
       "  <tbody>\n",
       "    <tr>\n",
       "      <th>202105040301</th>\n",
       "      <td>1</td>\n",
       "      <td>1</td>\n",
       "    </tr>\n",
       "    <tr>\n",
       "      <th>202101010102</th>\n",
       "      <td>4</td>\n",
       "      <td>4</td>\n",
       "    </tr>\n",
       "    <tr>\n",
       "      <th>202104040101</th>\n",
       "      <td>4</td>\n",
       "      <td>4</td>\n",
       "    </tr>\n",
       "    <tr>\n",
       "      <th>202104010102</th>\n",
       "      <td>3</td>\n",
       "      <td>4</td>\n",
       "    </tr>\n",
       "    <tr>\n",
       "      <th>202107030202</th>\n",
       "      <td>3</td>\n",
       "      <td>1</td>\n",
       "    </tr>\n",
       "    <tr>\n",
       "      <th>...</th>\n",
       "      <td>...</td>\n",
       "      <td>...</td>\n",
       "    </tr>\n",
       "    <tr>\n",
       "      <th>202107020201</th>\n",
       "      <td>4</td>\n",
       "      <td>4</td>\n",
       "    </tr>\n",
       "    <tr>\n",
       "      <th>202109030201</th>\n",
       "      <td>2</td>\n",
       "      <td>2</td>\n",
       "    </tr>\n",
       "    <tr>\n",
       "      <th>202110010101</th>\n",
       "      <td>3</td>\n",
       "      <td>4</td>\n",
       "    </tr>\n",
       "    <tr>\n",
       "      <th>202110020101</th>\n",
       "      <td>1</td>\n",
       "      <td>4</td>\n",
       "    </tr>\n",
       "    <tr>\n",
       "      <th>202109020301</th>\n",
       "      <td>4</td>\n",
       "      <td>4</td>\n",
       "    </tr>\n",
       "  </tbody>\n",
       "</table>\n",
       "<p>725 rows × 2 columns</p>\n",
       "</div>"
      ],
      "text/plain": [
       "              pred  actual\n",
       "202105040301     1       1\n",
       "202101010102     4       4\n",
       "202104040101     4       4\n",
       "202104010102     3       4\n",
       "202107030202     3       1\n",
       "...            ...     ...\n",
       "202107020201     4       4\n",
       "202109030201     2       2\n",
       "202110010101     3       4\n",
       "202110020101     1       4\n",
       "202109020301     4       4\n",
       "\n",
       "[725 rows x 2 columns]"
      ]
     },
     "execution_count": 155,
     "metadata": {},
     "output_type": "execute_result"
    }
   ],
   "source": [
    "pred_df = pd.DataFrame({\"pred\":y_pred,\"actual\":y_test})\n",
    "pred_df"
   ]
  },
  {
   "cell_type": "code",
   "execution_count": 157,
   "metadata": {},
   "outputs": [
    {
     "data": {
      "text/plain": [
       "4    51\n",
       "2    12\n",
       "1     8\n",
       "3     7\n",
       "Name: actual, dtype: int64"
      ]
     },
     "execution_count": 157,
     "metadata": {},
     "output_type": "execute_result"
    }
   ],
   "source": [
    "pred_df[pred_df[\"pred\"] == 1][\"actual\"].value_counts()"
   ]
  },
  {
   "cell_type": "code",
   "execution_count": 158,
   "metadata": {},
   "outputs": [
    {
     "data": {
      "text/plain": [
       "78"
      ]
     },
     "execution_count": 158,
     "metadata": {},
     "output_type": "execute_result"
    }
   ],
   "source": [
    "len(pred_df[pred_df[\"pred\"] == 1])"
   ]
  },
  {
   "cell_type": "code",
   "execution_count": 159,
   "metadata": {},
   "outputs": [
    {
     "data": {
      "text/plain": [
       "4    391\n",
       "2     12\n",
       "3     11\n",
       "1      6\n",
       "Name: actual, dtype: int64"
      ]
     },
     "execution_count": 159,
     "metadata": {},
     "output_type": "execute_result"
    }
   ],
   "source": [
    "pred_df[pred_df[\"pred\"] == 4][\"actual\"].value_counts()"
   ]
  },
  {
   "cell_type": "code",
   "execution_count": 165,
   "metadata": {},
   "outputs": [
    {
     "data": {
      "text/plain": [
       "齢         -0.175560\n",
       "人気        -0.093084\n",
       "馬番_1      -0.078228\n",
       "騎手_☆富田    -0.058404\n",
       "馬番_6      -0.058320\n",
       "騎手_三浦     -0.056414\n",
       "馬番_11     -0.050863\n",
       "騎手_和田竜    -0.045025\n",
       "騎手_▲角田    -0.039314\n",
       "騎手_岩田望    -0.036156\n",
       "騎手_☆斎藤    -0.034271\n",
       "騎手_▲永野    -0.031797\n",
       "騎手_丸山     -0.029467\n",
       "騎手_▲小沢    -0.027919\n",
       "騎手_池添     -0.027893\n",
       "騎手_☆菅原明   -0.026517\n",
       "騎手_西谷誠    -0.024685\n",
       "馬番_2      -0.021766\n",
       "騎手_北村宏    -0.021242\n",
       "騎手_菱田     -0.020317\n",
       "騎手_吉田隼    -0.019753\n",
       "馬番_8      -0.019052\n",
       "騎手_高田     -0.018698\n",
       "性_牡       -0.017959\n",
       "騎手_野中     -0.017910\n",
       "騎手_菅原明    -0.017047\n",
       "騎手_幸      -0.016682\n",
       "騎手_浜中     -0.016219\n",
       "騎手_国分優    -0.013827\n",
       "騎手_☆団野    -0.013810\n",
       "騎手_☆木幡育   -0.013382\n",
       "騎手_黒岩     -0.013151\n",
       "騎手_酒井     -0.013078\n",
       "騎手_小野寺    -0.012801\n",
       "騎手_白浜     -0.012732\n",
       "騎手_北沢     -0.012066\n",
       "馬番_15     -0.012007\n",
       "騎手_丹内     -0.011601\n",
       "騎手_吉田豊    -0.011436\n",
       "騎手_黛      -0.011117\n",
       "騎手_森一     -0.010298\n",
       "馬番_12     -0.009908\n",
       "騎手_津村     -0.009708\n",
       "騎手_古川吉    -0.009168\n",
       "騎手_平沢     -0.009066\n",
       "騎手_藤井勘    -0.008140\n",
       "騎手_加藤     -0.008031\n",
       "騎手_小牧     -0.007732\n",
       "騎手_荻野極    -0.007479\n",
       "馬番_10     -0.007350\n",
       "騎手_菊沢     -0.007341\n",
       "騎手_上野     -0.007168\n",
       "騎手_伊藤     -0.007124\n",
       "騎手_嘉藤     -0.007000\n",
       "騎手_勝浦     -0.006589\n",
       "騎手_岡田     -0.006108\n",
       "馬番_18     -0.006030\n",
       "騎手_長岡     -0.006022\n",
       "騎手_的場     -0.005951\n",
       "騎手_藤岡佑    -0.005893\n",
       "騎手_宮崎     -0.005809\n",
       "騎手_▲原     -0.005750\n",
       "騎手_川島     -0.005748\n",
       "騎手_植野     -0.005611\n",
       "馬番_11     -0.005355\n",
       "騎手_◇藤田菜   -0.004678\n",
       "騎手_森裕     -0.004460\n",
       "騎手_武豊     -0.004399\n",
       "騎手_柴山     -0.003898\n",
       "騎手_△山田    -0.003822\n",
       "馬番_4      -0.003795\n",
       "騎手_荻野琢    -0.003351\n",
       "騎手_木幡初    -0.003011\n",
       "体重変化      -0.002568\n",
       "騎手_▲松本    -0.002229\n",
       "騎手_岩田康    -0.001993\n",
       "馬番_14     -0.001915\n",
       "体重        -0.001907\n",
       "騎手_★古川奈   -0.001785\n",
       "騎手_△秋山稔   -0.001693\n",
       "騎手_小崎     -0.001684\n",
       "騎手_蓑島     -0.001506\n",
       "騎手_城戸義    -0.001205\n",
       "騎手_大野     -0.001156\n",
       "騎手_▲横山琉   -0.000818\n",
       "騎手_五十嵐    -0.000720\n",
       "騎手_井上     -0.000447\n",
       "騎手_大庭      0.000000\n",
       "騎手_水口      0.000000\n",
       "騎手_太宰      0.000000\n",
       "騎手_熊沢      0.000000\n",
       "騎手_田村      0.000000\n",
       "騎手_田中勝     0.000000\n",
       "騎手_斎藤      0.000000\n",
       "騎手_嶋田      0.000000\n",
       "馬番_1       0.000000\n",
       "騎手_▲西谷凜    0.000000\n",
       "馬番_12      0.000000\n",
       "馬番_13      0.000000\n",
       "馬番_2       0.000000\n",
       "馬番_3       0.000000\n",
       "馬番_4       0.000000\n",
       "馬番_6       0.000000\n",
       "馬番_8       0.000000\n",
       "馬番_9       0.000000\n",
       "馬番_17      0.000000\n",
       "騎手_▲服部     0.000000\n",
       "騎手_金子      0.000000\n",
       "騎手_石神      0.000000\n",
       "騎手_蛯名      0.000000\n",
       "騎手_柴田未     0.000000\n",
       "騎手_☆秋山稔    0.000000\n",
       "騎手_高野      0.000000\n",
       "騎手_☆菊沢     0.000000\n",
       "騎手_三津谷     0.000000\n",
       "騎手_鮫島良     0.000000\n",
       "騎手_菅原隆     0.000000\n",
       "騎手_原田和     0.000000\n",
       "騎手_古川      0.000000\n",
       "騎手_和田翼     0.000000\n",
       "騎手_草野      0.000000\n",
       "騎手_☆泉谷     0.000000\n",
       "騎手_横山和     0.000277\n",
       "騎手_▲小林凌    0.000600\n",
       "騎手_北村友     0.000849\n",
       "性_牝        0.001281\n",
       "騎手_鮫島駿     0.001614\n",
       "騎手_国分恭     0.001713\n",
       "騎手_武士沢     0.001782\n",
       "馬番_13      0.002353\n",
       "騎手_武藤      0.004783\n",
       "騎手_柴田善     0.007319\n",
       "騎手_伴       0.007843\n",
       "騎手_田辺      0.007876\n",
       "騎手_石川      0.007888\n",
       "騎手_江田照     0.008796\n",
       "騎手_中井      0.009196\n",
       "騎手_石橋脩     0.009251\n",
       "騎手_松若      0.009942\n",
       "騎手_団野      0.009949\n",
       "騎手_▲泉谷     0.009999\n",
       "騎手_柴田大     0.010205\n",
       "騎手_内田博     0.010661\n",
       "騎手_高倉      0.010808\n",
       "騎手_城戸      0.011348\n",
       "騎手_藤懸      0.011360\n",
       "騎手_川又      0.011646\n",
       "騎手_小坂      0.012516\n",
       "騎手_川田      0.013126\n",
       "騎手_西村淳     0.013185\n",
       "馬番_10      0.013374\n",
       "騎手_杉原      0.015590\n",
       "騎手_横山典     0.016139\n",
       "騎手_秋山真     0.016206\n",
       "騎手_難波      0.016853\n",
       "騎手_大江原     0.017295\n",
       "騎手_藤岡康     0.017403\n",
       "騎手_中村      0.018118\n",
       "騎手_岩部      0.018347\n",
       "騎手_松田      0.018414\n",
       "騎手_木幡巧     0.018584\n",
       "騎手_坂井      0.019044\n",
       "馬番_9       0.024050\n",
       "馬番_3       0.024135\n",
       "性_セ        0.024519\n",
       "騎手_Ｍデム     0.024870\n",
       "騎手_丸田      0.025279\n",
       "騎手_川須      0.026660\n",
       "騎手_★永島     0.027420\n",
       "騎手_福永      0.029935\n",
       "騎手_▲秋山稔    0.029989\n",
       "騎手_田中健     0.030324\n",
       "騎手_☆森裕     0.031167\n",
       "斤量         0.031944\n",
       "騎手_横山武     0.034013\n",
       "馬番_16      0.034985\n",
       "騎手_▲小林脩    0.037464\n",
       "騎手_戸崎圭     0.039844\n",
       "騎手_ルメー     0.044385\n",
       "騎手_☆亀田     0.047250\n",
       "枠          0.048542\n",
       "騎手_松山      0.049268\n",
       "騎手_△泉谷     0.052769\n",
       "馬番_7       0.069233\n",
       "馬番_5       0.114301\n",
       "dtype: float64"
      ]
     },
     "execution_count": 165,
     "metadata": {},
     "output_type": "execute_result"
    }
   ],
   "source": [
    "pd.set_option('display.max_rows',None)\n",
    "\n",
    "coefs = pd.Series(model.coef_[0],index=X.columns).sort_values()\n",
    "coefs"
   ]
  },
  {
   "cell_type": "code",
   "execution_count": 169,
   "metadata": {},
   "outputs": [
    {
     "data": {
      "text/plain": [
       "1    9\n",
       "3    6\n",
       "2    6\n",
       "4    6\n",
       "Name: rank, dtype: int64"
      ]
     },
     "execution_count": 169,
     "metadata": {},
     "output_type": "execute_result"
    }
   ],
   "source": [
    "results[results[\"騎手\"] == \"ルメー\"][\"rank\"].value_counts()"
   ]
  }
 ],
 "metadata": {
  "interpreter": {
   "hash": "17524995b3fb89f69a1eefd3d21017daf0e335c7df3994005e07ddeae9fe971e"
  },
  "kernelspec": {
   "display_name": "Python 3.9.10 ('venv39': venv)",
   "language": "python",
   "name": "python3"
  },
  "language_info": {
   "codemirror_mode": {
    "name": "ipython",
    "version": 3
   },
   "file_extension": ".py",
   "mimetype": "text/x-python",
   "name": "python",
   "nbconvert_exporter": "python",
   "pygments_lexer": "ipython3",
   "version": "3.9.10"
  },
  "orig_nbformat": 4
 },
 "nbformat": 4,
 "nbformat_minor": 2
}
