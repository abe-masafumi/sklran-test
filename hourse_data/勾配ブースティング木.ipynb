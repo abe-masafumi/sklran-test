{
 "cells": [
  {
   "cell_type": "markdown",
   "metadata": {},
   "source": [
    "[lightgbmのinstall](https://lightgbm.readthedocs.io/en/latest/Installation-Guide.html#install-using-homebrew)\n",
    "\n",
    "LightGBMを使うには\"cmake\"と\"libomp\"のインストールが必要"
   ]
  },
  {
   "cell_type": "code",
   "execution_count": 123,
   "metadata": {},
   "outputs": [],
   "source": [
    "import lightgbm as lgb\n",
    "import pandas as pd\n",
    "import re\n",
    "import time"
   ]
  },
  {
   "cell_type": "code",
   "execution_count": 124,
   "metadata": {},
   "outputs": [],
   "source": [
    "import requests\n",
    "from bs4 import BeautifulSoup\n",
    "from tqdm import tqdm\n",
    "\n",
    "pd.options.display.width = 500\n",
    "pd.options.display.column_space = 200"
   ]
  },
  {
   "cell_type": "code",
   "execution_count": 125,
   "metadata": {},
   "outputs": [],
   "source": [
    "results = pd.read_pickle('df.pickle')\n",
    "\n",
    "# race_id_list = results.index.unique()\n",
    "# race_id_list"
   ]
  },
  {
   "cell_type": "code",
   "execution_count": 126,
   "metadata": {},
   "outputs": [],
   "source": [
    "\n",
    "# race_infos = {}\n",
    "# # for race_id in tqdm(race_id_list):\n",
    "# race_id = \"202110040101\"\n",
    "# url = \"https://race.netkeiba.com/race/result.html?race_id=\" + race_id\n",
    "# html = requests.get(url)\n",
    "# html.encoding= \"EUC_JP\"\n",
    "# soup = BeautifulSoup(html.text, \"html.parser\")\n",
    "\n",
    "# test = soup.find('table',attrs={\"summary\":\"全着順\"}).find_all('a',attrs={\"href\":re.compile(\"/horse/\")})\n",
    "# horse_id_list = []\n",
    "# for a in test:\n",
    "#   horse_id = re.findall(r'\\d+',a[\"href\"])\n",
    "#   horse_id_list.append(horse_id[0])"
   ]
  },
  {
   "cell_type": "code",
   "execution_count": 127,
   "metadata": {},
   "outputs": [],
   "source": [
    "# horse_id_list"
   ]
  },
  {
   "cell_type": "code",
   "execution_count": 128,
   "metadata": {},
   "outputs": [],
   "source": [
    "race_id_lists = results.index.unique()[:13]"
   ]
  },
  {
   "cell_type": "code",
   "execution_count": 129,
   "metadata": {},
   "outputs": [],
   "source": [
    "race_id_lists = [\"202001010201\"]"
   ]
  },
  {
   "cell_type": "code",
   "execution_count": 130,
   "metadata": {},
   "outputs": [],
   "source": [
    "def scrape_race_results(race_id_lists,par_race_results={}):\n",
    "  race_results = par_race_results\n",
    "  for _race_id in tqdm(race_id_lists):\n",
    "    # if _race_id in race_result.keys():\n",
    "    #   continue\n",
    "    time.sleep(1)\n",
    "    try:\n",
    "      # スクレイピング\n",
    "      url = \"https://race.netkeiba.com/race/result.html?race_id=\" + _race_id\n",
    "      df = pd.read_html(url)[0]\n",
    "      html = requests.get(url)\n",
    "      html.encoding= \"EUC_JP\"\n",
    "      soup = BeautifulSoup(html.text, \"html.parser\")\n",
    "      # horse_id\n",
    "      horse_id_list = []\n",
    "      horse_a_list = soup.find('table',attrs={\"summary\":\"全着順\"}).find_all('a',attrs={\"href\":re.compile(\"/horse/\")})\n",
    "      for a in horse_a_list:\n",
    "        horse_id = re.findall(r'\\d+',a[\"href\"])\n",
    "        horse_id_list.append(horse_id[0])\n",
    "      # jockey_id\n",
    "      jockey_id_list = []\n",
    "      jockey_a_list = soup.find('table',attrs={\"summary\":\"全着順\"}).find_all('a',attrs={\"href\":re.compile(\"/jockey/\")})\n",
    "      for u in jockey_a_list:\n",
    "        jockey_id = re.findall(r'\\d+',u[\"href\"])\n",
    "        jockey_id_list.append(jockey_id[0])\n",
    "        \n",
    "      # print(df)\n",
    "      print(\"horse_id_list\")\n",
    "      print(horse_id_list)\n",
    "      print(\"jockey_id_list\")\n",
    "      print(jockey_id_list)\n",
    "      print(\"df\")\n",
    "      print(df)\n",
    "      df[\"horse_id\"] = horse_id_list\n",
    "      df[\"jockey_id\"] = jockey_id_list\n",
    "      \n",
    "      race_results[_race_id] = df\n",
    "      # print(race_results)\n",
    "      \n",
    "      \n",
    "    except UnicodeDecodeError as e:\n",
    "      # print(e)\n",
    "      # print(f\"レースID: {race_id} のデータはありません\")\n",
    "      continue\n",
    "    except KeyboardInterrupt:\n",
    "      break\n",
    "    except TimeoutError:\n",
    "      break\n",
    "  return race_results"
   ]
  },
  {
   "cell_type": "code",
   "execution_count": 131,
   "metadata": {},
   "outputs": [
    {
     "name": "stderr",
     "output_type": "stream",
     "text": [
      "  0%|          | 0/1 [00:04<?, ?it/s]"
     ]
    },
    {
     "name": "stdout",
     "output_type": "stream",
     "text": [
      "horse_id_list\n",
      "['2018110040', '2018105357', '2018100769', '2018105660', '2018105481', '2018106349', '2018103122']\n",
      "jockey_id_list\n",
      "['01170', '01032', '01140', '01176', '05339', '01025', '01095']\n",
      "df\n",
      "   着順  枠  馬番        馬名  性齢    斤量             騎手     タイム     着差  人気   単勝オッズ   後3F コーナー通過順     厩舎  馬体重(増減) Unnamed: 15 Unnamed: 16 Unnamed: 17\n",
      "0   1  4   4    ボイオートス  牡2  54.0            横山武  1:10.2    NaN   3     4.0  35.3     4-3   美浦金成  480(-4)         NaN         NaN         NaN\n",
      "1   1  7   7     ラピカズマ  牡2  54.0             池添  1:10.2     同着   1     2.9  35.7     1-1  栗東安田隆  464(+4)         NaN         NaN         NaN\n",
      "2   3  3   3  デンプシーロール  牡2  54.0            横山和  1:10.2    アタマ   4     4.5  35.5     3-3   美浦黒岩  410(+2)         NaN         NaN         NaN\n",
      "3   4  5   5    トーセンイヴ  牝2  52.0            △亀田  1:10.6  2.1/2   6    36.0  35.4     5-5   美浦小笠   422(0)         NaN         NaN         NaN\n",
      "4   5  6   6  ワールドクルーズ  牝2  54.0  ルメード\">マイスクワッド      牝2   54.0  勝浦  1:11.8   5.0       7   71.1     36.5         5-6        美浦柄崎     362(-8)\n",
      "5   7  1   1  メイショウワゲン  牡2  54.0            吉田隼  1:12.9      7   5    19.7  37.2     7-6   栗東荒川  480(+2)         NaN         NaN         NaN\n"
     ]
    },
    {
     "name": "stderr",
     "output_type": "stream",
     "text": [
      "\n"
     ]
    },
    {
     "ename": "ValueError",
     "evalue": "Length of values (7) does not match length of index (6)",
     "output_type": "error",
     "traceback": [
      "\u001b[0;31m---------------------------------------------------------------------------\u001b[0m",
      "\u001b[0;31mValueError\u001b[0m                                Traceback (most recent call last)",
      "\u001b[1;32m/Users/masa/Desktop/scikit-learn-test/hourse_data/勾配ブースティング木.ipynb Cell 10'\u001b[0m in \u001b[0;36m<cell line: 1>\u001b[0;34m()\u001b[0m\n\u001b[0;32m----> <a href='vscode-notebook-cell:/Users/masa/Desktop/scikit-learn-test/hourse_data/%E5%8B%BE%E9%85%8D%E3%83%96%E3%83%BC%E3%82%B9%E3%83%86%E3%82%A3%E3%83%B3%E3%82%B0%E6%9C%A8.ipynb#ch0000008?line=0'>1</a>\u001b[0m results_new \u001b[39m=\u001b[39m scrape_race_results(race_id_lists)\n\u001b[1;32m      <a href='vscode-notebook-cell:/Users/masa/Desktop/scikit-learn-test/hourse_data/%E5%8B%BE%E9%85%8D%E3%83%96%E3%83%BC%E3%82%B9%E3%83%86%E3%82%A3%E3%83%B3%E3%82%B0%E6%9C%A8.ipynb#ch0000008?line=1'>2</a>\u001b[0m results_new\n",
      "\u001b[1;32m/Users/masa/Desktop/scikit-learn-test/hourse_data/勾配ブースティング木.ipynb Cell 9'\u001b[0m in \u001b[0;36mscrape_race_results\u001b[0;34m(race_id_lists, par_race_results)\u001b[0m\n\u001b[1;32m     <a href='vscode-notebook-cell:/Users/masa/Desktop/scikit-learn-test/hourse_data/%E5%8B%BE%E9%85%8D%E3%83%96%E3%83%BC%E3%82%B9%E3%83%86%E3%82%A3%E3%83%B3%E3%82%B0%E6%9C%A8.ipynb#ch0000007?line=31'>32</a>\u001b[0m \u001b[39mprint\u001b[39m(\u001b[39m\"\u001b[39m\u001b[39mdf\u001b[39m\u001b[39m\"\u001b[39m)\n\u001b[1;32m     <a href='vscode-notebook-cell:/Users/masa/Desktop/scikit-learn-test/hourse_data/%E5%8B%BE%E9%85%8D%E3%83%96%E3%83%BC%E3%82%B9%E3%83%86%E3%82%A3%E3%83%B3%E3%82%B0%E6%9C%A8.ipynb#ch0000007?line=32'>33</a>\u001b[0m \u001b[39mprint\u001b[39m(df)\n\u001b[0;32m---> <a href='vscode-notebook-cell:/Users/masa/Desktop/scikit-learn-test/hourse_data/%E5%8B%BE%E9%85%8D%E3%83%96%E3%83%BC%E3%82%B9%E3%83%86%E3%82%A3%E3%83%B3%E3%82%B0%E6%9C%A8.ipynb#ch0000007?line=33'>34</a>\u001b[0m df[\u001b[39m\"\u001b[39m\u001b[39mhorse_id\u001b[39m\u001b[39m\"\u001b[39m] \u001b[39m=\u001b[39m horse_id_list\n\u001b[1;32m     <a href='vscode-notebook-cell:/Users/masa/Desktop/scikit-learn-test/hourse_data/%E5%8B%BE%E9%85%8D%E3%83%96%E3%83%BC%E3%82%B9%E3%83%86%E3%82%A3%E3%83%B3%E3%82%B0%E6%9C%A8.ipynb#ch0000007?line=34'>35</a>\u001b[0m df[\u001b[39m\"\u001b[39m\u001b[39mjockey_id\u001b[39m\u001b[39m\"\u001b[39m] \u001b[39m=\u001b[39m jockey_id_list\n\u001b[1;32m     <a href='vscode-notebook-cell:/Users/masa/Desktop/scikit-learn-test/hourse_data/%E5%8B%BE%E9%85%8D%E3%83%96%E3%83%BC%E3%82%B9%E3%83%86%E3%82%A3%E3%83%B3%E3%82%B0%E6%9C%A8.ipynb#ch0000007?line=36'>37</a>\u001b[0m race_results[_race_id] \u001b[39m=\u001b[39m df\n",
      "File \u001b[0;32m~/Desktop/scikit-learn-test/venv39/lib/python3.9/site-packages/pandas/core/frame.py:3655\u001b[0m, in \u001b[0;36mDataFrame.__setitem__\u001b[0;34m(self, key, value)\u001b[0m\n\u001b[1;32m   <a href='file:///Users/masa/Desktop/scikit-learn-test/venv39/lib/python3.9/site-packages/pandas/core/frame.py?line=3651'>3652</a>\u001b[0m     \u001b[39mself\u001b[39m\u001b[39m.\u001b[39m_setitem_array([key], value)\n\u001b[1;32m   <a href='file:///Users/masa/Desktop/scikit-learn-test/venv39/lib/python3.9/site-packages/pandas/core/frame.py?line=3652'>3653</a>\u001b[0m \u001b[39melse\u001b[39;00m:\n\u001b[1;32m   <a href='file:///Users/masa/Desktop/scikit-learn-test/venv39/lib/python3.9/site-packages/pandas/core/frame.py?line=3653'>3654</a>\u001b[0m     \u001b[39m# set column\u001b[39;00m\n\u001b[0;32m-> <a href='file:///Users/masa/Desktop/scikit-learn-test/venv39/lib/python3.9/site-packages/pandas/core/frame.py?line=3654'>3655</a>\u001b[0m     \u001b[39mself\u001b[39;49m\u001b[39m.\u001b[39;49m_set_item(key, value)\n",
      "File \u001b[0;32m~/Desktop/scikit-learn-test/venv39/lib/python3.9/site-packages/pandas/core/frame.py:3832\u001b[0m, in \u001b[0;36mDataFrame._set_item\u001b[0;34m(self, key, value)\u001b[0m\n\u001b[1;32m   <a href='file:///Users/masa/Desktop/scikit-learn-test/venv39/lib/python3.9/site-packages/pandas/core/frame.py?line=3821'>3822</a>\u001b[0m \u001b[39mdef\u001b[39;00m \u001b[39m_set_item\u001b[39m(\u001b[39mself\u001b[39m, key, value) \u001b[39m-\u001b[39m\u001b[39m>\u001b[39m \u001b[39mNone\u001b[39;00m:\n\u001b[1;32m   <a href='file:///Users/masa/Desktop/scikit-learn-test/venv39/lib/python3.9/site-packages/pandas/core/frame.py?line=3822'>3823</a>\u001b[0m     \u001b[39m\"\"\"\u001b[39;00m\n\u001b[1;32m   <a href='file:///Users/masa/Desktop/scikit-learn-test/venv39/lib/python3.9/site-packages/pandas/core/frame.py?line=3823'>3824</a>\u001b[0m \u001b[39m    Add series to DataFrame in specified column.\u001b[39;00m\n\u001b[1;32m   <a href='file:///Users/masa/Desktop/scikit-learn-test/venv39/lib/python3.9/site-packages/pandas/core/frame.py?line=3824'>3825</a>\u001b[0m \n\u001b[0;32m   (...)\u001b[0m\n\u001b[1;32m   <a href='file:///Users/masa/Desktop/scikit-learn-test/venv39/lib/python3.9/site-packages/pandas/core/frame.py?line=3829'>3830</a>\u001b[0m \u001b[39m    ensure homogeneity.\u001b[39;00m\n\u001b[1;32m   <a href='file:///Users/masa/Desktop/scikit-learn-test/venv39/lib/python3.9/site-packages/pandas/core/frame.py?line=3830'>3831</a>\u001b[0m \u001b[39m    \"\"\"\u001b[39;00m\n\u001b[0;32m-> <a href='file:///Users/masa/Desktop/scikit-learn-test/venv39/lib/python3.9/site-packages/pandas/core/frame.py?line=3831'>3832</a>\u001b[0m     value \u001b[39m=\u001b[39m \u001b[39mself\u001b[39;49m\u001b[39m.\u001b[39;49m_sanitize_column(value)\n\u001b[1;32m   <a href='file:///Users/masa/Desktop/scikit-learn-test/venv39/lib/python3.9/site-packages/pandas/core/frame.py?line=3833'>3834</a>\u001b[0m     \u001b[39mif\u001b[39;00m (\n\u001b[1;32m   <a href='file:///Users/masa/Desktop/scikit-learn-test/venv39/lib/python3.9/site-packages/pandas/core/frame.py?line=3834'>3835</a>\u001b[0m         key \u001b[39min\u001b[39;00m \u001b[39mself\u001b[39m\u001b[39m.\u001b[39mcolumns\n\u001b[1;32m   <a href='file:///Users/masa/Desktop/scikit-learn-test/venv39/lib/python3.9/site-packages/pandas/core/frame.py?line=3835'>3836</a>\u001b[0m         \u001b[39mand\u001b[39;00m value\u001b[39m.\u001b[39mndim \u001b[39m==\u001b[39m \u001b[39m1\u001b[39m\n\u001b[1;32m   <a href='file:///Users/masa/Desktop/scikit-learn-test/venv39/lib/python3.9/site-packages/pandas/core/frame.py?line=3836'>3837</a>\u001b[0m         \u001b[39mand\u001b[39;00m \u001b[39mnot\u001b[39;00m is_extension_array_dtype(value)\n\u001b[1;32m   <a href='file:///Users/masa/Desktop/scikit-learn-test/venv39/lib/python3.9/site-packages/pandas/core/frame.py?line=3837'>3838</a>\u001b[0m     ):\n\u001b[1;32m   <a href='file:///Users/masa/Desktop/scikit-learn-test/venv39/lib/python3.9/site-packages/pandas/core/frame.py?line=3838'>3839</a>\u001b[0m         \u001b[39m# broadcast across multiple columns if necessary\u001b[39;00m\n\u001b[1;32m   <a href='file:///Users/masa/Desktop/scikit-learn-test/venv39/lib/python3.9/site-packages/pandas/core/frame.py?line=3839'>3840</a>\u001b[0m         \u001b[39mif\u001b[39;00m \u001b[39mnot\u001b[39;00m \u001b[39mself\u001b[39m\u001b[39m.\u001b[39mcolumns\u001b[39m.\u001b[39mis_unique \u001b[39mor\u001b[39;00m \u001b[39misinstance\u001b[39m(\u001b[39mself\u001b[39m\u001b[39m.\u001b[39mcolumns, MultiIndex):\n",
      "File \u001b[0;32m~/Desktop/scikit-learn-test/venv39/lib/python3.9/site-packages/pandas/core/frame.py:4529\u001b[0m, in \u001b[0;36mDataFrame._sanitize_column\u001b[0;34m(self, value)\u001b[0m\n\u001b[1;32m   <a href='file:///Users/masa/Desktop/scikit-learn-test/venv39/lib/python3.9/site-packages/pandas/core/frame.py?line=4525'>4526</a>\u001b[0m     \u001b[39mreturn\u001b[39;00m _reindex_for_setitem(value, \u001b[39mself\u001b[39m\u001b[39m.\u001b[39mindex)\n\u001b[1;32m   <a href='file:///Users/masa/Desktop/scikit-learn-test/venv39/lib/python3.9/site-packages/pandas/core/frame.py?line=4527'>4528</a>\u001b[0m \u001b[39mif\u001b[39;00m is_list_like(value):\n\u001b[0;32m-> <a href='file:///Users/masa/Desktop/scikit-learn-test/venv39/lib/python3.9/site-packages/pandas/core/frame.py?line=4528'>4529</a>\u001b[0m     com\u001b[39m.\u001b[39;49mrequire_length_match(value, \u001b[39mself\u001b[39;49m\u001b[39m.\u001b[39;49mindex)\n\u001b[1;32m   <a href='file:///Users/masa/Desktop/scikit-learn-test/venv39/lib/python3.9/site-packages/pandas/core/frame.py?line=4529'>4530</a>\u001b[0m \u001b[39mreturn\u001b[39;00m sanitize_array(value, \u001b[39mself\u001b[39m\u001b[39m.\u001b[39mindex, copy\u001b[39m=\u001b[39m\u001b[39mTrue\u001b[39;00m, allow_2d\u001b[39m=\u001b[39m\u001b[39mTrue\u001b[39;00m)\n",
      "File \u001b[0;32m~/Desktop/scikit-learn-test/venv39/lib/python3.9/site-packages/pandas/core/common.py:557\u001b[0m, in \u001b[0;36mrequire_length_match\u001b[0;34m(data, index)\u001b[0m\n\u001b[1;32m    <a href='file:///Users/masa/Desktop/scikit-learn-test/venv39/lib/python3.9/site-packages/pandas/core/common.py?line=552'>553</a>\u001b[0m \u001b[39m\"\"\"\u001b[39;00m\n\u001b[1;32m    <a href='file:///Users/masa/Desktop/scikit-learn-test/venv39/lib/python3.9/site-packages/pandas/core/common.py?line=553'>554</a>\u001b[0m \u001b[39mCheck the length of data matches the length of the index.\u001b[39;00m\n\u001b[1;32m    <a href='file:///Users/masa/Desktop/scikit-learn-test/venv39/lib/python3.9/site-packages/pandas/core/common.py?line=554'>555</a>\u001b[0m \u001b[39m\"\"\"\u001b[39;00m\n\u001b[1;32m    <a href='file:///Users/masa/Desktop/scikit-learn-test/venv39/lib/python3.9/site-packages/pandas/core/common.py?line=555'>556</a>\u001b[0m \u001b[39mif\u001b[39;00m \u001b[39mlen\u001b[39m(data) \u001b[39m!=\u001b[39m \u001b[39mlen\u001b[39m(index):\n\u001b[0;32m--> <a href='file:///Users/masa/Desktop/scikit-learn-test/venv39/lib/python3.9/site-packages/pandas/core/common.py?line=556'>557</a>\u001b[0m     \u001b[39mraise\u001b[39;00m \u001b[39mValueError\u001b[39;00m(\n\u001b[1;32m    <a href='file:///Users/masa/Desktop/scikit-learn-test/venv39/lib/python3.9/site-packages/pandas/core/common.py?line=557'>558</a>\u001b[0m         \u001b[39m\"\u001b[39m\u001b[39mLength of values \u001b[39m\u001b[39m\"\u001b[39m\n\u001b[1;32m    <a href='file:///Users/masa/Desktop/scikit-learn-test/venv39/lib/python3.9/site-packages/pandas/core/common.py?line=558'>559</a>\u001b[0m         \u001b[39mf\u001b[39m\u001b[39m\"\u001b[39m\u001b[39m(\u001b[39m\u001b[39m{\u001b[39;00m\u001b[39mlen\u001b[39m(data)\u001b[39m}\u001b[39;00m\u001b[39m) \u001b[39m\u001b[39m\"\u001b[39m\n\u001b[1;32m    <a href='file:///Users/masa/Desktop/scikit-learn-test/venv39/lib/python3.9/site-packages/pandas/core/common.py?line=559'>560</a>\u001b[0m         \u001b[39m\"\u001b[39m\u001b[39mdoes not match length of index \u001b[39m\u001b[39m\"\u001b[39m\n\u001b[1;32m    <a href='file:///Users/masa/Desktop/scikit-learn-test/venv39/lib/python3.9/site-packages/pandas/core/common.py?line=560'>561</a>\u001b[0m         \u001b[39mf\u001b[39m\u001b[39m\"\u001b[39m\u001b[39m(\u001b[39m\u001b[39m{\u001b[39;00m\u001b[39mlen\u001b[39m(index)\u001b[39m}\u001b[39;00m\u001b[39m)\u001b[39m\u001b[39m\"\u001b[39m\n\u001b[1;32m    <a href='file:///Users/masa/Desktop/scikit-learn-test/venv39/lib/python3.9/site-packages/pandas/core/common.py?line=561'>562</a>\u001b[0m     )\n",
      "\u001b[0;31mValueError\u001b[0m: Length of values (7) does not match length of index (6)"
     ]
    }
   ],
   "source": [
    "results_new = scrape_race_results(race_id_lists)\n",
    "results_new"
   ]
  }
 ],
 "metadata": {
  "interpreter": {
   "hash": "17524995b3fb89f69a1eefd3d21017daf0e335c7df3994005e07ddeae9fe971e"
  },
  "kernelspec": {
   "display_name": "Python 3.9.10 ('venv39': venv)",
   "language": "python",
   "name": "python3"
  },
  "language_info": {
   "codemirror_mode": {
    "name": "ipython",
    "version": 3
   },
   "file_extension": ".py",
   "mimetype": "text/x-python",
   "name": "python",
   "nbconvert_exporter": "python",
   "pygments_lexer": "ipython3",
   "version": "3.9.10"
  },
  "orig_nbformat": 4
 },
 "nbformat": 4,
 "nbformat_minor": 2
}
