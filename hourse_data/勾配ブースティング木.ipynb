{
 "cells": [
  {
   "cell_type": "markdown",
   "metadata": {},
   "source": [
    "[lightgbmのinstall](https://lightgbm.readthedocs.io/en/latest/Installation-Guide.html#install-using-homebrew)\n",
    "\n",
    "LightGBMを使うには\"cmake\"と\"libomp\"のインストールが必要"
   ]
  },
  {
   "cell_type": "code",
   "execution_count": 91,
   "metadata": {},
   "outputs": [],
   "source": [
    "import lightgbm as lgb\n",
    "import pandas as pd\n",
    "import re\n",
    "import time"
   ]
  },
  {
   "cell_type": "code",
   "execution_count": 92,
   "metadata": {},
   "outputs": [],
   "source": [
    "import requests\n",
    "from bs4 import BeautifulSoup\n",
    "from tqdm import tqdm\n",
    "\n",
    "pd.options.display.width = 500\n",
    "pd.options.display.column_space = 200"
   ]
  },
  {
   "cell_type": "code",
   "execution_count": 93,
   "metadata": {},
   "outputs": [
    {
     "data": {
      "text/plain": [
       "Index(['202001010101', '202001010102', '202001010103', '202001010104', '202001010105', '202001010106', '202001010107', '202001010108', '202001010109', '202001010110',\n",
       "       ...\n",
       "       '202002020603', '202002020604', '202002020605', '202002020606', '202002020607', '202002020608', '202002020609', '202002020610', '202002020611', '202002020612'], dtype='object', length=312)"
      ]
     },
     "execution_count": 93,
     "metadata": {},
     "output_type": "execute_result"
    }
   ],
   "source": [
    "df = pd.read_pickle('df.pickle')\n",
    "race_id_list = df.index.unique()\n",
    "race_id_list"
   ]
  },
  {
   "cell_type": "code",
   "execution_count": 94,
   "metadata": {},
   "outputs": [],
   "source": [
    "\n",
    "race_infos = {}\n",
    "# for race_id in tqdm(race_id_list):\n",
    "race_id = \"202110040101\"\n",
    "url = \"https://race.netkeiba.com/race/result.html?race_id=\" + race_id\n",
    "html = requests.get(url)\n",
    "html.encoding= \"EUC_JP\"\n",
    "soup = BeautifulSoup(html.text, \"html.parser\")\n",
    "\n",
    "test = soup.find('table',attrs={\"summary\":\"全着順\"}).find_all('a',attrs={\"href\":re.compile(\"/horse/\")})\n",
    "horse_id_list = []\n",
    "for a in test:\n",
    "  horse_id = re.findall(r'\\d+',a[\"href\"])\n",
    "  horse_id_list.append(horse_id[0])"
   ]
  },
  {
   "cell_type": "code",
   "execution_count": 95,
   "metadata": {},
   "outputs": [
    {
     "data": {
      "text/plain": [
       "['2014101563',\n",
       " '2016102056',\n",
       " '2016101717',\n",
       " '2017104886',\n",
       " '2014100576',\n",
       " '2015109076',\n",
       " '2018104157',\n",
       " '2015100852',\n",
       " '2014103896',\n",
       " '2015110100',\n",
       " '2015104144',\n",
       " '2015106157']"
      ]
     },
     "execution_count": 95,
     "metadata": {},
     "output_type": "execute_result"
    }
   ],
   "source": [
    "horse_id_list"
   ]
  },
  {
   "cell_type": "code",
   "execution_count": 96,
   "metadata": {},
   "outputs": [],
   "source": [
    "race_id_lists = ['202001010101', '202001010102']"
   ]
  },
  {
   "cell_type": "code",
   "execution_count": 97,
   "metadata": {},
   "outputs": [],
   "source": [
    "def scrape_race_results(race_id_lists,par_race_results={}):\n",
    "  race_results = par_race_results\n",
    "  for _race_id in tqdm(race_id_lists):\n",
    "    # if _race_id in race_result.keys():\n",
    "    #   continue\n",
    "    time.sleep(1)\n",
    "    try:\n",
    "      # スクレイピング\n",
    "      url = \"https://race.netkeiba.com/race/result.html?race_id=\" + _race_id\n",
    "      df = pd.read_html(url)[0]\n",
    "      html = requests.get(url)\n",
    "      html.encoding= \"EUC_JP\"\n",
    "      soup = BeautifulSoup(html.text, \"html.parser\")\n",
    "      # horse_id\n",
    "      horse_id_list = []\n",
    "      horse_a_list = soup.find('table',attrs={\"summary\":\"全着順\"}).find_all('a',attrs={\"href\":re.compile(\"/horse/\")})\n",
    "      for a in horse_a_list:\n",
    "        horse_id = re.findall(r'\\d+',a[\"href\"])\n",
    "        horse_id_list.append(horse_id[0])\n",
    "      # jockey_id\n",
    "      jockey_id_list = []\n",
    "      jockey_a_list = soup.find('table',attrs={\"summary\":\"全着順\"}).find_all('a',attrs={\"href\":re.compile(\"/jockey/\")})\n",
    "      for u in jockey_a_list:\n",
    "        # print(u)\n",
    "        jockey_id = re.findall(r'\\d+',u[\"href\"])\n",
    "        # print(jockey_id)\n",
    "        jockey_id_list.append(jockey_id[0])\n",
    "        # print(jockey_id_list)\n",
    "      \n",
    "      df[\"horse_id\"] = horse_id_list\n",
    "      df[\"jockey_id\"] = jockey_id_list\n",
    "      \n",
    "      race_results[race_id] = df\n",
    "    except UnicodeDecodeError as e:\n",
    "      # print(e)\n",
    "      # print(f\"レースID: {race_id} のデータはありません\")\n",
    "      continue\n",
    "    except KeyboardInterrupt:\n",
    "      break\n",
    "    except TimeoutError:\n",
    "      break\n",
    "  return race_results"
   ]
  },
  {
   "cell_type": "code",
   "execution_count": 98,
   "metadata": {},
   "outputs": [
    {
     "name": "stderr",
     "output_type": "stream",
     "text": [
      "100%|██████████| 2/2 [00:02<00:00,  1.41s/it]\n"
     ]
    }
   ],
   "source": [
    "test = scrape_race_results(race_id_lists)"
   ]
  },
  {
   "cell_type": "code",
   "execution_count": 99,
   "metadata": {},
   "outputs": [
    {
     "data": {
      "text/plain": [
       "{'202110040101':     着順  枠  馬番         馬名  性齢    斤量    騎手     タイム     着差  人気  単勝オッズ   後3F      コーナー通過順     厩舎  馬体重(増減)    horse_id jockey_id\n",
       " 0    1  3   4    バトルピアサー  牝3  54.0    川島  1:46.2    NaN   1    2.7  39.0      1-1-1-1   栗東荒川  406(-2)  2017102915     01062\n",
       " 1    2  8  14      バーミーズ  牝3  54.0    丹内  1:46.9      4   3    6.3  39.6      3-2-2-2  栗東飯田雄   456(0)  2017104160     01091\n",
       " 2    3  8  13    ノーブルローズ  牝3  54.0    大野  1:47.0    1/2   8   19.1  38.8   14-14-11-5  美浦高柳瑞  446(-2)  2017103953     01096\n",
       " 3    4  4   6  グッドラックスター  牝3  54.0   荻野琢  1:47.1    1/2   2    3.9  39.1      5-5-8-8   栗東野中  434(-6)  2017106389     01112\n",
       " 4    5  3   3     デルマルビー  牝3  54.0   横山和  1:47.3  1.1/4   6   16.8  39.2    8-11-10-3   栗東千田  462(-4)  2017100813     01140\n",
       " 5    6  7  12    アマデトワール  牝3  54.0   藤岡康  1:47.8      3   5   15.9  39.6    8-8-11-10  栗東高橋康  446(+4)  2017104334     01116\n",
       " 6    7  6   9  ミツルザビクトリー  牝3  52.0   △亀田  1:48.0  1.1/2  12   56.1  39.5  12-12-14-10   栗東南井  438(-4)  2017104065     01176\n",
       " 7    8  5   8     キモンルビー  牝3  51.0   ▲山田  1:48.0     ハナ  11   41.8  40.7      2-2-2-5   栗東村山   462(0)  2017103915     01173\n",
       " 8    9  1   1   ムーンフェアリー  牝3  51.0  ▲秋山稔  1:48.1     クビ   9   22.3  40.2     8-8-8-10   美浦岩戸  450(+6)  2017106103     01181\n",
       " 9   10  4   5  シゲルハクチョウザ  牝3  54.0    加藤  1:48.2    3/4  10   25.4  40.7      4-4-4-4  栗東藤沢則  444(-2)  2017102190     01156\n",
       " 10  11  6  10    フェデネージュ  牝3  54.0   岩田康  1:48.4    3/4   7   18.6  40.6    13-13-7-5   美浦国枝  444(+4)  2017103996     05203\n",
       " 11  12  2   2   ラインキャロット  牝3  54.0    石川  1:48.9      3  14  133.5  40.6    8-8-11-13   美浦水野  430(+4)  2017104859     01150\n",
       " 12  13  7  11   サイモンベラーノ  牝3  54.0    柴山  1:49.3  2.1/2   4    9.3  41.6      5-5-5-8   美浦根本  476(+4)  2017102918     05243\n",
       " 13  14  5   7   クイックスタディ  牝3  53.0   ☆団野  1:50.9     10  13  120.9  43.2     5-5-5-13   美浦矢野  462(-8)  2017100432     01180}"
      ]
     },
     "execution_count": 99,
     "metadata": {},
     "output_type": "execute_result"
    }
   ],
   "source": [
    "test"
   ]
  }
 ],
 "metadata": {
  "interpreter": {
   "hash": "17524995b3fb89f69a1eefd3d21017daf0e335c7df3994005e07ddeae9fe971e"
  },
  "kernelspec": {
   "display_name": "Python 3.9.10 ('venv39': venv)",
   "language": "python",
   "name": "python3"
  },
  "language_info": {
   "codemirror_mode": {
    "name": "ipython",
    "version": 3
   },
   "file_extension": ".py",
   "mimetype": "text/x-python",
   "name": "python",
   "nbconvert_exporter": "python",
   "pygments_lexer": "ipython3",
   "version": "3.9.10"
  },
  "orig_nbformat": 4
 },
 "nbformat": 4,
 "nbformat_minor": 2
}
