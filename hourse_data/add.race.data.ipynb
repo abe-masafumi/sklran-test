{
 "cells": [
  {
   "cell_type": "code",
   "execution_count": 12,
   "metadata": {},
   "outputs": [],
   "source": [
    "import pandas as pd\n",
    "from tqdm import tqdm\n",
    "import time"
   ]
  },
  {
   "cell_type": "code",
   "execution_count": 13,
   "metadata": {},
   "outputs": [],
   "source": [
    "# url = \"https://race.netkeiba.com/race/result.html?race_id=202105010101\"\n",
    "# pd.read_html(url)[0]"
   ]
  },
  {
   "cell_type": "code",
   "execution_count": 14,
   "metadata": {},
   "outputs": [],
   "source": [
    "pd.set_option('display.max_rows',20)\n",
    "pd.options.display.width = 200\n",
    "pd.options.display.column_space = 100"
   ]
  },
  {
   "cell_type": "code",
   "execution_count": 15,
   "metadata": {},
   "outputs": [
    {
     "name": "stdout",
     "output_type": "stream",
     "text": [
      "<class 'str'>\n"
     ]
    },
    {
     "data": {
      "text/plain": [
       "True"
      ]
     },
     "execution_count": 15,
     "metadata": {},
     "output_type": "execute_result"
    }
   ],
   "source": [
    "race_result = pd.read_pickle(\"df.pickle\")\n",
    "print(type(race_result.index[0]))\n",
    "\n",
    "\"202101010101\" in race_result.index"
   ]
  },
  {
   "cell_type": "code",
   "execution_count": 16,
   "metadata": {},
   "outputs": [
    {
     "name": "stderr",
     "output_type": "stream",
     "text": [
      "100%|██████████| 120/120 [00:09<00:00, 12.36it/s]\n"
     ]
    }
   ],
   "source": [
    "race_id_lists = []\n",
    "\n",
    "for 年 in range(2021,2022):\n",
    "  for 競馬場 in range(1,6): # 1,11\n",
    "    for 回 in range(1,4): # 1,11\n",
    "      for 回目 in range(1,5): # 1,11\n",
    "        for レース回 in range(1,3): # 1,13\n",
    "          race_id = f\"{年}{str(競馬場).zfill(2)}{str(回).zfill(2)}{str(回目).zfill(2)}{str(レース回).zfill(2)}\"\n",
    "          race_id_lists.append(race_id)\n",
    "# print(race_id_lists)\n",
    "\n",
    "# 実行時間 72分\n",
    "def scrape_race_results(race_id_lists,par_race_results={}):\n",
    "  race_result_dict = par_race_results\n",
    "  for _race_id in tqdm(race_id_lists):\n",
    "    if _race_id in race_result.index:\n",
    "      continue\n",
    "    try:\n",
    "      url = \"https://race.netkeiba.com/race/result.html?race_id=\" + _race_id\n",
    "      race_result_dict[_race_id] = pd.read_html(url)[0]\n",
    "      # print(race_result_dict[race_id])\n",
    "      time.sleep(1)\n",
    "    except UnicodeDecodeError as e:\n",
    "      # print(e)\n",
    "      # print(f\"レースID: {race_id} のデータはありません\")\n",
    "      continue\n",
    "    except KeyboardInterrupt:\n",
    "      break\n",
    "    except TimeoutError:\n",
    "      break\n",
    "  return race_result_dict\n",
    "  \n",
    "add_race_result = scrape_race_results(race_id_lists)"
   ]
  },
  {
   "cell_type": "code",
   "execution_count": 17,
   "metadata": {},
   "outputs": [
    {
     "data": {
      "text/plain": [
       "1"
      ]
     },
     "execution_count": 17,
     "metadata": {},
     "output_type": "execute_result"
    }
   ],
   "source": [
    "len(add_race_result)"
   ]
  },
  {
   "cell_type": "code",
   "execution_count": 18,
   "metadata": {},
   "outputs": [
    {
     "data": {
      "text/plain": [
       "{'202101020401':     着順  枠  馬番         馬名  性齢    斤量    騎手     タイム     着差  人気  単勝オッズ   後3F   コーナー通過順     厩舎   馬体重(増減)\n",
       " 0    1  2   2  イエヴァンポルッカ  牡2  54.0    坂井  1:31.6    NaN   3    3.9  34.8  11-10-11  美浦伊藤圭   470(+2)\n",
       " 1    2  6   8  テイエムケントオー  牡2  52.0  △秋山稔  1:31.8  1.1/4   9   44.7  35.6     3-3-3  栗東五十嵐   446(-4)\n",
       " 2    3  8  13    シーヴィクセン  牝2  54.0   ルメー  1:31.8     クビ   1    3.5  35.4     5-6-5  美浦藤沢和    474(0)\n",
       " 3    4  7  11       ナバロン  牡2  54.0    菱田  1:31.9    1/2   4    9.9  35.8     2-2-2  栗東杉山佳  484(+10)\n",
       " 4    5  4   5      エクセトラ  牡2  54.0    団野  1:32.0    アタマ   5   10.8  35.4     8-8-7   栗東吉村   500(+4)\n",
       " 5    6  6   9   シュシュエラブル  牝2  51.0  ▲小林凌  1:32.0    アタマ  10  101.0  36.1     1-1-1   美浦田村   438(+6)\n",
       " 6    7  7  10     チャオベッラ  牝2  51.0   ▲小沢  1:32.1      1   6   19.3  35.8     5-5-5   栗東西村  450(+12)\n",
       " 7    8  8  12    グランジャンブ  牡2  54.0     黛  1:32.2     クビ  13  286.4  35.6     8-8-7  美浦鈴木慎  474(+10)\n",
       " 8    9  4   4      キントリヒ  牡2  53.0   ☆泉谷  1:32.2    アタマ   7   22.5  35.1  13-13-12   美浦矢野   450(-2)\n",
       " 9   10  5   6    オクシデンタル  牡2  54.0   吉田隼  1:32.2     クビ   8   43.2  36.0     3-3-3  美浦加藤征   502(+4)\n",
       " 10  11  1   1  ジョブックフィオリ  牝2  52.0   △山田  1:32.5  1.3/4  11  134.9  36.0     7-6-7  美浦小桧山    430(0)\n",
       " 11  12  3   3     アポロリヤム  牡2  54.0   横山武  1:33.0      3   2    3.5  36.2  11-10-10  美浦鈴木伸    446(0)\n",
       " 12  13  5   7     クリエースト  牝2  54.0    加藤  1:34.1      7  12  251.3  37.3   8-10-13  栗東杉山晴   450(+4)}"
      ]
     },
     "execution_count": 18,
     "metadata": {},
     "output_type": "execute_result"
    }
   ],
   "source": [
    "add_race_result"
   ]
  },
  {
   "cell_type": "code",
   "execution_count": 19,
   "metadata": {},
   "outputs": [
    {
     "name": "stdout",
     "output_type": "stream",
     "text": [
      "<class 'dict'>\n"
     ]
    }
   ],
   "source": [
    "for key in add_race_result.keys():\n",
    "  add_race_result[key].index = [key] * len(add_race_result[key])\n",
    "print(type(add_race_result))"
   ]
  },
  {
   "cell_type": "code",
   "execution_count": 20,
   "metadata": {},
   "outputs": [
    {
     "name": "stdout",
     "output_type": "stream",
     "text": [
      "<class 'pandas.core.frame.DataFrame'>\n"
     ]
    },
    {
     "data": {
      "text/html": [
       "<div>\n",
       "<style scoped>\n",
       "    .dataframe tbody tr th:only-of-type {\n",
       "        vertical-align: middle;\n",
       "    }\n",
       "\n",
       "    .dataframe tbody tr th {\n",
       "        vertical-align: top;\n",
       "    }\n",
       "\n",
       "    .dataframe thead th {\n",
       "        text-align: right;\n",
       "    }\n",
       "</style>\n",
       "<table border=\"1\" class=\"dataframe\">\n",
       "  <thead>\n",
       "    <tr style=\"text-align: right;\">\n",
       "      <th></th>\n",
       "      <th>着順</th>\n",
       "      <th>枠</th>\n",
       "      <th>馬番</th>\n",
       "      <th>馬名</th>\n",
       "      <th>性齢</th>\n",
       "      <th>斤量</th>\n",
       "      <th>騎手</th>\n",
       "      <th>タイム</th>\n",
       "      <th>着差</th>\n",
       "      <th>人気</th>\n",
       "      <th>単勝オッズ</th>\n",
       "      <th>後3F</th>\n",
       "      <th>コーナー通過順</th>\n",
       "      <th>厩舎</th>\n",
       "      <th>馬体重(増減)</th>\n",
       "    </tr>\n",
       "  </thead>\n",
       "  <tbody>\n",
       "    <tr>\n",
       "      <th>202101020401</th>\n",
       "      <td>1</td>\n",
       "      <td>2</td>\n",
       "      <td>2</td>\n",
       "      <td>イエヴァンポルッカ</td>\n",
       "      <td>牡2</td>\n",
       "      <td>54.0</td>\n",
       "      <td>坂井</td>\n",
       "      <td>1:31.6</td>\n",
       "      <td>NaN</td>\n",
       "      <td>3</td>\n",
       "      <td>3.9</td>\n",
       "      <td>34.8</td>\n",
       "      <td>11-10-11</td>\n",
       "      <td>美浦伊藤圭</td>\n",
       "      <td>470(+2)</td>\n",
       "    </tr>\n",
       "    <tr>\n",
       "      <th>202101020401</th>\n",
       "      <td>2</td>\n",
       "      <td>6</td>\n",
       "      <td>8</td>\n",
       "      <td>テイエムケントオー</td>\n",
       "      <td>牡2</td>\n",
       "      <td>52.0</td>\n",
       "      <td>△秋山稔</td>\n",
       "      <td>1:31.8</td>\n",
       "      <td>1.1/4</td>\n",
       "      <td>9</td>\n",
       "      <td>44.7</td>\n",
       "      <td>35.6</td>\n",
       "      <td>3-3-3</td>\n",
       "      <td>栗東五十嵐</td>\n",
       "      <td>446(-4)</td>\n",
       "    </tr>\n",
       "    <tr>\n",
       "      <th>202101020401</th>\n",
       "      <td>3</td>\n",
       "      <td>8</td>\n",
       "      <td>13</td>\n",
       "      <td>シーヴィクセン</td>\n",
       "      <td>牝2</td>\n",
       "      <td>54.0</td>\n",
       "      <td>ルメー</td>\n",
       "      <td>1:31.8</td>\n",
       "      <td>クビ</td>\n",
       "      <td>1</td>\n",
       "      <td>3.5</td>\n",
       "      <td>35.4</td>\n",
       "      <td>5-6-5</td>\n",
       "      <td>美浦藤沢和</td>\n",
       "      <td>474(0)</td>\n",
       "    </tr>\n",
       "    <tr>\n",
       "      <th>202101020401</th>\n",
       "      <td>4</td>\n",
       "      <td>7</td>\n",
       "      <td>11</td>\n",
       "      <td>ナバロン</td>\n",
       "      <td>牡2</td>\n",
       "      <td>54.0</td>\n",
       "      <td>菱田</td>\n",
       "      <td>1:31.9</td>\n",
       "      <td>1/2</td>\n",
       "      <td>4</td>\n",
       "      <td>9.9</td>\n",
       "      <td>35.8</td>\n",
       "      <td>2-2-2</td>\n",
       "      <td>栗東杉山佳</td>\n",
       "      <td>484(+10)</td>\n",
       "    </tr>\n",
       "    <tr>\n",
       "      <th>202101020401</th>\n",
       "      <td>5</td>\n",
       "      <td>4</td>\n",
       "      <td>5</td>\n",
       "      <td>エクセトラ</td>\n",
       "      <td>牡2</td>\n",
       "      <td>54.0</td>\n",
       "      <td>団野</td>\n",
       "      <td>1:32.0</td>\n",
       "      <td>アタマ</td>\n",
       "      <td>5</td>\n",
       "      <td>10.8</td>\n",
       "      <td>35.4</td>\n",
       "      <td>8-8-7</td>\n",
       "      <td>栗東吉村</td>\n",
       "      <td>500(+4)</td>\n",
       "    </tr>\n",
       "    <tr>\n",
       "      <th>202101020401</th>\n",
       "      <td>6</td>\n",
       "      <td>6</td>\n",
       "      <td>9</td>\n",
       "      <td>シュシュエラブル</td>\n",
       "      <td>牝2</td>\n",
       "      <td>51.0</td>\n",
       "      <td>▲小林凌</td>\n",
       "      <td>1:32.0</td>\n",
       "      <td>アタマ</td>\n",
       "      <td>10</td>\n",
       "      <td>101.0</td>\n",
       "      <td>36.1</td>\n",
       "      <td>1-1-1</td>\n",
       "      <td>美浦田村</td>\n",
       "      <td>438(+6)</td>\n",
       "    </tr>\n",
       "    <tr>\n",
       "      <th>202101020401</th>\n",
       "      <td>7</td>\n",
       "      <td>7</td>\n",
       "      <td>10</td>\n",
       "      <td>チャオベッラ</td>\n",
       "      <td>牝2</td>\n",
       "      <td>51.0</td>\n",
       "      <td>▲小沢</td>\n",
       "      <td>1:32.1</td>\n",
       "      <td>1</td>\n",
       "      <td>6</td>\n",
       "      <td>19.3</td>\n",
       "      <td>35.8</td>\n",
       "      <td>5-5-5</td>\n",
       "      <td>栗東西村</td>\n",
       "      <td>450(+12)</td>\n",
       "    </tr>\n",
       "    <tr>\n",
       "      <th>202101020401</th>\n",
       "      <td>8</td>\n",
       "      <td>8</td>\n",
       "      <td>12</td>\n",
       "      <td>グランジャンブ</td>\n",
       "      <td>牡2</td>\n",
       "      <td>54.0</td>\n",
       "      <td>黛</td>\n",
       "      <td>1:32.2</td>\n",
       "      <td>クビ</td>\n",
       "      <td>13</td>\n",
       "      <td>286.4</td>\n",
       "      <td>35.6</td>\n",
       "      <td>8-8-7</td>\n",
       "      <td>美浦鈴木慎</td>\n",
       "      <td>474(+10)</td>\n",
       "    </tr>\n",
       "    <tr>\n",
       "      <th>202101020401</th>\n",
       "      <td>9</td>\n",
       "      <td>4</td>\n",
       "      <td>4</td>\n",
       "      <td>キントリヒ</td>\n",
       "      <td>牡2</td>\n",
       "      <td>53.0</td>\n",
       "      <td>☆泉谷</td>\n",
       "      <td>1:32.2</td>\n",
       "      <td>アタマ</td>\n",
       "      <td>7</td>\n",
       "      <td>22.5</td>\n",
       "      <td>35.1</td>\n",
       "      <td>13-13-12</td>\n",
       "      <td>美浦矢野</td>\n",
       "      <td>450(-2)</td>\n",
       "    </tr>\n",
       "    <tr>\n",
       "      <th>202101020401</th>\n",
       "      <td>10</td>\n",
       "      <td>5</td>\n",
       "      <td>6</td>\n",
       "      <td>オクシデンタル</td>\n",
       "      <td>牡2</td>\n",
       "      <td>54.0</td>\n",
       "      <td>吉田隼</td>\n",
       "      <td>1:32.2</td>\n",
       "      <td>クビ</td>\n",
       "      <td>8</td>\n",
       "      <td>43.2</td>\n",
       "      <td>36.0</td>\n",
       "      <td>3-3-3</td>\n",
       "      <td>美浦加藤征</td>\n",
       "      <td>502(+4)</td>\n",
       "    </tr>\n",
       "    <tr>\n",
       "      <th>202101020401</th>\n",
       "      <td>11</td>\n",
       "      <td>1</td>\n",
       "      <td>1</td>\n",
       "      <td>ジョブックフィオリ</td>\n",
       "      <td>牝2</td>\n",
       "      <td>52.0</td>\n",
       "      <td>△山田</td>\n",
       "      <td>1:32.5</td>\n",
       "      <td>1.3/4</td>\n",
       "      <td>11</td>\n",
       "      <td>134.9</td>\n",
       "      <td>36.0</td>\n",
       "      <td>7-6-7</td>\n",
       "      <td>美浦小桧山</td>\n",
       "      <td>430(0)</td>\n",
       "    </tr>\n",
       "    <tr>\n",
       "      <th>202101020401</th>\n",
       "      <td>12</td>\n",
       "      <td>3</td>\n",
       "      <td>3</td>\n",
       "      <td>アポロリヤム</td>\n",
       "      <td>牡2</td>\n",
       "      <td>54.0</td>\n",
       "      <td>横山武</td>\n",
       "      <td>1:33.0</td>\n",
       "      <td>3</td>\n",
       "      <td>2</td>\n",
       "      <td>3.5</td>\n",
       "      <td>36.2</td>\n",
       "      <td>11-10-10</td>\n",
       "      <td>美浦鈴木伸</td>\n",
       "      <td>446(0)</td>\n",
       "    </tr>\n",
       "    <tr>\n",
       "      <th>202101020401</th>\n",
       "      <td>13</td>\n",
       "      <td>5</td>\n",
       "      <td>7</td>\n",
       "      <td>クリエースト</td>\n",
       "      <td>牝2</td>\n",
       "      <td>54.0</td>\n",
       "      <td>加藤</td>\n",
       "      <td>1:34.1</td>\n",
       "      <td>7</td>\n",
       "      <td>12</td>\n",
       "      <td>251.3</td>\n",
       "      <td>37.3</td>\n",
       "      <td>8-10-13</td>\n",
       "      <td>栗東杉山晴</td>\n",
       "      <td>450(+4)</td>\n",
       "    </tr>\n",
       "  </tbody>\n",
       "</table>\n",
       "</div>"
      ],
      "text/plain": [
       "              着順  枠  馬番         馬名  性齢    斤量    騎手     タイム     着差  人気  単勝オッズ   後3F   コーナー通過順     厩舎   馬体重(増減)\n",
       "202101020401   1  2   2  イエヴァンポルッカ  牡2  54.0    坂井  1:31.6    NaN   3    3.9  34.8  11-10-11  美浦伊藤圭   470(+2)\n",
       "202101020401   2  6   8  テイエムケントオー  牡2  52.0  △秋山稔  1:31.8  1.1/4   9   44.7  35.6     3-3-3  栗東五十嵐   446(-4)\n",
       "202101020401   3  8  13    シーヴィクセン  牝2  54.0   ルメー  1:31.8     クビ   1    3.5  35.4     5-6-5  美浦藤沢和    474(0)\n",
       "202101020401   4  7  11       ナバロン  牡2  54.0    菱田  1:31.9    1/2   4    9.9  35.8     2-2-2  栗東杉山佳  484(+10)\n",
       "202101020401   5  4   5      エクセトラ  牡2  54.0    団野  1:32.0    アタマ   5   10.8  35.4     8-8-7   栗東吉村   500(+4)\n",
       "202101020401   6  6   9   シュシュエラブル  牝2  51.0  ▲小林凌  1:32.0    アタマ  10  101.0  36.1     1-1-1   美浦田村   438(+6)\n",
       "202101020401   7  7  10     チャオベッラ  牝2  51.0   ▲小沢  1:32.1      1   6   19.3  35.8     5-5-5   栗東西村  450(+12)\n",
       "202101020401   8  8  12    グランジャンブ  牡2  54.0     黛  1:32.2     クビ  13  286.4  35.6     8-8-7  美浦鈴木慎  474(+10)\n",
       "202101020401   9  4   4      キントリヒ  牡2  53.0   ☆泉谷  1:32.2    アタマ   7   22.5  35.1  13-13-12   美浦矢野   450(-2)\n",
       "202101020401  10  5   6    オクシデンタル  牡2  54.0   吉田隼  1:32.2     クビ   8   43.2  36.0     3-3-3  美浦加藤征   502(+4)\n",
       "202101020401  11  1   1  ジョブックフィオリ  牝2  52.0   △山田  1:32.5  1.3/4  11  134.9  36.0     7-6-7  美浦小桧山    430(0)\n",
       "202101020401  12  3   3     アポロリヤム  牡2  54.0   横山武  1:33.0      3   2    3.5  36.2  11-10-10  美浦鈴木伸    446(0)\n",
       "202101020401  13  5   7     クリエースト  牝2  54.0    加藤  1:34.1      7  12  251.3  37.3   8-10-13  栗東杉山晴   450(+4)"
      ]
     },
     "execution_count": 20,
     "metadata": {},
     "output_type": "execute_result"
    }
   ],
   "source": [
    "results = pd.concat([add_race_result[key] for key in add_race_result.keys()],sort=False)\n",
    "print(type(results))\n",
    "results"
   ]
  },
  {
   "cell_type": "code",
   "execution_count": 21,
   "metadata": {},
   "outputs": [],
   "source": [
    "results.to_pickle(\"add.results.pickle\")"
   ]
  }
 ],
 "metadata": {
  "interpreter": {
   "hash": "17524995b3fb89f69a1eefd3d21017daf0e335c7df3994005e07ddeae9fe971e"
  },
  "kernelspec": {
   "display_name": "Python 3.9.10 ('venv39': venv)",
   "language": "python",
   "name": "python3"
  },
  "language_info": {
   "codemirror_mode": {
    "name": "ipython",
    "version": 3
   },
   "file_extension": ".py",
   "mimetype": "text/x-python",
   "name": "python",
   "nbconvert_exporter": "python",
   "pygments_lexer": "ipython3",
   "version": "3.9.10"
  },
  "orig_nbformat": 4
 },
 "nbformat": 4,
 "nbformat_minor": 2
}
