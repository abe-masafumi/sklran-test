{
 "cells": [
  {
   "cell_type": "code",
   "execution_count": 180,
   "metadata": {},
   "outputs": [],
   "source": [
    "import pandas as pd\n",
    "\n",
    "pd.options.display.max_rows = 5\n",
    "pd.options.display.max_columns = 100\n",
    "pd.options.display.max_colwidth = 20"
   ]
  },
  {
   "cell_type": "code",
   "execution_count": 181,
   "metadata": {},
   "outputs": [
    {
     "name": "stdout",
     "output_type": "stream",
     "text": [
      "15883\n",
      "1366\n"
     ]
    }
   ],
   "source": [
    "horse_vs_df = pd.read_csv('3.4.horse_vs_data.csv')\n",
    "horse_vs_df = horse_vs_df.iloc[:,:28]\n",
    "df = pd.read_csv('2.2.add.日付_df.csv')\n",
    "print(len(horse_vs_df))\n",
    "print(len(df))"
   ]
  },
  {
   "cell_type": "code",
   "execution_count": 182,
   "metadata": {},
   "outputs": [
    {
     "name": "stdout",
     "output_type": "stream",
     "text": [
      "<class 'pandas.core.frame.DataFrame'>\n",
      "Int64Index: 15883 entries, 2018105875 to 2017104925\n",
      "Data columns (total 28 columns):\n",
      " #   Column    Non-Null Count  Dtype  \n",
      "---  ------    --------------  -----  \n",
      " 0   日付        15883 non-null  object \n",
      " 1   開催        15868 non-null  object \n",
      " 2   天気        15864 non-null  object \n",
      " 3   R         15880 non-null  float64\n",
      " 4   レース名      15883 non-null  object \n",
      " 5   映像        0 non-null      float64\n",
      " 6   頭数        15883 non-null  float64\n",
      " 7   枠番        15880 non-null  float64\n",
      " 8   馬番        15883 non-null  float64\n",
      " 9   オッズ       15775 non-null  float64\n",
      " 10  人気        15777 non-null  float64\n",
      " 11  着順        15840 non-null  object \n",
      " 12  騎手        15883 non-null  object \n",
      " 13  斤量        15883 non-null  float64\n",
      " 14  距離        15883 non-null  object \n",
      " 15  馬場        15867 non-null  object \n",
      " 16  馬場指数      15752 non-null  object \n",
      " 17  タイム       15740 non-null  object \n",
      " 18  着差        15739 non-null  float64\n",
      " 19  ﾀｲﾑ指数     15752 non-null  object \n",
      " 20  通過        15762 non-null  object \n",
      " 21  ペース       15805 non-null  object \n",
      " 22  上り        15740 non-null  float64\n",
      " 23  馬体重       15883 non-null  object \n",
      " 24  厩舎ｺﾒﾝﾄ    0 non-null      float64\n",
      " 25  備考        0 non-null      float64\n",
      " 26  勝ち馬(2着馬)  15837 non-null  object \n",
      " 27  賞金        7407 non-null   float64\n",
      "dtypes: float64(13), object(15)\n",
      "memory usage: 3.5+ MB\n"
     ]
    }
   ],
   "source": [
    "horse_vs_df.info()"
   ]
  },
  {
   "cell_type": "code",
   "execution_count": 190,
   "metadata": {},
   "outputs": [
    {
     "name": "stdout",
     "output_type": "stream",
     "text": [
      "<class 'pandas.core.frame.DataFrame'>\n",
      "RangeIndex: 1366 entries, 0 to 1365\n",
      "Data columns (total 17 columns):\n",
      " #   Column   Non-Null Count  Dtype  \n",
      "---  ------   --------------  -----  \n",
      " 0   着順       1366 non-null   object \n",
      " 1   枠        1366 non-null   int64  \n",
      " 2   馬番       1366 non-null   int64  \n",
      " 3   馬名       1366 non-null   object \n",
      " 4   性齢       1366 non-null   object \n",
      " 5   斤量       1366 non-null   float64\n",
      " 6   騎手       1366 non-null   object \n",
      " 7   タイム      1357 non-null   object \n",
      " 8   着差       1249 non-null   object \n",
      " 9   人気       1366 non-null   object \n",
      " 10  単勝オッズ    1360 non-null   float64\n",
      " 11  後3F      1357 non-null   float64\n",
      " 12  コーナー通過順  1360 non-null   object \n",
      " 13  厩舎       1366 non-null   object \n",
      " 14  馬体重(増減)  1363 non-null   object \n",
      " 15  性        1366 non-null   object \n",
      " 16  齢        1366 non-null   int64  \n",
      "dtypes: float64(3), int64(3), object(11)\n",
      "memory usage: 181.5+ KB\n",
      "None\n"
     ]
    },
    {
     "data": {
      "text/plain": [
       "着順           0\n",
       "枠            0\n",
       "馬番           0\n",
       "馬名           0\n",
       "性齢           0\n",
       "斤量           0\n",
       "騎手           0\n",
       "タイム          9\n",
       "着差         117\n",
       "人気           0\n",
       "単勝オッズ        6\n",
       "後3F          9\n",
       "コーナー通過順      6\n",
       "厩舎           0\n",
       "馬体重(増減)      3\n",
       "性            0\n",
       "齢            0\n",
       "dtype: int64"
      ]
     },
     "execution_count": 190,
     "metadata": {},
     "output_type": "execute_result"
    }
   ],
   "source": [
    "pd.options.display.max_rows = None\n",
    "print(df.info())\n",
    "df.isna().sum()"
   ]
  },
  {
   "cell_type": "code",
   "execution_count": 184,
   "metadata": {},
   "outputs": [
    {
     "data": {
      "text/plain": [
       "2.0     108\n",
       "5.0     108\n",
       "4.0     108\n",
       "1.0     108\n",
       "3.0     108\n",
       "6.0     108\n",
       "7.0     106\n",
       "8.0     105\n",
       "9.0     101\n",
       "10.0     96\n",
       "11.0     88\n",
       "12.0     81\n",
       "13.0     56\n",
       "14.0     44\n",
       "15.0     20\n",
       "16.0     15\n",
       "Name: 人気, dtype: int64"
      ]
     },
     "execution_count": 184,
     "metadata": {},
     "output_type": "execute_result"
    }
   ],
   "source": [
    "# df[df[\"後3F\"].isna()]\n",
    "df[\"人気\"].value_counts()"
   ]
  },
  {
   "cell_type": "code",
   "execution_count": 185,
   "metadata": {},
   "outputs": [],
   "source": [
    "# pd.options.display.max_rows = None\n",
    "# for i in df.columns:\n",
    "#   print(df[i].value_counts())"
   ]
  },
  {
   "cell_type": "markdown",
   "metadata": {},
   "source": [
    "## メインデータの前処理"
   ]
  },
  {
   "cell_type": "code",
   "execution_count": 186,
   "metadata": {},
   "outputs": [],
   "source": [
    "def preprocessing(df):\n",
    "  # 性齢\n",
    "  df[\"性\"] = df[\"性齢\"].map(lambda x:str(x)[0])\n",
    "  df[\"齢\"] = df[\"性齢\"].map(lambda x:str(x)[1:]).astype(int)\n",
    "  # 人気\n",
    "  df.loc[df['人気'] == \"nan\", '人気'] = 99\n",
    "  df[\"人気\"] = df[\"人気\"].map(lambda x:str(x).replace('.0', ''))\n",
    "  df[\"人気\"] = df[\"人気\"].astype(int)\n",
    "  # タイム\n",
    "  df.loc[df['タイム'] == \"-\", 'タイム'] = \"9:99.9\"\n",
    "  # 着差\n",
    "  df.loc[df['着差'] == \"-\", '着差'] = \"除外\"\n",
    "  df[\"着差\"] = df[\"着差\"].fillna(\"１着\")\n",
    "  # オッズ\n",
    "  df.loc[df['単勝オッズ'] == \"-\", '単勝オッズ'] = \"0.0\"\n",
    "  df[\"単勝オッズ\"] = df[\"単勝オッズ\"].astype(float)\n",
    "  # 後3F\n",
    "  df.loc[df['後3F'] == \"-\", '後3F'] = \"9.9\"\n",
    "  df[\"後3F\"] = df[\"後3F\"].astype(float)\n",
    "  # コーナー通過順\n",
    "  df.loc[df['コーナー通過順'] == \"-\", 'コーナー通過順'] = \"0-0-0-0\"\n",
    "  # 馬体重\n",
    "  # df = df[~(df[\"馬体重(増減)\"].astype(str).str.contains(\"\\.\"))]\n",
    "  df[\"体重\"] = df[\"馬体重(増減)\"].str.split('(',expand=True)[0].astype(int)\n",
    "  df[\"体重変化\"] = df[\"馬体重(増減)\"].str.split('(',expand=True)[1].str[:-1].astype(int)\n",
    "  df.drop([\"馬体重(増減)\",'性齢'],axis=1, inplace=True)\n",
    "  # 日付\n",
    "  df[\"date\"] = pd.to_datetime(df[\"date\"],format=\"%Y年%m月%d日\")\n",
    "\n",
    "  return df  "
   ]
  },
  {
   "cell_type": "markdown",
   "metadata": {},
   "source": [
    "## HorseResultsクラス"
   ]
  },
  {
   "cell_type": "code",
   "execution_count": 187,
   "metadata": {},
   "outputs": [],
   "source": [
    "class HorseResults:\n",
    "  def __init__(self,horse_vs_df):\n",
    "    self.horse_results = horse_vs_df[[\"日付\",\"着順\",\"賞金\"]]\n",
    "    \n",
    "  def preprocessing(self):\n",
    "    df = self.horse_results.copy()\n",
    "    # 着順\n",
    "    df[\"着順\"] = df[\"着順\"].map(lambda x:str(x).replace('.0', ''))\n",
    "    # 日付\n",
    "    df[\"date\"] = pd.to_datetime(df[\"日付\"])\n",
    "    df.drop([\"日付\"],axis=1, inplace=True)\n",
    "    \n",
    "    self.horse_results = df\n"
   ]
  },
  {
   "cell_type": "code",
   "execution_count": 188,
   "metadata": {},
   "outputs": [],
   "source": [
    "hr = HorseResults(horse_vs_df)\n",
    "hr.preprocessing()\n",
    "hr.horse_results\n",
    "hr.horse_results.index = hr.horse_results.index.map(lambda x:str(x))"
   ]
  },
  {
   "cell_type": "code",
   "execution_count": 189,
   "metadata": {},
   "outputs": [
    {
     "ename": "ValueError",
     "evalue": "invalid literal for int() with base 10: 'nan'",
     "output_type": "error",
     "traceback": [
      "\u001b[0;31m---------------------------------------------------------------------------\u001b[0m",
      "\u001b[0;31mValueError\u001b[0m                                Traceback (most recent call last)",
      "\u001b[1;32m/Users/masa/Desktop/scikit-learn-test/hourse_data/4.clean.data.ipynb Cell 12'\u001b[0m in \u001b[0;36m<cell line: 1>\u001b[0;34m()\u001b[0m\n\u001b[0;32m----> <a href='vscode-notebook-cell:/Users/masa/Desktop/scikit-learn-test/hourse_data/4.clean.data.ipynb#ch0000010?line=0'>1</a>\u001b[0m results_p \u001b[39m=\u001b[39m preprocessing(df)\n\u001b[1;32m      <a href='vscode-notebook-cell:/Users/masa/Desktop/scikit-learn-test/hourse_data/4.clean.data.ipynb#ch0000010?line=1'>2</a>\u001b[0m \u001b[39mlen\u001b[39m(results_p)\n",
      "\u001b[1;32m/Users/masa/Desktop/scikit-learn-test/hourse_data/4.clean.data.ipynb Cell 8'\u001b[0m in \u001b[0;36mpreprocessing\u001b[0;34m(df)\u001b[0m\n\u001b[1;32m      <a href='vscode-notebook-cell:/Users/masa/Desktop/scikit-learn-test/hourse_data/4.clean.data.ipynb#ch0000005?line=5'>6</a>\u001b[0m df\u001b[39m.\u001b[39mloc[df[\u001b[39m'\u001b[39m\u001b[39m人気\u001b[39m\u001b[39m'\u001b[39m] \u001b[39m==\u001b[39m \u001b[39m\"\u001b[39m\u001b[39mnan\u001b[39m\u001b[39m\"\u001b[39m, \u001b[39m'\u001b[39m\u001b[39m人気\u001b[39m\u001b[39m'\u001b[39m] \u001b[39m=\u001b[39m \u001b[39m99\u001b[39m\n\u001b[1;32m      <a href='vscode-notebook-cell:/Users/masa/Desktop/scikit-learn-test/hourse_data/4.clean.data.ipynb#ch0000005?line=6'>7</a>\u001b[0m df[\u001b[39m\"\u001b[39m\u001b[39m人気\u001b[39m\u001b[39m\"\u001b[39m] \u001b[39m=\u001b[39m df[\u001b[39m\"\u001b[39m\u001b[39m人気\u001b[39m\u001b[39m\"\u001b[39m]\u001b[39m.\u001b[39mmap(\u001b[39mlambda\u001b[39;00m x:\u001b[39mstr\u001b[39m(x)\u001b[39m.\u001b[39mreplace(\u001b[39m'\u001b[39m\u001b[39m.0\u001b[39m\u001b[39m'\u001b[39m, \u001b[39m'\u001b[39m\u001b[39m'\u001b[39m))\n\u001b[0;32m----> <a href='vscode-notebook-cell:/Users/masa/Desktop/scikit-learn-test/hourse_data/4.clean.data.ipynb#ch0000005?line=7'>8</a>\u001b[0m df[\u001b[39m\"\u001b[39m\u001b[39m人気\u001b[39m\u001b[39m\"\u001b[39m] \u001b[39m=\u001b[39m df[\u001b[39m\"\u001b[39;49m\u001b[39m人気\u001b[39;49m\u001b[39m\"\u001b[39;49m]\u001b[39m.\u001b[39;49mastype(\u001b[39mint\u001b[39;49m)\n\u001b[1;32m      <a href='vscode-notebook-cell:/Users/masa/Desktop/scikit-learn-test/hourse_data/4.clean.data.ipynb#ch0000005?line=8'>9</a>\u001b[0m \u001b[39m# タイム\u001b[39;00m\n\u001b[1;32m     <a href='vscode-notebook-cell:/Users/masa/Desktop/scikit-learn-test/hourse_data/4.clean.data.ipynb#ch0000005?line=9'>10</a>\u001b[0m df\u001b[39m.\u001b[39mloc[df[\u001b[39m'\u001b[39m\u001b[39mタイム\u001b[39m\u001b[39m'\u001b[39m] \u001b[39m==\u001b[39m \u001b[39m\"\u001b[39m\u001b[39m-\u001b[39m\u001b[39m\"\u001b[39m, \u001b[39m'\u001b[39m\u001b[39mタイム\u001b[39m\u001b[39m'\u001b[39m] \u001b[39m=\u001b[39m \u001b[39m\"\u001b[39m\u001b[39m9:99.9\u001b[39m\u001b[39m\"\u001b[39m\n",
      "File \u001b[0;32m~/Desktop/scikit-learn-test/venv39/lib/python3.9/site-packages/pandas/core/generic.py:5920\u001b[0m, in \u001b[0;36mNDFrame.astype\u001b[0;34m(self, dtype, copy, errors)\u001b[0m\n\u001b[1;32m   <a href='file:///Users/masa/Desktop/scikit-learn-test/venv39/lib/python3.9/site-packages/pandas/core/generic.py?line=5912'>5913</a>\u001b[0m     results \u001b[39m=\u001b[39m [\n\u001b[1;32m   <a href='file:///Users/masa/Desktop/scikit-learn-test/venv39/lib/python3.9/site-packages/pandas/core/generic.py?line=5913'>5914</a>\u001b[0m         \u001b[39mself\u001b[39m\u001b[39m.\u001b[39miloc[:, i]\u001b[39m.\u001b[39mastype(dtype, copy\u001b[39m=\u001b[39mcopy)\n\u001b[1;32m   <a href='file:///Users/masa/Desktop/scikit-learn-test/venv39/lib/python3.9/site-packages/pandas/core/generic.py?line=5914'>5915</a>\u001b[0m         \u001b[39mfor\u001b[39;00m i \u001b[39min\u001b[39;00m \u001b[39mrange\u001b[39m(\u001b[39mlen\u001b[39m(\u001b[39mself\u001b[39m\u001b[39m.\u001b[39mcolumns))\n\u001b[1;32m   <a href='file:///Users/masa/Desktop/scikit-learn-test/venv39/lib/python3.9/site-packages/pandas/core/generic.py?line=5915'>5916</a>\u001b[0m     ]\n\u001b[1;32m   <a href='file:///Users/masa/Desktop/scikit-learn-test/venv39/lib/python3.9/site-packages/pandas/core/generic.py?line=5917'>5918</a>\u001b[0m \u001b[39melse\u001b[39;00m:\n\u001b[1;32m   <a href='file:///Users/masa/Desktop/scikit-learn-test/venv39/lib/python3.9/site-packages/pandas/core/generic.py?line=5918'>5919</a>\u001b[0m     \u001b[39m# else, only a single dtype is given\u001b[39;00m\n\u001b[0;32m-> <a href='file:///Users/masa/Desktop/scikit-learn-test/venv39/lib/python3.9/site-packages/pandas/core/generic.py?line=5919'>5920</a>\u001b[0m     new_data \u001b[39m=\u001b[39m \u001b[39mself\u001b[39;49m\u001b[39m.\u001b[39;49m_mgr\u001b[39m.\u001b[39;49mastype(dtype\u001b[39m=\u001b[39;49mdtype, copy\u001b[39m=\u001b[39;49mcopy, errors\u001b[39m=\u001b[39;49merrors)\n\u001b[1;32m   <a href='file:///Users/masa/Desktop/scikit-learn-test/venv39/lib/python3.9/site-packages/pandas/core/generic.py?line=5920'>5921</a>\u001b[0m     \u001b[39mreturn\u001b[39;00m \u001b[39mself\u001b[39m\u001b[39m.\u001b[39m_constructor(new_data)\u001b[39m.\u001b[39m__finalize__(\u001b[39mself\u001b[39m, method\u001b[39m=\u001b[39m\u001b[39m\"\u001b[39m\u001b[39mastype\u001b[39m\u001b[39m\"\u001b[39m)\n\u001b[1;32m   <a href='file:///Users/masa/Desktop/scikit-learn-test/venv39/lib/python3.9/site-packages/pandas/core/generic.py?line=5922'>5923</a>\u001b[0m \u001b[39m# GH 33113: handle empty frame or series\u001b[39;00m\n",
      "File \u001b[0;32m~/Desktop/scikit-learn-test/venv39/lib/python3.9/site-packages/pandas/core/internals/managers.py:419\u001b[0m, in \u001b[0;36mBaseBlockManager.astype\u001b[0;34m(self, dtype, copy, errors)\u001b[0m\n\u001b[1;32m    <a href='file:///Users/masa/Desktop/scikit-learn-test/venv39/lib/python3.9/site-packages/pandas/core/internals/managers.py?line=417'>418</a>\u001b[0m \u001b[39mdef\u001b[39;00m \u001b[39mastype\u001b[39m(\u001b[39mself\u001b[39m: T, dtype, copy: \u001b[39mbool\u001b[39m \u001b[39m=\u001b[39m \u001b[39mFalse\u001b[39;00m, errors: \u001b[39mstr\u001b[39m \u001b[39m=\u001b[39m \u001b[39m\"\u001b[39m\u001b[39mraise\u001b[39m\u001b[39m\"\u001b[39m) \u001b[39m-\u001b[39m\u001b[39m>\u001b[39m T:\n\u001b[0;32m--> <a href='file:///Users/masa/Desktop/scikit-learn-test/venv39/lib/python3.9/site-packages/pandas/core/internals/managers.py?line=418'>419</a>\u001b[0m     \u001b[39mreturn\u001b[39;00m \u001b[39mself\u001b[39;49m\u001b[39m.\u001b[39;49mapply(\u001b[39m\"\u001b[39;49m\u001b[39mastype\u001b[39;49m\u001b[39m\"\u001b[39;49m, dtype\u001b[39m=\u001b[39;49mdtype, copy\u001b[39m=\u001b[39;49mcopy, errors\u001b[39m=\u001b[39;49merrors)\n",
      "File \u001b[0;32m~/Desktop/scikit-learn-test/venv39/lib/python3.9/site-packages/pandas/core/internals/managers.py:304\u001b[0m, in \u001b[0;36mBaseBlockManager.apply\u001b[0;34m(self, f, align_keys, ignore_failures, **kwargs)\u001b[0m\n\u001b[1;32m    <a href='file:///Users/masa/Desktop/scikit-learn-test/venv39/lib/python3.9/site-packages/pandas/core/internals/managers.py?line=301'>302</a>\u001b[0m         applied \u001b[39m=\u001b[39m b\u001b[39m.\u001b[39mapply(f, \u001b[39m*\u001b[39m\u001b[39m*\u001b[39mkwargs)\n\u001b[1;32m    <a href='file:///Users/masa/Desktop/scikit-learn-test/venv39/lib/python3.9/site-packages/pandas/core/internals/managers.py?line=302'>303</a>\u001b[0m     \u001b[39melse\u001b[39;00m:\n\u001b[0;32m--> <a href='file:///Users/masa/Desktop/scikit-learn-test/venv39/lib/python3.9/site-packages/pandas/core/internals/managers.py?line=303'>304</a>\u001b[0m         applied \u001b[39m=\u001b[39m \u001b[39mgetattr\u001b[39;49m(b, f)(\u001b[39m*\u001b[39;49m\u001b[39m*\u001b[39;49mkwargs)\n\u001b[1;32m    <a href='file:///Users/masa/Desktop/scikit-learn-test/venv39/lib/python3.9/site-packages/pandas/core/internals/managers.py?line=304'>305</a>\u001b[0m \u001b[39mexcept\u001b[39;00m (\u001b[39mTypeError\u001b[39;00m, \u001b[39mNotImplementedError\u001b[39;00m):\n\u001b[1;32m    <a href='file:///Users/masa/Desktop/scikit-learn-test/venv39/lib/python3.9/site-packages/pandas/core/internals/managers.py?line=305'>306</a>\u001b[0m     \u001b[39mif\u001b[39;00m \u001b[39mnot\u001b[39;00m ignore_failures:\n",
      "File \u001b[0;32m~/Desktop/scikit-learn-test/venv39/lib/python3.9/site-packages/pandas/core/internals/blocks.py:580\u001b[0m, in \u001b[0;36mBlock.astype\u001b[0;34m(self, dtype, copy, errors)\u001b[0m\n\u001b[1;32m    <a href='file:///Users/masa/Desktop/scikit-learn-test/venv39/lib/python3.9/site-packages/pandas/core/internals/blocks.py?line=561'>562</a>\u001b[0m \u001b[39m\"\"\"\u001b[39;00m\n\u001b[1;32m    <a href='file:///Users/masa/Desktop/scikit-learn-test/venv39/lib/python3.9/site-packages/pandas/core/internals/blocks.py?line=562'>563</a>\u001b[0m \u001b[39mCoerce to the new dtype.\u001b[39;00m\n\u001b[1;32m    <a href='file:///Users/masa/Desktop/scikit-learn-test/venv39/lib/python3.9/site-packages/pandas/core/internals/blocks.py?line=563'>564</a>\u001b[0m \n\u001b[0;32m   (...)\u001b[0m\n\u001b[1;32m    <a href='file:///Users/masa/Desktop/scikit-learn-test/venv39/lib/python3.9/site-packages/pandas/core/internals/blocks.py?line=575'>576</a>\u001b[0m \u001b[39mBlock\u001b[39;00m\n\u001b[1;32m    <a href='file:///Users/masa/Desktop/scikit-learn-test/venv39/lib/python3.9/site-packages/pandas/core/internals/blocks.py?line=576'>577</a>\u001b[0m \u001b[39m\"\"\"\u001b[39;00m\n\u001b[1;32m    <a href='file:///Users/masa/Desktop/scikit-learn-test/venv39/lib/python3.9/site-packages/pandas/core/internals/blocks.py?line=577'>578</a>\u001b[0m values \u001b[39m=\u001b[39m \u001b[39mself\u001b[39m\u001b[39m.\u001b[39mvalues\n\u001b[0;32m--> <a href='file:///Users/masa/Desktop/scikit-learn-test/venv39/lib/python3.9/site-packages/pandas/core/internals/blocks.py?line=579'>580</a>\u001b[0m new_values \u001b[39m=\u001b[39m astype_array_safe(values, dtype, copy\u001b[39m=\u001b[39;49mcopy, errors\u001b[39m=\u001b[39;49merrors)\n\u001b[1;32m    <a href='file:///Users/masa/Desktop/scikit-learn-test/venv39/lib/python3.9/site-packages/pandas/core/internals/blocks.py?line=581'>582</a>\u001b[0m new_values \u001b[39m=\u001b[39m maybe_coerce_values(new_values)\n\u001b[1;32m    <a href='file:///Users/masa/Desktop/scikit-learn-test/venv39/lib/python3.9/site-packages/pandas/core/internals/blocks.py?line=582'>583</a>\u001b[0m newb \u001b[39m=\u001b[39m \u001b[39mself\u001b[39m\u001b[39m.\u001b[39mmake_block(new_values)\n",
      "File \u001b[0;32m~/Desktop/scikit-learn-test/venv39/lib/python3.9/site-packages/pandas/core/dtypes/cast.py:1292\u001b[0m, in \u001b[0;36mastype_array_safe\u001b[0;34m(values, dtype, copy, errors)\u001b[0m\n\u001b[1;32m   <a href='file:///Users/masa/Desktop/scikit-learn-test/venv39/lib/python3.9/site-packages/pandas/core/dtypes/cast.py?line=1288'>1289</a>\u001b[0m     dtype \u001b[39m=\u001b[39m dtype\u001b[39m.\u001b[39mnumpy_dtype\n\u001b[1;32m   <a href='file:///Users/masa/Desktop/scikit-learn-test/venv39/lib/python3.9/site-packages/pandas/core/dtypes/cast.py?line=1290'>1291</a>\u001b[0m \u001b[39mtry\u001b[39;00m:\n\u001b[0;32m-> <a href='file:///Users/masa/Desktop/scikit-learn-test/venv39/lib/python3.9/site-packages/pandas/core/dtypes/cast.py?line=1291'>1292</a>\u001b[0m     new_values \u001b[39m=\u001b[39m astype_array(values, dtype, copy\u001b[39m=\u001b[39;49mcopy)\n\u001b[1;32m   <a href='file:///Users/masa/Desktop/scikit-learn-test/venv39/lib/python3.9/site-packages/pandas/core/dtypes/cast.py?line=1292'>1293</a>\u001b[0m \u001b[39mexcept\u001b[39;00m (\u001b[39mValueError\u001b[39;00m, \u001b[39mTypeError\u001b[39;00m):\n\u001b[1;32m   <a href='file:///Users/masa/Desktop/scikit-learn-test/venv39/lib/python3.9/site-packages/pandas/core/dtypes/cast.py?line=1293'>1294</a>\u001b[0m     \u001b[39m# e.g. astype_nansafe can fail on object-dtype of strings\u001b[39;00m\n\u001b[1;32m   <a href='file:///Users/masa/Desktop/scikit-learn-test/venv39/lib/python3.9/site-packages/pandas/core/dtypes/cast.py?line=1294'>1295</a>\u001b[0m     \u001b[39m#  trying to convert to float\u001b[39;00m\n\u001b[1;32m   <a href='file:///Users/masa/Desktop/scikit-learn-test/venv39/lib/python3.9/site-packages/pandas/core/dtypes/cast.py?line=1295'>1296</a>\u001b[0m     \u001b[39mif\u001b[39;00m errors \u001b[39m==\u001b[39m \u001b[39m\"\u001b[39m\u001b[39mignore\u001b[39m\u001b[39m\"\u001b[39m:\n",
      "File \u001b[0;32m~/Desktop/scikit-learn-test/venv39/lib/python3.9/site-packages/pandas/core/dtypes/cast.py:1237\u001b[0m, in \u001b[0;36mastype_array\u001b[0;34m(values, dtype, copy)\u001b[0m\n\u001b[1;32m   <a href='file:///Users/masa/Desktop/scikit-learn-test/venv39/lib/python3.9/site-packages/pandas/core/dtypes/cast.py?line=1233'>1234</a>\u001b[0m     values \u001b[39m=\u001b[39m values\u001b[39m.\u001b[39mastype(dtype, copy\u001b[39m=\u001b[39mcopy)\n\u001b[1;32m   <a href='file:///Users/masa/Desktop/scikit-learn-test/venv39/lib/python3.9/site-packages/pandas/core/dtypes/cast.py?line=1235'>1236</a>\u001b[0m \u001b[39melse\u001b[39;00m:\n\u001b[0;32m-> <a href='file:///Users/masa/Desktop/scikit-learn-test/venv39/lib/python3.9/site-packages/pandas/core/dtypes/cast.py?line=1236'>1237</a>\u001b[0m     values \u001b[39m=\u001b[39m astype_nansafe(values, dtype, copy\u001b[39m=\u001b[39;49mcopy)\n\u001b[1;32m   <a href='file:///Users/masa/Desktop/scikit-learn-test/venv39/lib/python3.9/site-packages/pandas/core/dtypes/cast.py?line=1238'>1239</a>\u001b[0m \u001b[39m# in pandas we don't store numpy str dtypes, so convert to object\u001b[39;00m\n\u001b[1;32m   <a href='file:///Users/masa/Desktop/scikit-learn-test/venv39/lib/python3.9/site-packages/pandas/core/dtypes/cast.py?line=1239'>1240</a>\u001b[0m \u001b[39mif\u001b[39;00m \u001b[39misinstance\u001b[39m(dtype, np\u001b[39m.\u001b[39mdtype) \u001b[39mand\u001b[39;00m \u001b[39missubclass\u001b[39m(values\u001b[39m.\u001b[39mdtype\u001b[39m.\u001b[39mtype, \u001b[39mstr\u001b[39m):\n",
      "File \u001b[0;32m~/Desktop/scikit-learn-test/venv39/lib/python3.9/site-packages/pandas/core/dtypes/cast.py:1154\u001b[0m, in \u001b[0;36mastype_nansafe\u001b[0;34m(arr, dtype, copy, skipna)\u001b[0m\n\u001b[1;32m   <a href='file:///Users/masa/Desktop/scikit-learn-test/venv39/lib/python3.9/site-packages/pandas/core/dtypes/cast.py?line=1149'>1150</a>\u001b[0m \u001b[39melif\u001b[39;00m is_object_dtype(arr\u001b[39m.\u001b[39mdtype):\n\u001b[1;32m   <a href='file:///Users/masa/Desktop/scikit-learn-test/venv39/lib/python3.9/site-packages/pandas/core/dtypes/cast.py?line=1150'>1151</a>\u001b[0m \n\u001b[1;32m   <a href='file:///Users/masa/Desktop/scikit-learn-test/venv39/lib/python3.9/site-packages/pandas/core/dtypes/cast.py?line=1151'>1152</a>\u001b[0m     \u001b[39m# work around NumPy brokenness, #1987\u001b[39;00m\n\u001b[1;32m   <a href='file:///Users/masa/Desktop/scikit-learn-test/venv39/lib/python3.9/site-packages/pandas/core/dtypes/cast.py?line=1152'>1153</a>\u001b[0m     \u001b[39mif\u001b[39;00m np\u001b[39m.\u001b[39missubdtype(dtype\u001b[39m.\u001b[39mtype, np\u001b[39m.\u001b[39minteger):\n\u001b[0;32m-> <a href='file:///Users/masa/Desktop/scikit-learn-test/venv39/lib/python3.9/site-packages/pandas/core/dtypes/cast.py?line=1153'>1154</a>\u001b[0m         \u001b[39mreturn\u001b[39;00m lib\u001b[39m.\u001b[39;49mastype_intsafe(arr, dtype)\n\u001b[1;32m   <a href='file:///Users/masa/Desktop/scikit-learn-test/venv39/lib/python3.9/site-packages/pandas/core/dtypes/cast.py?line=1155'>1156</a>\u001b[0m     \u001b[39m# if we have a datetime/timedelta array of objects\u001b[39;00m\n\u001b[1;32m   <a href='file:///Users/masa/Desktop/scikit-learn-test/venv39/lib/python3.9/site-packages/pandas/core/dtypes/cast.py?line=1156'>1157</a>\u001b[0m     \u001b[39m# then coerce to a proper dtype and recall astype_nansafe\u001b[39;00m\n\u001b[1;32m   <a href='file:///Users/masa/Desktop/scikit-learn-test/venv39/lib/python3.9/site-packages/pandas/core/dtypes/cast.py?line=1158'>1159</a>\u001b[0m     \u001b[39melif\u001b[39;00m is_datetime64_dtype(dtype):\n",
      "File \u001b[0;32m~/Desktop/scikit-learn-test/venv39/lib/python3.9/site-packages/pandas/_libs/lib.pyx:668\u001b[0m, in \u001b[0;36mpandas._libs.lib.astype_intsafe\u001b[0;34m()\u001b[0m\n",
      "\u001b[0;31mValueError\u001b[0m: invalid literal for int() with base 10: 'nan'"
     ]
    }
   ],
   "source": [
    "results_p = preprocessing(df)\n",
    "len(results_p)"
   ]
  },
  {
   "cell_type": "code",
   "execution_count": null,
   "metadata": {},
   "outputs": [],
   "source": [
    "sample_data = results_p[\"date\"][0]\n",
    "sample_data"
   ]
  },
  {
   "cell_type": "markdown",
   "metadata": {},
   "source": [
    "sample_dataの日付に走った馬のリスト\n"
   ]
  },
  {
   "cell_type": "code",
   "execution_count": null,
   "metadata": {},
   "outputs": [],
   "source": [
    "pd.options.display.max_rows = None\n",
    "\n",
    "horse_id_list = results_p[results_p[\"date\"] == sample_data][\"horse_id\"]\n",
    "horse_id_list"
   ]
  },
  {
   "cell_type": "code",
   "execution_count": null,
   "metadata": {},
   "outputs": [],
   "source": [
    "hr.horse_results.loc[horse_id_list]"
   ]
  },
  {
   "cell_type": "code",
   "execution_count": null,
   "metadata": {},
   "outputs": [],
   "source": [
    "hr.horse_results"
   ]
  },
  {
   "cell_type": "code",
   "execution_count": null,
   "metadata": {},
   "outputs": [],
   "source": [
    "horse_vs_df[\"2018104222\"]"
   ]
  }
 ],
 "metadata": {
  "interpreter": {
   "hash": "17524995b3fb89f69a1eefd3d21017daf0e335c7df3994005e07ddeae9fe971e"
  },
  "kernelspec": {
   "display_name": "Python 3.9.10 ('venv39': venv)",
   "language": "python",
   "name": "python3"
  },
  "language_info": {
   "codemirror_mode": {
    "name": "ipython",
    "version": 3
   },
   "file_extension": ".py",
   "mimetype": "text/x-python",
   "name": "python",
   "nbconvert_exporter": "python",
   "pygments_lexer": "ipython3",
   "version": "3.9.10"
  },
  "orig_nbformat": 4
 },
 "nbformat": 4,
 "nbformat_minor": 2
}
