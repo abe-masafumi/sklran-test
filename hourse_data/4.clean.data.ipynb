{
 "cells": [
  {
   "cell_type": "code",
   "execution_count": null,
   "metadata": {},
   "outputs": [],
   "source": [
    "import pandas as pd\n",
    "\n",
    "pd.options.display.max_rows = 5\n",
    "pd.options.display.max_columns = 100\n",
    "pd.options.display.max_colwidth = 20"
   ]
  },
  {
   "cell_type": "code",
   "execution_count": null,
   "metadata": {},
   "outputs": [],
   "source": [
    "horse_vs_df = pd.read_csv('horse_vs_data.csv')\n",
    "horse_vs_df = horse_vs_df.iloc[:,:29]\n",
    "df = pd.read_pickle('df_add_id.pickle')\n",
    "print(len(horse_vs_df))\n",
    "print(len(df))"
   ]
  },
  {
   "cell_type": "code",
   "execution_count": null,
   "metadata": {},
   "outputs": [],
   "source": [
    "horse_vs_df"
   ]
  },
  {
   "cell_type": "code",
   "execution_count": null,
   "metadata": {},
   "outputs": [],
   "source": [
    "df"
   ]
  },
  {
   "cell_type": "markdown",
   "metadata": {},
   "source": [
    "## メインデータの前処理"
   ]
  },
  {
   "cell_type": "code",
   "execution_count": null,
   "metadata": {},
   "outputs": [],
   "source": [
    "def preprocessing(df):\n",
    "  # 性齢\n",
    "  df[\"性\"] = df[\"性齢\"].map(lambda x:str(x)[0])\n",
    "  df[\"齢\"] = df[\"性齢\"].map(lambda x:str(x)[1:]).astype(int)\n",
    "  # 人気\n",
    "  df.loc[df['人気'] == \"-\", '人気'] = 99\n",
    "  df[\"人気\"] = df[\"人気\"].map(lambda x:str(x).replace('.0', ''))\n",
    "  df[\"人気\"] = df[\"人気\"].astype(int)\n",
    "  # タイム\n",
    "  df.loc[df['タイム'] == \"-\", 'タイム'] = \"9:99.9\"\n",
    "  # 着差\n",
    "  df.loc[df['着差'] == \"-\", '着差'] = \"除外\"\n",
    "  df[\"着差\"] = df[\"着差\"].fillna(\"１着\")\n",
    "  # オッズ\n",
    "  df.loc[df['単勝オッズ'] == \"-\", '単勝オッズ'] = \"0.0\"\n",
    "  df[\"単勝オッズ\"] = df[\"単勝オッズ\"].astype(float)\n",
    "  # 後3F\n",
    "  df.loc[df['後3F'] == \"-\", '後3F'] = \"9.9\"\n",
    "  df[\"後3F\"] = df[\"後3F\"].astype(float)\n",
    "  # コーナー通過順\n",
    "  df.loc[df['コーナー通過順'] == \"-\", 'コーナー通過順'] = \"0-0-0-0\"\n",
    "  # 馬体重\n",
    "  df = df[~(df[\"馬体重(増減)\"].astype(str).str.contains(\"\\.\"))]\n",
    "  df[\"体重\"] = df[\"馬体重(増減)\"].str.split('(',expand=True)[0].astype(int)\n",
    "  df[\"体重変化\"] = df[\"馬体重(増減)\"].str.split('(',expand=True)[1].str[:-1].astype(int)\n",
    "  df.drop([\"馬体重(増減)\",'性齢'],axis=1, inplace=True)\n",
    "  # 日付\n",
    "  df[\"date\"] = pd.to_datetime(df[\"date\"],format=\"%Y年%m月%d日\")\n",
    "\n",
    "  return df  "
   ]
  },
  {
   "cell_type": "markdown",
   "metadata": {},
   "source": [
    "## HorseResultsクラス"
   ]
  },
  {
   "cell_type": "code",
   "execution_count": null,
   "metadata": {},
   "outputs": [],
   "source": [
    "class HorseResults:\n",
    "  def __init__(self,horse_vs_df):\n",
    "    self.horse_results = horse_vs_df[[\"日付\",\"着順\",\"賞金\"]]\n",
    "    \n",
    "  def preprocessing(self):\n",
    "    df = self.horse_results.copy()\n",
    "    # 着順\n",
    "    df[\"着順\"] = df[\"着順\"].map(lambda x:str(x).replace('.0', ''))\n",
    "    # 日付\n",
    "    df[\"date\"] = pd.to_datetime(df[\"日付\"])\n",
    "    df.drop([\"日付\"],axis=1, inplace=True)\n",
    "    \n",
    "    self.horse_results = df\n"
   ]
  },
  {
   "cell_type": "code",
   "execution_count": null,
   "metadata": {},
   "outputs": [],
   "source": [
    "hr = HorseResults(horse_vs_df)\n",
    "hr.preprocessing()\n",
    "hr.horse_results\n",
    "hr.horse_results.index = hr.horse_results.index.map(lambda x:str(x))\n"
   ]
  },
  {
   "cell_type": "code",
   "execution_count": null,
   "metadata": {},
   "outputs": [],
   "source": [
    "results_p = preprocessing(df)\n",
    "len(results_p)"
   ]
  },
  {
   "cell_type": "code",
   "execution_count": null,
   "metadata": {},
   "outputs": [],
   "source": [
    "sample_data = results_p[\"date\"][0]\n",
    "sample_data"
   ]
  },
  {
   "cell_type": "markdown",
   "metadata": {},
   "source": [
    "sample_dataの日付に走った馬のリスト\n"
   ]
  },
  {
   "cell_type": "code",
   "execution_count": null,
   "metadata": {},
   "outputs": [],
   "source": [
    "pd.options.display.max_rows = None\n",
    "\n",
    "horse_id_list = results_p[results_p[\"date\"] == sample_data][\"horse_id\"]\n",
    "horse_id_list"
   ]
  },
  {
   "cell_type": "code",
   "execution_count": null,
   "metadata": {},
   "outputs": [],
   "source": [
    "hr.horse_results.loc[horse_id_list]"
   ]
  },
  {
   "cell_type": "code",
   "execution_count": null,
   "metadata": {},
   "outputs": [],
   "source": [
    "hr.horse_results"
   ]
  },
  {
   "cell_type": "code",
   "execution_count": null,
   "metadata": {},
   "outputs": [],
   "source": [
    "horse_vs_df[\"2018104222\"]"
   ]
  }
 ],
 "metadata": {
  "interpreter": {
   "hash": "17524995b3fb89f69a1eefd3d21017daf0e335c7df3994005e07ddeae9fe971e"
  },
  "kernelspec": {
   "display_name": "Python 3.9.10 ('venv39': venv)",
   "language": "python",
   "name": "python3"
  },
  "language_info": {
   "codemirror_mode": {
    "name": "ipython",
    "version": 3
   },
   "file_extension": ".py",
   "mimetype": "text/x-python",
   "name": "python",
   "nbconvert_exporter": "python",
   "pygments_lexer": "ipython3",
   "version": "3.9.10"
  },
  "orig_nbformat": 4
 },
 "nbformat": 4,
 "nbformat_minor": 2
}
